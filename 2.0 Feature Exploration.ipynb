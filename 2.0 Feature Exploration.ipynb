{
 "cells": [
  {
   "cell_type": "markdown",
   "metadata": {
    "heading_collapsed": true
   },
   "source": [
    "## Initialise"
   ]
  },
  {
   "cell_type": "code",
   "execution_count": 1,
   "metadata": {
    "ExecuteTime": {
     "end_time": "2016-03-16T07:59:53.965800",
     "start_time": "2016-03-16T07:59:53.956747"
    },
    "code_folding": [
     3
    ],
    "collapsed": false,
    "init_cell": true
   },
   "outputs": [
    {
     "data": {
      "text/html": [
       "\n",
       "<style>\n",
       ".container {\n",
       "    width: 100%;\n",
       "}\n",
       "</style>\n"
      ],
      "text/plain": [
       "<IPython.core.display.HTML object>"
      ]
     },
     "execution_count": 1,
     "metadata": {},
     "output_type": "execute_result"
    }
   ],
   "source": [
    "from IPython.core.display import HTML\n",
    "HTML(\"\"\"\n",
    "<style>\n",
    ".container {\n",
    "    width: 100%;\n",
    "}\n",
    "</style>\n",
    "\"\"\")"
   ]
  },
  {
   "cell_type": "code",
   "execution_count": 2,
   "metadata": {
    "ExecuteTime": {
     "end_time": "2016-03-16T08:00:00.647521",
     "start_time": "2016-03-16T07:59:53.979194"
    },
    "collapsed": false,
    "init_cell": true
   },
   "outputs": [
    {
     "name": "stderr",
     "output_type": "stream",
     "text": [
      "2016-03-16 07:59:56,284 [INFO] graphlab.cython.cy_server, 176: GraphLab Create v1.8.4 started. Logging: /tmp/graphlab_server_1458115194.log\n"
     ]
    },
    {
     "name": "stdout",
     "output_type": "stream",
     "text": [
      "This non-commercial license of GraphLab Create is assigned to kevin.mcisaac@gmail.com and will expire on November 06, 2016. For commercial licensing options, visit https://dato.com/buy/.\n"
     ]
    },
    {
     "name": "stderr",
     "output_type": "stream",
     "text": [
      "/home/ec2-user/anaconda2/envs/dato-env/lib/python2.7/site-packages/matplotlib/__init__.py:872: UserWarning: axes.color_cycle is deprecated and replaced with axes.prop_cycle; please use the latter.\n",
      "  warnings.warn(self.msg_depr % (key, alt_key))\n"
     ]
    }
   ],
   "source": [
    "import graphlab as gl\n",
    "gl.canvas.set_target('ipynb')\n",
    "import tools \n",
    "import initialise\n",
    "%matplotlib inline\n",
    "from matplotlib import pyplot as plt\n",
    "import seaborn as sns\n",
    "sns.set()"
   ]
  },
  {
   "cell_type": "code",
   "execution_count": 3,
   "metadata": {
    "ExecuteTime": {
     "end_time": "2016-03-16T08:00:00.668205",
     "start_time": "2016-03-16T08:00:00.648701"
    },
    "collapsed": false,
    "init_cell": true
   },
   "outputs": [
    {
     "name": "stdout",
     "output_type": "stream",
     "text": [
      "Loading saved processed data\n",
      "306  features in total\n"
     ]
    }
   ],
   "source": [
    "train_data, test_data = initialise.load_data(reload_data=False)"
   ]
  },
  {
   "cell_type": "markdown",
   "metadata": {
    "heading_collapsed": true
   },
   "source": [
    "# Logistic Classifier\n",
    "- Had to remove rows with \"None\". Got AUC of 0.667\n",
    "- Removed low variance features, which made no difference\n",
    "- Switched to l2_penalty increased AUC to 0.80"
   ]
  },
  {
   "cell_type": "code",
   "execution_count": 17,
   "metadata": {
    "ExecuteTime": {
     "end_time": "2016-03-11T09:55:09.465260",
     "start_time": "2016-03-11T09:55:09.443386"
    },
    "collapsed": false
   },
   "outputs": [
    {
     "ename": "TypeError",
     "evalue": "create() got an unexpected keyword argument 'metric'",
     "output_type": "error",
     "traceback": [
      "\u001b[1;31m---------------------------------------------------------------------------\u001b[0m",
      "\u001b[1;31mTypeError\u001b[0m                                 Traceback (most recent call last)",
      "\u001b[1;32m<ipython-input-17-90ba9731e00d>\u001b[0m in \u001b[0;36m<module>\u001b[1;34m()\u001b[0m\n\u001b[0;32m      1\u001b[0m \u001b[0mtrain_data_1\u001b[0m \u001b[1;33m=\u001b[0m \u001b[0mtrain_data\u001b[0m\u001b[1;33m.\u001b[0m\u001b[0mdropna\u001b[0m\u001b[1;33m(\u001b[0m\u001b[1;33m)\u001b[0m\u001b[1;33m\u001b[0m\u001b[0m\n\u001b[0;32m      2\u001b[0m model_1= gl.logistic_classifier.create(train_data_1, target='TARGET', l1_penalty=.05, l2_penalty=0,metric='auc',\n\u001b[1;32m----> 3\u001b[1;33m                              max_iterations=50)\n\u001b[0m",
      "\u001b[1;31mTypeError\u001b[0m: create() got an unexpected keyword argument 'metric'"
     ]
    }
   ],
   "source": [
    "train_data_1 = train_data.dropna()\n",
    "model_1= gl.logistic_classifier.create(train_data_1, target='TARGET', l1_penalty=.05, l2_penalty=0,\n",
    "                             max_iterations=50)"
   ]
  },
  {
   "cell_type": "code",
   "execution_count": null,
   "metadata": {
    "collapsed": true
   },
   "outputs": [],
   "source": [
    "model_1.list_fields()"
   ]
  },
  {
   "cell_type": "code",
   "execution_count": 5,
   "metadata": {
    "ExecuteTime": {
     "end_time": "2016-03-11T08:15:31.025981",
     "start_time": "2016-03-11T08:15:29.749215"
    },
    "collapsed": false
   },
   "outputs": [
    {
     "data": {
      "text/plain": [
       "{'auc': 0.6669024290928265}"
      ]
     },
     "execution_count": 5,
     "metadata": {},
     "output_type": "execute_result"
    }
   ],
   "source": [
    "model_1.evaluate(train_data, metric='auc')"
   ]
  },
  {
   "cell_type": "code",
   "execution_count": 6,
   "metadata": {
    "ExecuteTime": {
     "end_time": "2016-03-11T08:15:32.344433",
     "start_time": "2016-03-11T08:15:31.028607"
    },
    "collapsed": false
   },
   "outputs": [
    {
     "name": "stdout",
     "output_type": "stream",
     "text": [
      "28 low variance features removed\n",
      "75402 vs 76020\n"
     ]
    }
   ],
   "source": [
    "low_variance =['var18 indicator 0', 'var34 indicator 0', 'var18 number 0', 'var34 number 0', 'var18 balance', 'var34 balance', 'var18 amortization amount delta 1Y3', 'var34 amortization amount delta 1Y3', 'var13 refund amount delta 1Y3', 'var33 refund amount delta 1Y3', 'var17 delta transfer amount out 1Y3', 'var33 delta transfer amount out 1Y3', 'var18 repayment amount ultima1', 'var34 repayment amount ultima1', 'var13 refund amount ultima1', 'var17 refund amount ultima1', 'var33 refund amount ultima1', 'var17 transfer amount in ultima1', 'var17 transfer amount out ultima1', 'var33 transfer amount in ultima1', 'var33 transfer amount out ultima1', 'var13 reimbursement number ultima1', 'var17 reimbursement number ultima1', 'var33 reimbursement number ultima1', 'var17 transfer number in ultima1', 'var17 number transfer out ultima1', 'var33 transfer number in ultima1', 'var33 number transfer out ultima1']\n",
    "print len(low_variance), \"low variance features removed\"\n",
    "train_data_2 = train_data.remove_columns(low_variance).dropna()\n",
    "print len(train_data_2), \"vs\", len(train_data)"
   ]
  },
  {
   "cell_type": "code",
   "execution_count": 7,
   "metadata": {
    "ExecuteTime": {
     "end_time": "2016-03-11T08:15:46.164176",
     "start_time": "2016-03-11T08:15:32.345650"
    },
    "collapsed": true
   },
   "outputs": [
    {
     "data": {
      "text/html": [
       "<pre>Logistic regression:</pre>"
      ],
      "text/plain": [
       "Logistic regression:"
      ]
     },
     "metadata": {},
     "output_type": "display_data"
    },
    {
     "data": {
      "text/html": [
       "<pre>--------------------------------------------------------</pre>"
      ],
      "text/plain": [
       "--------------------------------------------------------"
      ]
     },
     "metadata": {},
     "output_type": "display_data"
    },
    {
     "data": {
      "text/html": [
       "<pre>Number of examples          : 71658</pre>"
      ],
      "text/plain": [
       "Number of examples          : 71658"
      ]
     },
     "metadata": {},
     "output_type": "display_data"
    },
    {
     "data": {
      "text/html": [
       "<pre>Number of classes           : 2</pre>"
      ],
      "text/plain": [
       "Number of classes           : 2"
      ]
     },
     "metadata": {},
     "output_type": "display_data"
    },
    {
     "data": {
      "text/html": [
       "<pre>Number of feature columns   : 278</pre>"
      ],
      "text/plain": [
       "Number of feature columns   : 278"
      ]
     },
     "metadata": {},
     "output_type": "display_data"
    },
    {
     "data": {
      "text/html": [
       "<pre>Number of unpacked features : 278</pre>"
      ],
      "text/plain": [
       "Number of unpacked features : 278"
      ]
     },
     "metadata": {},
     "output_type": "display_data"
    },
    {
     "data": {
      "text/html": [
       "<pre>Number of coefficients    : 289</pre>"
      ],
      "text/plain": [
       "Number of coefficients    : 289"
      ]
     },
     "metadata": {},
     "output_type": "display_data"
    },
    {
     "data": {
      "text/html": [
       "<pre>Starting Accelerated Gradient (FISTA)</pre>"
      ],
      "text/plain": [
       "Starting Accelerated Gradient (FISTA)"
      ]
     },
     "metadata": {},
     "output_type": "display_data"
    },
    {
     "data": {
      "text/html": [
       "<pre>--------------------------------------------------------</pre>"
      ],
      "text/plain": [
       "--------------------------------------------------------"
      ]
     },
     "metadata": {},
     "output_type": "display_data"
    },
    {
     "data": {
      "text/html": [
       "<pre>+-----------+----------+-----------+--------------+-------------------+---------------------+</pre>"
      ],
      "text/plain": [
       "+-----------+----------+-----------+--------------+-------------------+---------------------+"
      ]
     },
     "metadata": {},
     "output_type": "display_data"
    },
    {
     "data": {
      "text/html": [
       "<pre>| Iteration | Passes   | Step size | Elapsed Time | Training-accuracy | Validation-accuracy |</pre>"
      ],
      "text/plain": [
       "| Iteration | Passes   | Step size | Elapsed Time | Training-accuracy | Validation-accuracy |"
      ]
     },
     "metadata": {},
     "output_type": "display_data"
    },
    {
     "data": {
      "text/html": [
       "<pre>+-----------+----------+-----------+--------------+-------------------+---------------------+</pre>"
      ],
      "text/plain": [
       "+-----------+----------+-----------+--------------+-------------------+---------------------+"
      ]
     },
     "metadata": {},
     "output_type": "display_data"
    },
    {
     "data": {
      "text/html": [
       "<pre>Tuning step size. First iteration could take longer than subsequent iterations.</pre>"
      ],
      "text/plain": [
       "Tuning step size. First iteration could take longer than subsequent iterations."
      ]
     },
     "metadata": {},
     "output_type": "display_data"
    },
    {
     "data": {
      "text/html": [
       "<pre>| 1         | 2        | 0.000002  | 5.588955     | 0.960144          | 0.962340            |</pre>"
      ],
      "text/plain": [
       "| 1         | 2        | 0.000002  | 5.588955     | 0.960144          | 0.962340            |"
      ]
     },
     "metadata": {},
     "output_type": "display_data"
    },
    {
     "data": {
      "text/html": [
       "<pre>| 2         | 3        | 0.000002  | 6.027737     | 0.960144          | 0.962340            |</pre>"
      ],
      "text/plain": [
       "| 2         | 3        | 0.000002  | 6.027737     | 0.960144          | 0.962340            |"
      ]
     },
     "metadata": {},
     "output_type": "display_data"
    },
    {
     "data": {
      "text/html": [
       "<pre>| 3         | 4        | 0.000002  | 6.464096     | 0.960144          | 0.962340            |</pre>"
      ],
      "text/plain": [
       "| 3         | 4        | 0.000002  | 6.464096     | 0.960144          | 0.962340            |"
      ]
     },
     "metadata": {},
     "output_type": "display_data"
    },
    {
     "data": {
      "text/html": [
       "<pre>| 4         | 5        | 0.000002  | 6.905172     | 0.960144          | 0.962340            |</pre>"
      ],
      "text/plain": [
       "| 4         | 5        | 0.000002  | 6.905172     | 0.960144          | 0.962340            |"
      ]
     },
     "metadata": {},
     "output_type": "display_data"
    },
    {
     "data": {
      "text/html": [
       "<pre>| 5         | 6        | 0.000002  | 7.341538     | 0.960144          | 0.962340            |</pre>"
      ],
      "text/plain": [
       "| 5         | 6        | 0.000002  | 7.341538     | 0.960144          | 0.962340            |"
      ]
     },
     "metadata": {},
     "output_type": "display_data"
    },
    {
     "data": {
      "text/html": [
       "<pre>| 6         | 7        | 0.000002  | 7.776061     | 0.960144          | 0.962340            |</pre>"
      ],
      "text/plain": [
       "| 6         | 7        | 0.000002  | 7.776061     | 0.960144          | 0.962340            |"
      ]
     },
     "metadata": {},
     "output_type": "display_data"
    },
    {
     "data": {
      "text/html": [
       "<pre>| 10        | 11       | 0.000002  | 9.521810     | 0.960102          | 0.962073            |</pre>"
      ],
      "text/plain": [
       "| 10        | 11       | 0.000002  | 9.521810     | 0.960102          | 0.962073            |"
      ]
     },
     "metadata": {},
     "output_type": "display_data"
    },
    {
     "data": {
      "text/html": [
       "<pre>+-----------+----------+-----------+--------------+-------------------+---------------------+</pre>"
      ],
      "text/plain": [
       "+-----------+----------+-----------+--------------+-------------------+---------------------+"
      ]
     },
     "metadata": {},
     "output_type": "display_data"
    },
    {
     "data": {
      "text/html": [
       "<pre>SUCCESS: Optimal solution found.</pre>"
      ],
      "text/plain": [
       "SUCCESS: Optimal solution found."
      ]
     },
     "metadata": {},
     "output_type": "display_data"
    },
    {
     "data": {
      "text/html": [
       "<pre></pre>"
      ],
      "text/plain": []
     },
     "metadata": {},
     "output_type": "display_data"
    },
    {
     "name": "stdout",
     "output_type": "stream",
     "text": [
      "PROGRESS: Creating a validation set from 5 percent of training data. This may take a while.\n",
      "          You can set ``validation_set=None`` to disable validation tracking.\n",
      "\n"
     ]
    }
   ],
   "source": [
    "model_2= gl.logistic_classifier.create(train_data_2, target='TARGET', l1_penalty=.05, l2_penalty=0,\n",
    "                             max_iterations=50)"
   ]
  },
  {
   "cell_type": "code",
   "execution_count": 8,
   "metadata": {
    "ExecuteTime": {
     "end_time": "2016-03-11T08:15:47.540668",
     "start_time": "2016-03-11T08:15:46.167048"
    },
    "collapsed": false
   },
   "outputs": [
    {
     "data": {
      "text/plain": [
       "{'auc': 0.6674052109511878}"
      ]
     },
     "execution_count": 8,
     "metadata": {},
     "output_type": "execute_result"
    }
   ],
   "source": [
    "model_2.evaluate(train_data, metric='auc')"
   ]
  },
  {
   "cell_type": "code",
   "execution_count": 9,
   "metadata": {
    "ExecuteTime": {
     "end_time": "2016-03-11T08:16:02.529433",
     "start_time": "2016-03-11T08:15:47.541992"
    },
    "collapsed": false
   },
   "outputs": [
    {
     "data": {
      "text/plain": [
       "{'auc': 0.6674639851719227}"
      ]
     },
     "execution_count": 9,
     "metadata": {},
     "output_type": "execute_result"
    }
   ],
   "source": [
    "model_3= gl.logistic_classifier.create(train_data_2, target='TARGET', l1_penalty=.1, l2_penalty=0,\n",
    "                             max_iterations=50, verbose=False)\n",
    "model_3.evaluate(train_data, metric='auc')"
   ]
  },
  {
   "cell_type": "code",
   "execution_count": 10,
   "metadata": {
    "ExecuteTime": {
     "end_time": "2016-03-11T08:16:17.659760",
     "start_time": "2016-03-11T08:16:02.531271"
    },
    "collapsed": false
   },
   "outputs": [
    {
     "data": {
      "text/plain": [
       "{'auc': 0.6669915193006765}"
      ]
     },
     "execution_count": 10,
     "metadata": {},
     "output_type": "execute_result"
    }
   ],
   "source": [
    "model_3= gl.logistic_classifier.create(train_data_2, target='TARGET', l1_penalty=.5, l2_penalty=0,\n",
    "                             max_iterations=50, verbose=False)\n",
    "model_3.evaluate(train_data, metric='auc')"
   ]
  },
  {
   "cell_type": "code",
   "execution_count": 11,
   "metadata": {
    "ExecuteTime": {
     "end_time": "2016-03-11T08:18:28.576769",
     "start_time": "2016-03-11T08:16:17.662323"
    },
    "collapsed": false
   },
   "outputs": [
    {
     "data": {
      "text/plain": [
       "{'auc': 0.8009340456713047}"
      ]
     },
     "execution_count": 11,
     "metadata": {},
     "output_type": "execute_result"
    }
   ],
   "source": [
    "model_4= gl.logistic_classifier.create(train_data_2, target='TARGET', \n",
    "                                       l1_penalty=0, l2_penalty=0.1,\n",
    "                             max_iterations=50, verbose=False)\n",
    "model_4.evaluate(train_data, metric='auc')"
   ]
  },
  {
   "cell_type": "markdown",
   "metadata": {},
   "source": [
    "# Boosted Trees Classifier\n",
    "Standard pre-preocessing gets an AUC of 0.8384\n",
    "- depth: 6 auc: 0.8385\n",
    "- depth: 2 auc: 0.8412\n",
    "- class weight-auto, depth: 2 auc: 0.8424\n",
    "- Drop 3 low variance features, no improvement\n",
    "\n",
    "Looks like depth:4, row: 1.00, col: 0.60, step: 0.10, auc: 0.8465 is place to start"
   ]
  },
  {
   "cell_type": "markdown",
   "metadata": {
    "heading_collapsed": true
   },
   "source": [
    "## Remove ID\n",
    "Make the result slightly worse"
   ]
  },
  {
   "cell_type": "code",
   "execution_count": 145,
   "metadata": {
    "ExecuteTime": {
     "end_time": "2016-03-13T11:42:36.931963",
     "start_time": "2016-03-13T11:41:59.301729"
    },
    "collapsed": false
   },
   "outputs": [
    {
     "name": "stdout",
     "output_type": "stream",
     "text": [
      "{'confusion_matrix': Columns:\n",
      "\ttarget_label\tint\n",
      "\tpredicted_label\tint\n",
      "\tcount\tint\n",
      "\n",
      "Rows: 4\n",
      "\n",
      "Data:\n",
      "+--------------+-----------------+-------+\n",
      "| target_label | predicted_label | count |\n",
      "+--------------+-----------------+-------+\n",
      "|      1       |        0        |  154  |\n",
      "|      1       |        1        |  471  |\n",
      "|      0       |        1        |  3125 |\n",
      "|      0       |        0        | 11702 |\n",
      "+--------------+-----------------+-------+\n",
      "[4 rows x 3 columns]\n",
      "}\n"
     ]
    },
    {
     "data": {
      "image/png": "[encoded data removed]",
      "text/plain": [
       "<matplotlib.figure.Figure at 0x7f77f8a8cad0>"
      ]
     },
     "metadata": {},
     "output_type": "display_data"
    }
   ],
   "source": [
    "train_data.remove_column('ID');\n",
    "train, validate = train_data.random_split(0.8, seed=8273)\n",
    "params = {'target':'TARGET', 'validation_set':validate,'verbose':False, 'random_seed':8923,\n",
    "          'class_weights':'auto','metric':'auc',\n",
    "          'early_stopping_rounds':20, 'max_iterations':300}\n",
    "d=4; r=1; c=0.6; s=0.1;\n",
    "model = gl.boosted_trees_classifier.create(train, \n",
    "                    max_depth=d, row_subsample=r, column_subsample=c, \n",
    "                                           step_size=s, **params)\n",
    "print model.evaluate(validate, metric='confusion_matrix')\n",
    "tools.plot_roc(model, validate);"
   ]
  },
  {
   "cell_type": "code",
   "execution_count": 142,
   "metadata": {
    "ExecuteTime": {
     "end_time": "2016-03-13T11:41:59.250013",
     "start_time": "2016-03-13T11:41:36.722222"
    },
    "collapsed": false
   },
   "outputs": [
    {
     "name": "stdout",
     "output_type": "stream",
     "text": [
      "{'confusion_matrix': Columns:\n",
      "\ttarget_label\tint\n",
      "\tpredicted_label\tint\n",
      "\tcount\tint\n",
      "\n",
      "Rows: 4\n",
      "\n",
      "Data:\n",
      "+--------------+-----------------+-------+\n",
      "| target_label | predicted_label | count |\n",
      "+--------------+-----------------+-------+\n",
      "|      1       |        0        |  142  |\n",
      "|      1       |        1        |  483  |\n",
      "|      0       |        1        |  3286 |\n",
      "|      0       |        0        | 11541 |\n",
      "+--------------+-----------------+-------+\n",
      "[4 rows x 3 columns]\n",
      "}\n"
     ]
    },
    {
     "data": {
      "image/png": "[encoded data removed]",
      "text/plain": [
       "<matplotlib.figure.Figure at 0x7f77f8436dd0>"
      ]
     },
     "metadata": {},
     "output_type": "display_data"
    }
   ],
   "source": [
    "train, validate = train_data.random_split(0.8, seed=8273)\n",
    "params = {'target':'TARGET', 'validation_set':validate,'verbose':False, 'random_seed':8923,\n",
    "          'class_weights':'auto','metric':'auc',\n",
    "          'early_stopping_rounds':20, 'max_iterations':300}\n",
    "d=4; r=1; c=0.6; s=0.1;\n",
    "model = gl.boosted_trees_classifier.create(train, \n",
    "                    max_depth=d, row_subsample=r, column_subsample=c, \n",
    "                                           step_size=s, **params)\n",
    "print model.evaluate(validate, metric='confusion_matrix')\n",
    "tools.plot_roc(model, validate);"
   ]
  },
  {
   "cell_type": "code",
   "execution_count": 146,
   "metadata": {
    "ExecuteTime": {
     "end_time": "2016-03-13T11:42:36.977610",
     "start_time": "2016-03-13T11:42:36.933358"
    },
    "collapsed": false
   },
   "outputs": [
    {
     "data": {
      "text/html": [
       "<div style=\"max-height:1000px;max-width:1500px;overflow:auto;\"><table frame=\"box\" rules=\"cols\">\n",
       "    <tr>\n",
       "        <th style=\"padding-left: 1em; padding-right: 1em; text-align: center\">name</th>\n",
       "        <th style=\"padding-left: 1em; padding-right: 1em; text-align: center\">index</th>\n",
       "        <th style=\"padding-left: 1em; padding-right: 1em; text-align: center\">count</th>\n",
       "    </tr>\n",
       "    <tr>\n",
       "        <td style=\"padding-left: 1em; padding-right: 1em; text-align: center; vertical-align: top\">var38</td>\n",
       "        <td style=\"padding-left: 1em; padding-right: 1em; text-align: center; vertical-align: top\">None</td>\n",
       "        <td style=\"padding-left: 1em; padding-right: 1em; text-align: center; vertical-align: top\">178</td>\n",
       "    </tr>\n",
       "    <tr>\n",
       "        <td style=\"padding-left: 1em; padding-right: 1em; text-align: center; vertical-align: top\">var15</td>\n",
       "        <td style=\"padding-left: 1em; padding-right: 1em; text-align: center; vertical-align: top\">None</td>\n",
       "        <td style=\"padding-left: 1em; padding-right: 1em; text-align: center; vertical-align: top\">160</td>\n",
       "    </tr>\n",
       "    <tr>\n",
       "        <td style=\"padding-left: 1em; padding-right: 1em; text-align: center; vertical-align: top\">var5 average balance<br>hace3 ...</td>\n",
       "        <td style=\"padding-left: 1em; padding-right: 1em; text-align: center; vertical-align: top\">None</td>\n",
       "        <td style=\"padding-left: 1em; padding-right: 1em; text-align: center; vertical-align: top\">82</td>\n",
       "    </tr>\n",
       "    <tr>\n",
       "        <td style=\"padding-left: 1em; padding-right: 1em; text-align: center; vertical-align: top\">var5 average balance<br>hace2 ...</td>\n",
       "        <td style=\"padding-left: 1em; padding-right: 1em; text-align: center; vertical-align: top\">None</td>\n",
       "        <td style=\"padding-left: 1em; padding-right: 1em; text-align: center; vertical-align: top\">70</td>\n",
       "    </tr>\n",
       "    <tr>\n",
       "        <td style=\"padding-left: 1em; padding-right: 1em; text-align: center; vertical-align: top\">var5 average balance<br>ultima3 ...</td>\n",
       "        <td style=\"padding-left: 1em; padding-right: 1em; text-align: center; vertical-align: top\">None</td>\n",
       "        <td style=\"padding-left: 1em; padding-right: 1em; text-align: center; vertical-align: top\">69</td>\n",
       "    </tr>\n",
       "    <tr>\n",
       "        <td style=\"padding-left: 1em; padding-right: 1em; text-align: center; vertical-align: top\">var30 balance</td>\n",
       "        <td style=\"padding-left: 1em; padding-right: 1em; text-align: center; vertical-align: top\">None</td>\n",
       "        <td style=\"padding-left: 1em; padding-right: 1em; text-align: center; vertical-align: top\">65</td>\n",
       "    </tr>\n",
       "    <tr>\n",
       "        <td style=\"padding-left: 1em; padding-right: 1em; text-align: center; vertical-align: top\">var42 balance</td>\n",
       "        <td style=\"padding-left: 1em; padding-right: 1em; text-align: center; vertical-align: top\">None</td>\n",
       "        <td style=\"padding-left: 1em; padding-right: 1em; text-align: center; vertical-align: top\">63</td>\n",
       "    </tr>\n",
       "    <tr>\n",
       "        <td style=\"padding-left: 1em; padding-right: 1em; text-align: center; vertical-align: top\">var5 balance</td>\n",
       "        <td style=\"padding-left: 1em; padding-right: 1em; text-align: center; vertical-align: top\">None</td>\n",
       "        <td style=\"padding-left: 1em; padding-right: 1em; text-align: center; vertical-align: top\">43</td>\n",
       "    </tr>\n",
       "    <tr>\n",
       "        <td style=\"padding-left: 1em; padding-right: 1em; text-align: center; vertical-align: top\">var5 average balance<br>ultima1 ...</td>\n",
       "        <td style=\"padding-left: 1em; padding-right: 1em; text-align: center; vertical-align: top\">None</td>\n",
       "        <td style=\"padding-left: 1em; padding-right: 1em; text-align: center; vertical-align: top\">41</td>\n",
       "    </tr>\n",
       "    <tr>\n",
       "        <td style=\"padding-left: 1em; padding-right: 1em; text-align: center; vertical-align: top\">var22 number ultima3</td>\n",
       "        <td style=\"padding-left: 1em; padding-right: 1em; text-align: center; vertical-align: top\">None</td>\n",
       "        <td style=\"padding-left: 1em; padding-right: 1em; text-align: center; vertical-align: top\">40</td>\n",
       "    </tr>\n",
       "</table>\n",
       "[398 rows x 3 columns]<br/>Note: Only the head of the SFrame is printed.<br/>You can use print_rows(num_rows=m, num_columns=n) to print more rows and columns.\n",
       "</div>"
      ],
      "text/plain": [
       "Columns:\n",
       "\tname\tstr\n",
       "\tindex\tstr\n",
       "\tcount\tint\n",
       "\n",
       "Rows: 398\n",
       "\n",
       "Data:\n",
       "+------------------------------+-------+-------+\n",
       "|             name             | index | count |\n",
       "+------------------------------+-------+-------+\n",
       "|            var38             |  None |  178  |\n",
       "|            var15             |  None |  160  |\n",
       "|  var5 average balance hace3  |  None |   82  |\n",
       "|  var5 average balance hace2  |  None |   70  |\n",
       "| var5 average balance ultima3 |  None |   69  |\n",
       "|        var30 balance         |  None |   65  |\n",
       "|        var42 balance         |  None |   63  |\n",
       "|         var5 balance         |  None |   43  |\n",
       "| var5 average balance ultima1 |  None |   41  |\n",
       "|     var22 number ultima3     |  None |   40  |\n",
       "+------------------------------+-------+-------+\n",
       "[398 rows x 3 columns]\n",
       "Note: Only the head of the SFrame is printed.\n",
       "You can use print_rows(num_rows=m, num_columns=n) to print more rows and columns."
      ]
     },
     "execution_count": 146,
     "metadata": {},
     "output_type": "execute_result"
    }
   ],
   "source": [
    "model.get_feature_importance()"
   ]
  },
  {
   "cell_type": "markdown",
   "metadata": {
    "heading_collapsed": true
   },
   "source": [
    "## Does removing redundant features help?\n",
    "Yes by 0.0033"
   ]
  },
  {
   "cell_type": "markdown",
   "metadata": {
    "variables": {
     " (0.84652 - 0.84493 ) /0.84652 *100": {},
     " (0.84652 - 0.84529) / 0.84652 *100": {},
     " (0.84652 - 0.84574) / 0.84652 *100 ": {}
    }
   },
   "source": [
    "- 'auc': 0.84652  redundant=True,  categorical=True,  clean=True  \n",
    "- 'auc': 0.84574  redundant=False, categorical=True,  clean=True\n",
    "- 'auc': 0.84529  redundant=True,  categorical=True,  clean=False\n",
    "- 'auc': 0.84493  redundant=True,  categorical=False, clean=True\n",
    "- 'auc': 0.84464  redundant=False, categorical=False, clean=False\n",
    "- 'auc': 0.84323  redundant=False, categorical=False, clean=True\n",
    "\n",
    "Improvment from \n",
    "- redundant   = {{ (0.84652 - 0.84574) / 0.84652 *100 }}%\n",
    "- clean       = {{ (0.84652 - 0.84529) / 0.84652 *100}}%\n",
    "- categorical = {{ (0.84652 - 0.84493 ) /0.84652 *100}}%"
   ]
  },
  {
   "cell_type": "code",
   "execution_count": 4,
   "metadata": {
    "ExecuteTime": {
     "end_time": "2016-03-14T20:11:42.007400",
     "start_time": "2016-03-14T20:11:05.541379"
    },
    "code_folding": [
     2,
     6
    ],
    "collapsed": true
   },
   "outputs": [
    {
     "name": "stdout",
     "output_type": "stream",
     "text": [
      "Loading raw data and tranforming it\n",
      "Loading raw data from CSV files\n",
      "train: 76020    test: 75818\n",
      "370 raw features\n",
      "366 Columns translated to English\n",
      "64 constant or duplicate columns removed\n",
      "19 features with anomalous values replaced by 'None'\n",
      "73 integer features converted to categorical\n",
      "306 features in total\n",
      "Saving processed data for fast reloading\n",
      "{'auc': 0.8465236123288593}\n"
     ]
    }
   ],
   "source": [
    "train_data, test_data = initialise.load_data(reload_data=True)\n",
    "train, validate = train_data.random_split(0.8, seed=8273)\n",
    "params = {'target':'TARGET', 'validation_set':validate,'verbose':False, 'random_seed':8923,\n",
    "          'class_weights':'auto','metric':'auc',\n",
    "          'early_stopping_rounds':20, 'max_iterations':300}\n",
    "d=4; r=1; c=0.6; s=0.1;\n",
    "model = gl.boosted_trees_classifier.create(train, \n",
    "                    max_depth=d, row_subsample=r, column_subsample=c, \n",
    "                                           step_size=s, **params)\n",
    "print model.evaluate(validate, metric='auc')"
   ]
  },
  {
   "cell_type": "code",
   "execution_count": 6,
   "metadata": {
    "ExecuteTime": {
     "end_time": "2016-03-14T20:12:48.947535",
     "start_time": "2016-03-14T20:12:08.105202"
    },
    "code_folding": [
     2,
     6
    ],
    "collapsed": true
   },
   "outputs": [
    {
     "name": "stdout",
     "output_type": "stream",
     "text": [
      "Loading raw data from CSV files\n",
      "train: 76020    test: 75818\n",
      "370 raw features\n",
      "366 Columns translated to English\n",
      "27 features with anomalous values replaced by 'None'\n",
      "100 integer features converted to categorical\n",
      "370 features in total\n",
      "{'auc': 0.8457435759088153}\n"
     ]
    }
   ],
   "source": [
    "train_data, test_data = initialise.prepare_data(redundant=False, categorical=True, clean=True)\n",
    "train, validate = train_data.random_split(0.8, seed=8273)\n",
    "params = {'target':'TARGET', 'validation_set':validate,'verbose':False, 'random_seed':8923,\n",
    "          'class_weights':'auto','metric':'auc',\n",
    "          'early_stopping_rounds':20, 'max_iterations':300}\n",
    "d=4; r=1; c=0.6; s=0.1;\n",
    "model = gl.boosted_trees_classifier.create(train, \n",
    "                    max_depth=d, row_subsample=r, column_subsample=c, \n",
    "                                           step_size=s, **params)\n",
    "print model.evaluate(validate, metric='auc')"
   ]
  },
  {
   "cell_type": "code",
   "execution_count": 7,
   "metadata": {
    "ExecuteTime": {
     "end_time": "2016-03-14T20:13:13.914607",
     "start_time": "2016-03-14T20:12:48.948623"
    },
    "code_folding": [
     2,
     6
    ],
    "collapsed": false
   },
   "outputs": [
    {
     "name": "stdout",
     "output_type": "stream",
     "text": [
      "Loading raw data from CSV files\n",
      "train: 76020    test: 75818\n",
      "370 raw features\n",
      "366 Columns translated to English\n",
      "27 features with anomalous values replaced by 'None'\n",
      "370 features in total\n",
      "{'auc': 0.8432394955149342}\n"
     ]
    }
   ],
   "source": [
    "train_data, test_data = initialise.prepare_data(redundant=False, categorical=False, clean=True)\n",
    "train, validate = train_data.random_split(0.8, seed=8273)\n",
    "params = {'target':'TARGET', 'validation_set':validate,'verbose':False, 'random_seed':8923,\n",
    "          'class_weights':'auto','metric':'auc',\n",
    "          'early_stopping_rounds':20, 'max_iterations':300}\n",
    "d=4; r=1; c=0.6; s=0.1;\n",
    "model = gl.boosted_trees_classifier.create(train, \n",
    "                    max_depth=d, row_subsample=r, column_subsample=c, \n",
    "                                           step_size=s, **params)\n",
    "print model.evaluate(validate, metric='auc')"
   ]
  },
  {
   "cell_type": "code",
   "execution_count": 9,
   "metadata": {
    "ExecuteTime": {
     "end_time": "2016-03-14T20:18:35.851618",
     "start_time": "2016-03-14T20:18:06.157810"
    },
    "code_folding": [
     2,
     6
    ],
    "collapsed": true
   },
   "outputs": [
    {
     "name": "stdout",
     "output_type": "stream",
     "text": [
      "Loading raw data from CSV files\n",
      "train: 76020    test: 75818\n",
      "370 raw features\n",
      "366 Columns translated to English\n",
      "64 constant or duplicate columns removed\n",
      "73 integer features converted to categorical\n",
      "306 features in total\n",
      "{'auc': 0.8452934781142514}\n"
     ]
    }
   ],
   "source": [
    "train_data, test_data = initialise.prepare_data(redundant=True, categorical=True, clean=False)\n",
    "train, validate = train_data.random_split(0.8, seed=8273)\n",
    "params = {'target':'TARGET', 'validation_set':validate,'verbose':False, 'random_seed':8923,\n",
    "          'class_weights':'auto','metric':'auc',\n",
    "          'early_stopping_rounds':20, 'max_iterations':300}\n",
    "d=4; r=1; c=0.6; s=0.1;\n",
    "model = gl.boosted_trees_classifier.create(train, \n",
    "                    max_depth=d, row_subsample=r, column_subsample=c, \n",
    "                                           step_size=s, **params)\n",
    "print model.evaluate(validate, metric='auc')"
   ]
  },
  {
   "cell_type": "code",
   "execution_count": 10,
   "metadata": {
    "ExecuteTime": {
     "end_time": "2016-03-14T20:18:54.607647",
     "start_time": "2016-03-14T20:18:35.852814"
    },
    "code_folding": [
     2
    ],
    "collapsed": true
   },
   "outputs": [
    {
     "name": "stdout",
     "output_type": "stream",
     "text": [
      "Loading raw data from CSV files\n",
      "train: 76020    test: 75818\n",
      "370 raw features\n",
      "366 Columns translated to English\n",
      "370 features in total\n",
      "{'auc': 0.8446488163485494}\n"
     ]
    }
   ],
   "source": [
    "train_data, test_data = initialise.prepare_data(redundant=False, categorical=False, clean=False)\n",
    "train, validate = train_data.random_split(0.8, seed=8273)\n",
    "params = {'target':'TARGET', 'validation_set':validate,'verbose':False, 'random_seed':8923,\n",
    "          'class_weights':'auto','metric':'auc',\n",
    "          'early_stopping_rounds':20, 'max_iterations':300}\n",
    "d=4; r=1; c=0.6; s=0.1;\n",
    "model = gl.boosted_trees_classifier.create(train, \n",
    "                    max_depth=d, row_subsample=r, column_subsample=c, \n",
    "                                           step_size=s, **params)\n",
    "print model.evaluate(validate, metric='auc')"
   ]
  },
  {
   "cell_type": "code",
   "execution_count": 11,
   "metadata": {
    "ExecuteTime": {
     "end_time": "2016-03-14T20:21:49.080780",
     "start_time": "2016-03-14T20:21:27.722029"
    },
    "code_folding": [
     2,
     6
    ],
    "collapsed": false
   },
   "outputs": [
    {
     "name": "stdout",
     "output_type": "stream",
     "text": [
      "Loading raw data from CSV files\n",
      "train: 76020    test: 75818\n",
      "370 raw features\n",
      "366 Columns translated to English\n",
      "64 constant or duplicate columns removed\n",
      "19 features with anomalous values replaced by 'None'\n",
      "306 features in total\n",
      "{'auc': 0.8449307884265228}\n"
     ]
    }
   ],
   "source": [
    "train_data, test_data = initialise.prepare_data(redundant=True, categorical=False, clean=True)\n",
    "train, validate = train_data.random_split(0.8, seed=8273)\n",
    "params = {'target':'TARGET', 'validation_set':validate,'verbose':False, 'random_seed':8923,\n",
    "          'class_weights':'auto','metric':'auc',\n",
    "          'early_stopping_rounds':20, 'max_iterations':300}\n",
    "d=4; r=1; c=0.6; s=0.1;\n",
    "model = gl.boosted_trees_classifier.create(train, \n",
    "                    max_depth=d, row_subsample=r, column_subsample=c, \n",
    "                                           step_size=s, **params)\n",
    "print model.evaluate(validate, metric='auc')"
   ]
  },
  {
   "cell_type": "code",
   "execution_count": null,
   "metadata": {
    "collapsed": true
   },
   "outputs": [],
   "source": []
  },
  {
   "cell_type": "markdown",
   "metadata": {},
   "source": [
    "## Optimised parameters\n"
   ]
  },
  {
   "cell_type": "code",
   "execution_count": null,
   "metadata": {
    "collapsed": true
   },
   "outputs": [],
   "source": []
  },
  {
   "cell_type": "markdown",
   "metadata": {
    "heading_collapsed": true
   },
   "source": [
    "## Parameter sets from discussion\n",
    "\n",
    "validation auc 0.844860"
   ]
  },
  {
   "cell_type": "code",
   "execution_count": 17,
   "metadata": {
    "ExecuteTime": {
     "end_time": "2016-03-16T08:49:51.538797",
     "start_time": "2016-03-16T08:47:05.956984"
    },
    "collapsed": true
   },
   "outputs": [
    {
     "name": "stdout",
     "output_type": "stream",
     "text": [
      "Loading saved processed data\n",
      "306"
     ]
    },
    {
     "data": {
      "text/html": [
       "<pre>WARNING: Detected extremely low variance for feature(s) 'var33 delta transfer amount out 1Y3', 'var33 transfer amount out ultima1', 'var33 number transfer out ultima1' because all entries are nearly the same.\n",
       "Proceeding with model training using all features. If the model does not provide results of adequate quality, exclude the above mentioned feature(s) from the input dataset.</pre>"
      ],
      "text/plain": [
       "WARNING: Detected extremely low variance for feature(s) 'var33 delta transfer amount out 1Y3', 'var33 transfer amount out ultima1', 'var33 number transfer out ultima1' because all entries are nearly the same.\n",
       "Proceeding with model training using all features. If the model does not provide results of adequate quality, exclude the above mentioned feature(s) from the input dataset."
      ]
     },
     "metadata": {},
     "output_type": "display_data"
    },
    {
     "data": {
      "text/html": [
       "<pre>Boosted trees classifier:</pre>"
      ],
      "text/plain": [
       "Boosted trees classifier:"
      ]
     },
     "metadata": {},
     "output_type": "display_data"
    },
    {
     "data": {
      "text/html": [
       "<pre>--------------------------------------------------------</pre>"
      ],
      "text/plain": [
       "--------------------------------------------------------"
      ]
     },
     "metadata": {},
     "output_type": "display_data"
    },
    {
     "data": {
      "text/html": [
       "<pre>Number of examples          : 60568</pre>"
      ],
      "text/plain": [
       "Number of examples          : 60568"
      ]
     },
     "metadata": {},
     "output_type": "display_data"
    },
    {
     "data": {
      "text/html": [
       "<pre>Number of classes           : 2</pre>"
      ],
      "text/plain": [
       "Number of classes           : 2"
      ]
     },
     "metadata": {},
     "output_type": "display_data"
    },
    {
     "data": {
      "text/html": [
       "<pre>Number of feature columns   : 306</pre>"
      ],
      "text/plain": [
       "Number of feature columns   : 306"
      ]
     },
     "metadata": {},
     "output_type": "display_data"
    },
    {
     "data": {
      "text/html": [
       "<pre>Number of unpacked features : 306</pre>"
      ],
      "text/plain": [
       "Number of unpacked features : 306"
      ]
     },
     "metadata": {},
     "output_type": "display_data"
    },
    {
     "data": {
      "text/html": [
       "<pre>+-----------+--------------+--------------+----------------+</pre>"
      ],
      "text/plain": [
       "+-----------+--------------+--------------+----------------+"
      ]
     },
     "metadata": {},
     "output_type": "display_data"
    },
    {
     "data": {
      "text/html": [
       "<pre>| Iteration | Elapsed Time | Training-auc | Validation-auc |</pre>"
      ],
      "text/plain": [
       "| Iteration | Elapsed Time | Training-auc | Validation-auc |"
      ]
     },
     "metadata": {},
     "output_type": "display_data"
    },
    {
     "data": {
      "text/html": [
       "<pre>+-----------+--------------+--------------+----------------+</pre>"
      ],
      "text/plain": [
       "+-----------+--------------+--------------+----------------+"
      ]
     },
     "metadata": {},
     "output_type": "display_data"
    },
    {
     "data": {
      "text/html": [
       "<pre>| 1         | 2.529215     | 0.831203     | 0.817351       |</pre>"
      ],
      "text/plain": [
       "| 1         | 2.529215     | 0.831203     | 0.817351       |"
      ]
     },
     "metadata": {},
     "output_type": "display_data"
    },
    {
     "data": {
      "text/html": [
       "<pre>| 2         | 4.950675     | 0.828493     | 0.816365       |</pre>"
      ],
      "text/plain": [
       "| 2         | 4.950675     | 0.828493     | 0.816365       |"
      ]
     },
     "metadata": {},
     "output_type": "display_data"
    },
    {
     "data": {
      "text/html": [
       "<pre>| 3         | 5.757543     | 0.827821     | 0.810584       |</pre>"
      ],
      "text/plain": [
       "| 3         | 5.757543     | 0.827821     | 0.810584       |"
      ]
     },
     "metadata": {},
     "output_type": "display_data"
    },
    {
     "data": {
      "text/html": [
       "<pre>| 4         | 6.560791     | 0.837370     | 0.823226       |</pre>"
      ],
      "text/plain": [
       "| 4         | 6.560791     | 0.837370     | 0.823226       |"
      ]
     },
     "metadata": {},
     "output_type": "display_data"
    },
    {
     "data": {
      "text/html": [
       "<pre>| 5         | 7.253640     | 0.843116     | 0.828061       |</pre>"
      ],
      "text/plain": [
       "| 5         | 7.253640     | 0.843116     | 0.828061       |"
      ]
     },
     "metadata": {},
     "output_type": "display_data"
    },
    {
     "data": {
      "text/html": [
       "<pre>| 6         | 7.953820     | 0.840475     | 0.824868       |</pre>"
      ],
      "text/plain": [
       "| 6         | 7.953820     | 0.840475     | 0.824868       |"
      ]
     },
     "metadata": {},
     "output_type": "display_data"
    },
    {
     "data": {
      "text/html": [
       "<pre>| 7         | 8.837209     | 0.843555     | 0.827581       |</pre>"
      ],
      "text/plain": [
       "| 7         | 8.837209     | 0.843555     | 0.827581       |"
      ]
     },
     "metadata": {},
     "output_type": "display_data"
    },
    {
     "data": {
      "text/html": [
       "<pre>| 8         | 9.587782     | 0.845429     | 0.829759       |</pre>"
      ],
      "text/plain": [
       "| 8         | 9.587782     | 0.845429     | 0.829759       |"
      ]
     },
     "metadata": {},
     "output_type": "display_data"
    },
    {
     "data": {
      "text/html": [
       "<pre>| 9         | 10.374729    | 0.847088     | 0.831963       |</pre>"
      ],
      "text/plain": [
       "| 9         | 10.374729    | 0.847088     | 0.831963       |"
      ]
     },
     "metadata": {},
     "output_type": "display_data"
    },
    {
     "data": {
      "text/html": [
       "<pre>| 10        | 11.121935    | 0.848237     | 0.833612       |</pre>"
      ],
      "text/plain": [
       "| 10        | 11.121935    | 0.848237     | 0.833612       |"
      ]
     },
     "metadata": {},
     "output_type": "display_data"
    },
    {
     "data": {
      "text/html": [
       "<pre>| 11        | 11.804880    | 0.848623     | 0.833758       |</pre>"
      ],
      "text/plain": [
       "| 11        | 11.804880    | 0.848623     | 0.833758       |"
      ]
     },
     "metadata": {},
     "output_type": "display_data"
    },
    {
     "data": {
      "text/html": [
       "<pre>| 12        | 12.564172    | 0.849143     | 0.834673       |</pre>"
      ],
      "text/plain": [
       "| 12        | 12.564172    | 0.849143     | 0.834673       |"
      ]
     },
     "metadata": {},
     "output_type": "display_data"
    },
    {
     "data": {
      "text/html": [
       "<pre>| 13        | 13.376320    | 0.849491     | 0.834553       |</pre>"
      ],
      "text/plain": [
       "| 13        | 13.376320    | 0.849491     | 0.834553       |"
      ]
     },
     "metadata": {},
     "output_type": "display_data"
    },
    {
     "data": {
      "text/html": [
       "<pre>| 14        | 14.042869    | 0.849678     | 0.834909       |</pre>"
      ],
      "text/plain": [
       "| 14        | 14.042869    | 0.849678     | 0.834909       |"
      ]
     },
     "metadata": {},
     "output_type": "display_data"
    },
    {
     "data": {
      "text/html": [
       "<pre>| 15        | 14.792137    | 0.849861     | 0.834931       |</pre>"
      ],
      "text/plain": [
       "| 15        | 14.792137    | 0.849861     | 0.834931       |"
      ]
     },
     "metadata": {},
     "output_type": "display_data"
    },
    {
     "data": {
      "text/html": [
       "<pre>| 16        | 15.477739    | 0.849903     | 0.835074       |</pre>"
      ],
      "text/plain": [
       "| 16        | 15.477739    | 0.849903     | 0.835074       |"
      ]
     },
     "metadata": {},
     "output_type": "display_data"
    },
    {
     "data": {
      "text/html": [
       "<pre>| 17        | 16.402411    | 0.849927     | 0.835386       |</pre>"
      ],
      "text/plain": [
       "| 17        | 16.402411    | 0.849927     | 0.835386       |"
      ]
     },
     "metadata": {},
     "output_type": "display_data"
    },
    {
     "data": {
      "text/html": [
       "<pre>| 18        | 17.269555    | 0.850670     | 0.835560       |</pre>"
      ],
      "text/plain": [
       "| 18        | 17.269555    | 0.850670     | 0.835560       |"
      ]
     },
     "metadata": {},
     "output_type": "display_data"
    },
    {
     "data": {
      "text/html": [
       "<pre>| 19        | 18.114974    | 0.850907     | 0.836248       |</pre>"
      ],
      "text/plain": [
       "| 19        | 18.114974    | 0.850907     | 0.836248       |"
      ]
     },
     "metadata": {},
     "output_type": "display_data"
    },
    {
     "data": {
      "text/html": [
       "<pre>| 20        | 19.001775    | 0.851475     | 0.836777       |</pre>"
      ],
      "text/plain": [
       "| 20        | 19.001775    | 0.851475     | 0.836777       |"
      ]
     },
     "metadata": {},
     "output_type": "display_data"
    },
    {
     "data": {
      "text/html": [
       "<pre>| 21        | 19.893157    | 0.851856     | 0.836893       |</pre>"
      ],
      "text/plain": [
       "| 21        | 19.893157    | 0.851856     | 0.836893       |"
      ]
     },
     "metadata": {},
     "output_type": "display_data"
    },
    {
     "data": {
      "text/html": [
       "<pre>| 22        | 20.659520    | 0.852159     | 0.836909       |</pre>"
      ],
      "text/plain": [
       "| 22        | 20.659520    | 0.852159     | 0.836909       |"
      ]
     },
     "metadata": {},
     "output_type": "display_data"
    },
    {
     "data": {
      "text/html": [
       "<pre>| 23        | 21.368009    | 0.852351     | 0.837208       |</pre>"
      ],
      "text/plain": [
       "| 23        | 21.368009    | 0.852351     | 0.837208       |"
      ]
     },
     "metadata": {},
     "output_type": "display_data"
    },
    {
     "data": {
      "text/html": [
       "<pre>| 24        | 22.089762    | 0.852926     | 0.837763       |</pre>"
      ],
      "text/plain": [
       "| 24        | 22.089762    | 0.852926     | 0.837763       |"
      ]
     },
     "metadata": {},
     "output_type": "display_data"
    },
    {
     "data": {
      "text/html": [
       "<pre>| 25        | 22.862579    | 0.853143     | 0.837964       |</pre>"
      ],
      "text/plain": [
       "| 25        | 22.862579    | 0.853143     | 0.837964       |"
      ]
     },
     "metadata": {},
     "output_type": "display_data"
    },
    {
     "data": {
      "text/html": [
       "<pre>| 26        | 23.609708    | 0.853257     | 0.838498       |</pre>"
      ],
      "text/plain": [
       "| 26        | 23.609708    | 0.853257     | 0.838498       |"
      ]
     },
     "metadata": {},
     "output_type": "display_data"
    },
    {
     "data": {
      "text/html": [
       "<pre>| 27        | 24.313411    | 0.853525     | 0.839038       |</pre>"
      ],
      "text/plain": [
       "| 27        | 24.313411    | 0.853525     | 0.839038       |"
      ]
     },
     "metadata": {},
     "output_type": "display_data"
    },
    {
     "data": {
      "text/html": [
       "<pre>| 28        | 25.150250    | 0.853596     | 0.839286       |</pre>"
      ],
      "text/plain": [
       "| 28        | 25.150250    | 0.853596     | 0.839286       |"
      ]
     },
     "metadata": {},
     "output_type": "display_data"
    },
    {
     "data": {
      "text/html": [
       "<pre>| 29        | 25.865313    | 0.853939     | 0.839373       |</pre>"
      ],
      "text/plain": [
       "| 29        | 25.865313    | 0.853939     | 0.839373       |"
      ]
     },
     "metadata": {},
     "output_type": "display_data"
    },
    {
     "data": {
      "text/html": [
       "<pre>| 30        | 27.393238    | 0.854459     | 0.839737       |</pre>"
      ],
      "text/plain": [
       "| 30        | 27.393238    | 0.854459     | 0.839737       |"
      ]
     },
     "metadata": {},
     "output_type": "display_data"
    },
    {
     "data": {
      "text/html": [
       "<pre>| 31        | 28.208296    | 0.854500     | 0.839962       |</pre>"
      ],
      "text/plain": [
       "| 31        | 28.208296    | 0.854500     | 0.839962       |"
      ]
     },
     "metadata": {},
     "output_type": "display_data"
    },
    {
     "data": {
      "text/html": [
       "<pre>| 32        | 29.025296    | 0.854829     | 0.839504       |</pre>"
      ],
      "text/plain": [
       "| 32        | 29.025296    | 0.854829     | 0.839504       |"
      ]
     },
     "metadata": {},
     "output_type": "display_data"
    },
    {
     "data": {
      "text/html": [
       "<pre>| 33        | 29.807731    | 0.855010     | 0.839785       |</pre>"
      ],
      "text/plain": [
       "| 33        | 29.807731    | 0.855010     | 0.839785       |"
      ]
     },
     "metadata": {},
     "output_type": "display_data"
    },
    {
     "data": {
      "text/html": [
       "<pre>| 34        | 30.647169    | 0.855310     | 0.839876       |</pre>"
      ],
      "text/plain": [
       "| 34        | 30.647169    | 0.855310     | 0.839876       |"
      ]
     },
     "metadata": {},
     "output_type": "display_data"
    },
    {
     "data": {
      "text/html": [
       "<pre>| 35        | 31.433929    | 0.855597     | 0.840124       |</pre>"
      ],
      "text/plain": [
       "| 35        | 31.433929    | 0.855597     | 0.840124       |"
      ]
     },
     "metadata": {},
     "output_type": "display_data"
    },
    {
     "data": {
      "text/html": [
       "<pre>| 36        | 32.151242    | 0.855731     | 0.840241       |</pre>"
      ],
      "text/plain": [
       "| 36        | 32.151242    | 0.855731     | 0.840241       |"
      ]
     },
     "metadata": {},
     "output_type": "display_data"
    },
    {
     "data": {
      "text/html": [
       "<pre>| 37        | 32.905732    | 0.855883     | 0.840373       |</pre>"
      ],
      "text/plain": [
       "| 37        | 32.905732    | 0.855883     | 0.840373       |"
      ]
     },
     "metadata": {},
     "output_type": "display_data"
    },
    {
     "data": {
      "text/html": [
       "<pre>| 38        | 33.708530    | 0.856133     | 0.840555       |</pre>"
      ],
      "text/plain": [
       "| 38        | 33.708530    | 0.856133     | 0.840555       |"
      ]
     },
     "metadata": {},
     "output_type": "display_data"
    },
    {
     "data": {
      "text/html": [
       "<pre>| 39        | 34.513944    | 0.856338     | 0.840711       |</pre>"
      ],
      "text/plain": [
       "| 39        | 34.513944    | 0.856338     | 0.840711       |"
      ]
     },
     "metadata": {},
     "output_type": "display_data"
    },
    {
     "data": {
      "text/html": [
       "<pre>| 40        | 35.281844    | 0.856685     | 0.840733       |</pre>"
      ],
      "text/plain": [
       "| 40        | 35.281844    | 0.856685     | 0.840733       |"
      ]
     },
     "metadata": {},
     "output_type": "display_data"
    },
    {
     "data": {
      "text/html": [
       "<pre>| 41        | 35.902847    | 0.856979     | 0.841052       |</pre>"
      ],
      "text/plain": [
       "| 41        | 35.902847    | 0.856979     | 0.841052       |"
      ]
     },
     "metadata": {},
     "output_type": "display_data"
    },
    {
     "data": {
      "text/html": [
       "<pre>| 42        | 36.681739    | 0.857241     | 0.840920       |</pre>"
      ],
      "text/plain": [
       "| 42        | 36.681739    | 0.857241     | 0.840920       |"
      ]
     },
     "metadata": {},
     "output_type": "display_data"
    },
    {
     "data": {
      "text/html": [
       "<pre>| 43        | 37.501845    | 0.857812     | 0.841114       |</pre>"
      ],
      "text/plain": [
       "| 43        | 37.501845    | 0.857812     | 0.841114       |"
      ]
     },
     "metadata": {},
     "output_type": "display_data"
    },
    {
     "data": {
      "text/html": [
       "<pre>| 44        | 38.313862    | 0.858057     | 0.841208       |</pre>"
      ],
      "text/plain": [
       "| 44        | 38.313862    | 0.858057     | 0.841208       |"
      ]
     },
     "metadata": {},
     "output_type": "display_data"
    },
    {
     "data": {
      "text/html": [
       "<pre>| 45        | 39.095947    | 0.858121     | 0.841480       |</pre>"
      ],
      "text/plain": [
       "| 45        | 39.095947    | 0.858121     | 0.841480       |"
      ]
     },
     "metadata": {},
     "output_type": "display_data"
    },
    {
     "data": {
      "text/html": [
       "<pre>| 46        | 39.879326    | 0.858491     | 0.841515       |</pre>"
      ],
      "text/plain": [
       "| 46        | 39.879326    | 0.858491     | 0.841515       |"
      ]
     },
     "metadata": {},
     "output_type": "display_data"
    },
    {
     "data": {
      "text/html": [
       "<pre>| 47        | 40.694235    | 0.858626     | 0.841478       |</pre>"
      ],
      "text/plain": [
       "| 47        | 40.694235    | 0.858626     | 0.841478       |"
      ]
     },
     "metadata": {},
     "output_type": "display_data"
    },
    {
     "data": {
      "text/html": [
       "<pre>| 48        | 41.444858    | 0.858971     | 0.841641       |</pre>"
      ],
      "text/plain": [
       "| 48        | 41.444858    | 0.858971     | 0.841641       |"
      ]
     },
     "metadata": {},
     "output_type": "display_data"
    },
    {
     "data": {
      "text/html": [
       "<pre>| 49        | 42.036940    | 0.859231     | 0.841620       |</pre>"
      ],
      "text/plain": [
       "| 49        | 42.036940    | 0.859231     | 0.841620       |"
      ]
     },
     "metadata": {},
     "output_type": "display_data"
    },
    {
     "data": {
      "text/html": [
       "<pre>| 50        | 42.845783    | 0.859400     | 0.841761       |</pre>"
      ],
      "text/plain": [
       "| 50        | 42.845783    | 0.859400     | 0.841761       |"
      ]
     },
     "metadata": {},
     "output_type": "display_data"
    },
    {
     "data": {
      "text/html": [
       "<pre>| 51        | 43.639802    | 0.859780     | 0.841685       |</pre>"
      ],
      "text/plain": [
       "| 51        | 43.639802    | 0.859780     | 0.841685       |"
      ]
     },
     "metadata": {},
     "output_type": "display_data"
    },
    {
     "data": {
      "text/html": [
       "<pre>| 52        | 44.370478    | 0.859908     | 0.841757       |</pre>"
      ],
      "text/plain": [
       "| 52        | 44.370478    | 0.859908     | 0.841757       |"
      ]
     },
     "metadata": {},
     "output_type": "display_data"
    },
    {
     "data": {
      "text/html": [
       "<pre>| 53        | 45.202414    | 0.859986     | 0.841884       |</pre>"
      ],
      "text/plain": [
       "| 53        | 45.202414    | 0.859986     | 0.841884       |"
      ]
     },
     "metadata": {},
     "output_type": "display_data"
    },
    {
     "data": {
      "text/html": [
       "<pre>| 54        | 45.985847    | 0.860195     | 0.842051       |</pre>"
      ],
      "text/plain": [
       "| 54        | 45.985847    | 0.860195     | 0.842051       |"
      ]
     },
     "metadata": {},
     "output_type": "display_data"
    },
    {
     "data": {
      "text/html": [
       "<pre>| 55        | 46.789579    | 0.860335     | 0.842066       |</pre>"
      ],
      "text/plain": [
       "| 55        | 46.789579    | 0.860335     | 0.842066       |"
      ]
     },
     "metadata": {},
     "output_type": "display_data"
    },
    {
     "data": {
      "text/html": [
       "<pre>| 56        | 47.478958    | 0.860630     | 0.842111       |</pre>"
      ],
      "text/plain": [
       "| 56        | 47.478958    | 0.860630     | 0.842111       |"
      ]
     },
     "metadata": {},
     "output_type": "display_data"
    },
    {
     "data": {
      "text/html": [
       "<pre>| 57        | 48.220996    | 0.860704     | 0.842086       |</pre>"
      ],
      "text/plain": [
       "| 57        | 48.220996    | 0.860704     | 0.842086       |"
      ]
     },
     "metadata": {},
     "output_type": "display_data"
    },
    {
     "data": {
      "text/html": [
       "<pre>| 58        | 48.993218    | 0.860924     | 0.842118       |</pre>"
      ],
      "text/plain": [
       "| 58        | 48.993218    | 0.860924     | 0.842118       |"
      ]
     },
     "metadata": {},
     "output_type": "display_data"
    },
    {
     "data": {
      "text/html": [
       "<pre>| 59        | 49.785840    | 0.861178     | 0.842201       |</pre>"
      ],
      "text/plain": [
       "| 59        | 49.785840    | 0.861178     | 0.842201       |"
      ]
     },
     "metadata": {},
     "output_type": "display_data"
    },
    {
     "data": {
      "text/html": [
       "<pre>| 60        | 50.477092    | 0.861339     | 0.842252       |</pre>"
      ],
      "text/plain": [
       "| 60        | 50.477092    | 0.861339     | 0.842252       |"
      ]
     },
     "metadata": {},
     "output_type": "display_data"
    },
    {
     "data": {
      "text/html": [
       "<pre>| 61        | 51.253630    | 0.861651     | 0.842186       |</pre>"
      ],
      "text/plain": [
       "| 61        | 51.253630    | 0.861651     | 0.842186       |"
      ]
     },
     "metadata": {},
     "output_type": "display_data"
    },
    {
     "data": {
      "text/html": [
       "<pre>| 62        | 52.077615    | 0.862168     | 0.842225       |</pre>"
      ],
      "text/plain": [
       "| 62        | 52.077615    | 0.862168     | 0.842225       |"
      ]
     },
     "metadata": {},
     "output_type": "display_data"
    },
    {
     "data": {
      "text/html": [
       "<pre>| 63        | 52.829450    | 0.862338     | 0.842432       |</pre>"
      ],
      "text/plain": [
       "| 63        | 52.829450    | 0.862338     | 0.842432       |"
      ]
     },
     "metadata": {},
     "output_type": "display_data"
    },
    {
     "data": {
      "text/html": [
       "<pre>| 64        | 53.653952    | 0.862486     | 0.842587       |</pre>"
      ],
      "text/plain": [
       "| 64        | 53.653952    | 0.862486     | 0.842587       |"
      ]
     },
     "metadata": {},
     "output_type": "display_data"
    },
    {
     "data": {
      "text/html": [
       "<pre>| 65        | 54.253959    | 0.862667     | 0.842648       |</pre>"
      ],
      "text/plain": [
       "| 65        | 54.253959    | 0.862667     | 0.842648       |"
      ]
     },
     "metadata": {},
     "output_type": "display_data"
    },
    {
     "data": {
      "text/html": [
       "<pre>| 66        | 55.045991    | 0.862882     | 0.842577       |</pre>"
      ],
      "text/plain": [
       "| 66        | 55.045991    | 0.862882     | 0.842577       |"
      ]
     },
     "metadata": {},
     "output_type": "display_data"
    },
    {
     "data": {
      "text/html": [
       "<pre>| 67        | 55.906886    | 0.863016     | 0.842522       |</pre>"
      ],
      "text/plain": [
       "| 67        | 55.906886    | 0.863016     | 0.842522       |"
      ]
     },
     "metadata": {},
     "output_type": "display_data"
    },
    {
     "data": {
      "text/html": [
       "<pre>| 68        | 56.638583    | 0.863136     | 0.842659       |</pre>"
      ],
      "text/plain": [
       "| 68        | 56.638583    | 0.863136     | 0.842659       |"
      ]
     },
     "metadata": {},
     "output_type": "display_data"
    },
    {
     "data": {
      "text/html": [
       "<pre>| 69        | 57.391999    | 0.863355     | 0.842612       |</pre>"
      ],
      "text/plain": [
       "| 69        | 57.391999    | 0.863355     | 0.842612       |"
      ]
     },
     "metadata": {},
     "output_type": "display_data"
    },
    {
     "data": {
      "text/html": [
       "<pre>| 70        | 58.166016    | 0.863481     | 0.842613       |</pre>"
      ],
      "text/plain": [
       "| 70        | 58.166016    | 0.863481     | 0.842613       |"
      ]
     },
     "metadata": {},
     "output_type": "display_data"
    },
    {
     "data": {
      "text/html": [
       "<pre>| 71        | 59.029501    | 0.863637     | 0.842547       |</pre>"
      ],
      "text/plain": [
       "| 71        | 59.029501    | 0.863637     | 0.842547       |"
      ]
     },
     "metadata": {},
     "output_type": "display_data"
    },
    {
     "data": {
      "text/html": [
       "<pre>| 72        | 59.764010    | 0.863883     | 0.842505       |</pre>"
      ],
      "text/plain": [
       "| 72        | 59.764010    | 0.863883     | 0.842505       |"
      ]
     },
     "metadata": {},
     "output_type": "display_data"
    },
    {
     "data": {
      "text/html": [
       "<pre>| 73        | 60.545629    | 0.864035     | 0.842588       |</pre>"
      ],
      "text/plain": [
       "| 73        | 60.545629    | 0.864035     | 0.842588       |"
      ]
     },
     "metadata": {},
     "output_type": "display_data"
    },
    {
     "data": {
      "text/html": [
       "<pre>| 74        | 61.335052    | 0.864261     | 0.842564       |</pre>"
      ],
      "text/plain": [
       "| 74        | 61.335052    | 0.864261     | 0.842564       |"
      ]
     },
     "metadata": {},
     "output_type": "display_data"
    },
    {
     "data": {
      "text/html": [
       "<pre>| 75        | 62.189610    | 0.864435     | 0.842647       |</pre>"
      ],
      "text/plain": [
       "| 75        | 62.189610    | 0.864435     | 0.842647       |"
      ]
     },
     "metadata": {},
     "output_type": "display_data"
    },
    {
     "data": {
      "text/html": [
       "<pre>| 76        | 62.922579    | 0.864576     | 0.842722       |</pre>"
      ],
      "text/plain": [
       "| 76        | 62.922579    | 0.864576     | 0.842722       |"
      ]
     },
     "metadata": {},
     "output_type": "display_data"
    },
    {
     "data": {
      "text/html": [
       "<pre>| 77        | 63.624066    | 0.864928     | 0.842865       |</pre>"
      ],
      "text/plain": [
       "| 77        | 63.624066    | 0.864928     | 0.842865       |"
      ]
     },
     "metadata": {},
     "output_type": "display_data"
    },
    {
     "data": {
      "text/html": [
       "<pre>| 78        | 64.441469    | 0.865173     | 0.842962       |</pre>"
      ],
      "text/plain": [
       "| 78        | 64.441469    | 0.865173     | 0.842962       |"
      ]
     },
     "metadata": {},
     "output_type": "display_data"
    },
    {
     "data": {
      "text/html": [
       "<pre>| 79        | 65.297395    | 0.865342     | 0.843140       |</pre>"
      ],
      "text/plain": [
       "| 79        | 65.297395    | 0.865342     | 0.843140       |"
      ]
     },
     "metadata": {},
     "output_type": "display_data"
    },
    {
     "data": {
      "text/html": [
       "<pre>| 80        | 66.064685    | 0.865454     | 0.843077       |</pre>"
      ],
      "text/plain": [
       "| 80        | 66.064685    | 0.865454     | 0.843077       |"
      ]
     },
     "metadata": {},
     "output_type": "display_data"
    },
    {
     "data": {
      "text/html": [
       "<pre>| 81        | 66.786660    | 0.865610     | 0.843238       |</pre>"
      ],
      "text/plain": [
       "| 81        | 66.786660    | 0.865610     | 0.843238       |"
      ]
     },
     "metadata": {},
     "output_type": "display_data"
    },
    {
     "data": {
      "text/html": [
       "<pre>| 82        | 67.502764    | 0.865755     | 0.843336       |</pre>"
      ],
      "text/plain": [
       "| 82        | 67.502764    | 0.865755     | 0.843336       |"
      ]
     },
     "metadata": {},
     "output_type": "display_data"
    },
    {
     "data": {
      "text/html": [
       "<pre>| 83        | 68.454415    | 0.866065     | 0.843333       |</pre>"
      ],
      "text/plain": [
       "| 83        | 68.454415    | 0.866065     | 0.843333       |"
      ]
     },
     "metadata": {},
     "output_type": "display_data"
    },
    {
     "data": {
      "text/html": [
       "<pre>| 84        | 69.105699    | 0.866293     | 0.843407       |</pre>"
      ],
      "text/plain": [
       "| 84        | 69.105699    | 0.866293     | 0.843407       |"
      ]
     },
     "metadata": {},
     "output_type": "display_data"
    },
    {
     "data": {
      "text/html": [
       "<pre>| 85        | 69.810884    | 0.866451     | 0.843512       |</pre>"
      ],
      "text/plain": [
       "| 85        | 69.810884    | 0.866451     | 0.843512       |"
      ]
     },
     "metadata": {},
     "output_type": "display_data"
    },
    {
     "data": {
      "text/html": [
       "<pre>| 86        | 70.646089    | 0.866636     | 0.843638       |</pre>"
      ],
      "text/plain": [
       "| 86        | 70.646089    | 0.866636     | 0.843638       |"
      ]
     },
     "metadata": {},
     "output_type": "display_data"
    },
    {
     "data": {
      "text/html": [
       "<pre>| 87        | 71.333399    | 0.866773     | 0.843720       |</pre>"
      ],
      "text/plain": [
       "| 87        | 71.333399    | 0.866773     | 0.843720       |"
      ]
     },
     "metadata": {},
     "output_type": "display_data"
    },
    {
     "data": {
      "text/html": [
       "<pre>| 88        | 71.978026    | 0.867008     | 0.843730       |</pre>"
      ],
      "text/plain": [
       "| 88        | 71.978026    | 0.867008     | 0.843730       |"
      ]
     },
     "metadata": {},
     "output_type": "display_data"
    },
    {
     "data": {
      "text/html": [
       "<pre>| 89        | 72.698317    | 0.867262     | 0.843709       |</pre>"
      ],
      "text/plain": [
       "| 89        | 72.698317    | 0.867262     | 0.843709       |"
      ]
     },
     "metadata": {},
     "output_type": "display_data"
    },
    {
     "data": {
      "text/html": [
       "<pre>| 90        | 73.384168    | 0.867479     | 0.843634       |</pre>"
      ],
      "text/plain": [
       "| 90        | 73.384168    | 0.867479     | 0.843634       |"
      ]
     },
     "metadata": {},
     "output_type": "display_data"
    },
    {
     "data": {
      "text/html": [
       "<pre>| 91        | 74.266065    | 0.867586     | 0.843605       |</pre>"
      ],
      "text/plain": [
       "| 91        | 74.266065    | 0.867586     | 0.843605       |"
      ]
     },
     "metadata": {},
     "output_type": "display_data"
    },
    {
     "data": {
      "text/html": [
       "<pre>| 92        | 75.140399    | 0.867884     | 0.843668       |</pre>"
      ],
      "text/plain": [
       "| 92        | 75.140399    | 0.867884     | 0.843668       |"
      ]
     },
     "metadata": {},
     "output_type": "display_data"
    },
    {
     "data": {
      "text/html": [
       "<pre>| 93        | 75.841123    | 0.868089     | 0.843760       |</pre>"
      ],
      "text/plain": [
       "| 93        | 75.841123    | 0.868089     | 0.843760       |"
      ]
     },
     "metadata": {},
     "output_type": "display_data"
    },
    {
     "data": {
      "text/html": [
       "<pre>| 94        | 76.676248    | 0.868335     | 0.843869       |</pre>"
      ],
      "text/plain": [
       "| 94        | 76.676248    | 0.868335     | 0.843869       |"
      ]
     },
     "metadata": {},
     "output_type": "display_data"
    },
    {
     "data": {
      "text/html": [
       "<pre>| 95        | 77.457263    | 0.868418     | 0.843915       |</pre>"
      ],
      "text/plain": [
       "| 95        | 77.457263    | 0.868418     | 0.843915       |"
      ]
     },
     "metadata": {},
     "output_type": "display_data"
    },
    {
     "data": {
      "text/html": [
       "<pre>| 96        | 78.270366    | 0.868676     | 0.843904       |</pre>"
      ],
      "text/plain": [
       "| 96        | 78.270366    | 0.868676     | 0.843904       |"
      ]
     },
     "metadata": {},
     "output_type": "display_data"
    },
    {
     "data": {
      "text/html": [
       "<pre>| 97        | 78.914697    | 0.868883     | 0.844014       |</pre>"
      ],
      "text/plain": [
       "| 97        | 78.914697    | 0.868883     | 0.844014       |"
      ]
     },
     "metadata": {},
     "output_type": "display_data"
    },
    {
     "data": {
      "text/html": [
       "<pre>| 98        | 81.978286    | 0.869002     | 0.843959       |</pre>"
      ],
      "text/plain": [
       "| 98        | 81.978286    | 0.869002     | 0.843959       |"
      ]
     },
     "metadata": {},
     "output_type": "display_data"
    },
    {
     "data": {
      "text/html": [
       "<pre>| 99        | 82.635985    | 0.869213     | 0.843972       |</pre>"
      ],
      "text/plain": [
       "| 99        | 82.635985    | 0.869213     | 0.843972       |"
      ]
     },
     "metadata": {},
     "output_type": "display_data"
    },
    {
     "data": {
      "text/html": [
       "<pre>| 100       | 83.190383    | 0.869420     | 0.844032       |</pre>"
      ],
      "text/plain": [
       "| 100       | 83.190383    | 0.869420     | 0.844032       |"
      ]
     },
     "metadata": {},
     "output_type": "display_data"
    },
    {
     "data": {
      "text/html": [
       "<pre>| 101       | 83.728045    | 0.869570     | 0.844093       |</pre>"
      ],
      "text/plain": [
       "| 101       | 83.728045    | 0.869570     | 0.844093       |"
      ]
     },
     "metadata": {},
     "output_type": "display_data"
    },
    {
     "data": {
      "text/html": [
       "<pre>| 102       | 84.528859    | 0.869772     | 0.844144       |</pre>"
      ],
      "text/plain": [
       "| 102       | 84.528859    | 0.869772     | 0.844144       |"
      ]
     },
     "metadata": {},
     "output_type": "display_data"
    },
    {
     "data": {
      "text/html": [
       "<pre>| 103       | 85.339046    | 0.869935     | 0.844022       |</pre>"
      ],
      "text/plain": [
       "| 103       | 85.339046    | 0.869935     | 0.844022       |"
      ]
     },
     "metadata": {},
     "output_type": "display_data"
    },
    {
     "data": {
      "text/html": [
       "<pre>| 104       | 86.181888    | 0.870065     | 0.844034       |</pre>"
      ],
      "text/plain": [
       "| 104       | 86.181888    | 0.870065     | 0.844034       |"
      ]
     },
     "metadata": {},
     "output_type": "display_data"
    },
    {
     "data": {
      "text/html": [
       "<pre>| 105       | 87.142083    | 0.870195     | 0.843956       |</pre>"
      ],
      "text/plain": [
       "| 105       | 87.142083    | 0.870195     | 0.843956       |"
      ]
     },
     "metadata": {},
     "output_type": "display_data"
    },
    {
     "data": {
      "text/html": [
       "<pre>| 106       | 88.051953    | 0.870447     | 0.843951       |</pre>"
      ],
      "text/plain": [
       "| 106       | 88.051953    | 0.870447     | 0.843951       |"
      ]
     },
     "metadata": {},
     "output_type": "display_data"
    },
    {
     "data": {
      "text/html": [
       "<pre>| 107       | 88.872146    | 0.870542     | 0.843941       |</pre>"
      ],
      "text/plain": [
       "| 107       | 88.872146    | 0.870542     | 0.843941       |"
      ]
     },
     "metadata": {},
     "output_type": "display_data"
    },
    {
     "data": {
      "text/html": [
       "<pre>| 108       | 89.461823    | 0.870729     | 0.843989       |</pre>"
      ],
      "text/plain": [
       "| 108       | 89.461823    | 0.870729     | 0.843989       |"
      ]
     },
     "metadata": {},
     "output_type": "display_data"
    },
    {
     "data": {
      "text/html": [
       "<pre>| 109       | 90.116864    | 0.870897     | 0.844013       |</pre>"
      ],
      "text/plain": [
       "| 109       | 90.116864    | 0.870897     | 0.844013       |"
      ]
     },
     "metadata": {},
     "output_type": "display_data"
    },
    {
     "data": {
      "text/html": [
       "<pre>| 110       | 90.826006    | 0.871081     | 0.843993       |</pre>"
      ],
      "text/plain": [
       "| 110       | 90.826006    | 0.871081     | 0.843993       |"
      ]
     },
     "metadata": {},
     "output_type": "display_data"
    },
    {
     "data": {
      "text/html": [
       "<pre>| 111       | 91.685923    | 0.871244     | 0.843969       |</pre>"
      ],
      "text/plain": [
       "| 111       | 91.685923    | 0.871244     | 0.843969       |"
      ]
     },
     "metadata": {},
     "output_type": "display_data"
    },
    {
     "data": {
      "text/html": [
       "<pre>| 112       | 92.517508    | 0.871370     | 0.844020       |</pre>"
      ],
      "text/plain": [
       "| 112       | 92.517508    | 0.871370     | 0.844020       |"
      ]
     },
     "metadata": {},
     "output_type": "display_data"
    },
    {
     "data": {
      "text/html": [
       "<pre>| 113       | 93.365892    | 0.871571     | 0.844107       |</pre>"
      ],
      "text/plain": [
       "| 113       | 93.365892    | 0.871571     | 0.844107       |"
      ]
     },
     "metadata": {},
     "output_type": "display_data"
    },
    {
     "data": {
      "text/html": [
       "<pre>| 114       | 94.202148    | 0.871744     | 0.844174       |</pre>"
      ],
      "text/plain": [
       "| 114       | 94.202148    | 0.871744     | 0.844174       |"
      ]
     },
     "metadata": {},
     "output_type": "display_data"
    },
    {
     "data": {
      "text/html": [
       "<pre>| 115       | 95.134370    | 0.871959     | 0.844225       |</pre>"
      ],
      "text/plain": [
       "| 115       | 95.134370    | 0.871959     | 0.844225       |"
      ]
     },
     "metadata": {},
     "output_type": "display_data"
    },
    {
     "data": {
      "text/html": [
       "<pre>| 116       | 95.930621    | 0.872094     | 0.844274       |</pre>"
      ],
      "text/plain": [
       "| 116       | 95.930621    | 0.872094     | 0.844274       |"
      ]
     },
     "metadata": {},
     "output_type": "display_data"
    },
    {
     "data": {
      "text/html": [
       "<pre>| 117       | 96.722040    | 0.872184     | 0.844231       |</pre>"
      ],
      "text/plain": [
       "| 117       | 96.722040    | 0.872184     | 0.844231       |"
      ]
     },
     "metadata": {},
     "output_type": "display_data"
    },
    {
     "data": {
      "text/html": [
       "<pre>| 118       | 97.524447    | 0.872303     | 0.844280       |</pre>"
      ],
      "text/plain": [
       "| 118       | 97.524447    | 0.872303     | 0.844280       |"
      ]
     },
     "metadata": {},
     "output_type": "display_data"
    },
    {
     "data": {
      "text/html": [
       "<pre>| 119       | 98.277090    | 0.872424     | 0.844294       |</pre>"
      ],
      "text/plain": [
       "| 119       | 98.277090    | 0.872424     | 0.844294       |"
      ]
     },
     "metadata": {},
     "output_type": "display_data"
    },
    {
     "data": {
      "text/html": [
       "<pre>| 120       | 99.128240    | 0.872602     | 0.844362       |</pre>"
      ],
      "text/plain": [
       "| 120       | 99.128240    | 0.872602     | 0.844362       |"
      ]
     },
     "metadata": {},
     "output_type": "display_data"
    },
    {
     "data": {
      "text/html": [
       "<pre>| 121       | 99.890163    | 0.872716     | 0.844388       |</pre>"
      ],
      "text/plain": [
       "| 121       | 99.890163    | 0.872716     | 0.844388       |"
      ]
     },
     "metadata": {},
     "output_type": "display_data"
    },
    {
     "data": {
      "text/html": [
       "<pre>| 122       | 100.672830   | 0.872911     | 0.844368       |</pre>"
      ],
      "text/plain": [
       "| 122       | 100.672830   | 0.872911     | 0.844368       |"
      ]
     },
     "metadata": {},
     "output_type": "display_data"
    },
    {
     "data": {
      "text/html": [
       "<pre>| 123       | 101.499451   | 0.873020     | 0.844358       |</pre>"
      ],
      "text/plain": [
       "| 123       | 101.499451   | 0.873020     | 0.844358       |"
      ]
     },
     "metadata": {},
     "output_type": "display_data"
    },
    {
     "data": {
      "text/html": [
       "<pre>| 124       | 102.349558   | 0.873184     | 0.844298       |</pre>"
      ],
      "text/plain": [
       "| 124       | 102.349558   | 0.873184     | 0.844298       |"
      ]
     },
     "metadata": {},
     "output_type": "display_data"
    },
    {
     "data": {
      "text/html": [
       "<pre>| 125       | 103.134806   | 0.873380     | 0.844340       |</pre>"
      ],
      "text/plain": [
       "| 125       | 103.134806   | 0.873380     | 0.844340       |"
      ]
     },
     "metadata": {},
     "output_type": "display_data"
    },
    {
     "data": {
      "text/html": [
       "<pre>| 126       | 103.895002   | 0.873510     | 0.844337       |</pre>"
      ],
      "text/plain": [
       "| 126       | 103.895002   | 0.873510     | 0.844337       |"
      ]
     },
     "metadata": {},
     "output_type": "display_data"
    },
    {
     "data": {
      "text/html": [
       "<pre>| 127       | 104.669309   | 0.873699     | 0.844370       |</pre>"
      ],
      "text/plain": [
       "| 127       | 104.669309   | 0.873699     | 0.844370       |"
      ]
     },
     "metadata": {},
     "output_type": "display_data"
    },
    {
     "data": {
      "text/html": [
       "<pre>| 128       | 105.509672   | 0.873853     | 0.844368       |</pre>"
      ],
      "text/plain": [
       "| 128       | 105.509672   | 0.873853     | 0.844368       |"
      ]
     },
     "metadata": {},
     "output_type": "display_data"
    },
    {
     "data": {
      "text/html": [
       "<pre>| 129       | 106.375097   | 0.874051     | 0.844290       |</pre>"
      ],
      "text/plain": [
       "| 129       | 106.375097   | 0.874051     | 0.844290       |"
      ]
     },
     "metadata": {},
     "output_type": "display_data"
    },
    {
     "data": {
      "text/html": [
       "<pre>| 130       | 107.006731   | 0.874260     | 0.844324       |</pre>"
      ],
      "text/plain": [
       "| 130       | 107.006731   | 0.874260     | 0.844324       |"
      ]
     },
     "metadata": {},
     "output_type": "display_data"
    },
    {
     "data": {
      "text/html": [
       "<pre>| 131       | 107.695001   | 0.874359     | 0.844381       |</pre>"
      ],
      "text/plain": [
       "| 131       | 107.695001   | 0.874359     | 0.844381       |"
      ]
     },
     "metadata": {},
     "output_type": "display_data"
    },
    {
     "data": {
      "text/html": [
       "<pre>| 132       | 108.489352   | 0.874467     | 0.844367       |</pre>"
      ],
      "text/plain": [
       "| 132       | 108.489352   | 0.874467     | 0.844367       |"
      ]
     },
     "metadata": {},
     "output_type": "display_data"
    },
    {
     "data": {
      "text/html": [
       "<pre>| 133       | 109.296442   | 0.874557     | 0.844382       |</pre>"
      ],
      "text/plain": [
       "| 133       | 109.296442   | 0.874557     | 0.844382       |"
      ]
     },
     "metadata": {},
     "output_type": "display_data"
    },
    {
     "data": {
      "text/html": [
       "<pre>| 134       | 110.086728   | 0.874709     | 0.844409       |</pre>"
      ],
      "text/plain": [
       "| 134       | 110.086728   | 0.874709     | 0.844409       |"
      ]
     },
     "metadata": {},
     "output_type": "display_data"
    },
    {
     "data": {
      "text/html": [
       "<pre>| 135       | 110.893431   | 0.874882     | 0.844406       |</pre>"
      ],
      "text/plain": [
       "| 135       | 110.893431   | 0.874882     | 0.844406       |"
      ]
     },
     "metadata": {},
     "output_type": "display_data"
    },
    {
     "data": {
      "text/html": [
       "<pre>| 136       | 111.636302   | 0.875038     | 0.844351       |</pre>"
      ],
      "text/plain": [
       "| 136       | 111.636302   | 0.875038     | 0.844351       |"
      ]
     },
     "metadata": {},
     "output_type": "display_data"
    },
    {
     "data": {
      "text/html": [
       "<pre>| 137       | 112.380937   | 0.875225     | 0.844343       |</pre>"
      ],
      "text/plain": [
       "| 137       | 112.380937   | 0.875225     | 0.844343       |"
      ]
     },
     "metadata": {},
     "output_type": "display_data"
    },
    {
     "data": {
      "text/html": [
       "<pre>| 138       | 113.177287   | 0.875414     | 0.844387       |</pre>"
      ],
      "text/plain": [
       "| 138       | 113.177287   | 0.875414     | 0.844387       |"
      ]
     },
     "metadata": {},
     "output_type": "display_data"
    },
    {
     "data": {
      "text/html": [
       "<pre>| 139       | 113.917017   | 0.875570     | 0.844474       |</pre>"
      ],
      "text/plain": [
       "| 139       | 113.917017   | 0.875570     | 0.844474       |"
      ]
     },
     "metadata": {},
     "output_type": "display_data"
    },
    {
     "data": {
      "text/html": [
       "<pre>| 140       | 114.634431   | 0.875661     | 0.844501       |</pre>"
      ],
      "text/plain": [
       "| 140       | 114.634431   | 0.875661     | 0.844501       |"
      ]
     },
     "metadata": {},
     "output_type": "display_data"
    },
    {
     "data": {
      "text/html": [
       "<pre>| 141       | 115.493867   | 0.875809     | 0.844504       |</pre>"
      ],
      "text/plain": [
       "| 141       | 115.493867   | 0.875809     | 0.844504       |"
      ]
     },
     "metadata": {},
     "output_type": "display_data"
    },
    {
     "data": {
      "text/html": [
       "<pre>| 142       | 116.345643   | 0.875931     | 0.844420       |</pre>"
      ],
      "text/plain": [
       "| 142       | 116.345643   | 0.875931     | 0.844420       |"
      ]
     },
     "metadata": {},
     "output_type": "display_data"
    },
    {
     "data": {
      "text/html": [
       "<pre>| 143       | 117.146364   | 0.876093     | 0.844436       |</pre>"
      ],
      "text/plain": [
       "| 143       | 117.146364   | 0.876093     | 0.844436       |"
      ]
     },
     "metadata": {},
     "output_type": "display_data"
    },
    {
     "data": {
      "text/html": [
       "<pre>| 144       | 117.952467   | 0.876310     | 0.844538       |</pre>"
      ],
      "text/plain": [
       "| 144       | 117.952467   | 0.876310     | 0.844538       |"
      ]
     },
     "metadata": {},
     "output_type": "display_data"
    },
    {
     "data": {
      "text/html": [
       "<pre>| 145       | 118.725070   | 0.876451     | 0.844504       |</pre>"
      ],
      "text/plain": [
       "| 145       | 118.725070   | 0.876451     | 0.844504       |"
      ]
     },
     "metadata": {},
     "output_type": "display_data"
    },
    {
     "data": {
      "text/html": [
       "<pre>| 146       | 119.485193   | 0.876603     | 0.844505       |</pre>"
      ],
      "text/plain": [
       "| 146       | 119.485193   | 0.876603     | 0.844505       |"
      ]
     },
     "metadata": {},
     "output_type": "display_data"
    },
    {
     "data": {
      "text/html": [
       "<pre>| 147       | 120.198889   | 0.876685     | 0.844510       |</pre>"
      ],
      "text/plain": [
       "| 147       | 120.198889   | 0.876685     | 0.844510       |"
      ]
     },
     "metadata": {},
     "output_type": "display_data"
    },
    {
     "data": {
      "text/html": [
       "<pre>| 148       | 120.983998   | 0.876767     | 0.844525       |</pre>"
      ],
      "text/plain": [
       "| 148       | 120.983998   | 0.876767     | 0.844525       |"
      ]
     },
     "metadata": {},
     "output_type": "display_data"
    },
    {
     "data": {
      "text/html": [
       "<pre>| 149       | 121.834135   | 0.876894     | 0.844548       |</pre>"
      ],
      "text/plain": [
       "| 149       | 121.834135   | 0.876894     | 0.844548       |"
      ]
     },
     "metadata": {},
     "output_type": "display_data"
    },
    {
     "data": {
      "text/html": [
       "<pre>| 150       | 122.527260   | 0.877042     | 0.844577       |</pre>"
      ],
      "text/plain": [
       "| 150       | 122.527260   | 0.877042     | 0.844577       |"
      ]
     },
     "metadata": {},
     "output_type": "display_data"
    },
    {
     "data": {
      "text/html": [
       "<pre>| 151       | 123.273242   | 0.877147     | 0.844622       |</pre>"
      ],
      "text/plain": [
       "| 151       | 123.273242   | 0.877147     | 0.844622       |"
      ]
     },
     "metadata": {},
     "output_type": "display_data"
    },
    {
     "data": {
      "text/html": [
       "<pre>| 152       | 124.157874   | 0.877266     | 0.844611       |</pre>"
      ],
      "text/plain": [
       "| 152       | 124.157874   | 0.877266     | 0.844611       |"
      ]
     },
     "metadata": {},
     "output_type": "display_data"
    },
    {
     "data": {
      "text/html": [
       "<pre>| 153       | 124.850990   | 0.877316     | 0.844644       |</pre>"
      ],
      "text/plain": [
       "| 153       | 124.850990   | 0.877316     | 0.844644       |"
      ]
     },
     "metadata": {},
     "output_type": "display_data"
    },
    {
     "data": {
      "text/html": [
       "<pre>| 154       | 125.560437   | 0.877441     | 0.844693       |</pre>"
      ],
      "text/plain": [
       "| 154       | 125.560437   | 0.877441     | 0.844693       |"
      ]
     },
     "metadata": {},
     "output_type": "display_data"
    },
    {
     "data": {
      "text/html": [
       "<pre>| 155       | 126.254983   | 0.877592     | 0.844705       |</pre>"
      ],
      "text/plain": [
       "| 155       | 126.254983   | 0.877592     | 0.844705       |"
      ]
     },
     "metadata": {},
     "output_type": "display_data"
    },
    {
     "data": {
      "text/html": [
       "<pre>| 156       | 127.032515   | 0.877634     | 0.844717       |</pre>"
      ],
      "text/plain": [
       "| 156       | 127.032515   | 0.877634     | 0.844717       |"
      ]
     },
     "metadata": {},
     "output_type": "display_data"
    },
    {
     "data": {
      "text/html": [
       "<pre>| 157       | 127.764852   | 0.877763     | 0.844733       |</pre>"
      ],
      "text/plain": [
       "| 157       | 127.764852   | 0.877763     | 0.844733       |"
      ]
     },
     "metadata": {},
     "output_type": "display_data"
    },
    {
     "data": {
      "text/html": [
       "<pre>| 158       | 128.480464   | 0.877845     | 0.844727       |</pre>"
      ],
      "text/plain": [
       "| 158       | 128.480464   | 0.877845     | 0.844727       |"
      ]
     },
     "metadata": {},
     "output_type": "display_data"
    },
    {
     "data": {
      "text/html": [
       "<pre>| 159       | 129.248164   | 0.878016     | 0.844760       |</pre>"
      ],
      "text/plain": [
       "| 159       | 129.248164   | 0.878016     | 0.844760       |"
      ]
     },
     "metadata": {},
     "output_type": "display_data"
    },
    {
     "data": {
      "text/html": [
       "<pre>| 160       | 130.026354   | 0.878094     | 0.844756       |</pre>"
      ],
      "text/plain": [
       "| 160       | 130.026354   | 0.878094     | 0.844756       |"
      ]
     },
     "metadata": {},
     "output_type": "display_data"
    },
    {
     "data": {
      "text/html": [
       "<pre>| 161       | 130.763608   | 0.878277     | 0.844681       |</pre>"
      ],
      "text/plain": [
       "| 161       | 130.763608   | 0.878277     | 0.844681       |"
      ]
     },
     "metadata": {},
     "output_type": "display_data"
    },
    {
     "data": {
      "text/html": [
       "<pre>| 162       | 131.574865   | 0.878499     | 0.844731       |</pre>"
      ],
      "text/plain": [
       "| 162       | 131.574865   | 0.878499     | 0.844731       |"
      ]
     },
     "metadata": {},
     "output_type": "display_data"
    },
    {
     "data": {
      "text/html": [
       "<pre>| 163       | 132.388115   | 0.878653     | 0.844738       |</pre>"
      ],
      "text/plain": [
       "| 163       | 132.388115   | 0.878653     | 0.844738       |"
      ]
     },
     "metadata": {},
     "output_type": "display_data"
    },
    {
     "data": {
      "text/html": [
       "<pre>| 164       | 133.282088   | 0.878829     | 0.844835       |</pre>"
      ],
      "text/plain": [
       "| 164       | 133.282088   | 0.878829     | 0.844835       |"
      ]
     },
     "metadata": {},
     "output_type": "display_data"
    },
    {
     "data": {
      "text/html": [
       "<pre>| 165       | 134.132087   | 0.878965     | 0.844827       |</pre>"
      ],
      "text/plain": [
       "| 165       | 134.132087   | 0.878965     | 0.844827       |"
      ]
     },
     "metadata": {},
     "output_type": "display_data"
    },
    {
     "data": {
      "text/html": [
       "<pre>| 166       | 135.060637   | 0.879103     | 0.844860       |</pre>"
      ],
      "text/plain": [
       "| 166       | 135.060637   | 0.879103     | 0.844860       |"
      ]
     },
     "metadata": {},
     "output_type": "display_data"
    },
    {
     "data": {
      "text/html": [
       "<pre>| 167       | 135.912411   | 0.879275     | 0.844820       |</pre>"
      ],
      "text/plain": [
       "| 167       | 135.912411   | 0.879275     | 0.844820       |"
      ]
     },
     "metadata": {},
     "output_type": "display_data"
    },
    {
     "data": {
      "text/html": [
       "<pre>| 168       | 136.577156   | 0.879342     | 0.844808       |</pre>"
      ],
      "text/plain": [
       "| 168       | 136.577156   | 0.879342     | 0.844808       |"
      ]
     },
     "metadata": {},
     "output_type": "display_data"
    },
    {
     "data": {
      "text/html": [
       "<pre>| 169       | 137.310763   | 0.879465     | 0.844729       |</pre>"
      ],
      "text/plain": [
       "| 169       | 137.310763   | 0.879465     | 0.844729       |"
      ]
     },
     "metadata": {},
     "output_type": "display_data"
    },
    {
     "data": {
      "text/html": [
       "<pre>| 170       | 137.993974   | 0.879639     | 0.844725       |</pre>"
      ],
      "text/plain": [
       "| 170       | 137.993974   | 0.879639     | 0.844725       |"
      ]
     },
     "metadata": {},
     "output_type": "display_data"
    },
    {
     "data": {
      "text/html": [
       "<pre>| 171       | 138.721745   | 0.879712     | 0.844733       |</pre>"
      ],
      "text/plain": [
       "| 171       | 138.721745   | 0.879712     | 0.844733       |"
      ]
     },
     "metadata": {},
     "output_type": "display_data"
    },
    {
     "data": {
      "text/html": [
       "<pre>| 172       | 139.517683   | 0.879815     | 0.844642       |</pre>"
      ],
      "text/plain": [
       "| 172       | 139.517683   | 0.879815     | 0.844642       |"
      ]
     },
     "metadata": {},
     "output_type": "display_data"
    },
    {
     "data": {
      "text/html": [
       "<pre>| 173       | 140.329879   | 0.879949     | 0.844645       |</pre>"
      ],
      "text/plain": [
       "| 173       | 140.329879   | 0.879949     | 0.844645       |"
      ]
     },
     "metadata": {},
     "output_type": "display_data"
    },
    {
     "data": {
      "text/html": [
       "<pre>| 174       | 141.171128   | 0.880227     | 0.844538       |</pre>"
      ],
      "text/plain": [
       "| 174       | 141.171128   | 0.880227     | 0.844538       |"
      ]
     },
     "metadata": {},
     "output_type": "display_data"
    },
    {
     "data": {
      "text/html": [
       "<pre>| 175       | 141.942686   | 0.880305     | 0.844572       |</pre>"
      ],
      "text/plain": [
       "| 175       | 141.942686   | 0.880305     | 0.844572       |"
      ]
     },
     "metadata": {},
     "output_type": "display_data"
    },
    {
     "data": {
      "text/html": [
       "<pre>| 176       | 142.713956   | 0.880409     | 0.844548       |</pre>"
      ],
      "text/plain": [
       "| 176       | 142.713956   | 0.880409     | 0.844548       |"
      ]
     },
     "metadata": {},
     "output_type": "display_data"
    },
    {
     "data": {
      "text/html": [
       "<pre>| 177       | 143.522004   | 0.880543     | 0.844582       |</pre>"
      ],
      "text/plain": [
       "| 177       | 143.522004   | 0.880543     | 0.844582       |"
      ]
     },
     "metadata": {},
     "output_type": "display_data"
    },
    {
     "data": {
      "text/html": [
       "<pre>| 178       | 144.238490   | 0.880603     | 0.844657       |</pre>"
      ],
      "text/plain": [
       "| 178       | 144.238490   | 0.880603     | 0.844657       |"
      ]
     },
     "metadata": {},
     "output_type": "display_data"
    },
    {
     "data": {
      "text/html": [
       "<pre>| 179       | 145.014941   | 0.880695     | 0.844653       |</pre>"
      ],
      "text/plain": [
       "| 179       | 145.014941   | 0.880695     | 0.844653       |"
      ]
     },
     "metadata": {},
     "output_type": "display_data"
    },
    {
     "data": {
      "text/html": [
       "<pre>| 180       | 145.879146   | 0.880821     | 0.844593       |</pre>"
      ],
      "text/plain": [
       "| 180       | 145.879146   | 0.880821     | 0.844593       |"
      ]
     },
     "metadata": {},
     "output_type": "display_data"
    },
    {
     "data": {
      "text/html": [
       "<pre>| 181       | 146.676583   | 0.880962     | 0.844586       |</pre>"
      ],
      "text/plain": [
       "| 181       | 146.676583   | 0.880962     | 0.844586       |"
      ]
     },
     "metadata": {},
     "output_type": "display_data"
    },
    {
     "data": {
      "text/html": [
       "<pre>| 182       | 147.569489   | 0.881008     | 0.844570       |</pre>"
      ],
      "text/plain": [
       "| 182       | 147.569489   | 0.881008     | 0.844570       |"
      ]
     },
     "metadata": {},
     "output_type": "display_data"
    },
    {
     "data": {
      "text/html": [
       "<pre>| 183       | 148.321723   | 0.881094     | 0.844563       |</pre>"
      ],
      "text/plain": [
       "| 183       | 148.321723   | 0.881094     | 0.844563       |"
      ]
     },
     "metadata": {},
     "output_type": "display_data"
    },
    {
     "data": {
      "text/html": [
       "<pre>| 184       | 149.161529   | 0.881127     | 0.844543       |</pre>"
      ],
      "text/plain": [
       "| 184       | 149.161529   | 0.881127     | 0.844543       |"
      ]
     },
     "metadata": {},
     "output_type": "display_data"
    },
    {
     "data": {
      "text/html": [
       "<pre>| 185       | 149.977754   | 0.881251     | 0.844582       |</pre>"
      ],
      "text/plain": [
       "| 185       | 149.977754   | 0.881251     | 0.844582       |"
      ]
     },
     "metadata": {},
     "output_type": "display_data"
    },
    {
     "data": {
      "text/html": [
       "<pre>| 186       | 150.720240   | 0.881293     | 0.844577       |</pre>"
      ],
      "text/plain": [
       "| 186       | 150.720240   | 0.881293     | 0.844577       |"
      ]
     },
     "metadata": {},
     "output_type": "display_data"
    },
    {
     "data": {
      "text/html": [
       "<pre>+-----------+--------------+--------------+----------------+</pre>"
      ],
      "text/plain": [
       "+-----------+--------------+--------------+----------------+"
      ]
     },
     "metadata": {},
     "output_type": "display_data"
    },
    {
     "data": {
      "text/html": [
       "<pre>Early stop triggered. Returning the best model at iteration: 166</pre>"
      ],
      "text/plain": [
       "Early stop triggered. Returning the best model at iteration: 166"
      ]
     },
     "metadata": {},
     "output_type": "display_data"
    },
    {
     "name": "stdout",
     "output_type": "stream",
     "text": [
      "  features in total\n"
     ]
    },
    {
     "data": {
      "text/plain": [
       "Class                         : BoostedTreesClassifier\n",
       "\n",
       "Schema\n",
       "------\n",
       "Number of examples            : 60568\n",
       "Number of feature columns     : 306\n",
       "Number of unpacked features   : 306\n",
       "Number of classes             : 2\n",
       "\n",
       "Settings\n",
       "--------\n",
       "Number of trees               : 166\n",
       "Max tree depth                : 5\n",
       "Training time (sec)           : 150.7223\n",
       "Training auc                  : 0.8791\n",
       "Validation auc                : 0.8449"
      ]
     },
     "execution_count": 17,
     "metadata": {},
     "output_type": "execute_result"
    }
   ],
   "source": [
    "#xgb.XGBClassifier(missing=np.nan, max_depth=5, n_estimators=350, learning_rate=0.03, nthread=4, subsample=0.95, colsample_bytree=0.85, seed=4242)\n",
    "#taken from a discussion thread\n",
    "train_data, test_data = initialise.load_data(reload_data=False)\n",
    "train, validate = train_data.random_split(0.8, seed=8273)\n",
    "\n",
    "params = {'target':'TARGET', 'random_seed':4242,\n",
    "          'class_weights':'auto','metric':'auc',\n",
    "          'early_stopping_rounds':20, 'max_iterations':500,\n",
    "          'step_size': 0.03,\n",
    "          'max_depth': 5,\n",
    "          'row_subsample': 0.95,\n",
    "          'column_subsample': 0.85}\n",
    "\n",
    "            \n",
    "model = gl.boosted_trees_classifier.create(train,validation_set=validate, **params)\n",
    "tools.plot_metric(model)\n",
    "print \"model.validation_auc\", model.validation_auc"
   ]
  },
  {
   "cell_type": "code",
   "execution_count": 19,
   "metadata": {
    "ExecuteTime": {
     "end_time": "2016-03-16T08:50:59.375242",
     "start_time": "2016-03-16T08:50:57.353692"
    },
    "collapsed": false
   },
   "outputs": [
    {
     "data": {
      "text/plain": [
       "<module 'matplotlib.pyplot' from '/home/ec2-user/anaconda2/envs/dato-env/lib/python2.7/site-packages/matplotlib/pyplot.pyc'>"
      ]
     },
     "execution_count": 19,
     "metadata": {},
     "output_type": "execute_result"
    },
    {
     "data": {
      "image/png": "[encoded data removed]",
      "text/plain": [
       "<matplotlib.figure.Figure at 0x7f1bcc745790>"
      ]
     },
     "metadata": {},
     "output_type": "display_data"
    }
   ],
   "source": []
  },
  {
   "cell_type": "markdown",
   "metadata": {
    "heading_collapsed": true
   },
   "source": [
    "# Other variations"
   ]
  },
  {
   "cell_type": "markdown",
   "metadata": {
    "heading_collapsed": true
   },
   "source": [
    "## Stratified split\n",
    "Gave a slighly lower validation 'auc': 0.83822 vs 0.84244"
   ]
  },
  {
   "cell_type": "code",
   "execution_count": 6,
   "metadata": {
    "ExecuteTime": {
     "end_time": "2016-03-16T14:58:09.143173",
     "start_time": "2016-03-16T14:57:33.985227"
    },
    "collapsed": false
   },
   "outputs": [
    {
     "name": "stdout",
     "output_type": "stream",
     "text": [
      "Loading saved processed data\n",
      "306  features in total\n"
     ]
    },
    {
     "data": {
      "text/plain": [
       "{'auc': 0.8382299326357934}"
      ]
     },
     "execution_count": 6,
     "metadata": {},
     "output_type": "execute_result"
    }
   ],
   "source": [
    "train_data, test_data = initialise.load_data(reload_data=False)\n",
    "reload(tools)\n",
    "train, validate = tools.stratified_split(train_data, 'TARGET', 0.8, seed=8273)\n",
    "\n",
    "params = {'target':'TARGET', 'random_seed':8923,\n",
    "          'class_weights':'auto','metric':'auc',\n",
    "          'early_stopping_rounds':20, 'max_iterations':500,\n",
    "          'step_size': 0.1,\n",
    "          'max_depth': 5,\n",
    "          'column_subsample': 0.6}\n",
    "model = gl.boosted_trees_classifier.create(train, validation=validate, verbose=False, **params)\n",
    "model.evaluate(validate, metric='auc')"
   ]
  },
  {
   "cell_type": "code",
   "execution_count": 7,
   "metadata": {
    "ExecuteTime": {
     "end_time": "2016-03-16T14:59:15.516402",
     "start_time": "2016-03-16T14:59:00.525526"
    },
    "collapsed": false
   },
   "outputs": [
    {
     "name": "stdout",
     "output_type": "stream",
     "text": [
      "Loading saved processed data\n",
      "306  features in total\n"
     ]
    },
    {
     "data": {
      "text/plain": [
       "{'auc': 0.8424470493019368}"
      ]
     },
     "execution_count": 7,
     "metadata": {},
     "output_type": "execute_result"
    }
   ],
   "source": [
    "train_data, test_data = initialise.load_data(reload_data=False)\n",
    "train, validate = train_data.random_split(0.8, seed=8273)\n",
    "\n",
    "params = {'target':'TARGET', 'random_seed':8923,\n",
    "          'class_weights':'auto','metric':'auc',\n",
    "          'early_stopping_rounds':20, 'max_iterations':500,\n",
    "          'step_size': 0.1,\n",
    "          'max_depth': 5,\n",
    "          'column_subsample': 0.6}\n",
    "model = gl.boosted_trees_classifier.create(train, validation=validate, verbose=False, **params)\n",
    "model.evaluate(validate, metric='auc')\n"
   ]
  },
  {
   "cell_type": "code",
   "execution_count": null,
   "metadata": {
    "collapsed": true
   },
   "outputs": [],
   "source": []
  },
  {
   "cell_type": "markdown",
   "metadata": {
    "collapsed": true,
    "heading_collapsed": true
   },
   "source": [
    "## PCA\n",
    "Apply PCA to numerical variables (i.e., floats).Pair plots show a structure, a grouping around axes but using this as part of a GBT got a slighly worse result of AUC 0.8305"
   ]
  },
  {
   "cell_type": "code",
   "execution_count": 12,
   "metadata": {
    "ExecuteTime": {
     "end_time": "2016-03-15T02:08:30.475417",
     "start_time": "2016-03-15T02:08:30.469212"
    },
    "collapsed": false
   },
   "outputs": [
    {
     "data": {
      "text/plain": [
       "{'class_weights': 'auto',\n",
       " 'early_stopping_rounds': 20,\n",
       " 'max_depth': [2, 3, 4, 5, 6, 7],\n",
       " 'max_iterations': 400,\n",
       " 'metric': 'auc',\n",
       " 'random_seed': 8923,\n",
       " 'step_size': <scipy.stats._distn_infrastructure.rv_frozen at 0x7fbbfc39c6d0>,\n",
       " 'target': 'TARGET'}"
      ]
     },
     "execution_count": 12,
     "metadata": {},
     "output_type": "execute_result"
    }
   ],
   "source": [
    "params"
   ]
  },
  {
   "cell_type": "code",
   "execution_count": 12,
   "metadata": {
    "ExecuteTime": {
     "end_time": "2016-03-12T17:39:19.057699",
     "start_time": "2016-03-12T17:39:19.052738"
    },
    "collapsed": true
   },
   "outputs": [],
   "source": [
    "import numpy as np\n",
    "import pandas as pd"
   ]
  },
  {
   "cell_type": "code",
   "execution_count": 8,
   "metadata": {
    "ExecuteTime": {
     "end_time": "2016-03-12T17:38:25.585585",
     "start_time": "2016-03-12T17:38:25.480112"
    },
    "collapsed": false
   },
   "outputs": [
    {
     "name": "stderr",
     "output_type": "stream",
     "text": [
      "/home/ec2-user/anaconda2/envs/dato-env/lib/python2.7/site-packages/matplotlib/__init__.py:872: UserWarning: axes.color_cycle is deprecated and replaced with axes.prop_cycle; please use the latter.\n",
      "  warnings.warn(self.msg_depr % (key, alt_key))\n"
     ]
    }
   ],
   "source": [
    "%matplotlib inline\n",
    "from matplotlib import pyplot as plt\n",
    "import seaborn as sns"
   ]
  },
  {
   "cell_type": "code",
   "execution_count": 20,
   "metadata": {
    "ExecuteTime": {
     "end_time": "2016-03-11T20:43:02.834603",
     "start_time": "2016-03-11T20:42:11.544722"
    },
    "collapsed": false
   },
   "outputs": [
    {
     "name": "stdout",
     "output_type": "stream",
     "text": [
      "Loading raw data and tranforming it\n",
      "Loading raw data from CSV files\n",
      "train: 76020    test: 75818\n",
      "370 raw features\n",
      "366 Columns translated to English\n",
      "64 constant or duplicate columns removed\n",
      "19 features with anomalous values replaced by 'None'\n",
      "73 integer features converted to categorical\n",
      "306 features in total\n",
      "Saving processed data for fast reloading\n"
     ]
    }
   ],
   "source": [
    "reload(initialise)\n",
    "train_data, test_data = initialise.load_data(reload_data=True)"
   ]
  },
  {
   "cell_type": "code",
   "execution_count": null,
   "metadata": {
    "collapsed": true
   },
   "outputs": [],
   "source": []
  },
  {
   "cell_type": "code",
   "execution_count": 17,
   "metadata": {
    "ExecuteTime": {
     "end_time": "2016-03-12T17:41:28.684531",
     "start_time": "2016-03-12T17:41:26.677024"
    },
    "collapsed": false
   },
   "outputs": [
    {
     "data": {
      "text/plain": [
       "43"
      ]
     },
     "execution_count": 17,
     "metadata": {},
     "output_type": "execute_result"
    }
   ],
   "source": [
    "reload(tools)\n",
    "np_array, variance = tools.PCA_sf(train_data[tools.features_type(float(), train_data)])\n",
    "len(variance)"
   ]
  },
  {
   "cell_type": "code",
   "execution_count": 22,
   "metadata": {
    "ExecuteTime": {
     "end_time": "2016-03-12T17:42:26.769386",
     "start_time": "2016-03-12T17:42:26.748490"
    },
    "collapsed": false
   },
   "outputs": [],
   "source": [
    "df=pd.DataFrame(np_array)\n",
    "df['TARGET']=train_data['TARGET']"
   ]
  },
  {
   "cell_type": "code",
   "execution_count": 23,
   "metadata": {
    "ExecuteTime": {
     "end_time": "2016-03-12T17:42:43.317303",
     "start_time": "2016-03-12T17:42:28.758994"
    },
    "collapsed": false
   },
   "outputs": [
    {
     "name": "stderr",
     "output_type": "stream",
     "text": [
      "/home/ec2-user/anaconda2/envs/dato-env/lib/python2.7/site-packages/matplotlib/__init__.py:892: UserWarning: axes.color_cycle is deprecated and replaced with axes.prop_cycle; please use the latter.\n",
      "  warnings.warn(self.msg_depr % (key, alt_key))\n"
     ]
    },
    {
     "data": {
      "text/plain": [
       "<seaborn.axisgrid.PairGrid at 0x7ff3946f1c50>"
      ]
     },
     "execution_count": 23,
     "metadata": {},
     "output_type": "execute_result"
    },
    {
     "data": {
      "image/png": "[encoded data removed]",
      "text/plain": [
       "<matplotlib.figure.Figure at 0x7ff39424d890>"
      ]
     },
     "metadata": {},
     "output_type": "display_data"
    }
   ],
   "source": [
    "sns.pairplot(df, hue=\"TARGET\", vars=range(0,4))"
   ]
  },
  {
   "cell_type": "code",
   "execution_count": null,
   "metadata": {
    "ExecuteTime": {
     "end_time": "2016-03-12T17:52:44.991858",
     "start_time": "2016-03-12T06:52:17.378Z"
    },
    "collapsed": true
   },
   "outputs": [],
   "source": [
    "df[0:3]"
   ]
  },
  {
   "cell_type": "code",
   "execution_count": 38,
   "metadata": {
    "ExecuteTime": {
     "end_time": "2016-03-12T17:54:42.293547",
     "start_time": "2016-03-12T17:53:38.646218"
    },
    "collapsed": false
   },
   "outputs": [
    {
     "name": "stdout",
     "output_type": "stream",
     "text": [
      "ERROR! Session/line number was not unique in database. History logging moved to new session 504\n"
     ]
    },
    {
     "ename": "KeyboardInterrupt",
     "evalue": "",
     "output_type": "error",
     "traceback": [
      "\u001b[1;31m---------------------------------------------------------------------------\u001b[0m",
      "\u001b[1;31mKeyboardInterrupt\u001b[0m                         Traceback (most recent call last)",
      "\u001b[1;32m<ipython-input-38-96c4c9e23352>\u001b[0m in \u001b[0;36m<module>\u001b[1;34m()\u001b[0m\n\u001b[0;32m      1\u001b[0m \u001b[0mg\u001b[0m \u001b[1;33m=\u001b[0m \u001b[0msns\u001b[0m\u001b[1;33m.\u001b[0m\u001b[0mPairGrid\u001b[0m\u001b[1;33m(\u001b[0m\u001b[0mdf\u001b[0m\u001b[1;33m,\u001b[0m\u001b[0mhue\u001b[0m\u001b[1;33m=\u001b[0m\u001b[1;34m\"TARGET\"\u001b[0m\u001b[1;33m,\u001b[0m\u001b[0mvars\u001b[0m\u001b[1;33m=\u001b[0m\u001b[0mrange\u001b[0m\u001b[1;33m(\u001b[0m\u001b[1;36m0\u001b[0m\u001b[1;33m,\u001b[0m\u001b[1;36m4\u001b[0m\u001b[1;33m)\u001b[0m\u001b[1;33m)\u001b[0m\u001b[1;33m\u001b[0m\u001b[0m\n\u001b[0;32m      2\u001b[0m \u001b[0mg\u001b[0m\u001b[1;33m.\u001b[0m\u001b[0mmap_diag\u001b[0m\u001b[1;33m(\u001b[0m\u001b[0msns\u001b[0m\u001b[1;33m.\u001b[0m\u001b[0mkdeplot\u001b[0m\u001b[1;33m)\u001b[0m\u001b[1;33m\u001b[0m\u001b[0m\n\u001b[1;32m----> 3\u001b[1;33m \u001b[0mg\u001b[0m\u001b[1;33m.\u001b[0m\u001b[0mmap_offdiag\u001b[0m\u001b[1;33m(\u001b[0m\u001b[0msns\u001b[0m\u001b[1;33m.\u001b[0m\u001b[0mkdeplot\u001b[0m\u001b[1;33m,\u001b[0m \u001b[0mn_levels\u001b[0m\u001b[1;33m=\u001b[0m\u001b[1;36m6\u001b[0m\u001b[1;33m)\u001b[0m\u001b[1;33m;\u001b[0m\u001b[1;33m\u001b[0m\u001b[0m\n\u001b[0m",
      "\u001b[1;32m/home/ec2-user/anaconda2/envs/dato-env/lib/python2.7/site-packages/seaborn/axisgrid.pyc\u001b[0m in \u001b[0;36mmap_offdiag\u001b[1;34m(self, func, **kwargs)\u001b[0m\n\u001b[0;32m   1444\u001b[0m         \"\"\"\n\u001b[0;32m   1445\u001b[0m \u001b[1;33m\u001b[0m\u001b[0m\n\u001b[1;32m-> 1446\u001b[1;33m         \u001b[0mself\u001b[0m\u001b[1;33m.\u001b[0m\u001b[0mmap_lower\u001b[0m\u001b[1;33m(\u001b[0m\u001b[0mfunc\u001b[0m\u001b[1;33m,\u001b[0m \u001b[1;33m**\u001b[0m\u001b[0mkwargs\u001b[0m\u001b[1;33m)\u001b[0m\u001b[1;33m\u001b[0m\u001b[0m\n\u001b[0m\u001b[0;32m   1447\u001b[0m         \u001b[0mself\u001b[0m\u001b[1;33m.\u001b[0m\u001b[0mmap_upper\u001b[0m\u001b[1;33m(\u001b[0m\u001b[0mfunc\u001b[0m\u001b[1;33m,\u001b[0m \u001b[1;33m**\u001b[0m\u001b[0mkwargs\u001b[0m\u001b[1;33m)\u001b[0m\u001b[1;33m\u001b[0m\u001b[0m\n\u001b[0;32m   1448\u001b[0m         \u001b[1;32mreturn\u001b[0m \u001b[0mself\u001b[0m\u001b[1;33m\u001b[0m\u001b[0m\n",
      "\u001b[1;32m/home/ec2-user/anaconda2/envs/dato-env/lib/python2.7/site-packages/seaborn/axisgrid.pyc\u001b[0m in \u001b[0;36mmap_lower\u001b[1;34m(self, func, **kwargs)\u001b[0m\n\u001b[0;32m   1376\u001b[0m                 \u001b[0mcolor\u001b[0m \u001b[1;33m=\u001b[0m \u001b[0mself\u001b[0m\u001b[1;33m.\u001b[0m\u001b[0mpalette\u001b[0m\u001b[1;33m[\u001b[0m\u001b[0mk\u001b[0m\u001b[1;33m]\u001b[0m \u001b[1;32mif\u001b[0m \u001b[0mkw_color\u001b[0m \u001b[1;32mis\u001b[0m \u001b[0mNone\u001b[0m \u001b[1;32melse\u001b[0m \u001b[0mkw_color\u001b[0m\u001b[1;33m\u001b[0m\u001b[0m\n\u001b[0;32m   1377\u001b[0m                 func(data_k[x_var], data_k[y_var], label=label_k,\n\u001b[1;32m-> 1378\u001b[1;33m                      color=color, **kwargs)\n\u001b[0m\u001b[0;32m   1379\u001b[0m \u001b[1;33m\u001b[0m\u001b[0m\n\u001b[0;32m   1380\u001b[0m             \u001b[0mself\u001b[0m\u001b[1;33m.\u001b[0m\u001b[0m_clean_axis\u001b[0m\u001b[1;33m(\u001b[0m\u001b[0max\u001b[0m\u001b[1;33m)\u001b[0m\u001b[1;33m\u001b[0m\u001b[0m\n",
      "\u001b[1;32m/home/ec2-user/anaconda2/envs/dato-env/lib/python2.7/site-packages/seaborn/distributions.pyc\u001b[0m in \u001b[0;36mkdeplot\u001b[1;34m(data, data2, shade, vertical, kernel, bw, gridsize, cut, clip, legend, cumulative, shade_lowest, ax, **kwargs)\u001b[0m\n\u001b[0;32m    595\u001b[0m         ax = _bivariate_kdeplot(x, y, shade, shade_lowest,\n\u001b[0;32m    596\u001b[0m                                 \u001b[0mkernel\u001b[0m\u001b[1;33m,\u001b[0m \u001b[0mbw\u001b[0m\u001b[1;33m,\u001b[0m \u001b[0mgridsize\u001b[0m\u001b[1;33m,\u001b[0m \u001b[0mcut\u001b[0m\u001b[1;33m,\u001b[0m \u001b[0mclip\u001b[0m\u001b[1;33m,\u001b[0m \u001b[0mlegend\u001b[0m\u001b[1;33m,\u001b[0m\u001b[1;33m\u001b[0m\u001b[0m\n\u001b[1;32m--> 597\u001b[1;33m                                 ax, **kwargs)\n\u001b[0m\u001b[0;32m    598\u001b[0m     \u001b[1;32melse\u001b[0m\u001b[1;33m:\u001b[0m\u001b[1;33m\u001b[0m\u001b[0m\n\u001b[0;32m    599\u001b[0m         ax = _univariate_kdeplot(data, shade, vertical, kernel, bw,\n",
      "\u001b[1;32m/home/ec2-user/anaconda2/envs/dato-env/lib/python2.7/site-packages/seaborn/distributions.pyc\u001b[0m in \u001b[0;36m_bivariate_kdeplot\u001b[1;34m(x, y, filled, fill_lowest, kernel, bw, gridsize, cut, clip, axlabel, ax, **kwargs)\u001b[0m\n\u001b[0;32m    361\u001b[0m     \u001b[1;31m# Calculate the KDE\u001b[0m\u001b[1;33m\u001b[0m\u001b[1;33m\u001b[0m\u001b[0m\n\u001b[0;32m    362\u001b[0m     \u001b[1;32mif\u001b[0m \u001b[0m_has_statsmodels\u001b[0m\u001b[1;33m:\u001b[0m\u001b[1;33m\u001b[0m\u001b[0m\n\u001b[1;32m--> 363\u001b[1;33m         \u001b[0mxx\u001b[0m\u001b[1;33m,\u001b[0m \u001b[0myy\u001b[0m\u001b[1;33m,\u001b[0m \u001b[0mz\u001b[0m \u001b[1;33m=\u001b[0m \u001b[0m_statsmodels_bivariate_kde\u001b[0m\u001b[1;33m(\u001b[0m\u001b[0mx\u001b[0m\u001b[1;33m,\u001b[0m \u001b[0my\u001b[0m\u001b[1;33m,\u001b[0m \u001b[0mbw\u001b[0m\u001b[1;33m,\u001b[0m \u001b[0mgridsize\u001b[0m\u001b[1;33m,\u001b[0m \u001b[0mcut\u001b[0m\u001b[1;33m,\u001b[0m \u001b[0mclip\u001b[0m\u001b[1;33m)\u001b[0m\u001b[1;33m\u001b[0m\u001b[0m\n\u001b[0m\u001b[0;32m    364\u001b[0m     \u001b[1;32melse\u001b[0m\u001b[1;33m:\u001b[0m\u001b[1;33m\u001b[0m\u001b[0m\n\u001b[0;32m    365\u001b[0m         \u001b[0mxx\u001b[0m\u001b[1;33m,\u001b[0m \u001b[0myy\u001b[0m\u001b[1;33m,\u001b[0m \u001b[0mz\u001b[0m \u001b[1;33m=\u001b[0m \u001b[0m_scipy_bivariate_kde\u001b[0m\u001b[1;33m(\u001b[0m\u001b[0mx\u001b[0m\u001b[1;33m,\u001b[0m \u001b[0my\u001b[0m\u001b[1;33m,\u001b[0m \u001b[0mbw\u001b[0m\u001b[1;33m,\u001b[0m \u001b[0mgridsize\u001b[0m\u001b[1;33m,\u001b[0m \u001b[0mcut\u001b[0m\u001b[1;33m,\u001b[0m \u001b[0mclip\u001b[0m\u001b[1;33m)\u001b[0m\u001b[1;33m\u001b[0m\u001b[0m\n",
      "\u001b[1;32m/home/ec2-user/anaconda2/envs/dato-env/lib/python2.7/site-packages/seaborn/distributions.pyc\u001b[0m in \u001b[0;36m_statsmodels_bivariate_kde\u001b[1;34m(x, y, bw, gridsize, cut, clip)\u001b[0m\n\u001b[0;32m    411\u001b[0m     \u001b[0my_support\u001b[0m \u001b[1;33m=\u001b[0m \u001b[0m_kde_support\u001b[0m\u001b[1;33m(\u001b[0m\u001b[0my\u001b[0m\u001b[1;33m,\u001b[0m \u001b[0mkde\u001b[0m\u001b[1;33m.\u001b[0m\u001b[0mbw\u001b[0m\u001b[1;33m[\u001b[0m\u001b[1;36m1\u001b[0m\u001b[1;33m]\u001b[0m\u001b[1;33m,\u001b[0m \u001b[0mgridsize\u001b[0m\u001b[1;33m,\u001b[0m \u001b[0mcut\u001b[0m\u001b[1;33m,\u001b[0m \u001b[0mclip\u001b[0m\u001b[1;33m[\u001b[0m\u001b[1;36m1\u001b[0m\u001b[1;33m]\u001b[0m\u001b[1;33m)\u001b[0m\u001b[1;33m\u001b[0m\u001b[0m\n\u001b[0;32m    412\u001b[0m     \u001b[0mxx\u001b[0m\u001b[1;33m,\u001b[0m \u001b[0myy\u001b[0m \u001b[1;33m=\u001b[0m \u001b[0mnp\u001b[0m\u001b[1;33m.\u001b[0m\u001b[0mmeshgrid\u001b[0m\u001b[1;33m(\u001b[0m\u001b[0mx_support\u001b[0m\u001b[1;33m,\u001b[0m \u001b[0my_support\u001b[0m\u001b[1;33m)\u001b[0m\u001b[1;33m\u001b[0m\u001b[0m\n\u001b[1;32m--> 413\u001b[1;33m     \u001b[0mz\u001b[0m \u001b[1;33m=\u001b[0m \u001b[0mkde\u001b[0m\u001b[1;33m.\u001b[0m\u001b[0mpdf\u001b[0m\u001b[1;33m(\u001b[0m\u001b[1;33m[\u001b[0m\u001b[0mxx\u001b[0m\u001b[1;33m.\u001b[0m\u001b[0mravel\u001b[0m\u001b[1;33m(\u001b[0m\u001b[1;33m)\u001b[0m\u001b[1;33m,\u001b[0m \u001b[0myy\u001b[0m\u001b[1;33m.\u001b[0m\u001b[0mravel\u001b[0m\u001b[1;33m(\u001b[0m\u001b[1;33m)\u001b[0m\u001b[1;33m]\u001b[0m\u001b[1;33m)\u001b[0m\u001b[1;33m.\u001b[0m\u001b[0mreshape\u001b[0m\u001b[1;33m(\u001b[0m\u001b[0mxx\u001b[0m\u001b[1;33m.\u001b[0m\u001b[0mshape\u001b[0m\u001b[1;33m)\u001b[0m\u001b[1;33m\u001b[0m\u001b[0m\n\u001b[0m\u001b[0;32m    414\u001b[0m     \u001b[1;32mreturn\u001b[0m \u001b[0mxx\u001b[0m\u001b[1;33m,\u001b[0m \u001b[0myy\u001b[0m\u001b[1;33m,\u001b[0m \u001b[0mz\u001b[0m\u001b[1;33m\u001b[0m\u001b[0m\n\u001b[0;32m    415\u001b[0m \u001b[1;33m\u001b[0m\u001b[0m\n",
      "\u001b[1;32m/home/ec2-user/anaconda2/envs/dato-env/lib/python2.7/site-packages/statsmodels/nonparametric/kernel_density.pyc\u001b[0m in \u001b[0;36mpdf\u001b[1;34m(self, data_predict)\u001b[0m\n\u001b[0;32m    194\u001b[0m             pdf_est.append(gpke(self.bw, data=self.data,\n\u001b[0;32m    195\u001b[0m                                 \u001b[0mdata_predict\u001b[0m\u001b[1;33m=\u001b[0m\u001b[0mdata_predict\u001b[0m\u001b[1;33m[\u001b[0m\u001b[0mi\u001b[0m\u001b[1;33m,\u001b[0m \u001b[1;33m:\u001b[0m\u001b[1;33m]\u001b[0m\u001b[1;33m,\u001b[0m\u001b[1;33m\u001b[0m\u001b[0m\n\u001b[1;32m--> 196\u001b[1;33m                                 var_type=self.var_type) / self.nobs)\n\u001b[0m\u001b[0;32m    197\u001b[0m \u001b[1;33m\u001b[0m\u001b[0m\n\u001b[0;32m    198\u001b[0m         \u001b[0mpdf_est\u001b[0m \u001b[1;33m=\u001b[0m \u001b[0mnp\u001b[0m\u001b[1;33m.\u001b[0m\u001b[0msqueeze\u001b[0m\u001b[1;33m(\u001b[0m\u001b[0mpdf_est\u001b[0m\u001b[1;33m)\u001b[0m\u001b[1;33m\u001b[0m\u001b[0m\n",
      "\u001b[1;32m/home/ec2-user/anaconda2/envs/dato-env/lib/python2.7/site-packages/statsmodels/nonparametric/_kernel_base.pyc\u001b[0m in \u001b[0;36mgpke\u001b[1;34m(bw, data, data_predict, var_type, ckertype, okertype, ukertype, tosum)\u001b[0m\n\u001b[0;32m    509\u001b[0m     \u001b[1;32mfor\u001b[0m \u001b[0mii\u001b[0m\u001b[1;33m,\u001b[0m \u001b[0mvtype\u001b[0m \u001b[1;32min\u001b[0m \u001b[0menumerate\u001b[0m\u001b[1;33m(\u001b[0m\u001b[0mvar_type\u001b[0m\u001b[1;33m)\u001b[0m\u001b[1;33m:\u001b[0m\u001b[1;33m\u001b[0m\u001b[0m\n\u001b[0;32m    510\u001b[0m         \u001b[0mfunc\u001b[0m \u001b[1;33m=\u001b[0m \u001b[0mkernel_func\u001b[0m\u001b[1;33m[\u001b[0m\u001b[0mkertypes\u001b[0m\u001b[1;33m[\u001b[0m\u001b[0mvtype\u001b[0m\u001b[1;33m]\u001b[0m\u001b[1;33m]\u001b[0m\u001b[1;33m\u001b[0m\u001b[0m\n\u001b[1;32m--> 511\u001b[1;33m         \u001b[0mKval\u001b[0m\u001b[1;33m[\u001b[0m\u001b[1;33m:\u001b[0m\u001b[1;33m,\u001b[0m \u001b[0mii\u001b[0m\u001b[1;33m]\u001b[0m \u001b[1;33m=\u001b[0m \u001b[0mfunc\u001b[0m\u001b[1;33m(\u001b[0m\u001b[0mbw\u001b[0m\u001b[1;33m[\u001b[0m\u001b[0mii\u001b[0m\u001b[1;33m]\u001b[0m\u001b[1;33m,\u001b[0m \u001b[0mdata\u001b[0m\u001b[1;33m[\u001b[0m\u001b[1;33m:\u001b[0m\u001b[1;33m,\u001b[0m \u001b[0mii\u001b[0m\u001b[1;33m]\u001b[0m\u001b[1;33m,\u001b[0m \u001b[0mdata_predict\u001b[0m\u001b[1;33m[\u001b[0m\u001b[0mii\u001b[0m\u001b[1;33m]\u001b[0m\u001b[1;33m)\u001b[0m\u001b[1;33m\u001b[0m\u001b[0m\n\u001b[0m\u001b[0;32m    512\u001b[0m \u001b[1;33m\u001b[0m\u001b[0m\n\u001b[0;32m    513\u001b[0m     \u001b[0miscontinuous\u001b[0m \u001b[1;33m=\u001b[0m \u001b[0mnp\u001b[0m\u001b[1;33m.\u001b[0m\u001b[0marray\u001b[0m\u001b[1;33m(\u001b[0m\u001b[1;33m[\u001b[0m\u001b[0mc\u001b[0m \u001b[1;33m==\u001b[0m \u001b[1;34m'c'\u001b[0m \u001b[1;32mfor\u001b[0m \u001b[0mc\u001b[0m \u001b[1;32min\u001b[0m \u001b[0mvar_type\u001b[0m\u001b[1;33m]\u001b[0m\u001b[1;33m)\u001b[0m\u001b[1;33m\u001b[0m\u001b[0m\n",
      "\u001b[1;31mKeyboardInterrupt\u001b[0m: "
     ]
    },
    {
     "data": {
      "image/png": "[encoded data removed]",
      "text/plain": [
       "<matplotlib.figure.Figure at 0x7ff38fa1ad10>"
      ]
     },
     "metadata": {},
     "output_type": "display_data"
    }
   ],
   "source": [
    "g = sns.PairGrid(df,hue=\"TARGET\",vars=range(0,4))\n",
    "g.map_diag(sns.kdeplot)\n",
    "g.map_offdiag(sns.kdeplot, n_levels=6);"
   ]
  },
  {
   "cell_type": "markdown",
   "metadata": {},
   "source": [
    "### Modeling\n",
    "For \n",
    "- GBT AUC slighlty reduced to 0.8305\n",
    "- Logistic classifer 'auc': 0.79"
   ]
  },
  {
   "cell_type": "code",
   "execution_count": 97,
   "metadata": {
    "ExecuteTime": {
     "end_time": "2016-03-12T00:36:57.316609",
     "start_time": "2016-03-12T00:36:57.041002"
    },
    "collapsed": false
   },
   "outputs": [],
   "source": [
    "tf_train_data = gl.SFrame(data=pd.DataFrame(np))\n",
    "tf_train_data[\"TARGET\"] = train_data[\"TARGET\"]"
   ]
  },
  {
   "cell_type": "code",
   "execution_count": 98,
   "metadata": {
    "ExecuteTime": {
     "end_time": "2016-03-12T00:37:35.655808",
     "start_time": "2016-03-12T00:37:35.645298"
    },
    "collapsed": true
   },
   "outputs": [],
   "source": [
    "train, validate = tf_train_data.random_split(0.8, seed=8273)"
   ]
  },
  {
   "cell_type": "code",
   "execution_count": 99,
   "metadata": {
    "ExecuteTime": {
     "end_time": "2016-03-12T00:38:05.723461",
     "start_time": "2016-03-12T00:38:00.251695"
    },
    "collapsed": true
   },
   "outputs": [
    {
     "data": {
      "text/html": [
       "<pre>Boosted trees classifier:</pre>"
      ],
      "text/plain": [
       "Boosted trees classifier:"
      ]
     },
     "metadata": {},
     "output_type": "display_data"
    },
    {
     "data": {
      "text/html": [
       "<pre>--------------------------------------------------------</pre>"
      ],
      "text/plain": [
       "--------------------------------------------------------"
      ]
     },
     "metadata": {},
     "output_type": "display_data"
    },
    {
     "data": {
      "text/html": [
       "<pre>Number of examples          : 60568</pre>"
      ],
      "text/plain": [
       "Number of examples          : 60568"
      ]
     },
     "metadata": {},
     "output_type": "display_data"
    },
    {
     "data": {
      "text/html": [
       "<pre>Number of classes           : 2</pre>"
      ],
      "text/plain": [
       "Number of classes           : 2"
      ]
     },
     "metadata": {},
     "output_type": "display_data"
    },
    {
     "data": {
      "text/html": [
       "<pre>Number of feature columns   : 43</pre>"
      ],
      "text/plain": [
       "Number of feature columns   : 43"
      ]
     },
     "metadata": {},
     "output_type": "display_data"
    },
    {
     "data": {
      "text/html": [
       "<pre>Number of unpacked features : 43</pre>"
      ],
      "text/plain": [
       "Number of unpacked features : 43"
      ]
     },
     "metadata": {},
     "output_type": "display_data"
    },
    {
     "data": {
      "text/html": [
       "<pre>+-----------+--------------+--------------+----------------+</pre>"
      ],
      "text/plain": [
       "+-----------+--------------+--------------+----------------+"
      ]
     },
     "metadata": {},
     "output_type": "display_data"
    },
    {
     "data": {
      "text/html": [
       "<pre>| Iteration | Elapsed Time | Training-auc | Validation-auc |</pre>"
      ],
      "text/plain": [
       "| Iteration | Elapsed Time | Training-auc | Validation-auc |"
      ]
     },
     "metadata": {},
     "output_type": "display_data"
    },
    {
     "data": {
      "text/html": [
       "<pre>+-----------+--------------+--------------+----------------+</pre>"
      ],
      "text/plain": [
       "+-----------+--------------+--------------+----------------+"
      ]
     },
     "metadata": {},
     "output_type": "display_data"
    },
    {
     "data": {
      "text/html": [
       "<pre>| 1         | 0.163370     | 0.559832     | 0.542786       |</pre>"
      ],
      "text/plain": [
       "| 1         | 0.163370     | 0.559832     | 0.542786       |"
      ]
     },
     "metadata": {},
     "output_type": "display_data"
    },
    {
     "data": {
      "text/html": [
       "<pre>| 2         | 0.289641     | 0.565165     | 0.548414       |</pre>"
      ],
      "text/plain": [
       "| 2         | 0.289641     | 0.565165     | 0.548414       |"
      ]
     },
     "metadata": {},
     "output_type": "display_data"
    },
    {
     "data": {
      "text/html": [
       "<pre>| 3         | 0.420943     | 0.568061     | 0.549700       |</pre>"
      ],
      "text/plain": [
       "| 3         | 0.420943     | 0.568061     | 0.549700       |"
      ]
     },
     "metadata": {},
     "output_type": "display_data"
    },
    {
     "data": {
      "text/html": [
       "<pre>| 4         | 0.547733     | 0.570385     | 0.550027       |</pre>"
      ],
      "text/plain": [
       "| 4         | 0.547733     | 0.570385     | 0.550027       |"
      ]
     },
     "metadata": {},
     "output_type": "display_data"
    },
    {
     "data": {
      "text/html": [
       "<pre>| 5         | 0.672248     | 0.578567     | 0.554003       |</pre>"
      ],
      "text/plain": [
       "| 5         | 0.672248     | 0.578567     | 0.554003       |"
      ]
     },
     "metadata": {},
     "output_type": "display_data"
    },
    {
     "data": {
      "text/html": [
       "<pre>| 6         | 0.795610     | 0.578720     | 0.556062       |</pre>"
      ],
      "text/plain": [
       "| 6         | 0.795610     | 0.578720     | 0.556062       |"
      ]
     },
     "metadata": {},
     "output_type": "display_data"
    },
    {
     "data": {
      "text/html": [
       "<pre>| 10        | 1.285778     | 0.590282     | 0.560761       |</pre>"
      ],
      "text/plain": [
       "| 10        | 1.285778     | 0.590282     | 0.560761       |"
      ]
     },
     "metadata": {},
     "output_type": "display_data"
    },
    {
     "data": {
      "text/html": [
       "<pre>| 11        | 1.405625     | 0.592942     | 0.558861       |</pre>"
      ],
      "text/plain": [
       "| 11        | 1.405625     | 0.592942     | 0.558861       |"
      ]
     },
     "metadata": {},
     "output_type": "display_data"
    },
    {
     "data": {
      "text/html": [
       "<pre>| 20        | 2.499544     | 0.606602     | 0.555676       |</pre>"
      ],
      "text/plain": [
       "| 20        | 2.499544     | 0.606602     | 0.555676       |"
      ]
     },
     "metadata": {},
     "output_type": "display_data"
    },
    {
     "data": {
      "text/html": [
       "<pre>| 30        | 3.745121     | 0.620406     | 0.556344       |</pre>"
      ],
      "text/plain": [
       "| 30        | 3.745121     | 0.620406     | 0.556344       |"
      ]
     },
     "metadata": {},
     "output_type": "display_data"
    },
    {
     "data": {
      "text/html": [
       "<pre>+-----------+--------------+--------------+----------------+</pre>"
      ],
      "text/plain": [
       "+-----------+--------------+--------------+----------------+"
      ]
     },
     "metadata": {},
     "output_type": "display_data"
    },
    {
     "data": {
      "text/html": [
       "<pre>Early stop triggered. Returning the best model at iteration: 10</pre>"
      ],
      "text/plain": [
       "Early stop triggered. Returning the best model at iteration: 10"
      ]
     },
     "metadata": {},
     "output_type": "display_data"
    }
   ],
   "source": [
    "params = {'target':'TARGET', 'validation_set':validate,'verbose':True, 'random_seed':8923,\n",
    "          'class_weights':'auto','metric':'auc',\n",
    "          'early_stopping_rounds':20, 'max_iterations':300}\n",
    "#d=4; r=1; c=0.6; s=0.1;\n",
    "model = gl.boosted_trees_classifier.create(train, \n",
    "#                    max_depth=d, row_subsample=r, column_subsample=c, step_size=s, \n",
    "                                           **params)"
   ]
  },
  {
   "cell_type": "code",
   "execution_count": 102,
   "metadata": {
    "ExecuteTime": {
     "end_time": "2016-03-12T00:41:52.377391",
     "start_time": "2016-03-12T00:41:52.111957"
    },
    "collapsed": true
   },
   "outputs": [],
   "source": [
    "tf_train_data = gl.SFrame(data=pd.DataFrame(np))\n",
    "cols = tools.features_type(int(), train_data) | tools.features_type(str(), train_data)\n",
    "tf_train_data.add_columns(train_data[cols])\n",
    "train, validate = tf_train_data.random_split(0.8, seed=8273)"
   ]
  },
  {
   "cell_type": "code",
   "execution_count": 109,
   "metadata": {
    "ExecuteTime": {
     "end_time": "2016-03-12T00:45:21.862753",
     "start_time": "2016-03-12T00:44:48.505944"
    },
    "collapsed": true
   },
   "outputs": [
    {
     "data": {
      "text/html": [
       "<pre>WARNING: Detected extremely low variance for feature(s) 'var33 transfer amount out ultima1', 'var33 number transfer out ultima1', 'var33 delta transfer amount out 1Y3' because all entries are nearly the same.\n",
       "Proceeding with model training using all features. If the model does not provide results of adequate quality, exclude the above mentioned feature(s) from the input dataset.</pre>"
      ],
      "text/plain": [
       "WARNING: Detected extremely low variance for feature(s) 'var33 transfer amount out ultima1', 'var33 number transfer out ultima1', 'var33 delta transfer amount out 1Y3' because all entries are nearly the same.\n",
       "Proceeding with model training using all features. If the model does not provide results of adequate quality, exclude the above mentioned feature(s) from the input dataset."
      ]
     },
     "metadata": {},
     "output_type": "display_data"
    },
    {
     "data": {
      "text/html": [
       "<pre>Boosted trees classifier:</pre>"
      ],
      "text/plain": [
       "Boosted trees classifier:"
      ]
     },
     "metadata": {},
     "output_type": "display_data"
    },
    {
     "data": {
      "text/html": [
       "<pre>--------------------------------------------------------</pre>"
      ],
      "text/plain": [
       "--------------------------------------------------------"
      ]
     },
     "metadata": {},
     "output_type": "display_data"
    },
    {
     "data": {
      "text/html": [
       "<pre>Number of examples          : 60568</pre>"
      ],
      "text/plain": [
       "Number of examples          : 60568"
      ]
     },
     "metadata": {},
     "output_type": "display_data"
    },
    {
     "data": {
      "text/html": [
       "<pre>Number of classes           : 2</pre>"
      ],
      "text/plain": [
       "Number of classes           : 2"
      ]
     },
     "metadata": {},
     "output_type": "display_data"
    },
    {
     "data": {
      "text/html": [
       "<pre>Number of feature columns   : 306</pre>"
      ],
      "text/plain": [
       "Number of feature columns   : 306"
      ]
     },
     "metadata": {},
     "output_type": "display_data"
    },
    {
     "data": {
      "text/html": [
       "<pre>Number of unpacked features : 306</pre>"
      ],
      "text/plain": [
       "Number of unpacked features : 306"
      ]
     },
     "metadata": {},
     "output_type": "display_data"
    },
    {
     "data": {
      "text/html": [
       "<pre>+-----------+--------------+--------------+----------------+</pre>"
      ],
      "text/plain": [
       "+-----------+--------------+--------------+----------------+"
      ]
     },
     "metadata": {},
     "output_type": "display_data"
    },
    {
     "data": {
      "text/html": [
       "<pre>| Iteration | Elapsed Time | Training-auc | Validation-auc |</pre>"
      ],
      "text/plain": [
       "| Iteration | Elapsed Time | Training-auc | Validation-auc |"
      ]
     },
     "metadata": {},
     "output_type": "display_data"
    },
    {
     "data": {
      "text/html": [
       "<pre>+-----------+--------------+--------------+----------------+</pre>"
      ],
      "text/plain": [
       "+-----------+--------------+--------------+----------------+"
      ]
     },
     "metadata": {},
     "output_type": "display_data"
    },
    {
     "data": {
      "text/html": [
       "<pre>| 1         | 0.319230     | 0.797627     | 0.795356       |</pre>"
      ],
      "text/plain": [
       "| 1         | 0.319230     | 0.797627     | 0.795356       |"
      ]
     },
     "metadata": {},
     "output_type": "display_data"
    },
    {
     "data": {
      "text/html": [
       "<pre>| 2         | 0.580175     | 0.799069     | 0.791257       |</pre>"
      ],
      "text/plain": [
       "| 2         | 0.580175     | 0.799069     | 0.791257       |"
      ]
     },
     "metadata": {},
     "output_type": "display_data"
    },
    {
     "data": {
      "text/html": [
       "<pre>| 3         | 0.832600     | 0.813973     | 0.811350       |</pre>"
      ],
      "text/plain": [
       "| 3         | 0.832600     | 0.813973     | 0.811350       |"
      ]
     },
     "metadata": {},
     "output_type": "display_data"
    },
    {
     "data": {
      "text/html": [
       "<pre>| 4         | 1.086461     | 0.808702     | 0.806060       |</pre>"
      ],
      "text/plain": [
       "| 4         | 1.086461     | 0.808702     | 0.806060       |"
      ]
     },
     "metadata": {},
     "output_type": "display_data"
    },
    {
     "data": {
      "text/html": [
       "<pre>| 5         | 1.351753     | 0.813319     | 0.809736       |</pre>"
      ],
      "text/plain": [
       "| 5         | 1.351753     | 0.813319     | 0.809736       |"
      ]
     },
     "metadata": {},
     "output_type": "display_data"
    },
    {
     "data": {
      "text/html": [
       "<pre>| 6         | 1.602675     | 0.816180     | 0.812598       |</pre>"
      ],
      "text/plain": [
       "| 6         | 1.602675     | 0.816180     | 0.812598       |"
      ]
     },
     "metadata": {},
     "output_type": "display_data"
    },
    {
     "data": {
      "text/html": [
       "<pre>| 10        | 2.610437     | 0.820622     | 0.816861       |</pre>"
      ],
      "text/plain": [
       "| 10        | 2.610437     | 0.820622     | 0.816861       |"
      ]
     },
     "metadata": {},
     "output_type": "display_data"
    },
    {
     "data": {
      "text/html": [
       "<pre>| 11        | 2.864209     | 0.821714     | 0.817754       |</pre>"
      ],
      "text/plain": [
       "| 11        | 2.864209     | 0.821714     | 0.817754       |"
      ]
     },
     "metadata": {},
     "output_type": "display_data"
    },
    {
     "data": {
      "text/html": [
       "<pre>| 15        | 3.889818     | 0.825261     | 0.820294       |</pre>"
      ],
      "text/plain": [
       "| 15        | 3.889818     | 0.825261     | 0.820294       |"
      ]
     },
     "metadata": {},
     "output_type": "display_data"
    },
    {
     "data": {
      "text/html": [
       "<pre>| 20        | 5.160241     | 0.828728     | 0.822572       |</pre>"
      ],
      "text/plain": [
       "| 20        | 5.160241     | 0.828728     | 0.822572       |"
      ]
     },
     "metadata": {},
     "output_type": "display_data"
    },
    {
     "data": {
      "text/html": [
       "<pre>| 25        | 6.445507     | 0.832235     | 0.826048       |</pre>"
      ],
      "text/plain": [
       "| 25        | 6.445507     | 0.832235     | 0.826048       |"
      ]
     },
     "metadata": {},
     "output_type": "display_data"
    },
    {
     "data": {
      "text/html": [
       "<pre>| 30        | 7.724334     | 0.834751     | 0.826816       |</pre>"
      ],
      "text/plain": [
       "| 30        | 7.724334     | 0.834751     | 0.826816       |"
      ]
     },
     "metadata": {},
     "output_type": "display_data"
    },
    {
     "data": {
      "text/html": [
       "<pre>| 35        | 8.985066     | 0.837184     | 0.828331       |</pre>"
      ],
      "text/plain": [
       "| 35        | 8.985066     | 0.837184     | 0.828331       |"
      ]
     },
     "metadata": {},
     "output_type": "display_data"
    },
    {
     "data": {
      "text/html": [
       "<pre>| 40        | 10.237130    | 0.839575     | 0.828947       |</pre>"
      ],
      "text/plain": [
       "| 40        | 10.237130    | 0.839575     | 0.828947       |"
      ]
     },
     "metadata": {},
     "output_type": "display_data"
    },
    {
     "data": {
      "text/html": [
       "<pre>| 45        | 11.529001    | 0.841793     | 0.829707       |</pre>"
      ],
      "text/plain": [
       "| 45        | 11.529001    | 0.841793     | 0.829707       |"
      ]
     },
     "metadata": {},
     "output_type": "display_data"
    },
    {
     "data": {
      "text/html": [
       "<pre>| 50        | 12.781832    | 0.843696     | 0.829791       |</pre>"
      ],
      "text/plain": [
       "| 50        | 12.781832    | 0.843696     | 0.829791       |"
      ]
     },
     "metadata": {},
     "output_type": "display_data"
    },
    {
     "data": {
      "text/html": [
       "<pre>| 51        | 13.039565    | 0.843960     | 0.829698       |</pre>"
      ],
      "text/plain": [
       "| 51        | 13.039565    | 0.843960     | 0.829698       |"
      ]
     },
     "metadata": {},
     "output_type": "display_data"
    },
    {
     "data": {
      "text/html": [
       "<pre>| 55        | 14.043899    | 0.845263     | 0.829930       |</pre>"
      ],
      "text/plain": [
       "| 55        | 14.043899    | 0.845263     | 0.829930       |"
      ]
     },
     "metadata": {},
     "output_type": "display_data"
    },
    {
     "data": {
      "text/html": [
       "<pre>| 60        | 15.303194    | 0.846522     | 0.829863       |</pre>"
      ],
      "text/plain": [
       "| 60        | 15.303194    | 0.846522     | 0.829863       |"
      ]
     },
     "metadata": {},
     "output_type": "display_data"
    },
    {
     "data": {
      "text/html": [
       "<pre>| 65        | 16.575642    | 0.847571     | 0.829910       |</pre>"
      ],
      "text/plain": [
       "| 65        | 16.575642    | 0.847571     | 0.829910       |"
      ]
     },
     "metadata": {},
     "output_type": "display_data"
    },
    {
     "data": {
      "text/html": [
       "<pre>| 70        | 17.863582    | 0.848898     | 0.830133       |</pre>"
      ],
      "text/plain": [
       "| 70        | 17.863582    | 0.848898     | 0.830133       |"
      ]
     },
     "metadata": {},
     "output_type": "display_data"
    },
    {
     "data": {
      "text/html": [
       "<pre>| 75        | 19.138148    | 0.850420     | 0.830446       |</pre>"
      ],
      "text/plain": [
       "| 75        | 19.138148    | 0.850420     | 0.830446       |"
      ]
     },
     "metadata": {},
     "output_type": "display_data"
    },
    {
     "data": {
      "text/html": [
       "<pre>| 80        | 20.400531    | 0.851146     | 0.830274       |</pre>"
      ],
      "text/plain": [
       "| 80        | 20.400531    | 0.851146     | 0.830274       |"
      ]
     },
     "metadata": {},
     "output_type": "display_data"
    },
    {
     "data": {
      "text/html": [
       "<pre>| 85        | 21.673374    | 0.852234     | 0.830381       |</pre>"
      ],
      "text/plain": [
       "| 85        | 21.673374    | 0.852234     | 0.830381       |"
      ]
     },
     "metadata": {},
     "output_type": "display_data"
    },
    {
     "data": {
      "text/html": [
       "<pre>| 90        | 22.955303    | 0.853396     | 0.830458       |</pre>"
      ],
      "text/plain": [
       "| 90        | 22.955303    | 0.853396     | 0.830458       |"
      ]
     },
     "metadata": {},
     "output_type": "display_data"
    },
    {
     "data": {
      "text/html": [
       "<pre>| 95        | 24.229448    | 0.854172     | 0.830272       |</pre>"
      ],
      "text/plain": [
       "| 95        | 24.229448    | 0.854172     | 0.830272       |"
      ]
     },
     "metadata": {},
     "output_type": "display_data"
    },
    {
     "data": {
      "text/html": [
       "<pre>| 100       | 25.499908    | 0.855311     | 0.830242       |</pre>"
      ],
      "text/plain": [
       "| 100       | 25.499908    | 0.855311     | 0.830242       |"
      ]
     },
     "metadata": {},
     "output_type": "display_data"
    },
    {
     "data": {
      "text/html": [
       "<pre>| 101       | 25.748575    | 0.855593     | 0.830280       |</pre>"
      ],
      "text/plain": [
       "| 101       | 25.748575    | 0.855593     | 0.830280       |"
      ]
     },
     "metadata": {},
     "output_type": "display_data"
    },
    {
     "data": {
      "text/html": [
       "<pre>| 105       | 26.760043    | 0.856163     | 0.829822       |</pre>"
      ],
      "text/plain": [
       "| 105       | 26.760043    | 0.856163     | 0.829822       |"
      ]
     },
     "metadata": {},
     "output_type": "display_data"
    },
    {
     "data": {
      "text/html": [
       "<pre>+-----------+--------------+--------------+----------------+</pre>"
      ],
      "text/plain": [
       "+-----------+--------------+--------------+----------------+"
      ]
     },
     "metadata": {},
     "output_type": "display_data"
    },
    {
     "data": {
      "text/html": [
       "<pre>Early stop triggered. Returning the best model at iteration: 89</pre>"
      ],
      "text/plain": [
       "Early stop triggered. Returning the best model at iteration: 89"
      ]
     },
     "metadata": {},
     "output_type": "display_data"
    }
   ],
   "source": [
    "params = {'target':'TARGET', 'validation_set':validate,'verbose':True, 'random_seed':8923,\n",
    "          'class_weights':'auto','metric':'auc',\n",
    "          'early_stopping_rounds':20, 'max_iterations':300}\n",
    "d=4; r=1; c=0.6; s=0.1;\n",
    "model = gl.boosted_trees_classifier.create(train, \n",
    "                    max_depth=d, row_subsample=r, column_subsample=c, step_size=s, \n",
    "                                           **params)"
   ]
  },
  {
   "cell_type": "code",
   "execution_count": 110,
   "metadata": {
    "ExecuteTime": {
     "end_time": "2016-03-12T00:45:22.770217",
     "start_time": "2016-03-12T00:45:21.866199"
    },
    "collapsed": false
   },
   "outputs": [
    {
     "data": {
      "image/png": "[encoded data removed]",
      "text/plain": [
       "<matplotlib.figure.Figure at 0x7f3b3e060890>"
      ]
     },
     "metadata": {},
     "output_type": "display_data"
    }
   ],
   "source": [
    "tools.plot_roc(model, validate);"
   ]
  },
  {
   "cell_type": "code",
   "execution_count": 112,
   "metadata": {
    "ExecuteTime": {
     "end_time": "2016-03-12T01:01:01.977447",
     "start_time": "2016-03-12T00:58:15.025601"
    },
    "collapsed": true
   },
   "outputs": [
    {
     "data": {
      "text/html": [
       "<pre>WARNING: Detected extremely low variance for feature(s) 'var33 refund amount delta 1Y3', 'var17 transfer number in ultima1', 'var17 delta transfer amount out 1Y3', 'ventidada delta amount var44 1Y3', 'var17 number transfer out ultima1', 'var34 indicator 0', 'var33 transfer number in ultima1', 'var18 repayment amount ultima1', 'var13 number months average number ultima3', 'var34 number 0', 'var13 average number 0', 'var18 number 0', 'var18 balance', 'var33 refund amount ultima1', 'var13 refund amount delta 1Y3', 'var33 reimbursement number ultima1', 'var17 refund amount ultima1', 'var13 indicator means 0', 'var33 transfer amount out ultima1', 'var17 transfer amount out ultima1', 'var34 balance', 'var13 average balance means hace2', 'var33 transfer amount in ultima1', 'var13 refund amount ultima1', 'var34 amortization amount delta 1Y3', 'var13 reimbursement number ultima1', 'var33 number transfer out ultima1', 'var44 delta ventidada number 1Y3', 'var13 balance means', 'var18 amortization amount delta 1Y3', 'var17 transfer amount in ultima1', 'var33 delta transfer amount out 1Y3', 'var17 reimbursement number ultima1', 'var18 indicator 0', 'var34 repayment amount ultima1', 'var13 average balance means ultima3' because all entries are nearly the same.\n",
       "Proceeding with model training using all features. If the model does not provide results of adequate quality, exclude the above mentioned feature(s) from the input dataset.</pre>"
      ],
      "text/plain": [
       "WARNING: Detected extremely low variance for feature(s) 'var33 refund amount delta 1Y3', 'var17 transfer number in ultima1', 'var17 delta transfer amount out 1Y3', 'ventidada delta amount var44 1Y3', 'var17 number transfer out ultima1', 'var34 indicator 0', 'var33 transfer number in ultima1', 'var18 repayment amount ultima1', 'var13 number months average number ultima3', 'var34 number 0', 'var13 average number 0', 'var18 number 0', 'var18 balance', 'var33 refund amount ultima1', 'var13 refund amount delta 1Y3', 'var33 reimbursement number ultima1', 'var17 refund amount ultima1', 'var13 indicator means 0', 'var33 transfer amount out ultima1', 'var17 transfer amount out ultima1', 'var34 balance', 'var13 average balance means hace2', 'var33 transfer amount in ultima1', 'var13 refund amount ultima1', 'var34 amortization amount delta 1Y3', 'var13 reimbursement number ultima1', 'var33 number transfer out ultima1', 'var44 delta ventidada number 1Y3', 'var13 balance means', 'var18 amortization amount delta 1Y3', 'var17 transfer amount in ultima1', 'var33 delta transfer amount out 1Y3', 'var17 reimbursement number ultima1', 'var18 indicator 0', 'var34 repayment amount ultima1', 'var13 average balance means ultima3' because all entries are nearly the same.\n",
       "Proceeding with model training using all features. If the model does not provide results of adequate quality, exclude the above mentioned feature(s) from the input dataset."
      ]
     },
     "metadata": {},
     "output_type": "display_data"
    },
    {
     "data": {
      "text/html": [
       "<pre>Logistic regression:</pre>"
      ],
      "text/plain": [
       "Logistic regression:"
      ]
     },
     "metadata": {},
     "output_type": "display_data"
    },
    {
     "data": {
      "text/html": [
       "<pre>--------------------------------------------------------</pre>"
      ],
      "text/plain": [
       "--------------------------------------------------------"
      ]
     },
     "metadata": {},
     "output_type": "display_data"
    },
    {
     "data": {
      "text/html": [
       "<pre>Number of examples          : 57037</pre>"
      ],
      "text/plain": [
       "Number of examples          : 57037"
      ]
     },
     "metadata": {},
     "output_type": "display_data"
    },
    {
     "data": {
      "text/html": [
       "<pre>Number of classes           : 2</pre>"
      ],
      "text/plain": [
       "Number of classes           : 2"
      ]
     },
     "metadata": {},
     "output_type": "display_data"
    },
    {
     "data": {
      "text/html": [
       "<pre>Number of feature columns   : 306</pre>"
      ],
      "text/plain": [
       "Number of feature columns   : 306"
      ]
     },
     "metadata": {},
     "output_type": "display_data"
    },
    {
     "data": {
      "text/html": [
       "<pre>Number of unpacked features : 306</pre>"
      ],
      "text/plain": [
       "Number of unpacked features : 306"
      ]
     },
     "metadata": {},
     "output_type": "display_data"
    },
    {
     "data": {
      "text/html": [
       "<pre>Number of coefficients    : 302</pre>"
      ],
      "text/plain": [
       "Number of coefficients    : 302"
      ]
     },
     "metadata": {},
     "output_type": "display_data"
    },
    {
     "data": {
      "text/html": [
       "<pre>Starting Newton Method</pre>"
      ],
      "text/plain": [
       "Starting Newton Method"
      ]
     },
     "metadata": {},
     "output_type": "display_data"
    },
    {
     "data": {
      "text/html": [
       "<pre>--------------------------------------------------------</pre>"
      ],
      "text/plain": [
       "--------------------------------------------------------"
      ]
     },
     "metadata": {},
     "output_type": "display_data"
    },
    {
     "data": {
      "text/html": [
       "<pre>+-----------+----------+--------------+-------------------+---------------------+</pre>"
      ],
      "text/plain": [
       "+-----------+----------+--------------+-------------------+---------------------+"
      ]
     },
     "metadata": {},
     "output_type": "display_data"
    },
    {
     "data": {
      "text/html": [
       "<pre>| Iteration | Passes   | Elapsed Time | Training-accuracy | Validation-accuracy |</pre>"
      ],
      "text/plain": [
       "| Iteration | Passes   | Elapsed Time | Training-accuracy | Validation-accuracy |"
      ]
     },
     "metadata": {},
     "output_type": "display_data"
    },
    {
     "data": {
      "text/html": [
       "<pre>+-----------+----------+--------------+-------------------+---------------------+</pre>"
      ],
      "text/plain": [
       "+-----------+----------+--------------+-------------------+---------------------+"
      ]
     },
     "metadata": {},
     "output_type": "display_data"
    },
    {
     "data": {
      "text/html": [
       "<pre>| 1         | 2        | 22.737472    | 0.960552          | 0.959881            |</pre>"
      ],
      "text/plain": [
       "| 1         | 2        | 22.737472    | 0.960552          | 0.959881            |"
      ]
     },
     "metadata": {},
     "output_type": "display_data"
    },
    {
     "data": {
      "text/html": [
       "<pre>| 2         | 3        | 34.124204    | 0.960517          | 0.959881            |</pre>"
      ],
      "text/plain": [
       "| 2         | 3        | 34.124204    | 0.960517          | 0.959881            |"
      ]
     },
     "metadata": {},
     "output_type": "display_data"
    },
    {
     "data": {
      "text/html": [
       "<pre>| 3         | 4        | 45.544323    | 0.960517          | 0.959881            |</pre>"
      ],
      "text/plain": [
       "| 3         | 4        | 45.544323    | 0.960517          | 0.959881            |"
      ]
     },
     "metadata": {},
     "output_type": "display_data"
    },
    {
     "data": {
      "text/html": [
       "<pre>| 4         | 5        | 56.973145    | 0.960429          | 0.959549            |</pre>"
      ],
      "text/plain": [
       "| 4         | 5        | 56.973145    | 0.960429          | 0.959549            |"
      ]
     },
     "metadata": {},
     "output_type": "display_data"
    },
    {
     "data": {
      "text/html": [
       "<pre>| 5         | 6        | 68.377275    | 0.960377          | 0.959218            |</pre>"
      ],
      "text/plain": [
       "| 5         | 6        | 68.377275    | 0.960377          | 0.959218            |"
      ]
     },
     "metadata": {},
     "output_type": "display_data"
    },
    {
     "data": {
      "text/html": [
       "<pre>| 6         | 7        | 79.788784    | 0.960342          | 0.959881            |</pre>"
      ],
      "text/plain": [
       "| 6         | 7        | 79.788784    | 0.960342          | 0.959881            |"
      ]
     },
     "metadata": {},
     "output_type": "display_data"
    },
    {
     "data": {
      "text/html": [
       "<pre>| 7         | 8        | 91.210079    | 0.960342          | 0.959881            |</pre>"
      ],
      "text/plain": [
       "| 7         | 8        | 91.210079    | 0.960342          | 0.959881            |"
      ]
     },
     "metadata": {},
     "output_type": "display_data"
    },
    {
     "data": {
      "text/html": [
       "<pre>| 8         | 9        | 102.685338   | 0.960342          | 0.959549            |</pre>"
      ],
      "text/plain": [
       "| 8         | 9        | 102.685338   | 0.960342          | 0.959549            |"
      ]
     },
     "metadata": {},
     "output_type": "display_data"
    },
    {
     "data": {
      "text/html": [
       "<pre>| 9         | 10       | 114.091003   | 0.960342          | 0.959549            |</pre>"
      ],
      "text/plain": [
       "| 9         | 10       | 114.091003   | 0.960342          | 0.959549            |"
      ]
     },
     "metadata": {},
     "output_type": "display_data"
    },
    {
     "data": {
      "text/html": [
       "<pre>| 10        | 11       | 125.510017   | 0.960342          | 0.959549            |</pre>"
      ],
      "text/plain": [
       "| 10        | 11       | 125.510017   | 0.960342          | 0.959549            |"
      ]
     },
     "metadata": {},
     "output_type": "display_data"
    },
    {
     "data": {
      "text/html": [
       "<pre>| 11        | 12       | 136.966494   | 0.960342          | 0.959549            |</pre>"
      ],
      "text/plain": [
       "| 11        | 12       | 136.966494   | 0.960342          | 0.959549            |"
      ]
     },
     "metadata": {},
     "output_type": "display_data"
    },
    {
     "data": {
      "text/html": [
       "<pre>| 12        | 13       | 148.548243   | 0.960342          | 0.959881            |</pre>"
      ],
      "text/plain": [
       "| 12        | 13       | 148.548243   | 0.960342          | 0.959881            |"
      ]
     },
     "metadata": {},
     "output_type": "display_data"
    },
    {
     "data": {
      "text/html": [
       "<pre>| 13        | 14       | 159.954490   | 0.960342          | 0.959881            |</pre>"
      ],
      "text/plain": [
       "| 13        | 14       | 159.954490   | 0.960342          | 0.959881            |"
      ]
     },
     "metadata": {},
     "output_type": "display_data"
    },
    {
     "data": {
      "text/html": [
       "<pre>+-----------+----------+--------------+-------------------+---------------------+</pre>"
      ],
      "text/plain": [
       "+-----------+----------+--------------+-------------------+---------------------+"
      ]
     },
     "metadata": {},
     "output_type": "display_data"
    },
    {
     "data": {
      "text/html": [
       "<pre>SUCCESS: Optimal solution found.</pre>"
      ],
      "text/plain": [
       "SUCCESS: Optimal solution found."
      ]
     },
     "metadata": {},
     "output_type": "display_data"
    },
    {
     "data": {
      "text/html": [
       "<pre></pre>"
      ],
      "text/plain": []
     },
     "metadata": {},
     "output_type": "display_data"
    },
    {
     "name": "stdout",
     "output_type": "stream",
     "text": [
      "PROGRESS: Creating a validation set from 5 percent of training data. This may take a while.\n",
      "          You can set ``validation_set=None`` to disable validation tracking.\n",
      "\n"
     ]
    },
    {
     "data": {
      "text/plain": [
       "{'auc': 0.7908527938171901}"
      ]
     },
     "execution_count": 112,
     "metadata": {},
     "output_type": "execute_result"
    }
   ],
   "source": [
    "model= gl.logistic_classifier.create(train.dropna(), target='TARGET', \n",
    "                                       l1_penalty=0, l2_penalty=0.1,\n",
    "                             max_iterations=50, validate=validate)\n",
    "model.evaluate(train_data, metric='auc')\n",
    "# 'auc': 0.79"
   ]
  },
  {
   "cell_type": "code",
   "execution_count": 115,
   "metadata": {
    "ExecuteTime": {
     "end_time": "2016-03-12T01:09:42.842316",
     "start_time": "2016-03-12T01:08:58.764311"
    },
    "collapsed": true
   },
   "outputs": [
    {
     "data": {
      "text/html": [
       "<pre>WARNING: Detected extremely low variance for feature(s) 'var33 refund amount delta 1Y3', 'var17 refund amount hace3', 'var17 transfer number in ultima1', 'var17 delta transfer amount out 1Y3', 'var17 number transfer out ultima1', 'var34 indicator 0', 'var33 transfer number in ultima1', 'var18 repayment amount ultima1', 'var34 number 0', 'var18 number 0', 'var18 balance', 'var33 refund amount ultima1', 'var13 refund amount delta 1Y3', 'var33 reimbursement number ultima1', 'var17 refund amount ultima1', 'var33 transfer amount out ultima1', 'var17 transfer amount out ultima1', 'var34 balance', 'var33 transfer amount in ultima1', 'var13 refund amount ultima1', 'var34 amortization amount delta 1Y3', 'var17 refund amount delta 1Y3', 'var13 reimbursement number ultima1', 'var33 number transfer out ultima1', 'var18 amortization amount delta 1Y3', 'var17 transfer amount in ultima1', 'var33 delta transfer amount out 1Y3', 'var17 reimbursement number ultima1', 'var18 indicator 0', 'var34 repayment amount ultima1', 'var17 reimbursement number hace3' because all entries are nearly the same.\n",
       "Proceeding with model training using all features. If the model does not provide results of adequate quality, exclude the above mentioned feature(s) from the input dataset.</pre>"
      ],
      "text/plain": [
       "WARNING: Detected extremely low variance for feature(s) 'var33 refund amount delta 1Y3', 'var17 refund amount hace3', 'var17 transfer number in ultima1', 'var17 delta transfer amount out 1Y3', 'var17 number transfer out ultima1', 'var34 indicator 0', 'var33 transfer number in ultima1', 'var18 repayment amount ultima1', 'var34 number 0', 'var18 number 0', 'var18 balance', 'var33 refund amount ultima1', 'var13 refund amount delta 1Y3', 'var33 reimbursement number ultima1', 'var17 refund amount ultima1', 'var33 transfer amount out ultima1', 'var17 transfer amount out ultima1', 'var34 balance', 'var33 transfer amount in ultima1', 'var13 refund amount ultima1', 'var34 amortization amount delta 1Y3', 'var17 refund amount delta 1Y3', 'var13 reimbursement number ultima1', 'var33 number transfer out ultima1', 'var18 amortization amount delta 1Y3', 'var17 transfer amount in ultima1', 'var33 delta transfer amount out 1Y3', 'var17 reimbursement number ultima1', 'var18 indicator 0', 'var34 repayment amount ultima1', 'var17 reimbursement number hace3' because all entries are nearly the same.\n",
       "Proceeding with model training using all features. If the model does not provide results of adequate quality, exclude the above mentioned feature(s) from the input dataset."
      ]
     },
     "metadata": {},
     "output_type": "display_data"
    },
    {
     "data": {
      "text/html": [
       "<pre>SVM:</pre>"
      ],
      "text/plain": [
       "SVM:"
      ]
     },
     "metadata": {},
     "output_type": "display_data"
    },
    {
     "data": {
      "text/html": [
       "<pre>--------------------------------------------------------</pre>"
      ],
      "text/plain": [
       "--------------------------------------------------------"
      ]
     },
     "metadata": {},
     "output_type": "display_data"
    },
    {
     "data": {
      "text/html": [
       "<pre>Number of examples          : 56878</pre>"
      ],
      "text/plain": [
       "Number of examples          : 56878"
      ]
     },
     "metadata": {},
     "output_type": "display_data"
    },
    {
     "data": {
      "text/html": [
       "<pre>Number of classes           : 2</pre>"
      ],
      "text/plain": [
       "Number of classes           : 2"
      ]
     },
     "metadata": {},
     "output_type": "display_data"
    },
    {
     "data": {
      "text/html": [
       "<pre>Number of feature columns   : 306</pre>"
      ],
      "text/plain": [
       "Number of feature columns   : 306"
      ]
     },
     "metadata": {},
     "output_type": "display_data"
    },
    {
     "data": {
      "text/html": [
       "<pre>Number of unpacked features : 306</pre>"
      ],
      "text/plain": [
       "Number of unpacked features : 306"
      ]
     },
     "metadata": {},
     "output_type": "display_data"
    },
    {
     "data": {
      "text/html": [
       "<pre>Number of coefficients    : 305</pre>"
      ],
      "text/plain": [
       "Number of coefficients    : 305"
      ]
     },
     "metadata": {},
     "output_type": "display_data"
    },
    {
     "data": {
      "text/html": [
       "<pre>Starting L-BFGS</pre>"
      ],
      "text/plain": [
       "Starting L-BFGS"
      ]
     },
     "metadata": {},
     "output_type": "display_data"
    },
    {
     "data": {
      "text/html": [
       "<pre>--------------------------------------------------------</pre>"
      ],
      "text/plain": [
       "--------------------------------------------------------"
      ]
     },
     "metadata": {},
     "output_type": "display_data"
    },
    {
     "data": {
      "text/html": [
       "<pre>+-----------+----------+-----------+--------------+-------------------+---------------------+</pre>"
      ],
      "text/plain": [
       "+-----------+----------+-----------+--------------+-------------------+---------------------+"
      ]
     },
     "metadata": {},
     "output_type": "display_data"
    },
    {
     "data": {
      "text/html": [
       "<pre>| Iteration | Passes   | Step size | Elapsed Time | Training-accuracy | Validation-accuracy |</pre>"
      ],
      "text/plain": [
       "| Iteration | Passes   | Step size | Elapsed Time | Training-accuracy | Validation-accuracy |"
      ]
     },
     "metadata": {},
     "output_type": "display_data"
    },
    {
     "data": {
      "text/html": [
       "<pre>+-----------+----------+-----------+--------------+-------------------+---------------------+</pre>"
      ],
      "text/plain": [
       "+-----------+----------+-----------+--------------+-------------------+---------------------+"
      ]
     },
     "metadata": {},
     "output_type": "display_data"
    },
    {
     "data": {
      "text/html": [
       "<pre>| 1         | 3        | 0.000018  | 0.472293     | 0.960424          | 0.961575            |</pre>"
      ],
      "text/plain": [
       "| 1         | 3        | 0.000018  | 0.472293     | 0.960424          | 0.961575            |"
      ]
     },
     "metadata": {},
     "output_type": "display_data"
    },
    {
     "data": {
      "text/html": [
       "<pre>| 2         | 11       | 18.210937 | 1.871838     | 0.958174          | 0.960000            |</pre>"
      ],
      "text/plain": [
       "| 2         | 11       | 18.210937 | 1.871838     | 0.958174          | 0.960000            |"
      ]
     },
     "metadata": {},
     "output_type": "display_data"
    },
    {
     "data": {
      "text/html": [
       "<pre>| 3         | 12       | 18.210937 | 2.175838     | 0.085323          | 0.085669            |</pre>"
      ],
      "text/plain": [
       "| 3         | 12       | 18.210937 | 2.175838     | 0.085323          | 0.085669            |"
      ]
     },
     "metadata": {},
     "output_type": "display_data"
    },
    {
     "data": {
      "text/html": [
       "<pre>| 4         | 14       | 1.000000  | 2.633695     | 0.787299          | 0.788661            |</pre>"
      ],
      "text/plain": [
       "| 4         | 14       | 1.000000  | 2.633695     | 0.787299          | 0.788661            |"
      ]
     },
     "metadata": {},
     "output_type": "display_data"
    },
    {
     "data": {
      "text/html": [
       "<pre>| 5         | 15       | 1.000000  | 2.938058     | 0.874820          | 0.874016            |</pre>"
      ],
      "text/plain": [
       "| 5         | 15       | 1.000000  | 2.938058     | 0.874820          | 0.874016            |"
      ]
     },
     "metadata": {},
     "output_type": "display_data"
    },
    {
     "data": {
      "text/html": [
       "<pre>| 6         | 17       | 1.000000  | 3.399618     | 0.960336          | 0.961260            |</pre>"
      ],
      "text/plain": [
       "| 6         | 17       | 1.000000  | 3.399618     | 0.960336          | 0.961260            |"
      ]
     },
     "metadata": {},
     "output_type": "display_data"
    },
    {
     "data": {
      "text/html": [
       "<pre>| 10        | 22       | 1.000000  | 4.761094     | 0.577007          | 0.579528            |</pre>"
      ],
      "text/plain": [
       "| 10        | 22       | 1.000000  | 4.761094     | 0.577007          | 0.579528            |"
      ]
     },
     "metadata": {},
     "output_type": "display_data"
    },
    {
     "data": {
      "text/html": [
       "<pre>| 11        | 24       | 1.000000  | 5.216739     | 0.886617          | 0.882520            |</pre>"
      ],
      "text/plain": [
       "| 11        | 24       | 1.000000  | 5.216739     | 0.886617          | 0.882520            |"
      ]
     },
     "metadata": {},
     "output_type": "display_data"
    },
    {
     "data": {
      "text/html": [
       "<pre>| 15        | 32       | 0.065086  | 7.043753     | 0.124178          | 0.124724            |</pre>"
      ],
      "text/plain": [
       "| 15        | 32       | 0.065086  | 7.043753     | 0.124178          | 0.124724            |"
      ]
     },
     "metadata": {},
     "output_type": "display_data"
    },
    {
     "data": {
      "text/html": [
       "<pre>| 20        | 40       | 1.000000  | 9.032735     | 0.860614          | 0.849764            |</pre>"
      ],
      "text/plain": [
       "| 20        | 40       | 1.000000  | 9.032735     | 0.860614          | 0.849764            |"
      ]
     },
     "metadata": {},
     "output_type": "display_data"
    },
    {
     "data": {
      "text/html": [
       "<pre>| 25        | 46       | 1.000000  | 10.701793    | 0.957400          | 0.959370            |</pre>"
      ],
      "text/plain": [
       "| 25        | 46       | 1.000000  | 10.701793    | 0.957400          | 0.959370            |"
      ]
     },
     "metadata": {},
     "output_type": "display_data"
    },
    {
     "data": {
      "text/html": [
       "<pre>| 30        | 53       | 1.000000  | 12.529011    | 0.299800          | 0.298898            |</pre>"
      ],
      "text/plain": [
       "| 30        | 53       | 1.000000  | 12.529011    | 0.299800          | 0.298898            |"
      ]
     },
     "metadata": {},
     "output_type": "display_data"
    },
    {
     "data": {
      "text/html": [
       "<pre>| 35        | 64       | 1.000000  | 14.989836    | 0.952917          | 0.954016            |</pre>"
      ],
      "text/plain": [
       "| 35        | 64       | 1.000000  | 14.989836    | 0.952917          | 0.954016            |"
      ]
     },
     "metadata": {},
     "output_type": "display_data"
    },
    {
     "data": {
      "text/html": [
       "<pre>| 40        | 71       | 1.000000  | 16.821126    | 0.956187          | 0.957795            |</pre>"
      ],
      "text/plain": [
       "| 40        | 71       | 1.000000  | 16.821126    | 0.956187          | 0.957795            |"
      ]
     },
     "metadata": {},
     "output_type": "display_data"
    },
    {
     "data": {
      "text/html": [
       "<pre>| 45        | 78       | 1.000000  | 18.646373    | 0.958314          | 0.960000            |</pre>"
      ],
      "text/plain": [
       "| 45        | 78       | 1.000000  | 18.646373    | 0.958314          | 0.960000            |"
      ]
     },
     "metadata": {},
     "output_type": "display_data"
    },
    {
     "data": {
      "text/html": [
       "<pre>| 50        | 85       | 1.000000  | 20.462725    | 0.959440          | 0.961260            |</pre>"
      ],
      "text/plain": [
       "| 50        | 85       | 1.000000  | 20.462725    | 0.959440          | 0.961260            |"
      ]
     },
     "metadata": {},
     "output_type": "display_data"
    },
    {
     "data": {
      "text/html": [
       "<pre>| 51        | 86       | 1.000000  | 20.765243    | 0.090000          | 0.089134            |</pre>"
      ],
      "text/plain": [
       "| 51        | 86       | 1.000000  | 20.765243    | 0.090000          | 0.089134            |"
      ]
     },
     "metadata": {},
     "output_type": "display_data"
    },
    {
     "data": {
      "text/html": [
       "<pre>| 55        | 92       | 1.000000  | 22.290877    | 0.908734          | 0.911496            |</pre>"
      ],
      "text/plain": [
       "| 55        | 92       | 1.000000  | 22.290877    | 0.908734          | 0.911496            |"
      ]
     },
     "metadata": {},
     "output_type": "display_data"
    },
    {
     "data": {
      "text/html": [
       "<pre>| 60        | 100      | 1.000000  | 24.277543    | 0.957980          | 0.956220            |</pre>"
      ],
      "text/plain": [
       "| 60        | 100      | 1.000000  | 24.277543    | 0.957980          | 0.956220            |"
      ]
     },
     "metadata": {},
     "output_type": "display_data"
    },
    {
     "data": {
      "text/html": [
       "<pre>| 65        | 107      | 1.000000  | 26.101389    | 0.944390          | 0.944882            |</pre>"
      ],
      "text/plain": [
       "| 65        | 107      | 1.000000  | 26.101389    | 0.944390          | 0.944882            |"
      ]
     },
     "metadata": {},
     "output_type": "display_data"
    },
    {
     "data": {
      "text/html": [
       "<pre>| 70        | 114      | 1.000000  | 27.929269    | 0.948486          | 0.948976            |</pre>"
      ],
      "text/plain": [
       "| 70        | 114      | 1.000000  | 27.929269    | 0.948486          | 0.948976            |"
      ]
     },
     "metadata": {},
     "output_type": "display_data"
    },
    {
     "data": {
      "text/html": [
       "<pre>| 75        | 120      | 1.000000  | 29.596034    | 0.939766          | 0.943622            |</pre>"
      ],
      "text/plain": [
       "| 75        | 120      | 1.000000  | 29.596034    | 0.939766          | 0.943622            |"
      ]
     },
     "metadata": {},
     "output_type": "display_data"
    },
    {
     "data": {
      "text/html": [
       "<pre>| 80        | 126      | 1.000000  | 31.266578    | 0.885632          | 0.884094            |</pre>"
      ],
      "text/plain": [
       "| 80        | 126      | 1.000000  | 31.266578    | 0.885632          | 0.884094            |"
      ]
     },
     "metadata": {},
     "output_type": "display_data"
    },
    {
     "data": {
      "text/html": [
       "<pre>| 85        | 134      | 0.500000  | 33.253661    | 0.388252          | 0.382047            |</pre>"
      ],
      "text/plain": [
       "| 85        | 134      | 0.500000  | 33.253661    | 0.388252          | 0.382047            |"
      ]
     },
     "metadata": {},
     "output_type": "display_data"
    },
    {
     "data": {
      "text/html": [
       "<pre>| 90        | 141      | 1.000000  | 35.077654    | 0.812423          | 0.820787            |</pre>"
      ],
      "text/plain": [
       "| 90        | 141      | 1.000000  | 35.077654    | 0.812423          | 0.820787            |"
      ]
     },
     "metadata": {},
     "output_type": "display_data"
    },
    {
     "data": {
      "text/html": [
       "<pre>| 95        | 148      | 1.000000  | 36.902738    | 0.456873          | 0.461732            |</pre>"
      ],
      "text/plain": [
       "| 95        | 148      | 1.000000  | 36.902738    | 0.456873          | 0.461732            |"
      ]
     },
     "metadata": {},
     "output_type": "display_data"
    },
    {
     "data": {
      "text/html": [
       "<pre>| 100       | 155      | 1.000000  | 38.725835    | 0.959018          | 0.960000            |</pre>"
      ],
      "text/plain": [
       "| 100       | 155      | 1.000000  | 38.725835    | 0.959018          | 0.960000            |"
      ]
     },
     "metadata": {},
     "output_type": "display_data"
    },
    {
     "data": {
      "text/html": [
       "<pre>+-----------+----------+-----------+--------------+-------------------+---------------------+</pre>"
      ],
      "text/plain": [
       "+-----------+----------+-----------+--------------+-------------------+---------------------+"
      ]
     },
     "metadata": {},
     "output_type": "display_data"
    },
    {
     "data": {
      "text/html": [
       "<pre>TERMINATED: Iteration limit reached.</pre>"
      ],
      "text/plain": [
       "TERMINATED: Iteration limit reached."
      ]
     },
     "metadata": {},
     "output_type": "display_data"
    },
    {
     "data": {
      "text/html": [
       "<pre>This model may not be optimal. To improve it, consider increasing `max_iterations`.</pre>"
      ],
      "text/plain": [
       "This model may not be optimal. To improve it, consider increasing `max_iterations`."
      ]
     },
     "metadata": {},
     "output_type": "display_data"
    },
    {
     "name": "stdout",
     "output_type": "stream",
     "text": [
      "PROGRESS: Creating a validation set from 5 percent of training data. This may take a while.\n",
      "          You can set ``validation_set=None`` to disable validation tracking.\n",
      "\n"
     ]
    },
    {
     "ename": "ToolkitError",
     "evalue": "Evaluation metric 'auc' not recognized. The supported evaluation metrics are ('auto', 'accuracy', 'confusion_matrix', 'precision', 'recall', 'f1_score').",
     "output_type": "error",
     "traceback": [
      "\u001b[1;31m---------------------------------------------------------------------------\u001b[0m",
      "\u001b[1;31mToolkitError\u001b[0m                              Traceback (most recent call last)",
      "\u001b[1;32m<ipython-input-115-52f6813e9ad3>\u001b[0m in \u001b[0;36m<module>\u001b[1;34m()\u001b[0m\n\u001b[0;32m      1\u001b[0m \u001b[0mmodel\u001b[0m\u001b[1;33m=\u001b[0m \u001b[0mgl\u001b[0m\u001b[1;33m.\u001b[0m\u001b[0msvm_classifier\u001b[0m\u001b[1;33m.\u001b[0m\u001b[0mcreate\u001b[0m\u001b[1;33m(\u001b[0m\u001b[0mtrain\u001b[0m\u001b[1;33m.\u001b[0m\u001b[0mdropna\u001b[0m\u001b[1;33m(\u001b[0m\u001b[1;33m)\u001b[0m\u001b[1;33m,\u001b[0m \u001b[0mtarget\u001b[0m\u001b[1;33m=\u001b[0m\u001b[1;34m'TARGET'\u001b[0m\u001b[1;33m,\u001b[0m \u001b[0mmax_iterations\u001b[0m \u001b[1;33m=\u001b[0m \u001b[1;36m100\u001b[0m\u001b[1;33m)\u001b[0m\u001b[1;33m\u001b[0m\u001b[0m\n\u001b[1;32m----> 2\u001b[1;33m \u001b[0mmodel\u001b[0m\u001b[1;33m.\u001b[0m\u001b[0mevaluate\u001b[0m\u001b[1;33m(\u001b[0m\u001b[0mtrain_data\u001b[0m\u001b[1;33m,\u001b[0m \u001b[0mmetric\u001b[0m\u001b[1;33m=\u001b[0m\u001b[1;34m'auc'\u001b[0m\u001b[1;33m)\u001b[0m\u001b[1;33m\u001b[0m\u001b[0m\n\u001b[0m\u001b[0;32m      3\u001b[0m \u001b[1;31m# 'auc': 0.79\u001b[0m\u001b[1;33m\u001b[0m\u001b[1;33m\u001b[0m\u001b[0m\n",
      "\u001b[1;32m/home/ec2-user/anaconda2/envs/dato-env/lib/python2.7/site-packages/graphlab/toolkits/_model_workflow.pyc\u001b[0m in \u001b[0;36mwrapper\u001b[1;34m(model, *args, **kwargs)\u001b[0m\n\u001b[0;32m     14\u001b[0m     \u001b[1;33m@\u001b[0m\u001b[0mwraps\u001b[0m\u001b[1;33m(\u001b[0m\u001b[0mf\u001b[0m\u001b[1;33m)\u001b[0m\u001b[1;33m\u001b[0m\u001b[0m\n\u001b[0;32m     15\u001b[0m     \u001b[1;32mdef\u001b[0m \u001b[0mwrapper\u001b[0m\u001b[1;33m(\u001b[0m\u001b[0mmodel\u001b[0m\u001b[1;33m,\u001b[0m \u001b[1;33m*\u001b[0m\u001b[0margs\u001b[0m\u001b[1;33m,\u001b[0m \u001b[1;33m**\u001b[0m\u001b[0mkwargs\u001b[0m\u001b[1;33m)\u001b[0m\u001b[1;33m:\u001b[0m\u001b[1;33m\u001b[0m\u001b[0m\n\u001b[1;32m---> 16\u001b[1;33m         \u001b[0mresult\u001b[0m \u001b[1;33m=\u001b[0m \u001b[0mf\u001b[0m\u001b[1;33m(\u001b[0m\u001b[0mmodel\u001b[0m\u001b[1;33m,\u001b[0m \u001b[1;33m*\u001b[0m\u001b[0margs\u001b[0m\u001b[1;33m,\u001b[0m \u001b[1;33m**\u001b[0m\u001b[0mkwargs\u001b[0m\u001b[1;33m)\u001b[0m\u001b[1;33m\u001b[0m\u001b[0m\n\u001b[0m\u001b[0;32m     17\u001b[0m         \u001b[0mdataset_label\u001b[0m \u001b[1;33m=\u001b[0m \u001b[0mNone\u001b[0m\u001b[1;33m\u001b[0m\u001b[0m\n\u001b[0;32m     18\u001b[0m         \u001b[0mdataset\u001b[0m \u001b[1;33m=\u001b[0m \u001b[1;33m[\u001b[0m\u001b[1;33m]\u001b[0m\u001b[1;33m\u001b[0m\u001b[0m\n",
      "\u001b[1;32m/home/ec2-user/anaconda2/envs/dato-env/lib/python2.7/site-packages/graphlab/toolkits/classifier/svm_classifier.pyc\u001b[0m in \u001b[0;36mevaluate\u001b[1;34m(self, dataset, metric, missing_value_action)\u001b[0m\n\u001b[0;32m    661\u001b[0m         _raise_error_evaluation_metric_is_valid(metric,\n\u001b[0;32m    662\u001b[0m              ['auto', 'accuracy', 'confusion_matrix', 'precision', 'recall',\n\u001b[1;32m--> 663\u001b[1;33m               'f1_score'])\n\u001b[0m\u001b[0;32m    664\u001b[0m         return super(_Classifier, self).evaluate(dataset,\n\u001b[0;32m    665\u001b[0m                                \u001b[0mmissing_value_action\u001b[0m\u001b[1;33m=\u001b[0m\u001b[0mmissing_value_action\u001b[0m\u001b[1;33m,\u001b[0m\u001b[1;33m\u001b[0m\u001b[0m\n",
      "\u001b[1;32m/home/ec2-user/anaconda2/envs/dato-env/lib/python2.7/site-packages/graphlab/toolkits/_internal_utils.pyc\u001b[0m in \u001b[0;36m_raise_error_evaluation_metric_is_valid\u001b[1;34m(metric, allowed_metrics)\u001b[0m\n\u001b[0;32m    376\u001b[0m     \u001b[1;32mif\u001b[0m \u001b[0mmetric\u001b[0m \u001b[1;32mnot\u001b[0m \u001b[1;32min\u001b[0m \u001b[0mallowed_metrics\u001b[0m\u001b[1;33m:\u001b[0m\u001b[1;33m\u001b[0m\u001b[0m\n\u001b[0;32m    377\u001b[0m       raise ToolkitError(err_msg % (metric,\n\u001b[1;32m--> 378\u001b[1;33m                           ', '.join(map(lambda x: \"'%s'\" % x, allowed_metrics))))\n\u001b[0m\u001b[0;32m    379\u001b[0m \u001b[1;33m\u001b[0m\u001b[0m\n\u001b[0;32m    380\u001b[0m \u001b[1;32mdef\u001b[0m \u001b[0m_numeric_param_check_range\u001b[0m\u001b[1;33m(\u001b[0m\u001b[0mvariable_name\u001b[0m\u001b[1;33m,\u001b[0m \u001b[0mvariable_value\u001b[0m\u001b[1;33m,\u001b[0m \u001b[0mrange_bottom\u001b[0m\u001b[1;33m,\u001b[0m \u001b[0mrange_top\u001b[0m\u001b[1;33m)\u001b[0m\u001b[1;33m:\u001b[0m\u001b[1;33m\u001b[0m\u001b[0m\n",
      "\u001b[1;31mToolkitError\u001b[0m: Evaluation metric 'auc' not recognized. The supported evaluation metrics are ('auto', 'accuracy', 'confusion_matrix', 'precision', 'recall', 'f1_score')."
     ]
    }
   ],
   "source": [
    "model= gl.svm_classifier.create(train.dropna(), target='TARGET', max_iterations = 100)\n",
    "model.evaluate(train_data, metric='auc')\n",
    "# 'auc': 0.79"
   ]
  },
  {
   "cell_type": "markdown",
   "metadata": {
    "collapsed": true,
    "heading_collapsed": true
   },
   "source": [
    "## Quadratics\n",
    "No benefits"
   ]
  },
  {
   "cell_type": "markdown",
   "metadata": {
    "heading_collapsed": true
   },
   "source": [
    "### Products of numberical data (i.e., floats())\n",
    "\n",
    "Results in a very poor score, auc: 0.501263  "
   ]
  },
  {
   "cell_type": "code",
   "execution_count": 4,
   "metadata": {
    "ExecuteTime": {
     "end_time": "2016-03-12T14:39:38.159226",
     "start_time": "2016-03-12T14:39:38.140449"
    },
    "collapsed": false
   },
   "outputs": [
    {
     "name": "stdout",
     "output_type": "stream",
     "text": [
      "Loading saved processed data\n",
      "306  features in total\n"
     ]
    }
   ],
   "source": [
    "train_data, test_data = initialise.load_data(reload_data=False)"
   ]
  },
  {
   "cell_type": "code",
   "execution_count": 7,
   "metadata": {
    "ExecuteTime": {
     "end_time": "2016-03-12T14:40:36.204205",
     "start_time": "2016-03-12T14:40:35.299591"
    },
    "collapsed": false
   },
   "outputs": [],
   "source": [
    "from graphlab.toolkits.feature_engineering import *\n",
    "numeric_cols = list(tools.features_type(float(), train_data))\n",
    "\n",
    "qf = QuadraticFeatures(features= numeric_cols,\n",
    "                  output_column_name=\"QN\")\n",
    "\n",
    "quadratic = gl.feature_engineering.create(train_data,qf)\n",
    "\n",
    "train_data = quadratic.transform(train_data)\n",
    "#test_data = quadratic.transform(test_data)\n",
    "\n",
    "train, validate = train_data.random_split(0.8, seed=8273)"
   ]
  },
  {
   "cell_type": "code",
   "execution_count": null,
   "metadata": {
    "ExecuteTime": {
     "end_time": "2016-03-12T14:42:23.978665",
     "start_time": "2016-03-12T14:40:37.377172"
    },
    "collapsed": false
   },
   "outputs": [],
   "source": [
    "params = {'target':'TARGET', 'validation_set':validate,'verbose':True, 'random_seed':8923,\n",
    "          'class_weights':'auto','metric':'auc',\n",
    "          'early_stopping_rounds':20, 'max_iterations':300}\n",
    "#          'max_depth':4, 'row_subsample':1, 'column_subsample'=1, 'step_size':0.3}\n",
    "\n",
    "\n",
    "model = gl.boosted_trees_classifier.create(train, **params)"
   ]
  },
  {
   "cell_type": "code",
   "execution_count": null,
   "metadata": {
    "ExecuteTime": {
     "start_time": "2016-03-12T03:37:57.412Z"
    },
    "collapsed": false
   },
   "outputs": [],
   "source": [
    "reload(tools)\n",
    "tools.plot_roc(model, validate);"
   ]
  },
  {
   "cell_type": "markdown",
   "metadata": {
    "heading_collapsed": true
   },
   "source": [
    "### Ordinal Data\n",
    "\n",
    "Seem like this is too large a transformation"
   ]
  },
  {
   "cell_type": "code",
   "execution_count": 4,
   "metadata": {
    "ExecuteTime": {
     "end_time": "2016-03-12T14:56:18.178967",
     "start_time": "2016-03-12T14:56:18.156601"
    },
    "collapsed": false
   },
   "outputs": [
    {
     "name": "stdout",
     "output_type": "stream",
     "text": [
      "Loading saved processed data\n",
      "306  features in total\n"
     ]
    }
   ],
   "source": [
    "train_data, test_data = initialise.load_data(reload_data=False)"
   ]
  },
  {
   "cell_type": "code",
   "execution_count": 5,
   "metadata": {
    "ExecuteTime": {
     "end_time": "2016-03-12T14:56:21.801911",
     "start_time": "2016-03-12T14:56:21.649049"
    },
    "collapsed": false
   },
   "outputs": [
    {
     "data": {
      "text/plain": [
       "191"
      ]
     },
     "execution_count": 5,
     "metadata": {},
     "output_type": "execute_result"
    }
   ],
   "source": [
    "int_cols = list(tools.features_type(int(), train_data))\n",
    "\n",
    "from graphlab.toolkits.feature_engineering import *\n",
    "qf = QuadraticFeatures(features= int_cols, output_column_name=\"QI\")\n",
    "quadratic = gl.feature_engineering.create(train_data,qf)\n",
    "train_data = quadratic.transform(train_data)\n",
    "#test_data = quadratic.transform(test_data)\n",
    "\n",
    "train, validate = train_data.random_split(0.8, seed=8273)"
   ]
  },
  {
   "cell_type": "code",
   "execution_count": 10,
   "metadata": {
    "ExecuteTime": {
     "end_time": "2016-03-12T15:09:38.671159",
     "start_time": "2016-03-12T14:57:05.054630"
    },
    "collapsed": false
   },
   "outputs": [
    {
     "ename": "IOError",
     "evalue": "Fail to write. Disk may be full.",
     "output_type": "error",
     "traceback": [
      "\u001b[1;31m---------------------------------------------------------------------------\u001b[0m",
      "\u001b[1;31mIOError\u001b[0m                                   Traceback (most recent call last)",
      "\u001b[1;32m<ipython-input-10-57f76c84d8f9>\u001b[0m in \u001b[0;36m<module>\u001b[1;34m()\u001b[0m\n\u001b[0;32m      5\u001b[0m \u001b[1;33m\u001b[0m\u001b[0m\n\u001b[0;32m      6\u001b[0m \u001b[1;33m\u001b[0m\u001b[0m\n\u001b[1;32m----> 7\u001b[1;33m \u001b[0mmodel\u001b[0m \u001b[1;33m=\u001b[0m \u001b[0mgl\u001b[0m\u001b[1;33m.\u001b[0m\u001b[0mboosted_trees_classifier\u001b[0m\u001b[1;33m.\u001b[0m\u001b[0mcreate\u001b[0m\u001b[1;33m(\u001b[0m\u001b[0mtrain\u001b[0m\u001b[1;33m,\u001b[0m \u001b[1;33m**\u001b[0m\u001b[0mparams\u001b[0m\u001b[1;33m)\u001b[0m\u001b[1;33m\u001b[0m\u001b[0m\n\u001b[0m",
      "\u001b[1;32m/home/ec2-user/anaconda2/envs/dato-env/lib/python2.7/site-packages/graphlab/toolkits/classifier/boosted_trees_classifier.pyc\u001b[0m in \u001b[0;36mcreate\u001b[1;34m(dataset, target, features, max_iterations, validation_set, class_weights, max_depth, step_size, min_loss_reduction, min_child_weight, row_subsample, column_subsample, verbose, random_seed, metric, **kwargs)\u001b[0m\n\u001b[0;32m    666\u001b[0m                         \u001b[0mverbose\u001b[0m \u001b[1;33m=\u001b[0m \u001b[0mverbose\u001b[0m\u001b[1;33m,\u001b[0m\u001b[1;33m\u001b[0m\u001b[0m\n\u001b[0;32m    667\u001b[0m                         \u001b[0mmetric\u001b[0m \u001b[1;33m=\u001b[0m \u001b[0mmetric\u001b[0m\u001b[1;33m,\u001b[0m\u001b[1;33m\u001b[0m\u001b[0m\n\u001b[1;32m--> 668\u001b[1;33m                         **kwargs)\n\u001b[0m\u001b[0;32m    669\u001b[0m     \u001b[1;32mreturn\u001b[0m \u001b[0mBoostedTreesClassifier\u001b[0m\u001b[1;33m(\u001b[0m\u001b[0mmodel\u001b[0m\u001b[1;33m.\u001b[0m\u001b[0m__proxy__\u001b[0m\u001b[1;33m)\u001b[0m\u001b[1;33m\u001b[0m\u001b[0m\n",
      "\u001b[1;32m/home/ec2-user/anaconda2/envs/dato-env/lib/python2.7/site-packages/graphlab/toolkits/_supervised_learning.pyc\u001b[0m in \u001b[0;36mcreate\u001b[1;34m(dataset, target, model_name, features, validation_set, verbose, distributed, **kwargs)\u001b[0m\n\u001b[0;32m    451\u001b[0m     \u001b[1;32melse\u001b[0m\u001b[1;33m:\u001b[0m\u001b[1;33m\u001b[0m\u001b[0m\n\u001b[0;32m    452\u001b[0m         ret = _graphlab.toolkits._main.run(\"supervised_learning_train\",\n\u001b[1;32m--> 453\u001b[1;33m                                            options, verbose)\n\u001b[0m\u001b[0;32m    454\u001b[0m         \u001b[0mmodel\u001b[0m \u001b[1;33m=\u001b[0m \u001b[0mSupervisedLearningModel\u001b[0m\u001b[1;33m(\u001b[0m\u001b[0mret\u001b[0m\u001b[1;33m[\u001b[0m\u001b[1;34m'model'\u001b[0m\u001b[1;33m]\u001b[0m\u001b[1;33m,\u001b[0m \u001b[0mmodel_name\u001b[0m\u001b[1;33m)\u001b[0m\u001b[1;33m\u001b[0m\u001b[0m\n\u001b[0;32m    455\u001b[0m \u001b[1;33m\u001b[0m\u001b[0m\n",
      "\u001b[1;32m/home/ec2-user/anaconda2/envs/dato-env/lib/python2.7/site-packages/graphlab/toolkits/_main.pyc\u001b[0m in \u001b[0;36mrun\u001b[1;34m(toolkit_name, options, verbose, show_progress)\u001b[0m\n\u001b[0;32m     58\u001b[0m     \u001b[1;32mtry\u001b[0m\u001b[1;33m:\u001b[0m\u001b[1;33m\u001b[0m\u001b[0m\n\u001b[0;32m     59\u001b[0m         \u001b[0mstart_time\u001b[0m \u001b[1;33m=\u001b[0m \u001b[0mtime\u001b[0m\u001b[1;33m.\u001b[0m\u001b[0mtime\u001b[0m\u001b[1;33m(\u001b[0m\u001b[1;33m)\u001b[0m\u001b[1;33m\u001b[0m\u001b[0m\n\u001b[1;32m---> 60\u001b[1;33m         \u001b[1;33m(\u001b[0m\u001b[0msuccess\u001b[0m\u001b[1;33m,\u001b[0m \u001b[0mmessage\u001b[0m\u001b[1;33m,\u001b[0m \u001b[0mparams\u001b[0m\u001b[1;33m)\u001b[0m \u001b[1;33m=\u001b[0m \u001b[0munity\u001b[0m\u001b[1;33m.\u001b[0m\u001b[0mrun_toolkit\u001b[0m\u001b[1;33m(\u001b[0m\u001b[0mtoolkit_name\u001b[0m\u001b[1;33m,\u001b[0m \u001b[0moptions\u001b[0m\u001b[1;33m)\u001b[0m\u001b[1;33m\u001b[0m\u001b[0m\n\u001b[0m\u001b[0;32m     61\u001b[0m         \u001b[0mend_time\u001b[0m \u001b[1;33m=\u001b[0m \u001b[0mtime\u001b[0m\u001b[1;33m.\u001b[0m\u001b[0mtime\u001b[0m\u001b[1;33m(\u001b[0m\u001b[1;33m)\u001b[0m\u001b[1;33m\u001b[0m\u001b[0m\n\u001b[0;32m     62\u001b[0m     \u001b[1;32mexcept\u001b[0m\u001b[1;33m:\u001b[0m\u001b[1;33m\u001b[0m\u001b[0m\n",
      "\u001b[1;32mgraphlab/cython/cy_unity.pyx\u001b[0m in \u001b[0;36mgraphlab.cython.cy_unity.UnityGlobalProxy.run_toolkit\u001b[1;34m()\u001b[0m\n",
      "\u001b[1;32mgraphlab/cython/cy_unity.pyx\u001b[0m in \u001b[0;36mgraphlab.cython.cy_unity.UnityGlobalProxy.run_toolkit\u001b[1;34m()\u001b[0m\n",
      "\u001b[1;31mIOError\u001b[0m: Fail to write. Disk may be full."
     ]
    }
   ],
   "source": [
    "params = {'target':'TARGET', 'validation_set':validate,'verbose':True, 'random_seed':8923,\n",
    "          'class_weights':'auto','metric':'auc',\n",
    "          'early_stopping_rounds':20, 'max_iterations':300}\n",
    "#          'max_depth':4, 'row_subsample':1, 'column_subsample'=1, 'step_size':0.3}\n",
    "\n",
    "\n",
    "model = gl.boosted_trees_classifier.create(train, **params)"
   ]
  },
  {
   "cell_type": "code",
   "execution_count": null,
   "metadata": {
    "ExecuteTime": {
     "end_time": "2016-03-12T15:09:38.671811",
     "start_time": "2016-03-12T03:57:06.311Z"
    },
    "collapsed": false
   },
   "outputs": [],
   "source": [
    "reload(tools)\n",
    "tools.plot_roc(model, validate);"
   ]
  },
  {
   "cell_type": "markdown",
   "metadata": {
    "collapsed": true,
    "heading_collapsed": true
   },
   "source": [
    "# Inspect most important variables.\n"
   ]
  },
  {
   "cell_type": "code",
   "execution_count": 4,
   "metadata": {
    "ExecuteTime": {
     "end_time": "2016-03-13T09:34:24.595487",
     "start_time": "2016-03-13T09:33:59.234600"
    },
    "collapsed": true
   },
   "outputs": [
    {
     "data": {
      "text/html": [
       "<pre>WARNING: Detected extremely low variance for feature(s) 'var33 delta transfer amount out 1Y3', 'var33 transfer amount out ultima1', 'var33 number transfer out ultima1' because all entries are nearly the same.\n",
       "Proceeding with model training using all features. If the model does not provide results of adequate quality, exclude the above mentioned feature(s) from the input dataset.</pre>"
      ],
      "text/plain": [
       "WARNING: Detected extremely low variance for feature(s) 'var33 delta transfer amount out 1Y3', 'var33 transfer amount out ultima1', 'var33 number transfer out ultima1' because all entries are nearly the same.\n",
       "Proceeding with model training using all features. If the model does not provide results of adequate quality, exclude the above mentioned feature(s) from the input dataset."
      ]
     },
     "metadata": {},
     "output_type": "display_data"
    },
    {
     "data": {
      "text/html": [
       "<pre>Boosted trees classifier:</pre>"
      ],
      "text/plain": [
       "Boosted trees classifier:"
      ]
     },
     "metadata": {},
     "output_type": "display_data"
    },
    {
     "data": {
      "text/html": [
       "<pre>--------------------------------------------------------</pre>"
      ],
      "text/plain": [
       "--------------------------------------------------------"
      ]
     },
     "metadata": {},
     "output_type": "display_data"
    },
    {
     "data": {
      "text/html": [
       "<pre>Number of examples          : 60568</pre>"
      ],
      "text/plain": [
       "Number of examples          : 60568"
      ]
     },
     "metadata": {},
     "output_type": "display_data"
    },
    {
     "data": {
      "text/html": [
       "<pre>Number of classes           : 2</pre>"
      ],
      "text/plain": [
       "Number of classes           : 2"
      ]
     },
     "metadata": {},
     "output_type": "display_data"
    },
    {
     "data": {
      "text/html": [
       "<pre>Number of feature columns   : 306</pre>"
      ],
      "text/plain": [
       "Number of feature columns   : 306"
      ]
     },
     "metadata": {},
     "output_type": "display_data"
    },
    {
     "data": {
      "text/html": [
       "<pre>Number of unpacked features : 306</pre>"
      ],
      "text/plain": [
       "Number of unpacked features : 306"
      ]
     },
     "metadata": {},
     "output_type": "display_data"
    },
    {
     "data": {
      "text/html": [
       "<pre>+-----------+--------------+--------------+----------------+</pre>"
      ],
      "text/plain": [
       "+-----------+--------------+--------------+----------------+"
      ]
     },
     "metadata": {},
     "output_type": "display_data"
    },
    {
     "data": {
      "text/html": [
       "<pre>| Iteration | Elapsed Time | Training-auc | Validation-auc |</pre>"
      ],
      "text/plain": [
       "| Iteration | Elapsed Time | Training-auc | Validation-auc |"
      ]
     },
     "metadata": {},
     "output_type": "display_data"
    },
    {
     "data": {
      "text/html": [
       "<pre>+-----------+--------------+--------------+----------------+</pre>"
      ],
      "text/plain": [
       "+-----------+--------------+--------------+----------------+"
      ]
     },
     "metadata": {},
     "output_type": "display_data"
    },
    {
     "data": {
      "text/html": [
       "<pre>| 1         | 0.229299     | 0.820057     | 0.820064       |</pre>"
      ],
      "text/plain": [
       "| 1         | 0.229299     | 0.820057     | 0.820064       |"
      ]
     },
     "metadata": {},
     "output_type": "display_data"
    },
    {
     "data": {
      "text/html": [
       "<pre>| 2         | 0.404783     | 0.827293     | 0.827227       |</pre>"
      ],
      "text/plain": [
       "| 2         | 0.404783     | 0.827293     | 0.827227       |"
      ]
     },
     "metadata": {},
     "output_type": "display_data"
    },
    {
     "data": {
      "text/html": [
       "<pre>| 3         | 0.588198     | 0.829357     | 0.827584       |</pre>"
      ],
      "text/plain": [
       "| 3         | 0.588198     | 0.829357     | 0.827584       |"
      ]
     },
     "metadata": {},
     "output_type": "display_data"
    },
    {
     "data": {
      "text/html": [
       "<pre>| 4         | 0.765628     | 0.834063     | 0.830770       |</pre>"
      ],
      "text/plain": [
       "| 4         | 0.765628     | 0.834063     | 0.830770       |"
      ]
     },
     "metadata": {},
     "output_type": "display_data"
    },
    {
     "data": {
      "text/html": [
       "<pre>| 5         | 0.945578     | 0.836802     | 0.832260       |</pre>"
      ],
      "text/plain": [
       "| 5         | 0.945578     | 0.836802     | 0.832260       |"
      ]
     },
     "metadata": {},
     "output_type": "display_data"
    },
    {
     "data": {
      "text/html": [
       "<pre>| 6         | 1.128756     | 0.836398     | 0.830956       |</pre>"
      ],
      "text/plain": [
       "| 6         | 1.128756     | 0.836398     | 0.830956       |"
      ]
     },
     "metadata": {},
     "output_type": "display_data"
    },
    {
     "data": {
      "text/html": [
       "<pre>| 10        | 1.853880     | 0.842514     | 0.836543       |</pre>"
      ],
      "text/plain": [
       "| 10        | 1.853880     | 0.842514     | 0.836543       |"
      ]
     },
     "metadata": {},
     "output_type": "display_data"
    },
    {
     "data": {
      "text/html": [
       "<pre>| 11        | 2.041405     | 0.843680     | 0.837302       |</pre>"
      ],
      "text/plain": [
       "| 11        | 2.041405     | 0.843680     | 0.837302       |"
      ]
     },
     "metadata": {},
     "output_type": "display_data"
    },
    {
     "data": {
      "text/html": [
       "<pre>| 20        | 3.722999     | 0.850309     | 0.840667       |</pre>"
      ],
      "text/plain": [
       "| 20        | 3.722999     | 0.850309     | 0.840667       |"
      ]
     },
     "metadata": {},
     "output_type": "display_data"
    },
    {
     "data": {
      "text/html": [
       "<pre>| 30        | 5.589960     | 0.855640     | 0.843102       |</pre>"
      ],
      "text/plain": [
       "| 30        | 5.589960     | 0.855640     | 0.843102       |"
      ]
     },
     "metadata": {},
     "output_type": "display_data"
    },
    {
     "data": {
      "text/html": [
       "<pre>| 40        | 7.441953     | 0.859954     | 0.844236       |</pre>"
      ],
      "text/plain": [
       "| 40        | 7.441953     | 0.859954     | 0.844236       |"
      ]
     },
     "metadata": {},
     "output_type": "display_data"
    },
    {
     "data": {
      "text/html": [
       "<pre>| 50        | 9.319683     | 0.863559     | 0.844840       |</pre>"
      ],
      "text/plain": [
       "| 50        | 9.319683     | 0.863559     | 0.844840       |"
      ]
     },
     "metadata": {},
     "output_type": "display_data"
    },
    {
     "data": {
      "text/html": [
       "<pre>| 51        | 9.525965     | 0.864025     | 0.844999       |</pre>"
      ],
      "text/plain": [
       "| 51        | 9.525965     | 0.864025     | 0.844999       |"
      ]
     },
     "metadata": {},
     "output_type": "display_data"
    },
    {
     "data": {
      "text/html": [
       "<pre>| 60        | 11.186108    | 0.866464     | 0.845110       |</pre>"
      ],
      "text/plain": [
       "| 60        | 11.186108    | 0.866464     | 0.845110       |"
      ]
     },
     "metadata": {},
     "output_type": "display_data"
    },
    {
     "data": {
      "text/html": [
       "<pre>| 70        | 13.007408    | 0.868462     | 0.845052       |</pre>"
      ],
      "text/plain": [
       "| 70        | 13.007408    | 0.868462     | 0.845052       |"
      ]
     },
     "metadata": {},
     "output_type": "display_data"
    },
    {
     "data": {
      "text/html": [
       "<pre>| 80        | 14.851962    | 0.870623     | 0.844900       |</pre>"
      ],
      "text/plain": [
       "| 80        | 14.851962    | 0.870623     | 0.844900       |"
      ]
     },
     "metadata": {},
     "output_type": "display_data"
    },
    {
     "data": {
      "text/html": [
       "<pre>| 90        | 16.715817    | 0.872021     | 0.845067       |</pre>"
      ],
      "text/plain": [
       "| 90        | 16.715817    | 0.872021     | 0.845067       |"
      ]
     },
     "metadata": {},
     "output_type": "display_data"
    },
    {
     "data": {
      "text/html": [
       "<pre>+-----------+--------------+--------------+----------------+</pre>"
      ],
      "text/plain": [
       "+-----------+--------------+--------------+----------------+"
      ]
     },
     "metadata": {},
     "output_type": "display_data"
    },
    {
     "data": {
      "text/html": [
       "<pre>Early stop triggered. Returning the best model at iteration: 71</pre>"
      ],
      "text/plain": [
       "Early stop triggered. Returning the best model at iteration: 71"
      ]
     },
     "metadata": {},
     "output_type": "display_data"
    },
    {
     "name": "stdout",
     "output_type": "stream",
     "text": [
      "{'confusion_matrix': Columns:\n",
      "\ttarget_label\tint\n",
      "\tpredicted_label\tint\n",
      "\tcount\tint\n",
      "\n",
      "Rows: 4\n",
      "\n",
      "Data:\n",
      "+--------------+-----------------+-------+\n",
      "| target_label | predicted_label | count |\n",
      "+--------------+-----------------+-------+\n",
      "|      1       |        0        |  146  |\n",
      "|      1       |        1        |  479  |\n",
      "|      0       |        1        |  3220 |\n",
      "|      0       |        0        | 11607 |\n",
      "+--------------+-----------------+-------+\n",
      "[4 rows x 3 columns]\n",
      "}\n"
     ]
    },
    {
     "data": {
      "image/png": "[encoded data removed]",
      "text/plain": [
       "<matplotlib.figure.Figure at 0x7f7874731b50>"
      ]
     },
     "metadata": {},
     "output_type": "display_data"
    }
   ],
   "source": [
    "train, validate = train_data.random_split(0.8, seed=8273)\n",
    "params = {'target':'TARGET', 'validation_set':validate,'verbose':True, 'random_seed':8923,\n",
    "          'class_weights':'auto','metric':'auc',\n",
    "          'early_stopping_rounds':20, 'max_iterations':300}\n",
    "d=4; r=1; c=0.6; s=0.1;\n",
    "model = gl.boosted_trees_classifier.create(train, \n",
    "                    max_depth=d, row_subsample=r, column_subsample=c, \n",
    "                                           step_size=s, **params)\n",
    "print model.evaluate(validate, metric='confusion_matrix')\n",
    "tools.plot_roc(model, validate);"
   ]
  },
  {
   "cell_type": "code",
   "execution_count": 5,
   "metadata": {
    "ExecuteTime": {
     "end_time": "2016-03-13T09:35:53.008850",
     "start_time": "2016-03-13T09:35:52.956843"
    },
    "collapsed": false
   },
   "outputs": [
    {
     "data": {
      "text/html": [
       "<div style=\"max-height:1000px;max-width:1500px;overflow:auto;\"><table frame=\"box\" rules=\"cols\">\n",
       "    <tr>\n",
       "        <th style=\"padding-left: 1em; padding-right: 1em; text-align: center\">name</th>\n",
       "        <th style=\"padding-left: 1em; padding-right: 1em; text-align: center\">index</th>\n",
       "        <th style=\"padding-left: 1em; padding-right: 1em; text-align: center\">count</th>\n",
       "    </tr>\n",
       "    <tr>\n",
       "        <td style=\"padding-left: 1em; padding-right: 1em; text-align: center; vertical-align: top\">var38</td>\n",
       "        <td style=\"padding-left: 1em; padding-right: 1em; text-align: center; vertical-align: top\">None</td>\n",
       "        <td style=\"padding-left: 1em; padding-right: 1em; text-align: center; vertical-align: top\">105</td>\n",
       "    </tr>\n",
       "    <tr>\n",
       "        <td style=\"padding-left: 1em; padding-right: 1em; text-align: center; vertical-align: top\">var15</td>\n",
       "        <td style=\"padding-left: 1em; padding-right: 1em; text-align: center; vertical-align: top\">None</td>\n",
       "        <td style=\"padding-left: 1em; padding-right: 1em; text-align: center; vertical-align: top\">104</td>\n",
       "    </tr>\n",
       "    <tr>\n",
       "        <td style=\"padding-left: 1em; padding-right: 1em; text-align: center; vertical-align: top\">ID</td>\n",
       "        <td style=\"padding-left: 1em; padding-right: 1em; text-align: center; vertical-align: top\">None</td>\n",
       "        <td style=\"padding-left: 1em; padding-right: 1em; text-align: center; vertical-align: top\">61</td>\n",
       "    </tr>\n",
       "    <tr>\n",
       "        <td style=\"padding-left: 1em; padding-right: 1em; text-align: center; vertical-align: top\">var30 balance</td>\n",
       "        <td style=\"padding-left: 1em; padding-right: 1em; text-align: center; vertical-align: top\">None</td>\n",
       "        <td style=\"padding-left: 1em; padding-right: 1em; text-align: center; vertical-align: top\">55</td>\n",
       "    </tr>\n",
       "    <tr>\n",
       "        <td style=\"padding-left: 1em; padding-right: 1em; text-align: center; vertical-align: top\">var5 average balance<br>hace3 ...</td>\n",
       "        <td style=\"padding-left: 1em; padding-right: 1em; text-align: center; vertical-align: top\">None</td>\n",
       "        <td style=\"padding-left: 1em; padding-right: 1em; text-align: center; vertical-align: top\">52</td>\n",
       "    </tr>\n",
       "    <tr>\n",
       "        <td style=\"padding-left: 1em; padding-right: 1em; text-align: center; vertical-align: top\">var5 average balance<br>hace2 ...</td>\n",
       "        <td style=\"padding-left: 1em; padding-right: 1em; text-align: center; vertical-align: top\">None</td>\n",
       "        <td style=\"padding-left: 1em; padding-right: 1em; text-align: center; vertical-align: top\">44</td>\n",
       "    </tr>\n",
       "    <tr>\n",
       "        <td style=\"padding-left: 1em; padding-right: 1em; text-align: center; vertical-align: top\">var5 average balance<br>ultima3 ...</td>\n",
       "        <td style=\"padding-left: 1em; padding-right: 1em; text-align: center; vertical-align: top\">None</td>\n",
       "        <td style=\"padding-left: 1em; padding-right: 1em; text-align: center; vertical-align: top\">37</td>\n",
       "    </tr>\n",
       "    <tr>\n",
       "        <td style=\"padding-left: 1em; padding-right: 1em; text-align: center; vertical-align: top\">var42 balance</td>\n",
       "        <td style=\"padding-left: 1em; padding-right: 1em; text-align: center; vertical-align: top\">None</td>\n",
       "        <td style=\"padding-left: 1em; padding-right: 1em; text-align: center; vertical-align: top\">31</td>\n",
       "    </tr>\n",
       "    <tr>\n",
       "        <td style=\"padding-left: 1em; padding-right: 1em; text-align: center; vertical-align: top\">var45 number hace3</td>\n",
       "        <td style=\"padding-left: 1em; padding-right: 1em; text-align: center; vertical-align: top\">None</td>\n",
       "        <td style=\"padding-left: 1em; padding-right: 1em; text-align: center; vertical-align: top\">26</td>\n",
       "    </tr>\n",
       "    <tr>\n",
       "        <td style=\"padding-left: 1em; padding-right: 1em; text-align: center; vertical-align: top\">var22 number ultima1</td>\n",
       "        <td style=\"padding-left: 1em; padding-right: 1em; text-align: center; vertical-align: top\">None</td>\n",
       "        <td style=\"padding-left: 1em; padding-right: 1em; text-align: center; vertical-align: top\">26</td>\n",
       "    </tr>\n",
       "</table>\n",
       "[399 rows x 3 columns]<br/>Note: Only the head of the SFrame is printed.<br/>You can use print_rows(num_rows=m, num_columns=n) to print more rows and columns.\n",
       "</div>"
      ],
      "text/plain": [
       "Columns:\n",
       "\tname\tstr\n",
       "\tindex\tstr\n",
       "\tcount\tint\n",
       "\n",
       "Rows: 399\n",
       "\n",
       "Data:\n",
       "+------------------------------+-------+-------+\n",
       "|             name             | index | count |\n",
       "+------------------------------+-------+-------+\n",
       "|            var38             |  None |  105  |\n",
       "|            var15             |  None |  104  |\n",
       "|              ID              |  None |   61  |\n",
       "|        var30 balance         |  None |   55  |\n",
       "|  var5 average balance hace3  |  None |   52  |\n",
       "|  var5 average balance hace2  |  None |   44  |\n",
       "| var5 average balance ultima3 |  None |   37  |\n",
       "|        var42 balance         |  None |   31  |\n",
       "|      var45 number hace3      |  None |   26  |\n",
       "|     var22 number ultima1     |  None |   26  |\n",
       "+------------------------------+-------+-------+\n",
       "[399 rows x 3 columns]\n",
       "Note: Only the head of the SFrame is printed.\n",
       "You can use print_rows(num_rows=m, num_columns=n) to print more rows and columns."
      ]
     },
     "execution_count": 5,
     "metadata": {},
     "output_type": "execute_result"
    }
   ],
   "source": [
    "model.get_feature_importance()"
   ]
  },
  {
   "cell_type": "code",
   "execution_count": 6,
   "metadata": {
    "ExecuteTime": {
     "end_time": "2016-03-13T09:37:22.243437",
     "start_time": "2016-03-13T09:37:22.002480"
    },
    "collapsed": false
   },
   "outputs": [
    {
     "name": "stderr",
     "output_type": "stream",
     "text": [
      "/home/ec2-user/anaconda2/envs/dato-env/lib/python2.7/site-packages/matplotlib/__init__.py:872: UserWarning: axes.color_cycle is deprecated and replaced with axes.prop_cycle; please use the latter.\n",
      "  warnings.warn(self.msg_depr % (key, alt_key))\n"
     ]
    }
   ],
   "source": [
    "import numpy as np\n",
    "import pandas as pd\n",
    "%matplotlib inline\n"
   ]
  },
  {
   "cell_type": "markdown",
   "metadata": {
    "heading_collapsed": true,
    "variables": {
     "\"{:.1%}\".format(14868/76020.)": {}
    }
   },
   "source": [
    "## var38\n",
    "- Mode accounts for {{\"{:.1%}\".format(14868/76020.)}} of the data\n",
    "- Removing mode and taking a log, it looks normally distributed"
   ]
  },
  {
   "cell_type": "code",
   "execution_count": 63,
   "metadata": {
    "ExecuteTime": {
     "end_time": "2016-03-13T10:19:19.033254",
     "start_time": "2016-03-13T10:19:18.878590"
    },
    "collapsed": true
   },
   "outputs": [
    {
     "data": {
      "text/plain": [
       "\n",
       "+--------------------+---------------+----------+\n",
       "|        item        |     value     | is exact |\n",
       "+--------------------+---------------+----------+\n",
       "|       Length       |     76020     |   Yes    |\n",
       "|        Min         |    5163.75    |   Yes    |\n",
       "|        Max         |  22034738.76  |   Yes    |\n",
       "|        Mean        |  117235.80943 |   Yes    |\n",
       "|        Sum         |  8912266232.9 |   Yes    |\n",
       "|      Variance      | 33365916630.7 |   Yes    |\n",
       "| Standard Deviation | 182663.397074 |   Yes    |\n",
       "|  # Missing Values  |       0       |   Yes    |\n",
       "|  # unique values   |     57940     |    No    |\n",
       "+--------------------+---------------+----------+\n",
       "\n",
       "Most frequent items:\n",
       "+-------+---------------+-----------+-----------+-----------+----------+-----------+\n",
       "| value | 117310.979016 | 451931.22 | 463625.16 | 288997.44 | 104563.8 | 236690.34 |\n",
       "+-------+---------------+-----------+-----------+-----------+----------+-----------+\n",
       "| count |     14868     |     16    |     12    |     11    |    11    |     8     |\n",
       "+-------+---------------+-----------+-----------+-----------+----------+-----------+\n",
       "+-----------+-----------+-----------+-----------+\n",
       "| 100466.73 | 125722.44 | 104644.41 | 128318.52 |\n",
       "+-----------+-----------+-----------+-----------+\n",
       "|     7     |     7     |     7     |     7     |\n",
       "+-----------+-----------+-----------+-----------+\n",
       "\n",
       "Quantiles: \n",
       "+---------+----------+----------+---------+-----------+-----------+-----------+\n",
       "|    0%   |    1%    |    5%    |   25%   |    50%    |    75%    |    95%    |\n",
       "+---------+----------+----------+---------+-----------+-----------+-----------+\n",
       "| 5163.75 | 25446.72 | 39186.87 | 67838.4 | 106425.03 | 118821.36 | 242545.71 |\n",
       "+---------+----------+----------+---------+-----------+-----------+-----------+\n",
       "+-----------+-------------+\n",
       "|    99%    |     100%    |\n",
       "+-----------+-------------+\n",
       "| 451931.22 | 22034738.76 |\n",
       "+-----------+-------------+"
      ]
     },
     "execution_count": 63,
     "metadata": {},
     "output_type": "execute_result"
    }
   ],
   "source": [
    "train_data['var38'].sketch_summary()"
   ]
  },
  {
   "cell_type": "code",
   "execution_count": 9,
   "metadata": {
    "ExecuteTime": {
     "end_time": "2016-03-14T08:29:38.630916",
     "start_time": "2016-03-14T08:29:36.157995"
    },
    "code_folding": [
     0
    ],
    "collapsed": false
   },
   "outputs": [
    {
     "data": {
      "text/plain": [
       "<matplotlib.axes._subplots.AxesSubplot at 0x7f3b104d5510>"
      ]
     },
     "execution_count": 9,
     "metadata": {},
     "output_type": "execute_result"
    },
    {
     "data": {
      "image/png": "[encoded data removed]",
      "text/plain": [
       "<matplotlib.figure.Figure at 0x7f3b10c47f50>"
      ]
     },
     "metadata": {},
     "output_type": "display_data"
    }
   ],
   "source": [
    "# plot distributions\n",
    "from math import log1p, sqrt\n",
    "sns.set(\"notebook\")\n",
    "plt.figure(figsize=(16, 6))\n",
    "sa = train_data['var38']\n",
    "mode=tools.mode_sa(sa)\n",
    "\n",
    "plt.subplot(2, 3, 1)\n",
    "plt.title('Raw')\n",
    "sns.distplot(sa)\n",
    "\n",
    "plt.subplot(2, 3, 2)\n",
    "plt.title('Log1p')\n",
    "sns.distplot(sa.apply(log1p))\n",
    "\n",
    "plt.subplot(2, 3, 3)\n",
    "plt.title('Log1p - mode ' +  str(mode))\n",
    "sns.distplot(sa.filter(lambda x: x != mode).apply(log1p))\n",
    "\n",
    "plt.subplot(2, 3, 4)\n",
    "plt.title('Anscombe')\n",
    "sns.distplot(sa.apply(lambda x: 2*sqrt(x +3/8.0)))\n",
    "\n",
    "plt.subplot(2, 3, 5)\n",
    "plt.title('Anscombe - mode ' +  str(mode))\n",
    "sns.distplot(sa.filter(lambda x: x != mode).apply(lambda x: 2*sqrt(x +3/8.0)))"
   ]
  },
  {
   "cell_type": "markdown",
   "metadata": {
    "heading_collapsed": true,
    "variables": {
     "\"{:.1%}\".format(20170/76020.)": {}
    }
   },
   "source": [
    "## var15\n",
    "- Mode of 23 accounts for {{\"{:.1%}\".format(20170/76020.)}} of the data\n",
    "- after taking log it looks like two normal distributions, one around themode, the other around 40"
   ]
  },
  {
   "cell_type": "code",
   "execution_count": 91,
   "metadata": {
    "ExecuteTime": {
     "end_time": "2016-03-13T10:35:45.724596",
     "start_time": "2016-03-13T10:35:45.578875"
    },
    "collapsed": true
   },
   "outputs": [
    {
     "data": {
      "text/plain": [
       "\n",
       "+--------------------+---------------+----------+\n",
       "|        item        |     value     | is exact |\n",
       "+--------------------+---------------+----------+\n",
       "|       Length       |     76020     |   Yes    |\n",
       "|        Min         |      5.0      |   Yes    |\n",
       "|        Max         |     105.0     |   Yes    |\n",
       "|        Mean        | 33.2128650355 |   Yes    |\n",
       "|        Sum         |   2524842.0   |   Yes    |\n",
       "|      Variance      | 167.868316469 |   Yes    |\n",
       "| Standard Deviation | 12.9564005985 |   Yes    |\n",
       "|  # Missing Values  |       0       |   Yes    |\n",
       "|  # unique values   |      100      |    No    |\n",
       "+--------------------+---------------+----------+\n",
       "\n",
       "Most frequent items:\n",
       "+-------+-------+------+------+------+------+------+------+------+------+------+\n",
       "| value |   23  |  24  |  25  |  26  |  27  |  28  |  31  |  29  |  30  |  32  |\n",
       "+-------+-------+------+------+------+------+------+------+------+------+------+\n",
       "| count | 20170 | 6232 | 4217 | 3270 | 2861 | 2173 | 1798 | 1727 | 1640 | 1592 |\n",
       "+-------+-------+------+------+------+------+------+------+------+------+------+\n",
       "\n",
       "Quantiles: \n",
       "+-----+------+------+------+------+------+------+------+-------+\n",
       "|  0% |  1%  |  5%  | 25%  | 50%  | 75%  | 95%  | 99%  |  100% |\n",
       "+-----+------+------+------+------+------+------+------+-------+\n",
       "| 5.0 | 22.0 | 23.0 | 23.0 | 28.0 | 40.0 | 60.0 | 78.0 | 105.0 |\n",
       "+-----+------+------+------+------+------+------+------+-------+"
      ]
     },
     "execution_count": 91,
     "metadata": {},
     "output_type": "execute_result"
    }
   ],
   "source": [
    "train_data['var15'].sketch_summary()"
   ]
  },
  {
   "cell_type": "code",
   "execution_count": 8,
   "metadata": {
    "ExecuteTime": {
     "end_time": "2016-03-14T08:28:01.113459",
     "start_time": "2016-03-14T08:27:59.702673"
    },
    "code_folding": [],
    "collapsed": false,
    "scrolled": true
   },
   "outputs": [
    {
     "data": {
      "text/plain": [
       "<matplotlib.axes._subplots.AxesSubplot at 0x7f3b2016ff10>"
      ]
     },
     "execution_count": 8,
     "metadata": {},
     "output_type": "execute_result"
    },
    {
     "data": {
      "image/png": "[encoded data removed]",
      "text/plain": [
       "<matplotlib.figure.Figure at 0x7f3b1af6afd0>"
      ]
     },
     "metadata": {},
     "output_type": "display_data"
    }
   ],
   "source": [
    "# plot distributions\n",
    "from math import log1p\n",
    "sns.set(\"notebook\")\n",
    "plt.figure(figsize=(16, 6))\n",
    "sa = train_data['var15']\n",
    "mode=tools.mode_sa(sa)\n",
    "plt.subplot(1, 3, 1)\n",
    "plt.title('Raw')\n",
    "sns.distplot(sa)\n",
    "plt.subplot(1, 3, 2)\n",
    "plt.title('Log1p')\n",
    "sns.distplot(sa.apply(log1p))\n",
    "plt.subplot(1, 3, 3)\n",
    "plt.title('Log1p - mode ' +  str(mode))\n",
    "sns.distplot(sa.filter(lambda x: x != mode).apply(log1p))"
   ]
  },
  {
   "cell_type": "markdown",
   "metadata": {
    "heading_collapsed": true
   },
   "source": [
    "## var30 balance\n",
    "- Nothing particularly interesting"
   ]
  },
  {
   "cell_type": "code",
   "execution_count": 127,
   "metadata": {
    "ExecuteTime": {
     "end_time": "2016-03-13T11:25:48.296701",
     "start_time": "2016-03-13T11:25:48.149626"
    },
    "collapsed": false
   },
   "outputs": [
    {
     "data": {
      "text/plain": [
       "\n",
       "+--------------------+---------------+----------+\n",
       "|        item        |     value     | is exact |\n",
       "+--------------------+---------------+----------+\n",
       "|       Length       |     76020     |   Yes    |\n",
       "|        Min         |    -4942.26   |   Yes    |\n",
       "|        Max         |   3458077.32  |   Yes    |\n",
       "|        Mean        | 13679.6736582 |   Yes    |\n",
       "|        Sum         |  1039928791.5 |   Yes    |\n",
       "|      Variance      | 3970721810.85 |   Yes    |\n",
       "| Standard Deviation | 63013.6636838 |   Yes    |\n",
       "|  # Missing Values  |       0       |   Yes    |\n",
       "|  # unique values   |     16992     |    No    |\n",
       "+--------------------+---------------+----------+\n",
       "\n",
       "Most frequent items:\n",
       "+-------+-------+-------+------+------+------+-----+-------+------+-------+-------+\n",
       "| value |  0.0  |  3.0  | 90.0 | 30.0 | 15.0 | 6.0 | 150.0 | 60.0 | 300.0 | 120.0 |\n",
       "+-------+-------+-------+------+------+------+-----+-------+------+-------+-------+\n",
       "| count | 20310 | 18290 | 5236 | 1603 | 1477 | 926 |  823  | 686  |  400  |  305  |\n",
       "+-------+-------+-------+------+------+------+-----+-------+------+-------+-------+\n",
       "\n",
       "Quantiles: \n",
       "+----------+-----+-----+-----+-----+--------+---------+----------+------------+\n",
       "|    0%    |  1% |  5% | 25% | 50% |  75%   |   95%   |   99%    |    100%    |\n",
       "+----------+-----+-----+-----+-----+--------+---------+----------+------------+\n",
       "| -4942.26 | 0.0 | 0.0 | 0.0 | 3.0 | 234.03 | 90000.0 | 300060.0 | 3458077.32 |\n",
       "+----------+-----+-----+-----+-----+--------+---------+----------+------------+"
      ]
     },
     "execution_count": 127,
     "metadata": {},
     "output_type": "execute_result"
    }
   ],
   "source": [
    "train_data['var30 balance'].sketch_summary()"
   ]
  },
  {
   "cell_type": "code",
   "execution_count": 131,
   "metadata": {
    "ExecuteTime": {
     "end_time": "2016-03-13T11:29:15.945214",
     "start_time": "2016-03-13T11:29:14.865262"
    },
    "code_folding": [],
    "collapsed": false
   },
   "outputs": [
    {
     "data": {
      "text/plain": [
       "<matplotlib.axes._subplots.AxesSubplot at 0x7f77f90b6950>"
      ]
     },
     "execution_count": 131,
     "metadata": {},
     "output_type": "execute_result"
    },
    {
     "data": {
      "image/png": "[encoded data removed]",
      "text/plain": [
       "<matplotlib.figure.Figure at 0x7f77fa331b90>"
      ]
     },
     "metadata": {},
     "output_type": "display_data"
    }
   ],
   "source": [
    "# plot distributions\n",
    "from math import log1p\n",
    "sns.set(\"notebook\")\n",
    "plt.figure(figsize=(16, 6))\n",
    "sa = train_data['var30 balance']\n",
    "plt.subplot(1, 2, 1)\n",
    "plt.title('Raw')\n",
    "sns.distplot(sa)\n",
    "plt.subplot(1, 2, 2)\n",
    "plt.title('Log1p')\n",
    "sns.distplot(sa.apply(lambda x: log1p(x + 5000)))"
   ]
  },
  {
   "cell_type": "code",
   "execution_count": null,
   "metadata": {
    "collapsed": true
   },
   "outputs": [],
   "source": []
  },
  {
   "cell_type": "markdown",
   "metadata": {
    "heading_collapsed": true
   },
   "source": [
    "## var5 average balance hace3\n",
    "- Nothing particularly interesting"
   ]
  },
  {
   "cell_type": "code",
   "execution_count": 132,
   "metadata": {
    "ExecuteTime": {
     "end_time": "2016-03-13T11:31:33.618053",
     "start_time": "2016-03-13T11:31:33.459236"
    },
    "collapsed": false
   },
   "outputs": [
    {
     "data": {
      "text/plain": [
       "\n",
       "+--------------------+---------------+----------+\n",
       "|        item        |     value     | is exact |\n",
       "+--------------------+---------------+----------+\n",
       "|       Length       |     76020     |   Yes    |\n",
       "|        Min         |     -8.04     |   Yes    |\n",
       "|        Max         |   1542339.36  |   Yes    |\n",
       "|        Mean        | 891.365863457 |   Yes    |\n",
       "|        Sum         |  67761632.94  |   Yes    |\n",
       "|      Variance      | 97783064.3257 |   Yes    |\n",
       "| Standard Deviation | 9888.53196009 |   Yes    |\n",
       "|  # Missing Values  |       0       |   Yes    |\n",
       "|  # unique values   |      7787     |    No    |\n",
       "+--------------------+---------------+----------+\n",
       "\n",
       "Most frequent items:\n",
       "+-------+-------+------+------+------+------+------+------+-----+------+------+\n",
       "| value |  0.0  | 0.09 | 0.18 | 0.99 | 2.61 | 0.27 | 2.55 | 2.4 | 0.51 | 1.05 |\n",
       "+-------+-------+------+------+------+------+------+------+-----+------+------+\n",
       "| count | 29637 | 992  | 875  | 741  | 703  | 629  | 600  | 583 | 576  | 564  |\n",
       "+-------+-------+------+------+------+------+------+------+-----+------+------+\n",
       "\n",
       "Quantiles: \n",
       "+-------+-----+-----+-----+------+-------+---------+----------+------------+\n",
       "|   0%  |  1% |  5% | 25% | 50%  |  75%  |   95%   |   99%    |    100%    |\n",
       "+-------+-----+-----+-----+------+-------+---------+----------+------------+\n",
       "| -8.04 | 0.0 | 0.0 | 0.0 | 0.99 | 12.09 | 1055.16 | 23586.15 | 1542339.36 |\n",
       "+-------+-----+-----+-----+------+-------+---------+----------+------------+"
      ]
     },
     "execution_count": 132,
     "metadata": {},
     "output_type": "execute_result"
    }
   ],
   "source": [
    "train_data['var5 average balance hace3'].sketch_summary()"
   ]
  },
  {
   "cell_type": "code",
   "execution_count": 135,
   "metadata": {
    "ExecuteTime": {
     "end_time": "2016-03-13T11:33:46.592084",
     "start_time": "2016-03-13T11:33:43.379064"
    },
    "code_folding": [],
    "collapsed": false
   },
   "outputs": [
    {
     "data": {
      "text/plain": [
       "<matplotlib.axes._subplots.AxesSubplot at 0x7f77e3f1de10>"
      ]
     },
     "execution_count": 135,
     "metadata": {},
     "output_type": "execute_result"
    },
    {
     "data": {
      "image/png": "[encoded data removed]",
      "text/plain": [
       "<matplotlib.figure.Figure at 0x7f77f8fb1950>"
      ]
     },
     "metadata": {},
     "output_type": "display_data"
    }
   ],
   "source": [
    "# plot distributions\n",
    "from math import log1p, sqrt\n",
    "sns.set(\"notebook\")\n",
    "plt.figure(figsize=(16, 6))\n",
    "sa = train_data['var5 average balance hace3']\n",
    "mode=tools.mode_sa(sa)\n",
    "\n",
    "plt.subplot(2, 3, 1)\n",
    "plt.title('Raw')\n",
    "sns.distplot(sa)\n",
    "\n",
    "plt.subplot(2, 3, 2)\n",
    "plt.title('Log1p')\n",
    "sns.distplot(sa.apply(lambda x: log1p(x+10)))\n",
    "\n",
    "plt.subplot(2, 3, 3)\n",
    "plt.title('Log1p without mode')\n",
    "sns.distplot(sa.filter(lambda x: x != mode).apply(lambda x: log1p(x+10)))\n",
    "\n",
    "plt.subplot(2, 3, 4)\n",
    "plt.title('Anscombe')\n",
    "sns.distplot(sa.apply(lambda x: 2*sqrt(x+10 +3/8.0)))\n",
    "\n",
    "plt.subplot(2, 3, 5)\n",
    "plt.title('Anscombe without mode')\n",
    "sns.distplot(sa.filter(lambda x: x != mode).apply(lambda x: 2*sqrt(x+10 +3/8.0)))"
   ]
  },
  {
   "cell_type": "markdown",
   "metadata": {
    "heading_collapsed": true
   },
   "source": [
    "## ID\n",
    "- Roughly uniformly distributed.\n",
    "- Wonder if there is time information in this."
   ]
  },
  {
   "cell_type": "code",
   "execution_count": 93,
   "metadata": {
    "ExecuteTime": {
     "end_time": "2016-03-13T10:39:13.447329",
     "start_time": "2016-03-13T10:39:13.338053"
    },
    "collapsed": true
   },
   "outputs": [
    {
     "data": {
      "text/plain": [
       "\n",
       "+--------------------+---------------+----------+\n",
       "|        item        |     value     | is exact |\n",
       "+--------------------+---------------+----------+\n",
       "|       Length       |     76020     |   Yes    |\n",
       "|        Min         |      1.0      |   Yes    |\n",
       "|        Max         |    151838.0   |   Yes    |\n",
       "|        Mean        | 75964.0507235 |   Yes    |\n",
       "|        Sum         |  5774787136.0 |   Yes    |\n",
       "|      Variance      | 1916833701.15 |   Yes    |\n",
       "| Standard Deviation | 43781.6594152 |   Yes    |\n",
       "|  # Missing Values  |       0       |   Yes    |\n",
       "|  # unique values   |     76436     |    No    |\n",
       "+--------------------+---------------+----------+\n",
       "\n",
       "Most frequent items:\n",
       " -- All elements appear with less than 0.01% frequency -- \n",
       "\n",
       "Quantiles: \n",
       "+-----+--------+--------+---------+---------+----------+----------+----------+\n",
       "|  0% |   1%   |   5%   |   25%   |   50%   |   75%    |   95%    |   99%    |\n",
       "+-----+--------+--------+---------+---------+----------+----------+----------+\n",
       "| 1.0 | 1515.0 | 7651.0 | 38107.0 | 76042.0 | 113860.0 | 144324.0 | 150240.0 |\n",
       "+-----+--------+--------+---------+---------+----------+----------+----------+\n",
       "+----------+\n",
       "|   100%   |\n",
       "+----------+\n",
       "| 151838.0 |\n",
       "+----------+"
      ]
     },
     "execution_count": 93,
     "metadata": {},
     "output_type": "execute_result"
    }
   ],
   "source": [
    "train_data['ID'].sketch_summary()"
   ]
  },
  {
   "cell_type": "code",
   "execution_count": 95,
   "metadata": {
    "ExecuteTime": {
     "end_time": "2016-03-13T10:56:10.332085",
     "start_time": "2016-03-13T10:56:09.774707"
    },
    "code_folding": [],
    "collapsed": true
   },
   "outputs": [
    {
     "data": {
      "text/plain": [
       "<matplotlib.axes._subplots.AxesSubplot at 0x7f78012c9190>"
      ]
     },
     "execution_count": 95,
     "metadata": {},
     "output_type": "execute_result"
    },
    {
     "data": {
      "image/png": "[encoded data removed]",
      "text/plain": [
       "<matplotlib.figure.Figure at 0x7f7808aeee90>"
      ]
     },
     "metadata": {},
     "output_type": "display_data"
    }
   ],
   "source": [
    "# plot distributions\n",
    "from math import log1p\n",
    "sns.set(\"notebook\")\n",
    "plt.figure(figsize=(16, 6))\n",
    "sa = train_data['ID']\n",
    "plt.title('ID: Raw')\n",
    "sns.distplot(sa)"
   ]
  },
  {
   "cell_type": "code",
   "execution_count": 98,
   "metadata": {
    "ExecuteTime": {
     "end_time": "2016-03-13T10:57:10.096721",
     "start_time": "2016-03-13T10:57:10.088187"
    },
    "collapsed": false
   },
   "outputs": [
    {
     "data": {
      "text/plain": [
       "dtype: int\n",
       "Rows: 10\n",
       "[151816, 151818, 151820, 151821, 151825, 151829, 151830, 151835, 151836, 151838]"
      ]
     },
     "execution_count": 98,
     "metadata": {},
     "output_type": "execute_result"
    }
   ],
   "source": [
    "train_data['ID'].tail()"
   ]
  },
  {
   "cell_type": "markdown",
   "metadata": {
    "collapsed": true,
    "heading_collapsed": true
   },
   "source": [
    "# Feature Engineering\n",
    "- Drop ID\n",
    "- transform var38 and var15 by log1p and Anscombe\n",
    "- did not improve the score"
   ]
  },
  {
   "cell_type": "code",
   "execution_count": 152,
   "metadata": {
    "ExecuteTime": {
     "end_time": "2016-03-13T11:45:40.823494",
     "start_time": "2016-03-13T11:45:40.753780"
    },
    "collapsed": false
   },
   "outputs": [
    {
     "name": "stdout",
     "output_type": "stream",
     "text": [
      "Loading saved processed data\n",
      "306  features in total\n"
     ]
    }
   ],
   "source": [
    "train_data, test_data = initialise.load_data(reload_data=False)\n",
    "#train_data.remove_column('ID');\n",
    "\n",
    "def anscombe(x): \n",
    "    return 2*sqrt(x +3/8.0)\n",
    "\n",
    "for col in ['var38', 'var15']:\n",
    "    for table in [train_data, test_data]:\n",
    "        table['log1p '+ col]   = table[col].apply(log1p)\n",
    "        table['Anscombe '+col] = table[col].apply(anscombe)"
   ]
  },
  {
   "cell_type": "code",
   "execution_count": 153,
   "metadata": {
    "ExecuteTime": {
     "end_time": "2016-03-13T11:46:19.644283",
     "start_time": "2016-03-13T11:45:56.739214"
    },
    "collapsed": true
   },
   "outputs": [
    {
     "data": {
      "text/html": [
       "<pre>WARNING: Detected extremely low variance for feature(s) 'var33 delta transfer amount out 1Y3', 'var33 transfer amount out ultima1', 'var33 number transfer out ultima1' because all entries are nearly the same.\n",
       "Proceeding with model training using all features. If the model does not provide results of adequate quality, exclude the above mentioned feature(s) from the input dataset.</pre>"
      ],
      "text/plain": [
       "WARNING: Detected extremely low variance for feature(s) 'var33 delta transfer amount out 1Y3', 'var33 transfer amount out ultima1', 'var33 number transfer out ultima1' because all entries are nearly the same.\n",
       "Proceeding with model training using all features. If the model does not provide results of adequate quality, exclude the above mentioned feature(s) from the input dataset."
      ]
     },
     "metadata": {},
     "output_type": "display_data"
    },
    {
     "data": {
      "text/html": [
       "<pre>Boosted trees classifier:</pre>"
      ],
      "text/plain": [
       "Boosted trees classifier:"
      ]
     },
     "metadata": {},
     "output_type": "display_data"
    },
    {
     "data": {
      "text/html": [
       "<pre>--------------------------------------------------------</pre>"
      ],
      "text/plain": [
       "--------------------------------------------------------"
      ]
     },
     "metadata": {},
     "output_type": "display_data"
    },
    {
     "data": {
      "text/html": [
       "<pre>Number of examples          : 60568</pre>"
      ],
      "text/plain": [
       "Number of examples          : 60568"
      ]
     },
     "metadata": {},
     "output_type": "display_data"
    },
    {
     "data": {
      "text/html": [
       "<pre>Number of classes           : 2</pre>"
      ],
      "text/plain": [
       "Number of classes           : 2"
      ]
     },
     "metadata": {},
     "output_type": "display_data"
    },
    {
     "data": {
      "text/html": [
       "<pre>Number of feature columns   : 310</pre>"
      ],
      "text/plain": [
       "Number of feature columns   : 310"
      ]
     },
     "metadata": {},
     "output_type": "display_data"
    },
    {
     "data": {
      "text/html": [
       "<pre>Number of unpacked features : 310</pre>"
      ],
      "text/plain": [
       "Number of unpacked features : 310"
      ]
     },
     "metadata": {},
     "output_type": "display_data"
    },
    {
     "data": {
      "text/html": [
       "<pre>+-----------+--------------+--------------+----------------+</pre>"
      ],
      "text/plain": [
       "+-----------+--------------+--------------+----------------+"
      ]
     },
     "metadata": {},
     "output_type": "display_data"
    },
    {
     "data": {
      "text/html": [
       "<pre>| Iteration | Elapsed Time | Training-auc | Validation-auc |</pre>"
      ],
      "text/plain": [
       "| Iteration | Elapsed Time | Training-auc | Validation-auc |"
      ]
     },
     "metadata": {},
     "output_type": "display_data"
    },
    {
     "data": {
      "text/html": [
       "<pre>+-----------+--------------+--------------+----------------+</pre>"
      ],
      "text/plain": [
       "+-----------+--------------+--------------+----------------+"
      ]
     },
     "metadata": {},
     "output_type": "display_data"
    },
    {
     "data": {
      "text/html": [
       "<pre>| 1         | 0.240681     | 0.810702     | 0.807108       |</pre>"
      ],
      "text/plain": [
       "| 1         | 0.240681     | 0.810702     | 0.807108       |"
      ]
     },
     "metadata": {},
     "output_type": "display_data"
    },
    {
     "data": {
      "text/html": [
       "<pre>| 2         | 0.438804     | 0.821372     | 0.810500       |</pre>"
      ],
      "text/plain": [
       "| 2         | 0.438804     | 0.821372     | 0.810500       |"
      ]
     },
     "metadata": {},
     "output_type": "display_data"
    },
    {
     "data": {
      "text/html": [
       "<pre>| 3         | 0.618131     | 0.817519     | 0.806551       |</pre>"
      ],
      "text/plain": [
       "| 3         | 0.618131     | 0.817519     | 0.806551       |"
      ]
     },
     "metadata": {},
     "output_type": "display_data"
    },
    {
     "data": {
      "text/html": [
       "<pre>| 4         | 0.818510     | 0.830865     | 0.821848       |</pre>"
      ],
      "text/plain": [
       "| 4         | 0.818510     | 0.830865     | 0.821848       |"
      ]
     },
     "metadata": {},
     "output_type": "display_data"
    },
    {
     "data": {
      "text/html": [
       "<pre>| 5         | 0.998731     | 0.829908     | 0.820615       |</pre>"
      ],
      "text/plain": [
       "| 5         | 0.998731     | 0.829908     | 0.820615       |"
      ]
     },
     "metadata": {},
     "output_type": "display_data"
    },
    {
     "data": {
      "text/html": [
       "<pre>| 6         | 1.183559     | 0.836013     | 0.827780       |</pre>"
      ],
      "text/plain": [
       "| 6         | 1.183559     | 0.836013     | 0.827780       |"
      ]
     },
     "metadata": {},
     "output_type": "display_data"
    },
    {
     "data": {
      "text/html": [
       "<pre>| 10        | 1.931531     | 0.843770     | 0.836645       |</pre>"
      ],
      "text/plain": [
       "| 10        | 1.931531     | 0.843770     | 0.836645       |"
      ]
     },
     "metadata": {},
     "output_type": "display_data"
    },
    {
     "data": {
      "text/html": [
       "<pre>| 11        | 2.123342     | 0.844786     | 0.837333       |</pre>"
      ],
      "text/plain": [
       "| 11        | 2.123342     | 0.844786     | 0.837333       |"
      ]
     },
     "metadata": {},
     "output_type": "display_data"
    },
    {
     "data": {
      "text/html": [
       "<pre>| 20        | 3.850741     | 0.850163     | 0.841201       |</pre>"
      ],
      "text/plain": [
       "| 20        | 3.850741     | 0.850163     | 0.841201       |"
      ]
     },
     "metadata": {},
     "output_type": "display_data"
    },
    {
     "data": {
      "text/html": [
       "<pre>| 30        | 5.747698     | 0.854674     | 0.842686       |</pre>"
      ],
      "text/plain": [
       "| 30        | 5.747698     | 0.854674     | 0.842686       |"
      ]
     },
     "metadata": {},
     "output_type": "display_data"
    },
    {
     "data": {
      "text/html": [
       "<pre>| 40        | 7.636460     | 0.859398     | 0.843869       |</pre>"
      ],
      "text/plain": [
       "| 40        | 7.636460     | 0.859398     | 0.843869       |"
      ]
     },
     "metadata": {},
     "output_type": "display_data"
    },
    {
     "data": {
      "text/html": [
       "<pre>| 50        | 9.508741     | 0.863191     | 0.844006       |</pre>"
      ],
      "text/plain": [
       "| 50        | 9.508741     | 0.863191     | 0.844006       |"
      ]
     },
     "metadata": {},
     "output_type": "display_data"
    },
    {
     "data": {
      "text/html": [
       "<pre>| 51        | 9.686640     | 0.863423     | 0.844108       |</pre>"
      ],
      "text/plain": [
       "| 51        | 9.686640     | 0.863423     | 0.844108       |"
      ]
     },
     "metadata": {},
     "output_type": "display_data"
    },
    {
     "data": {
      "text/html": [
       "<pre>| 60        | 11.404593    | 0.865346     | 0.844286       |</pre>"
      ],
      "text/plain": [
       "| 60        | 11.404593    | 0.865346     | 0.844286       |"
      ]
     },
     "metadata": {},
     "output_type": "display_data"
    },
    {
     "data": {
      "text/html": [
       "<pre>| 70        | 13.299607    | 0.867294     | 0.843883       |</pre>"
      ],
      "text/plain": [
       "| 70        | 13.299607    | 0.867294     | 0.843883       |"
      ]
     },
     "metadata": {},
     "output_type": "display_data"
    },
    {
     "data": {
      "text/html": [
       "<pre>+-----------+--------------+--------------+----------------+</pre>"
      ],
      "text/plain": [
       "+-----------+--------------+--------------+----------------+"
      ]
     },
     "metadata": {},
     "output_type": "display_data"
    },
    {
     "data": {
      "text/html": [
       "<pre>Early stop triggered. Returning the best model at iteration: 57</pre>"
      ],
      "text/plain": [
       "Early stop triggered. Returning the best model at iteration: 57"
      ]
     },
     "metadata": {},
     "output_type": "display_data"
    },
    {
     "name": "stdout",
     "output_type": "stream",
     "text": [
      "{'confusion_matrix': Columns:\n",
      "\ttarget_label\tint\n",
      "\tpredicted_label\tint\n",
      "\tcount\tint\n",
      "\n",
      "Rows: 4\n",
      "\n",
      "Data:\n",
      "+--------------+-----------------+-------+\n",
      "| target_label | predicted_label | count |\n",
      "+--------------+-----------------+-------+\n",
      "|      1       |        0        |  146  |\n",
      "|      1       |        1        |  479  |\n",
      "|      0       |        1        |  3204 |\n",
      "|      0       |        0        | 11623 |\n",
      "+--------------+-----------------+-------+\n",
      "[4 rows x 3 columns]\n",
      "}\n"
     ]
    },
    {
     "data": {
      "image/png": "[encoded data removed]",
      "text/plain": [
       "<matplotlib.figure.Figure at 0x7f77f8c66150>"
      ]
     },
     "metadata": {},
     "output_type": "display_data"
    }
   ],
   "source": [
    "train, validate = train_data.random_split(0.8, seed=8273)\n",
    "params = {'target':'TARGET', 'validation_set':validate,'verbose':True, 'random_seed':8923,\n",
    "          'class_weights':'auto','metric':'auc',\n",
    "          'early_stopping_rounds':20, 'max_iterations':300}\n",
    "d=4; r=1; c=0.6; s=0.1;\n",
    "model = gl.boosted_trees_classifier.create(train, \n",
    "                    max_depth=d, row_subsample=r, column_subsample=c, \n",
    "                                           step_size=s, **params)\n",
    "print model.evaluate(validate, metric='confusion_matrix')\n",
    "tools.plot_roc(model, validate);"
   ]
  },
  {
   "cell_type": "code",
   "execution_count": 154,
   "metadata": {
    "ExecuteTime": {
     "end_time": "2016-03-13T11:46:19.690804",
     "start_time": "2016-03-13T11:46:19.647217"
    },
    "collapsed": false
   },
   "outputs": [
    {
     "data": {
      "text/html": [
       "<div style=\"max-height:1000px;max-width:1500px;overflow:auto;\"><table frame=\"box\" rules=\"cols\">\n",
       "    <tr>\n",
       "        <th style=\"padding-left: 1em; padding-right: 1em; text-align: center\">name</th>\n",
       "        <th style=\"padding-left: 1em; padding-right: 1em; text-align: center\">index</th>\n",
       "        <th style=\"padding-left: 1em; padding-right: 1em; text-align: center\">count</th>\n",
       "    </tr>\n",
       "    <tr>\n",
       "        <td style=\"padding-left: 1em; padding-right: 1em; text-align: center; vertical-align: top\">var15</td>\n",
       "        <td style=\"padding-left: 1em; padding-right: 1em; text-align: center; vertical-align: top\">None</td>\n",
       "        <td style=\"padding-left: 1em; padding-right: 1em; text-align: center; vertical-align: top\">79</td>\n",
       "    </tr>\n",
       "    <tr>\n",
       "        <td style=\"padding-left: 1em; padding-right: 1em; text-align: center; vertical-align: top\">var38</td>\n",
       "        <td style=\"padding-left: 1em; padding-right: 1em; text-align: center; vertical-align: top\">None</td>\n",
       "        <td style=\"padding-left: 1em; padding-right: 1em; text-align: center; vertical-align: top\">53</td>\n",
       "    </tr>\n",
       "    <tr>\n",
       "        <td style=\"padding-left: 1em; padding-right: 1em; text-align: center; vertical-align: top\">var30 balance</td>\n",
       "        <td style=\"padding-left: 1em; padding-right: 1em; text-align: center; vertical-align: top\">None</td>\n",
       "        <td style=\"padding-left: 1em; padding-right: 1em; text-align: center; vertical-align: top\">52</td>\n",
       "    </tr>\n",
       "    <tr>\n",
       "        <td style=\"padding-left: 1em; padding-right: 1em; text-align: center; vertical-align: top\">var5 average balance<br>hace3 ...</td>\n",
       "        <td style=\"padding-left: 1em; padding-right: 1em; text-align: center; vertical-align: top\">None</td>\n",
       "        <td style=\"padding-left: 1em; padding-right: 1em; text-align: center; vertical-align: top\">46</td>\n",
       "    </tr>\n",
       "    <tr>\n",
       "        <td style=\"padding-left: 1em; padding-right: 1em; text-align: center; vertical-align: top\">ID</td>\n",
       "        <td style=\"padding-left: 1em; padding-right: 1em; text-align: center; vertical-align: top\">None</td>\n",
       "        <td style=\"padding-left: 1em; padding-right: 1em; text-align: center; vertical-align: top\">37</td>\n",
       "    </tr>\n",
       "    <tr>\n",
       "        <td style=\"padding-left: 1em; padding-right: 1em; text-align: center; vertical-align: top\">log1p var38</td>\n",
       "        <td style=\"padding-left: 1em; padding-right: 1em; text-align: center; vertical-align: top\">None</td>\n",
       "        <td style=\"padding-left: 1em; padding-right: 1em; text-align: center; vertical-align: top\">34</td>\n",
       "    </tr>\n",
       "    <tr>\n",
       "        <td style=\"padding-left: 1em; padding-right: 1em; text-align: center; vertical-align: top\">var5 average balance<br>hace2 ...</td>\n",
       "        <td style=\"padding-left: 1em; padding-right: 1em; text-align: center; vertical-align: top\">None</td>\n",
       "        <td style=\"padding-left: 1em; padding-right: 1em; text-align: center; vertical-align: top\">33</td>\n",
       "    </tr>\n",
       "    <tr>\n",
       "        <td style=\"padding-left: 1em; padding-right: 1em; text-align: center; vertical-align: top\">var5 average balance<br>ultima3 ...</td>\n",
       "        <td style=\"padding-left: 1em; padding-right: 1em; text-align: center; vertical-align: top\">None</td>\n",
       "        <td style=\"padding-left: 1em; padding-right: 1em; text-align: center; vertical-align: top\">32</td>\n",
       "    </tr>\n",
       "    <tr>\n",
       "        <td style=\"padding-left: 1em; padding-right: 1em; text-align: center; vertical-align: top\">log1p var15</td>\n",
       "        <td style=\"padding-left: 1em; padding-right: 1em; text-align: center; vertical-align: top\">None</td>\n",
       "        <td style=\"padding-left: 1em; padding-right: 1em; text-align: center; vertical-align: top\">22</td>\n",
       "    </tr>\n",
       "    <tr>\n",
       "        <td style=\"padding-left: 1em; padding-right: 1em; text-align: center; vertical-align: top\">var5 average balance<br>ultima1 ...</td>\n",
       "        <td style=\"padding-left: 1em; padding-right: 1em; text-align: center; vertical-align: top\">None</td>\n",
       "        <td style=\"padding-left: 1em; padding-right: 1em; text-align: center; vertical-align: top\">22</td>\n",
       "    </tr>\n",
       "</table>\n",
       "[403 rows x 3 columns]<br/>Note: Only the head of the SFrame is printed.<br/>You can use print_rows(num_rows=m, num_columns=n) to print more rows and columns.\n",
       "</div>"
      ],
      "text/plain": [
       "Columns:\n",
       "\tname\tstr\n",
       "\tindex\tstr\n",
       "\tcount\tint\n",
       "\n",
       "Rows: 403\n",
       "\n",
       "Data:\n",
       "+------------------------------+-------+-------+\n",
       "|             name             | index | count |\n",
       "+------------------------------+-------+-------+\n",
       "|            var15             |  None |   79  |\n",
       "|            var38             |  None |   53  |\n",
       "|        var30 balance         |  None |   52  |\n",
       "|  var5 average balance hace3  |  None |   46  |\n",
       "|              ID              |  None |   37  |\n",
       "|         log1p var38          |  None |   34  |\n",
       "|  var5 average balance hace2  |  None |   33  |\n",
       "| var5 average balance ultima3 |  None |   32  |\n",
       "|         log1p var15          |  None |   22  |\n",
       "| var5 average balance ultima1 |  None |   22  |\n",
       "+------------------------------+-------+-------+\n",
       "[403 rows x 3 columns]\n",
       "Note: Only the head of the SFrame is printed.\n",
       "You can use print_rows(num_rows=m, num_columns=n) to print more rows and columns."
      ]
     },
     "execution_count": 154,
     "metadata": {},
     "output_type": "execute_result"
    }
   ],
   "source": [
    "model.get_feature_importance()"
   ]
  },
  {
   "cell_type": "code",
   "execution_count": 158,
   "metadata": {
    "ExecuteTime": {
     "end_time": "2016-03-13T11:48:54.067837",
     "start_time": "2016-03-13T11:48:54.063369"
    },
    "collapsed": true
   },
   "outputs": [],
   "source": [
    "train_data.remove_column('ID');"
   ]
  },
  {
   "cell_type": "code",
   "execution_count": 159,
   "metadata": {
    "ExecuteTime": {
     "end_time": "2016-03-13T11:49:41.839667",
     "start_time": "2016-03-13T11:49:04.184507"
    },
    "collapsed": false,
    "scrolled": false
   },
   "outputs": [
    {
     "data": {
      "text/html": [
       "<pre>WARNING: Detected extremely low variance for feature(s) 'var33 delta transfer amount out 1Y3', 'var33 transfer amount out ultima1', 'var33 number transfer out ultima1' because all entries are nearly the same.\n",
       "Proceeding with model training using all features. If the model does not provide results of adequate quality, exclude the above mentioned feature(s) from the input dataset.</pre>"
      ],
      "text/plain": [
       "WARNING: Detected extremely low variance for feature(s) 'var33 delta transfer amount out 1Y3', 'var33 transfer amount out ultima1', 'var33 number transfer out ultima1' because all entries are nearly the same.\n",
       "Proceeding with model training using all features. If the model does not provide results of adequate quality, exclude the above mentioned feature(s) from the input dataset."
      ]
     },
     "metadata": {},
     "output_type": "display_data"
    },
    {
     "data": {
      "text/html": [
       "<pre>Boosted trees classifier:</pre>"
      ],
      "text/plain": [
       "Boosted trees classifier:"
      ]
     },
     "metadata": {},
     "output_type": "display_data"
    },
    {
     "data": {
      "text/html": [
       "<pre>--------------------------------------------------------</pre>"
      ],
      "text/plain": [
       "--------------------------------------------------------"
      ]
     },
     "metadata": {},
     "output_type": "display_data"
    },
    {
     "data": {
      "text/html": [
       "<pre>Number of examples          : 60568</pre>"
      ],
      "text/plain": [
       "Number of examples          : 60568"
      ]
     },
     "metadata": {},
     "output_type": "display_data"
    },
    {
     "data": {
      "text/html": [
       "<pre>Number of classes           : 2</pre>"
      ],
      "text/plain": [
       "Number of classes           : 2"
      ]
     },
     "metadata": {},
     "output_type": "display_data"
    },
    {
     "data": {
      "text/html": [
       "<pre>Number of feature columns   : 305</pre>"
      ],
      "text/plain": [
       "Number of feature columns   : 305"
      ]
     },
     "metadata": {},
     "output_type": "display_data"
    },
    {
     "data": {
      "text/html": [
       "<pre>Number of unpacked features : 305</pre>"
      ],
      "text/plain": [
       "Number of unpacked features : 305"
      ]
     },
     "metadata": {},
     "output_type": "display_data"
    },
    {
     "data": {
      "text/html": [
       "<pre>+-----------+--------------+--------------+----------------+</pre>"
      ],
      "text/plain": [
       "+-----------+--------------+--------------+----------------+"
      ]
     },
     "metadata": {},
     "output_type": "display_data"
    },
    {
     "data": {
      "text/html": [
       "<pre>| Iteration | Elapsed Time | Training-auc | Validation-auc |</pre>"
      ],
      "text/plain": [
       "| Iteration | Elapsed Time | Training-auc | Validation-auc |"
      ]
     },
     "metadata": {},
     "output_type": "display_data"
    },
    {
     "data": {
      "text/html": [
       "<pre>+-----------+--------------+--------------+----------------+</pre>"
      ],
      "text/plain": [
       "+-----------+--------------+--------------+----------------+"
      ]
     },
     "metadata": {},
     "output_type": "display_data"
    },
    {
     "data": {
      "text/html": [
       "<pre>| 1         | 0.227895     | 0.752560     | 0.743029       |</pre>"
      ],
      "text/plain": [
       "| 1         | 0.227895     | 0.752560     | 0.743029       |"
      ]
     },
     "metadata": {},
     "output_type": "display_data"
    },
    {
     "data": {
      "text/html": [
       "<pre>| 2         | 0.407213     | 0.825205     | 0.820259       |</pre>"
      ],
      "text/plain": [
       "| 2         | 0.407213     | 0.825205     | 0.820259       |"
      ]
     },
     "metadata": {},
     "output_type": "display_data"
    },
    {
     "data": {
      "text/html": [
       "<pre>| 3         | 0.602295     | 0.821486     | 0.817632       |</pre>"
      ],
      "text/plain": [
       "| 3         | 0.602295     | 0.821486     | 0.817632       |"
      ]
     },
     "metadata": {},
     "output_type": "display_data"
    },
    {
     "data": {
      "text/html": [
       "<pre>| 4         | 0.783402     | 0.830902     | 0.826800       |</pre>"
      ],
      "text/plain": [
       "| 4         | 0.783402     | 0.830902     | 0.826800       |"
      ]
     },
     "metadata": {},
     "output_type": "display_data"
    },
    {
     "data": {
      "text/html": [
       "<pre>| 5         | 0.963609     | 0.830838     | 0.824406       |</pre>"
      ],
      "text/plain": [
       "| 5         | 0.963609     | 0.830838     | 0.824406       |"
      ]
     },
     "metadata": {},
     "output_type": "display_data"
    },
    {
     "data": {
      "text/html": [
       "<pre>| 6         | 1.143666     | 0.837121     | 0.830893       |</pre>"
      ],
      "text/plain": [
       "| 6         | 1.143666     | 0.837121     | 0.830893       |"
      ]
     },
     "metadata": {},
     "output_type": "display_data"
    },
    {
     "data": {
      "text/html": [
       "<pre>| 10        | 1.883857     | 0.843834     | 0.836464       |</pre>"
      ],
      "text/plain": [
       "| 10        | 1.883857     | 0.843834     | 0.836464       |"
      ]
     },
     "metadata": {},
     "output_type": "display_data"
    },
    {
     "data": {
      "text/html": [
       "<pre>| 11        | 2.071592     | 0.843855     | 0.835703       |</pre>"
      ],
      "text/plain": [
       "| 11        | 2.071592     | 0.843855     | 0.835703       |"
      ]
     },
     "metadata": {},
     "output_type": "display_data"
    },
    {
     "data": {
      "text/html": [
       "<pre>| 20        | 3.709062     | 0.851743     | 0.839700       |</pre>"
      ],
      "text/plain": [
       "| 20        | 3.709062     | 0.851743     | 0.839700       |"
      ]
     },
     "metadata": {},
     "output_type": "display_data"
    },
    {
     "data": {
      "text/html": [
       "<pre>| 30        | 5.505115     | 0.856475     | 0.842406       |</pre>"
      ],
      "text/plain": [
       "| 30        | 5.505115     | 0.856475     | 0.842406       |"
      ]
     },
     "metadata": {},
     "output_type": "display_data"
    },
    {
     "data": {
      "text/html": [
       "<pre>| 40        | 7.337680     | 0.860226     | 0.844148       |</pre>"
      ],
      "text/plain": [
       "| 40        | 7.337680     | 0.860226     | 0.844148       |"
      ]
     },
     "metadata": {},
     "output_type": "display_data"
    },
    {
     "data": {
      "text/html": [
       "<pre>| 50        | 9.181532     | 0.863219     | 0.844477       |</pre>"
      ],
      "text/plain": [
       "| 50        | 9.181532     | 0.863219     | 0.844477       |"
      ]
     },
     "metadata": {},
     "output_type": "display_data"
    },
    {
     "data": {
      "text/html": [
       "<pre>| 51        | 9.366110     | 0.863385     | 0.844483       |</pre>"
      ],
      "text/plain": [
       "| 51        | 9.366110     | 0.863385     | 0.844483       |"
      ]
     },
     "metadata": {},
     "output_type": "display_data"
    },
    {
     "data": {
      "text/html": [
       "<pre>| 60        | 11.019874    | 0.866003     | 0.844952       |</pre>"
      ],
      "text/plain": [
       "| 60        | 11.019874    | 0.866003     | 0.844952       |"
      ]
     },
     "metadata": {},
     "output_type": "display_data"
    },
    {
     "data": {
      "text/html": [
       "<pre>| 70        | 12.902126    | 0.867747     | 0.845620       |</pre>"
      ],
      "text/plain": [
       "| 70        | 12.902126    | 0.867747     | 0.845620       |"
      ]
     },
     "metadata": {},
     "output_type": "display_data"
    },
    {
     "data": {
      "text/html": [
       "<pre>| 80        | 14.960075    | 0.869289     | 0.845411       |</pre>"
      ],
      "text/plain": [
       "| 80        | 14.960075    | 0.869289     | 0.845411       |"
      ]
     },
     "metadata": {},
     "output_type": "display_data"
    },
    {
     "data": {
      "text/html": [
       "<pre>| 90        | 16.753479    | 0.870713     | 0.845681       |</pre>"
      ],
      "text/plain": [
       "| 90        | 16.753479    | 0.870713     | 0.845681       |"
      ]
     },
     "metadata": {},
     "output_type": "display_data"
    },
    {
     "data": {
      "text/html": [
       "<pre>| 100       | 18.528755    | 0.871967     | 0.845705       |</pre>"
      ],
      "text/plain": [
       "| 100       | 18.528755    | 0.871967     | 0.845705       |"
      ]
     },
     "metadata": {},
     "output_type": "display_data"
    },
    {
     "data": {
      "text/html": [
       "<pre>| 101       | 18.712191    | 0.872082     | 0.845621       |</pre>"
      ],
      "text/plain": [
       "| 101       | 18.712191    | 0.872082     | 0.845621       |"
      ]
     },
     "metadata": {},
     "output_type": "display_data"
    },
    {
     "data": {
      "text/html": [
       "<pre>| 110       | 20.338022    | 0.873769     | 0.845614       |</pre>"
      ],
      "text/plain": [
       "| 110       | 20.338022    | 0.873769     | 0.845614       |"
      ]
     },
     "metadata": {},
     "output_type": "display_data"
    },
    {
     "data": {
      "text/html": [
       "<pre>| 120       | 22.149221    | 0.875530     | 0.845861       |</pre>"
      ],
      "text/plain": [
       "| 120       | 22.149221    | 0.875530     | 0.845861       |"
      ]
     },
     "metadata": {},
     "output_type": "display_data"
    },
    {
     "data": {
      "text/html": [
       "<pre>| 130       | 23.982559    | 0.876935     | 0.846025       |</pre>"
      ],
      "text/plain": [
       "| 130       | 23.982559    | 0.876935     | 0.846025       |"
      ]
     },
     "metadata": {},
     "output_type": "display_data"
    },
    {
     "data": {
      "text/html": [
       "<pre>| 140       | 25.768224    | 0.877970     | 0.846222       |</pre>"
      ],
      "text/plain": [
       "| 140       | 25.768224    | 0.877970     | 0.846222       |"
      ]
     },
     "metadata": {},
     "output_type": "display_data"
    },
    {
     "data": {
      "text/html": [
       "<pre>| 150       | 27.567934    | 0.879447     | 0.846307       |</pre>"
      ],
      "text/plain": [
       "| 150       | 27.567934    | 0.879447     | 0.846307       |"
      ]
     },
     "metadata": {},
     "output_type": "display_data"
    },
    {
     "data": {
      "text/html": [
       "<pre>| 160       | 29.371914    | 0.880351     | 0.846296       |</pre>"
      ],
      "text/plain": [
       "| 160       | 29.371914    | 0.880351     | 0.846296       |"
      ]
     },
     "metadata": {},
     "output_type": "display_data"
    },
    {
     "data": {
      "text/html": [
       "<pre>+-----------+--------------+--------------+----------------+</pre>"
      ],
      "text/plain": [
       "+-----------+--------------+--------------+----------------+"
      ]
     },
     "metadata": {},
     "output_type": "display_data"
    },
    {
     "data": {
      "text/html": [
       "<pre>Early stop triggered. Returning the best model at iteration: 144</pre>"
      ],
      "text/plain": [
       "Early stop triggered. Returning the best model at iteration: 144"
      ]
     },
     "metadata": {},
     "output_type": "display_data"
    },
    {
     "name": "stdout",
     "output_type": "stream",
     "text": [
      "{'confusion_matrix': Columns:\n",
      "\ttarget_label\tint\n",
      "\tpredicted_label\tint\n",
      "\tcount\tint\n",
      "\n",
      "Rows: 4\n",
      "\n",
      "Data:\n",
      "+--------------+-----------------+-------+\n",
      "| target_label | predicted_label | count |\n",
      "+--------------+-----------------+-------+\n",
      "|      1       |        0        |  154  |\n",
      "|      1       |        1        |  471  |\n",
      "|      0       |        1        |  3125 |\n",
      "|      0       |        0        | 11702 |\n",
      "+--------------+-----------------+-------+\n",
      "[4 rows x 3 columns]\n",
      "}\n"
     ]
    },
    {
     "data": {
      "image/png": "[encoded data removed]",
      "text/plain": [
       "<matplotlib.figure.Figure at 0x7f77f94a1510>"
      ]
     },
     "metadata": {},
     "output_type": "display_data"
    }
   ],
   "source": [
    "train, validate = train_data.random_split(0.8, seed=8273)\n",
    "params = {'target':'TARGET', 'validation_set':validate,'verbose':True, 'random_seed':8923,\n",
    "          'class_weights':'auto','metric':'auc',\n",
    "          'early_stopping_rounds':20, 'max_iterations':300}\n",
    "d=4; r=1; c=0.6; s=0.1;\n",
    "model = gl.boosted_trees_classifier.create(train, \n",
    "                    max_depth=d, row_subsample=r, column_subsample=c, \n",
    "                                           step_size=s, **params)\n",
    "print model.evaluate(validate, metric='confusion_matrix')\n",
    "tools.plot_roc(model, validate);"
   ]
  },
  {
   "cell_type": "code",
   "execution_count": 160,
   "metadata": {
    "ExecuteTime": {
     "end_time": "2016-03-13T11:50:22.108318",
     "start_time": "2016-03-13T11:50:22.053256"
    },
    "collapsed": false
   },
   "outputs": [
    {
     "data": {
      "text/html": [
       "<div style=\"max-height:1000px;max-width:1500px;overflow:auto;\"><table frame=\"box\" rules=\"cols\">\n",
       "    <tr>\n",
       "        <th style=\"padding-left: 1em; padding-right: 1em; text-align: center\">name</th>\n",
       "        <th style=\"padding-left: 1em; padding-right: 1em; text-align: center\">index</th>\n",
       "        <th style=\"padding-left: 1em; padding-right: 1em; text-align: center\">count</th>\n",
       "    </tr>\n",
       "    <tr>\n",
       "        <td style=\"padding-left: 1em; padding-right: 1em; text-align: center; vertical-align: top\">var38</td>\n",
       "        <td style=\"padding-left: 1em; padding-right: 1em; text-align: center; vertical-align: top\">None</td>\n",
       "        <td style=\"padding-left: 1em; padding-right: 1em; text-align: center; vertical-align: top\">178</td>\n",
       "    </tr>\n",
       "    <tr>\n",
       "        <td style=\"padding-left: 1em; padding-right: 1em; text-align: center; vertical-align: top\">var15</td>\n",
       "        <td style=\"padding-left: 1em; padding-right: 1em; text-align: center; vertical-align: top\">None</td>\n",
       "        <td style=\"padding-left: 1em; padding-right: 1em; text-align: center; vertical-align: top\">160</td>\n",
       "    </tr>\n",
       "    <tr>\n",
       "        <td style=\"padding-left: 1em; padding-right: 1em; text-align: center; vertical-align: top\">var5 average balance<br>hace3 ...</td>\n",
       "        <td style=\"padding-left: 1em; padding-right: 1em; text-align: center; vertical-align: top\">None</td>\n",
       "        <td style=\"padding-left: 1em; padding-right: 1em; text-align: center; vertical-align: top\">82</td>\n",
       "    </tr>\n",
       "    <tr>\n",
       "        <td style=\"padding-left: 1em; padding-right: 1em; text-align: center; vertical-align: top\">var5 average balance<br>hace2 ...</td>\n",
       "        <td style=\"padding-left: 1em; padding-right: 1em; text-align: center; vertical-align: top\">None</td>\n",
       "        <td style=\"padding-left: 1em; padding-right: 1em; text-align: center; vertical-align: top\">70</td>\n",
       "    </tr>\n",
       "    <tr>\n",
       "        <td style=\"padding-left: 1em; padding-right: 1em; text-align: center; vertical-align: top\">var5 average balance<br>ultima3 ...</td>\n",
       "        <td style=\"padding-left: 1em; padding-right: 1em; text-align: center; vertical-align: top\">None</td>\n",
       "        <td style=\"padding-left: 1em; padding-right: 1em; text-align: center; vertical-align: top\">69</td>\n",
       "    </tr>\n",
       "    <tr>\n",
       "        <td style=\"padding-left: 1em; padding-right: 1em; text-align: center; vertical-align: top\">var30 balance</td>\n",
       "        <td style=\"padding-left: 1em; padding-right: 1em; text-align: center; vertical-align: top\">None</td>\n",
       "        <td style=\"padding-left: 1em; padding-right: 1em; text-align: center; vertical-align: top\">65</td>\n",
       "    </tr>\n",
       "    <tr>\n",
       "        <td style=\"padding-left: 1em; padding-right: 1em; text-align: center; vertical-align: top\">var42 balance</td>\n",
       "        <td style=\"padding-left: 1em; padding-right: 1em; text-align: center; vertical-align: top\">None</td>\n",
       "        <td style=\"padding-left: 1em; padding-right: 1em; text-align: center; vertical-align: top\">63</td>\n",
       "    </tr>\n",
       "    <tr>\n",
       "        <td style=\"padding-left: 1em; padding-right: 1em; text-align: center; vertical-align: top\">var5 balance</td>\n",
       "        <td style=\"padding-left: 1em; padding-right: 1em; text-align: center; vertical-align: top\">None</td>\n",
       "        <td style=\"padding-left: 1em; padding-right: 1em; text-align: center; vertical-align: top\">43</td>\n",
       "    </tr>\n",
       "    <tr>\n",
       "        <td style=\"padding-left: 1em; padding-right: 1em; text-align: center; vertical-align: top\">var5 average balance<br>ultima1 ...</td>\n",
       "        <td style=\"padding-left: 1em; padding-right: 1em; text-align: center; vertical-align: top\">None</td>\n",
       "        <td style=\"padding-left: 1em; padding-right: 1em; text-align: center; vertical-align: top\">41</td>\n",
       "    </tr>\n",
       "    <tr>\n",
       "        <td style=\"padding-left: 1em; padding-right: 1em; text-align: center; vertical-align: top\">var22 number ultima3</td>\n",
       "        <td style=\"padding-left: 1em; padding-right: 1em; text-align: center; vertical-align: top\">None</td>\n",
       "        <td style=\"padding-left: 1em; padding-right: 1em; text-align: center; vertical-align: top\">40</td>\n",
       "    </tr>\n",
       "</table>\n",
       "[398 rows x 3 columns]<br/>Note: Only the head of the SFrame is printed.<br/>You can use print_rows(num_rows=m, num_columns=n) to print more rows and columns.\n",
       "</div>"
      ],
      "text/plain": [
       "Columns:\n",
       "\tname\tstr\n",
       "\tindex\tstr\n",
       "\tcount\tint\n",
       "\n",
       "Rows: 398\n",
       "\n",
       "Data:\n",
       "+------------------------------+-------+-------+\n",
       "|             name             | index | count |\n",
       "+------------------------------+-------+-------+\n",
       "|            var38             |  None |  178  |\n",
       "|            var15             |  None |  160  |\n",
       "|  var5 average balance hace3  |  None |   82  |\n",
       "|  var5 average balance hace2  |  None |   70  |\n",
       "| var5 average balance ultima3 |  None |   69  |\n",
       "|        var30 balance         |  None |   65  |\n",
       "|        var42 balance         |  None |   63  |\n",
       "|         var5 balance         |  None |   43  |\n",
       "| var5 average balance ultima1 |  None |   41  |\n",
       "|     var22 number ultima3     |  None |   40  |\n",
       "+------------------------------+-------+-------+\n",
       "[398 rows x 3 columns]\n",
       "Note: Only the head of the SFrame is printed.\n",
       "You can use print_rows(num_rows=m, num_columns=n) to print more rows and columns."
      ]
     },
     "execution_count": 160,
     "metadata": {},
     "output_type": "execute_result"
    }
   ],
   "source": [
    "model.get_feature_importance()"
   ]
  },
  {
   "cell_type": "code",
   "execution_count": 162,
   "metadata": {
    "ExecuteTime": {
     "end_time": "2016-03-13T11:54:17.230158",
     "start_time": "2016-03-13T11:54:17.191100"
    },
    "collapsed": false
   },
   "outputs": [
    {
     "ename": "KeyError",
     "evalue": "'Cannot find column var38'",
     "output_type": "error",
     "traceback": [
      "\u001b[1;31m---------------------------------------------------------------------------\u001b[0m",
      "\u001b[1;31mKeyError\u001b[0m                                  Traceback (most recent call last)",
      "\u001b[1;32m<ipython-input-162-4910ca2976a3>\u001b[0m in \u001b[0;36m<module>\u001b[1;34m()\u001b[0m\n\u001b[1;32m----> 1\u001b[1;33m \u001b[0mtrain_data\u001b[0m\u001b[1;33m.\u001b[0m\u001b[0mremove_columns\u001b[0m\u001b[1;33m(\u001b[0m\u001b[1;33m[\u001b[0m\u001b[1;34m'var38'\u001b[0m\u001b[1;33m,\u001b[0m \u001b[1;34m'var15'\u001b[0m\u001b[1;33m]\u001b[0m\u001b[1;33m)\u001b[0m\u001b[1;33m;\u001b[0m\u001b[1;33m\u001b[0m\u001b[0m\n\u001b[0m",
      "\u001b[1;32m/home/ec2-user/anaconda2/envs/dato-env/lib/python2.7/site-packages/graphlab/data_structures/sframe.pyc\u001b[0m in \u001b[0;36mremove_columns\u001b[1;34m(self, column_names)\u001b[0m\n\u001b[0;32m   3856\u001b[0m         \u001b[1;32mfor\u001b[0m \u001b[0mname\u001b[0m \u001b[1;32min\u001b[0m \u001b[0mcolumn_names\u001b[0m\u001b[1;33m:\u001b[0m\u001b[1;33m\u001b[0m\u001b[0m\n\u001b[0;32m   3857\u001b[0m             \u001b[1;32mif\u001b[0m \u001b[0mname\u001b[0m \u001b[1;32mnot\u001b[0m \u001b[1;32min\u001b[0m \u001b[0mexisting_columns\u001b[0m\u001b[1;33m:\u001b[0m\u001b[1;33m\u001b[0m\u001b[0m\n\u001b[1;32m-> 3858\u001b[1;33m                 \u001b[1;32mraise\u001b[0m \u001b[0mKeyError\u001b[0m\u001b[1;33m(\u001b[0m\u001b[1;34m'Cannot find column %s'\u001b[0m \u001b[1;33m%\u001b[0m \u001b[0mname\u001b[0m\u001b[1;33m)\u001b[0m\u001b[1;33m\u001b[0m\u001b[0m\n\u001b[0m\u001b[0;32m   3859\u001b[0m \u001b[1;33m\u001b[0m\u001b[0m\n\u001b[0;32m   3860\u001b[0m         \u001b[1;31m# Delete it going backwards so we don't invalidate indices\u001b[0m\u001b[1;33m\u001b[0m\u001b[1;33m\u001b[0m\u001b[0m\n",
      "\u001b[1;31mKeyError\u001b[0m: 'Cannot find column var38'"
     ]
    }
   ],
   "source": [
    "train_data.remove_columns(['var38', 'var15']);"
   ]
  },
  {
   "cell_type": "code",
   "execution_count": 163,
   "metadata": {
    "ExecuteTime": {
     "end_time": "2016-03-13T11:54:43.745418",
     "start_time": "2016-03-13T11:54:20.595502"
    },
    "collapsed": false,
    "scrolled": false
   },
   "outputs": [
    {
     "data": {
      "text/html": [
       "<pre>WARNING: Detected extremely low variance for feature(s) 'var33 delta transfer amount out 1Y3', 'var33 transfer amount out ultima1', 'var33 number transfer out ultima1' because all entries are nearly the same.\n",
       "Proceeding with model training using all features. If the model does not provide results of adequate quality, exclude the above mentioned feature(s) from the input dataset.</pre>"
      ],
      "text/plain": [
       "WARNING: Detected extremely low variance for feature(s) 'var33 delta transfer amount out 1Y3', 'var33 transfer amount out ultima1', 'var33 number transfer out ultima1' because all entries are nearly the same.\n",
       "Proceeding with model training using all features. If the model does not provide results of adequate quality, exclude the above mentioned feature(s) from the input dataset."
      ]
     },
     "metadata": {},
     "output_type": "display_data"
    },
    {
     "data": {
      "text/html": [
       "<pre>Boosted trees classifier:</pre>"
      ],
      "text/plain": [
       "Boosted trees classifier:"
      ]
     },
     "metadata": {},
     "output_type": "display_data"
    },
    {
     "data": {
      "text/html": [
       "<pre>--------------------------------------------------------</pre>"
      ],
      "text/plain": [
       "--------------------------------------------------------"
      ]
     },
     "metadata": {},
     "output_type": "display_data"
    },
    {
     "data": {
      "text/html": [
       "<pre>Number of examples          : 60568</pre>"
      ],
      "text/plain": [
       "Number of examples          : 60568"
      ]
     },
     "metadata": {},
     "output_type": "display_data"
    },
    {
     "data": {
      "text/html": [
       "<pre>Number of classes           : 2</pre>"
      ],
      "text/plain": [
       "Number of classes           : 2"
      ]
     },
     "metadata": {},
     "output_type": "display_data"
    },
    {
     "data": {
      "text/html": [
       "<pre>Number of feature columns   : 303</pre>"
      ],
      "text/plain": [
       "Number of feature columns   : 303"
      ]
     },
     "metadata": {},
     "output_type": "display_data"
    },
    {
     "data": {
      "text/html": [
       "<pre>Number of unpacked features : 303</pre>"
      ],
      "text/plain": [
       "Number of unpacked features : 303"
      ]
     },
     "metadata": {},
     "output_type": "display_data"
    },
    {
     "data": {
      "text/html": [
       "<pre>+-----------+--------------+--------------+----------------+</pre>"
      ],
      "text/plain": [
       "+-----------+--------------+--------------+----------------+"
      ]
     },
     "metadata": {},
     "output_type": "display_data"
    },
    {
     "data": {
      "text/html": [
       "<pre>| Iteration | Elapsed Time | Training-auc | Validation-auc |</pre>"
      ],
      "text/plain": [
       "| Iteration | Elapsed Time | Training-auc | Validation-auc |"
      ]
     },
     "metadata": {},
     "output_type": "display_data"
    },
    {
     "data": {
      "text/html": [
       "<pre>+-----------+--------------+--------------+----------------+</pre>"
      ],
      "text/plain": [
       "+-----------+--------------+--------------+----------------+"
      ]
     },
     "metadata": {},
     "output_type": "display_data"
    },
    {
     "data": {
      "text/html": [
       "<pre>| 1         | 0.228734     | 0.737335     | 0.726938       |</pre>"
      ],
      "text/plain": [
       "| 1         | 0.228734     | 0.737335     | 0.726938       |"
      ]
     },
     "metadata": {},
     "output_type": "display_data"
    },
    {
     "data": {
      "text/html": [
       "<pre>| 2         | 0.402910     | 0.748234     | 0.737234       |</pre>"
      ],
      "text/plain": [
       "| 2         | 0.402910     | 0.748234     | 0.737234       |"
      ]
     },
     "metadata": {},
     "output_type": "display_data"
    },
    {
     "data": {
      "text/html": [
       "<pre>| 3         | 0.579296     | 0.754961     | 0.750056       |</pre>"
      ],
      "text/plain": [
       "| 3         | 0.579296     | 0.754961     | 0.750056       |"
      ]
     },
     "metadata": {},
     "output_type": "display_data"
    },
    {
     "data": {
      "text/html": [
       "<pre>| 4         | 0.758989     | 0.762364     | 0.757278       |</pre>"
      ],
      "text/plain": [
       "| 4         | 0.758989     | 0.762364     | 0.757278       |"
      ]
     },
     "metadata": {},
     "output_type": "display_data"
    },
    {
     "data": {
      "text/html": [
       "<pre>| 5         | 0.937024     | 0.762270     | 0.756596       |</pre>"
      ],
      "text/plain": [
       "| 5         | 0.937024     | 0.762270     | 0.756596       |"
      ]
     },
     "metadata": {},
     "output_type": "display_data"
    },
    {
     "data": {
      "text/html": [
       "<pre>| 6         | 1.114503     | 0.765402     | 0.761235       |</pre>"
      ],
      "text/plain": [
       "| 6         | 1.114503     | 0.765402     | 0.761235       |"
      ]
     },
     "metadata": {},
     "output_type": "display_data"
    },
    {
     "data": {
      "text/html": [
       "<pre>| 10        | 1.807201     | 0.767178     | 0.759662       |</pre>"
      ],
      "text/plain": [
       "| 10        | 1.807201     | 0.767178     | 0.759662       |"
      ]
     },
     "metadata": {},
     "output_type": "display_data"
    },
    {
     "data": {
      "text/html": [
       "<pre>| 11        | 1.986598     | 0.768553     | 0.759320       |</pre>"
      ],
      "text/plain": [
       "| 11        | 1.986598     | 0.768553     | 0.759320       |"
      ]
     },
     "metadata": {},
     "output_type": "display_data"
    },
    {
     "data": {
      "text/html": [
       "<pre>| 20        | 3.603242     | 0.776836     | 0.764854       |</pre>"
      ],
      "text/plain": [
       "| 20        | 3.603242     | 0.776836     | 0.764854       |"
      ]
     },
     "metadata": {},
     "output_type": "display_data"
    },
    {
     "data": {
      "text/html": [
       "<pre>| 30        | 5.380247     | 0.784938     | 0.770815       |</pre>"
      ],
      "text/plain": [
       "| 30        | 5.380247     | 0.784938     | 0.770815       |"
      ]
     },
     "metadata": {},
     "output_type": "display_data"
    },
    {
     "data": {
      "text/html": [
       "<pre>| 40        | 7.171446     | 0.791284     | 0.774188       |</pre>"
      ],
      "text/plain": [
       "| 40        | 7.171446     | 0.791284     | 0.774188       |"
      ]
     },
     "metadata": {},
     "output_type": "display_data"
    },
    {
     "data": {
      "text/html": [
       "<pre>| 50        | 8.968205     | 0.794647     | 0.775001       |</pre>"
      ],
      "text/plain": [
       "| 50        | 8.968205     | 0.794647     | 0.775001       |"
      ]
     },
     "metadata": {},
     "output_type": "display_data"
    },
    {
     "data": {
      "text/html": [
       "<pre>| 51        | 9.149527     | 0.794920     | 0.774898       |</pre>"
      ],
      "text/plain": [
       "| 51        | 9.149527     | 0.794920     | 0.774898       |"
      ]
     },
     "metadata": {},
     "output_type": "display_data"
    },
    {
     "data": {
      "text/html": [
       "<pre>| 60        | 10.743312    | 0.797462     | 0.775522       |</pre>"
      ],
      "text/plain": [
       "| 60        | 10.743312    | 0.797462     | 0.775522       |"
      ]
     },
     "metadata": {},
     "output_type": "display_data"
    },
    {
     "data": {
      "text/html": [
       "<pre>| 70        | 12.523296    | 0.800296     | 0.775893       |</pre>"
      ],
      "text/plain": [
       "| 70        | 12.523296    | 0.800296     | 0.775893       |"
      ]
     },
     "metadata": {},
     "output_type": "display_data"
    },
    {
     "data": {
      "text/html": [
       "<pre>| 80        | 14.287308    | 0.803089     | 0.775201       |</pre>"
      ],
      "text/plain": [
       "| 80        | 14.287308    | 0.803089     | 0.775201       |"
      ]
     },
     "metadata": {},
     "output_type": "display_data"
    },
    {
     "data": {
      "text/html": [
       "<pre>+-----------+--------------+--------------+----------------+</pre>"
      ],
      "text/plain": [
       "+-----------+--------------+--------------+----------------+"
      ]
     },
     "metadata": {},
     "output_type": "display_data"
    },
    {
     "data": {
      "text/html": [
       "<pre>Early stop triggered. Returning the best model at iteration: 67</pre>"
      ],
      "text/plain": [
       "Early stop triggered. Returning the best model at iteration: 67"
      ]
     },
     "metadata": {},
     "output_type": "display_data"
    },
    {
     "name": "stdout",
     "output_type": "stream",
     "text": [
      "{'confusion_matrix': Columns:\n",
      "\ttarget_label\tint\n",
      "\tpredicted_label\tint\n",
      "\tcount\tint\n",
      "\n",
      "Rows: 4\n",
      "\n",
      "Data:\n",
      "+--------------+-----------------+-------+\n",
      "| target_label | predicted_label | count |\n",
      "+--------------+-----------------+-------+\n",
      "|      1       |        0        |  155  |\n",
      "|      1       |        1        |  470  |\n",
      "|      0       |        1        |  4422 |\n",
      "|      0       |        0        | 10405 |\n",
      "+--------------+-----------------+-------+\n",
      "[4 rows x 3 columns]\n",
      "}\n"
     ]
    },
    {
     "data": {
      "image/png": "[encoded data removed]",
      "text/plain": [
       "<matplotlib.figure.Figure at 0x7f77f89bedd0>"
      ]
     },
     "metadata": {},
     "output_type": "display_data"
    }
   ],
   "source": [
    "train, validate = train_data.random_split(0.8, seed=8273)\n",
    "params = {'target':'TARGET', 'validation_set':validate,'verbose':True, 'random_seed':8923,\n",
    "          'class_weights':'auto','metric':'auc',\n",
    "          'early_stopping_rounds':20, 'max_iterations':300}\n",
    "d=4; r=1; c=0.6; s=0.1;\n",
    "model = gl.boosted_trees_classifier.create(train, \n",
    "                    max_depth=d, row_subsample=r, column_subsample=c, \n",
    "                                           step_size=s, **params)\n",
    "print model.evaluate(validate, metric='confusion_matrix')\n",
    "tools.plot_roc(model, validate);"
   ]
  },
  {
   "cell_type": "code",
   "execution_count": 10,
   "metadata": {
    "ExecuteTime": {
     "end_time": "2016-03-14T08:58:40.206807",
     "start_time": "2016-03-14T08:58:11.167019"
    },
    "collapsed": false
   },
   "outputs": [
    {
     "data": {
      "text/html": [
       "<pre>WARNING: Detected extremely low variance for feature(s) 'var33 delta transfer amount out 1Y3', 'var33 transfer amount out ultima1', 'var33 number transfer out ultima1' because all entries are nearly the same.\n",
       "Proceeding with model training using all features. If the model does not provide results of adequate quality, exclude the above mentioned feature(s) from the input dataset.</pre>"
      ],
      "text/plain": [
       "WARNING: Detected extremely low variance for feature(s) 'var33 delta transfer amount out 1Y3', 'var33 transfer amount out ultima1', 'var33 number transfer out ultima1' because all entries are nearly the same.\n",
       "Proceeding with model training using all features. If the model does not provide results of adequate quality, exclude the above mentioned feature(s) from the input dataset."
      ]
     },
     "metadata": {},
     "output_type": "display_data"
    },
    {
     "data": {
      "text/html": [
       "<pre>Boosted trees classifier:</pre>"
      ],
      "text/plain": [
       "Boosted trees classifier:"
      ]
     },
     "metadata": {},
     "output_type": "display_data"
    },
    {
     "data": {
      "text/html": [
       "<pre>--------------------------------------------------------</pre>"
      ],
      "text/plain": [
       "--------------------------------------------------------"
      ]
     },
     "metadata": {},
     "output_type": "display_data"
    },
    {
     "data": {
      "text/html": [
       "<pre>Number of examples          : 60568</pre>"
      ],
      "text/plain": [
       "Number of examples          : 60568"
      ]
     },
     "metadata": {},
     "output_type": "display_data"
    },
    {
     "data": {
      "text/html": [
       "<pre>Number of classes           : 2</pre>"
      ],
      "text/plain": [
       "Number of classes           : 2"
      ]
     },
     "metadata": {},
     "output_type": "display_data"
    },
    {
     "data": {
      "text/html": [
       "<pre>Number of feature columns   : 307</pre>"
      ],
      "text/plain": [
       "Number of feature columns   : 307"
      ]
     },
     "metadata": {},
     "output_type": "display_data"
    },
    {
     "data": {
      "text/html": [
       "<pre>Number of unpacked features : 307</pre>"
      ],
      "text/plain": [
       "Number of unpacked features : 307"
      ]
     },
     "metadata": {},
     "output_type": "display_data"
    },
    {
     "data": {
      "text/html": [
       "<pre>+-----------+--------------+--------------+----------------+</pre>"
      ],
      "text/plain": [
       "+-----------+--------------+--------------+----------------+"
      ]
     },
     "metadata": {},
     "output_type": "display_data"
    },
    {
     "data": {
      "text/html": [
       "<pre>| Iteration | Elapsed Time | Training-auc | Validation-auc |</pre>"
      ],
      "text/plain": [
       "| Iteration | Elapsed Time | Training-auc | Validation-auc |"
      ]
     },
     "metadata": {},
     "output_type": "display_data"
    },
    {
     "data": {
      "text/html": [
       "<pre>+-----------+--------------+--------------+----------------+</pre>"
      ],
      "text/plain": [
       "+-----------+--------------+--------------+----------------+"
      ]
     },
     "metadata": {},
     "output_type": "display_data"
    },
    {
     "data": {
      "text/html": [
       "<pre>| 1         | 0.306956     | 0.819108     | 0.819103       |</pre>"
      ],
      "text/plain": [
       "| 1         | 0.306956     | 0.819108     | 0.819103       |"
      ]
     },
     "metadata": {},
     "output_type": "display_data"
    },
    {
     "data": {
      "text/html": [
       "<pre>| 2         | 0.552109     | 0.823727     | 0.818223       |</pre>"
      ],
      "text/plain": [
       "| 2         | 0.552109     | 0.823727     | 0.818223       |"
      ]
     },
     "metadata": {},
     "output_type": "display_data"
    },
    {
     "data": {
      "text/html": [
       "<pre>| 3         | 0.778597     | 0.815650     | 0.808302       |</pre>"
      ],
      "text/plain": [
       "| 3         | 0.778597     | 0.815650     | 0.808302       |"
      ]
     },
     "metadata": {},
     "output_type": "display_data"
    },
    {
     "data": {
      "text/html": [
       "<pre>| 4         | 1.025718     | 0.831651     | 0.824937       |</pre>"
      ],
      "text/plain": [
       "| 4         | 1.025718     | 0.831651     | 0.824937       |"
      ]
     },
     "metadata": {},
     "output_type": "display_data"
    },
    {
     "data": {
      "text/html": [
       "<pre>| 5         | 1.261036     | 0.828517     | 0.821334       |</pre>"
      ],
      "text/plain": [
       "| 5         | 1.261036     | 0.828517     | 0.821334       |"
      ]
     },
     "metadata": {},
     "output_type": "display_data"
    },
    {
     "data": {
      "text/html": [
       "<pre>| 6         | 1.500962     | 0.826331     | 0.818164       |</pre>"
      ],
      "text/plain": [
       "| 6         | 1.500962     | 0.826331     | 0.818164       |"
      ]
     },
     "metadata": {},
     "output_type": "display_data"
    },
    {
     "data": {
      "text/html": [
       "<pre>| 10        | 2.469290     | 0.841585     | 0.833240       |</pre>"
      ],
      "text/plain": [
       "| 10        | 2.469290     | 0.841585     | 0.833240       |"
      ]
     },
     "metadata": {},
     "output_type": "display_data"
    },
    {
     "data": {
      "text/html": [
       "<pre>| 11        | 2.705588     | 0.841421     | 0.832099       |</pre>"
      ],
      "text/plain": [
       "| 11        | 2.705588     | 0.841421     | 0.832099       |"
      ]
     },
     "metadata": {},
     "output_type": "display_data"
    },
    {
     "data": {
      "text/html": [
       "<pre>| 15        | 3.642410     | 0.845592     | 0.837224       |</pre>"
      ],
      "text/plain": [
       "| 15        | 3.642410     | 0.845592     | 0.837224       |"
      ]
     },
     "metadata": {},
     "output_type": "display_data"
    },
    {
     "data": {
      "text/html": [
       "<pre>| 20        | 4.827000     | 0.850355     | 0.841114       |</pre>"
      ],
      "text/plain": [
       "| 20        | 4.827000     | 0.850355     | 0.841114       |"
      ]
     },
     "metadata": {},
     "output_type": "display_data"
    },
    {
     "data": {
      "text/html": [
       "<pre>| 25        | 6.016787     | 0.852030     | 0.840369       |</pre>"
      ],
      "text/plain": [
       "| 25        | 6.016787     | 0.852030     | 0.840369       |"
      ]
     },
     "metadata": {},
     "output_type": "display_data"
    },
    {
     "data": {
      "text/html": [
       "<pre>| 30        | 7.203936     | 0.855548     | 0.841837       |</pre>"
      ],
      "text/plain": [
       "| 30        | 7.203936     | 0.855548     | 0.841837       |"
      ]
     },
     "metadata": {},
     "output_type": "display_data"
    },
    {
     "data": {
      "text/html": [
       "<pre>| 35        | 8.389579     | 0.858109     | 0.843551       |</pre>"
      ],
      "text/plain": [
       "| 35        | 8.389579     | 0.858109     | 0.843551       |"
      ]
     },
     "metadata": {},
     "output_type": "display_data"
    },
    {
     "data": {
      "text/html": [
       "<pre>| 40        | 9.594557     | 0.860462     | 0.843643       |</pre>"
      ],
      "text/plain": [
       "| 40        | 9.594557     | 0.860462     | 0.843643       |"
      ]
     },
     "metadata": {},
     "output_type": "display_data"
    },
    {
     "data": {
      "text/html": [
       "<pre>| 45        | 10.793925    | 0.862393     | 0.844018       |</pre>"
      ],
      "text/plain": [
       "| 45        | 10.793925    | 0.862393     | 0.844018       |"
      ]
     },
     "metadata": {},
     "output_type": "display_data"
    },
    {
     "data": {
      "text/html": [
       "<pre>| 50        | 11.996734    | 0.864185     | 0.844193       |</pre>"
      ],
      "text/plain": [
       "| 50        | 11.996734    | 0.864185     | 0.844193       |"
      ]
     },
     "metadata": {},
     "output_type": "display_data"
    },
    {
     "data": {
      "text/html": [
       "<pre>| 51        | 12.232344    | 0.864520     | 0.844218       |</pre>"
      ],
      "text/plain": [
       "| 51        | 12.232344    | 0.864520     | 0.844218       |"
      ]
     },
     "metadata": {},
     "output_type": "display_data"
    },
    {
     "data": {
      "text/html": [
       "<pre>| 55        | 13.175273    | 0.865696     | 0.844300       |</pre>"
      ],
      "text/plain": [
       "| 55        | 13.175273    | 0.865696     | 0.844300       |"
      ]
     },
     "metadata": {},
     "output_type": "display_data"
    },
    {
     "data": {
      "text/html": [
       "<pre>| 60        | 14.365465    | 0.866810     | 0.844929       |</pre>"
      ],
      "text/plain": [
       "| 60        | 14.365465    | 0.866810     | 0.844929       |"
      ]
     },
     "metadata": {},
     "output_type": "display_data"
    },
    {
     "data": {
      "text/html": [
       "<pre>| 65        | 15.558169    | 0.867893     | 0.844989       |</pre>"
      ],
      "text/plain": [
       "| 65        | 15.558169    | 0.867893     | 0.844989       |"
      ]
     },
     "metadata": {},
     "output_type": "display_data"
    },
    {
     "data": {
      "text/html": [
       "<pre>| 70        | 16.762363    | 0.869180     | 0.844855       |</pre>"
      ],
      "text/plain": [
       "| 70        | 16.762363    | 0.869180     | 0.844855       |"
      ]
     },
     "metadata": {},
     "output_type": "display_data"
    },
    {
     "data": {
      "text/html": [
       "<pre>| 75        | 17.945830    | 0.869827     | 0.844832       |</pre>"
      ],
      "text/plain": [
       "| 75        | 17.945830    | 0.869827     | 0.844832       |"
      ]
     },
     "metadata": {},
     "output_type": "display_data"
    },
    {
     "data": {
      "text/html": [
       "<pre>| 80        | 19.124641    | 0.870733     | 0.844963       |</pre>"
      ],
      "text/plain": [
       "| 80        | 19.124641    | 0.870733     | 0.844963       |"
      ]
     },
     "metadata": {},
     "output_type": "display_data"
    },
    {
     "data": {
      "text/html": [
       "<pre>+-----------+--------------+--------------+----------------+</pre>"
      ],
      "text/plain": [
       "+-----------+--------------+--------------+----------------+"
      ]
     },
     "metadata": {},
     "output_type": "display_data"
    },
    {
     "data": {
      "text/html": [
       "<pre>Early stop triggered. Returning the best model at iteration: 63</pre>"
      ],
      "text/plain": [
       "Early stop triggered. Returning the best model at iteration: 63"
      ]
     },
     "metadata": {},
     "output_type": "display_data"
    },
    {
     "name": "stdout",
     "output_type": "stream",
     "text": [
      "{'confusion_matrix': Columns:\n",
      "\ttarget_label\tint\n",
      "\tpredicted_label\tint\n",
      "\tcount\tint\n",
      "\n",
      "Rows: 4\n",
      "\n",
      "Data:\n",
      "+--------------+-----------------+-------+\n",
      "| target_label | predicted_label | count |\n",
      "+--------------+-----------------+-------+\n",
      "|      1       |        0        |  150  |\n",
      "|      1       |        1        |  475  |\n",
      "|      0       |        1        |  3230 |\n",
      "|      0       |        0        | 11597 |\n",
      "+--------------+-----------------+-------+\n",
      "[4 rows x 3 columns]\n",
      "}\n"
     ]
    },
    {
     "data": {
      "image/png": "[encoded data removed]",
      "text/plain": [
       "<matplotlib.figure.Figure at 0x7f3b10775c90>"
      ]
     },
     "metadata": {},
     "output_type": "display_data"
    }
   ],
   "source": [
    "mode_var38=tools.mode_sa(train_data['var38'])\n",
    "train_data['var38_ind'] = train_data['var38'].apply(lambda x: x == mode_var38)\n",
    "\n",
    "train, validate = train_data.random_split(0.8, seed=8273)\n",
    "params = {'target':'TARGET', 'validation_set':validate,'verbose':True, 'random_seed':8923,\n",
    "          'class_weights':'auto','metric':'auc',\n",
    "          'early_stopping_rounds':20, 'max_iterations':300}\n",
    "d=4; r=1; c=0.6; s=0.1;\n",
    "model = gl.boosted_trees_classifier.create(train, \n",
    "                    max_depth=d, row_subsample=r, column_subsample=c, \n",
    "                                           step_size=s, **params)\n",
    "print model.evaluate(validate, metric='confusion_matrix')\n",
    "tools.plot_roc(model, validate);"
   ]
  },
  {
   "cell_type": "code",
   "execution_count": 11,
   "metadata": {
    "ExecuteTime": {
     "end_time": "2016-03-14T08:59:32.304715",
     "start_time": "2016-03-14T08:59:32.262887"
    },
    "collapsed": false
   },
   "outputs": [
    {
     "data": {
      "text/html": [
       "<div style=\"max-height:1000px;max-width:1500px;overflow:auto;\"><table frame=\"box\" rules=\"cols\">\n",
       "    <tr>\n",
       "        <th style=\"padding-left: 1em; padding-right: 1em; text-align: center\">name</th>\n",
       "        <th style=\"padding-left: 1em; padding-right: 1em; text-align: center\">index</th>\n",
       "        <th style=\"padding-left: 1em; padding-right: 1em; text-align: center\">count</th>\n",
       "    </tr>\n",
       "    <tr>\n",
       "        <td style=\"padding-left: 1em; padding-right: 1em; text-align: center; vertical-align: top\">var15</td>\n",
       "        <td style=\"padding-left: 1em; padding-right: 1em; text-align: center; vertical-align: top\">None</td>\n",
       "        <td style=\"padding-left: 1em; padding-right: 1em; text-align: center; vertical-align: top\">91</td>\n",
       "    </tr>\n",
       "    <tr>\n",
       "        <td style=\"padding-left: 1em; padding-right: 1em; text-align: center; vertical-align: top\">var38</td>\n",
       "        <td style=\"padding-left: 1em; padding-right: 1em; text-align: center; vertical-align: top\">None</td>\n",
       "        <td style=\"padding-left: 1em; padding-right: 1em; text-align: center; vertical-align: top\">86</td>\n",
       "    </tr>\n",
       "    <tr>\n",
       "        <td style=\"padding-left: 1em; padding-right: 1em; text-align: center; vertical-align: top\">var5 average balance<br>hace3 ...</td>\n",
       "        <td style=\"padding-left: 1em; padding-right: 1em; text-align: center; vertical-align: top\">None</td>\n",
       "        <td style=\"padding-left: 1em; padding-right: 1em; text-align: center; vertical-align: top\">57</td>\n",
       "    </tr>\n",
       "    <tr>\n",
       "        <td style=\"padding-left: 1em; padding-right: 1em; text-align: center; vertical-align: top\">var30 balance</td>\n",
       "        <td style=\"padding-left: 1em; padding-right: 1em; text-align: center; vertical-align: top\">None</td>\n",
       "        <td style=\"padding-left: 1em; padding-right: 1em; text-align: center; vertical-align: top\">56</td>\n",
       "    </tr>\n",
       "    <tr>\n",
       "        <td style=\"padding-left: 1em; padding-right: 1em; text-align: center; vertical-align: top\">var5 average balance<br>hace2 ...</td>\n",
       "        <td style=\"padding-left: 1em; padding-right: 1em; text-align: center; vertical-align: top\">None</td>\n",
       "        <td style=\"padding-left: 1em; padding-right: 1em; text-align: center; vertical-align: top\">51</td>\n",
       "    </tr>\n",
       "    <tr>\n",
       "        <td style=\"padding-left: 1em; padding-right: 1em; text-align: center; vertical-align: top\">ID</td>\n",
       "        <td style=\"padding-left: 1em; padding-right: 1em; text-align: center; vertical-align: top\">None</td>\n",
       "        <td style=\"padding-left: 1em; padding-right: 1em; text-align: center; vertical-align: top\">45</td>\n",
       "    </tr>\n",
       "    <tr>\n",
       "        <td style=\"padding-left: 1em; padding-right: 1em; text-align: center; vertical-align: top\">var5 average balance<br>ultima1 ...</td>\n",
       "        <td style=\"padding-left: 1em; padding-right: 1em; text-align: center; vertical-align: top\">None</td>\n",
       "        <td style=\"padding-left: 1em; padding-right: 1em; text-align: center; vertical-align: top\">32</td>\n",
       "    </tr>\n",
       "    <tr>\n",
       "        <td style=\"padding-left: 1em; padding-right: 1em; text-align: center; vertical-align: top\">var42 balance</td>\n",
       "        <td style=\"padding-left: 1em; padding-right: 1em; text-align: center; vertical-align: top\">None</td>\n",
       "        <td style=\"padding-left: 1em; padding-right: 1em; text-align: center; vertical-align: top\">30</td>\n",
       "    </tr>\n",
       "    <tr>\n",
       "        <td style=\"padding-left: 1em; padding-right: 1em; text-align: center; vertical-align: top\">var5 average balance<br>ultima3 ...</td>\n",
       "        <td style=\"padding-left: 1em; padding-right: 1em; text-align: center; vertical-align: top\">None</td>\n",
       "        <td style=\"padding-left: 1em; padding-right: 1em; text-align: center; vertical-align: top\">27</td>\n",
       "    </tr>\n",
       "    <tr>\n",
       "        <td style=\"padding-left: 1em; padding-right: 1em; text-align: center; vertical-align: top\">var22 number ultima1</td>\n",
       "        <td style=\"padding-left: 1em; padding-right: 1em; text-align: center; vertical-align: top\">None</td>\n",
       "        <td style=\"padding-left: 1em; padding-right: 1em; text-align: center; vertical-align: top\">26</td>\n",
       "    </tr>\n",
       "</table>\n",
       "[400 rows x 3 columns]<br/>Note: Only the head of the SFrame is printed.<br/>You can use print_rows(num_rows=m, num_columns=n) to print more rows and columns.\n",
       "</div>"
      ],
      "text/plain": [
       "Columns:\n",
       "\tname\tstr\n",
       "\tindex\tstr\n",
       "\tcount\tint\n",
       "\n",
       "Rows: 400\n",
       "\n",
       "Data:\n",
       "+------------------------------+-------+-------+\n",
       "|             name             | index | count |\n",
       "+------------------------------+-------+-------+\n",
       "|            var15             |  None |   91  |\n",
       "|            var38             |  None |   86  |\n",
       "|  var5 average balance hace3  |  None |   57  |\n",
       "|        var30 balance         |  None |   56  |\n",
       "|  var5 average balance hace2  |  None |   51  |\n",
       "|              ID              |  None |   45  |\n",
       "| var5 average balance ultima1 |  None |   32  |\n",
       "|        var42 balance         |  None |   30  |\n",
       "| var5 average balance ultima3 |  None |   27  |\n",
       "|     var22 number ultima1     |  None |   26  |\n",
       "+------------------------------+-------+-------+\n",
       "[400 rows x 3 columns]\n",
       "Note: Only the head of the SFrame is printed.\n",
       "You can use print_rows(num_rows=m, num_columns=n) to print more rows and columns."
      ]
     },
     "execution_count": 11,
     "metadata": {},
     "output_type": "execute_result"
    }
   ],
   "source": [
    "model.get_feature_importance()\n"
   ]
  },
  {
   "cell_type": "markdown",
   "metadata": {
    "collapsed": true,
    "heading_collapsed": true
   },
   "source": [
    "## Remove Correlated columns"
   ]
  },
  {
   "cell_type": "code",
   "execution_count": 4,
   "metadata": {
    "ExecuteTime": {
     "end_time": "2016-03-14T21:26:24.142438",
     "start_time": "2016-03-14T21:26:11.039474"
    },
    "collapsed": false
   },
   "outputs": [
    {
     "name": "stdout",
     "output_type": "stream",
     "text": [
      "[('var41 option amount ultima1', 'var39 option amount ultima1'), ('var24 balance', 'var12 balance'), ('var17 average balance ultima1', 'var17 average balance ultima3'), ('var17 balance', 'var17 average balance ultima3'), ('var17 balance', 'var17 average balance ultima1')]\n"
     ]
    }
   ],
   "source": [
    "reload(tools)\n",
    "import itertools\n",
    "float_cols = tools.features_type(float(), train_data)\n",
    "pairs = itertools.combinations(float_cols, 2)\n",
    "\n",
    "correlated_float_cols = [(col2,col1) for col1, col2, in pairs if abs(tools.pearsonr_sa(train_data[col1], train_data[col2])) > 0.99]\n",
    "print correlated_float_cols "
   ]
  },
  {
   "cell_type": "code",
   "execution_count": 5,
   "metadata": {
    "ExecuteTime": {
     "end_time": "2016-03-14T21:30:56.872806",
     "start_time": "2016-03-14T21:26:26.635346"
    },
    "collapsed": false
   },
   "outputs": [
    {
     "name": "stdout",
     "output_type": "stream",
     "text": [
      "[('var41 option number hace2', 'var39 option number hace2'), ('var17 reimbursement number hace3', 'var17 refund amount hace3'), ('var40 number 0', 'var1 number 0'), ('var17 average balance hace3', 'var17 input amount hace3'), ('var17 transfer number in hace3', 'var17 transfer amount in hace3'), ('var18 balance', 'var18 repayment amount ultima1'), ('var13 balance means', 'var13 average balance means ultima3'), ('var13 average number 0', 'var13 number months average number ultima3'), ('var45 number ultima3', 'var45 average number ultima3'), ('var1 number', 'var40 number'), ('var41 amount effective option ultima1', 'var39 amount effective option ultima1'), ('var41 amount effective option ultima3', 'var39 amount effective option ultima3'), ('var33 reimbursement number ultima1', 'var33 refund amount ultima1'), ('var39 option number cash ultima3', 'var41 option number cash ultima3'), ('var33 number transfer out ultima1', 'var33 transfer amount out ultima1'), ('var33 average balance ultima1', 'var33 average balance ultima3'), ('var33 balance', 'var33 average balance ultima3'), ('var33 balance', 'var33 average balance ultima1'), ('var41 option number cash ultima1', 'var39 option number cash ultima1')]\n"
     ]
    }
   ],
   "source": [
    "int_cols = tools.features_type(int(), train_data)\n",
    "pairs = itertools.combinations(int_cols, 2)\n",
    "\n",
    "correlated_int_cols = [(col2,col1) for col1, col2, in pairs if abs(tools.pearsonr_sa(train_data[col1], train_data[col2])) > 0.99]\n",
    "print correlated_int_cols "
   ]
  },
  {
   "cell_type": "code",
   "execution_count": 6,
   "metadata": {
    "ExecuteTime": {
     "end_time": "2016-03-14T21:31:22.757160",
     "start_time": "2016-03-14T21:30:56.873749"
    },
    "collapsed": false
   },
   "outputs": [
    {
     "name": "stdout",
     "output_type": "stream",
     "text": [
      "[]\n"
     ]
    }
   ],
   "source": [
    "str_cols = tools.features_type(str(), train_data)\n",
    "pairs = itertools.combinations(str_cols, 2)\n",
    "correlated_str_cols = [(col2,col1) for col1, col2, in pairs if all(train_data[col1] == train_data[col2])]\n",
    "print correlated_str_cols "
   ]
  },
  {
   "cell_type": "code",
   "execution_count": 15,
   "metadata": {
    "ExecuteTime": {
     "end_time": "2016-03-14T22:07:47.206788",
     "start_time": "2016-03-14T22:07:47.203006"
    },
    "collapsed": false
   },
   "outputs": [
    {
     "name": "stdout",
     "output_type": "stream",
     "text": [
      "22\n",
      "['var1 number', 'var13 average number 0', 'var13 balance means', 'var17 average balance hace3', 'var17 average balance ultima1', 'var17 balance', 'var17 reimbursement number hace3', 'var17 transfer number in hace3', 'var18 balance', 'var24 balance', 'var33 average balance ultima1', 'var33 balance', 'var33 number transfer out ultima1', 'var33 reimbursement number ultima1', 'var39 option number cash ultima3', 'var40 number 0', 'var41 amount effective option ultima1', 'var41 amount effective option ultima3', 'var41 option amount ultima1', 'var41 option number cash ultima1', 'var41 option number hace2', 'var45 number ultima3']\n"
     ]
    }
   ],
   "source": [
    "drop_list = sorted(list(set(zip(*correlated_float_cols)[0] + zip(*correlated_int_cols)[0])))\n",
    "print len(drop_list)\n",
    "print drop_list"
   ]
  },
  {
   "cell_type": "code",
   "execution_count": 16,
   "metadata": {
    "ExecuteTime": {
     "end_time": "2016-03-14T22:18:23.778939",
     "start_time": "2016-03-14T22:18:23.775659"
    },
    "collapsed": true
   },
   "outputs": [],
   "source": [
    "duplicate_cols = ['var29 indicator 0', 'var29 indicator', 'var13 indicator means', 'var18 indicator', 'var26 indicator', 'var25 indicator', 'var32 indicator', 'var34 indicator', 'var37 indicator', 'var39 indicator', 'var29 number 0', 'var29 number', 'var13 average number', 'var18 number', 'var26 number', 'var25 number', 'var32 number', 'var34 number', 'var37 number', 'var39 number', 'var29 balance', 'var13 average balance means ultima1', 'var33 delta contribution amount 1Y3', 'var13 delta reimbursement amount 1Y3', 'var17 delta reimbursement amount 1Y3', 'var33 delta reimbursement amount 1Y3', 'var17 delta transfer number in 1Y3', 'var17 delta transfer number out 1Y3', 'var33 delta transfer number in 1Y3', 'var33 delta transfer number out 1Y3']\n",
    "\n"
   ]
  },
  {
   "cell_type": "code",
   "execution_count": 17,
   "metadata": {
    "ExecuteTime": {
     "end_time": "2016-03-14T22:18:38.563297",
     "start_time": "2016-03-14T22:18:38.560569"
    },
    "collapsed": false
   },
   "outputs": [
    {
     "name": "stdout",
     "output_type": "stream",
     "text": [
      "22 30\n"
     ]
    }
   ],
   "source": [
    "print len(drop_list), len(duplicate_cols)"
   ]
  },
  {
   "cell_type": "code",
   "execution_count": 18,
   "metadata": {
    "ExecuteTime": {
     "end_time": "2016-03-14T22:20:28.255391",
     "start_time": "2016-03-14T22:20:28.251913"
    },
    "collapsed": false
   },
   "outputs": [
    {
     "data": {
      "text/plain": [
       "set()"
      ]
     },
     "execution_count": 18,
     "metadata": {},
     "output_type": "execute_result"
    }
   ],
   "source": [
    "set(drop_list) & set(duplicate_cols)"
   ]
  },
  {
   "cell_type": "code",
   "execution_count": 19,
   "metadata": {
    "ExecuteTime": {
     "end_time": "2016-03-14T22:22:32.800859",
     "start_time": "2016-03-14T22:22:11.106139"
    },
    "collapsed": false
   },
   "outputs": [
    {
     "name": "stdout",
     "output_type": "stream",
     "text": [
      "Loading raw data and tranforming it\n",
      "Loading raw data from CSV files\n",
      "train: 76020    test: 75818\n",
      "370 raw features\n",
      "366 Columns translated to English\n",
      "64 constant or duplicate columns removed\n",
      "19 features with anomalous values replaced by 'None'\n",
      "73 integer features converted to categorical\n",
      "306 features in total\n",
      "Saving processed data for fast reloading\n"
     ]
    }
   ],
   "source": [
    "train_data, test_data = initialise.load_data(reload_data=True)"
   ]
  },
  {
   "cell_type": "code",
   "execution_count": 20,
   "metadata": {
    "ExecuteTime": {
     "end_time": "2016-03-14T22:23:06.807336",
     "start_time": "2016-03-14T22:22:48.679901"
    },
    "collapsed": false
   },
   "outputs": [
    {
     "name": "stdout",
     "output_type": "stream",
     "text": [
      "Loading raw data and tranforming it\n",
      "Loading raw data from CSV files\n",
      "train: 76020    test: 75818\n",
      "370 raw features\n",
      "366 Columns translated to English\n",
      "86 constant or duplicate columns removed\n",
      "19 features with anomalous values replaced by 'None'\n",
      "73 integer features converted to categorical\n",
      "284 features in total\n",
      "Saving processed data for fast reloading\n"
     ]
    }
   ],
   "source": [
    "reload(initialise)\n",
    "train_data, test_data = initialise.load_data(reload_data=True)"
   ]
  },
  {
   "cell_type": "code",
   "execution_count": 29,
   "metadata": {
    "ExecuteTime": {
     "end_time": "2016-03-14T22:28:49.112477",
     "start_time": "2016-03-14T22:28:36.529258"
    },
    "collapsed": false
   },
   "outputs": [
    {
     "name": "stdout",
     "output_type": "stream",
     "text": [
      "{'confusion_matrix': Columns:\n",
      "\ttarget_label\tstr\n",
      "\tpredicted_label\tstr\n",
      "\tcount\tint\n",
      "\n",
      "Rows: 4\n",
      "\n",
      "Data:\n",
      "+--------------+-----------------+-------+\n",
      "| target_label | predicted_label | count |\n",
      "+--------------+-----------------+-------+\n",
      "|  Satisified  |   Unsatisified  |  148  |\n",
      "|  Satisified  |    Satisified   |  477  |\n",
      "| Unsatisified |    Satisified   |  3272 |\n",
      "| Unsatisified |   Unsatisified  | 11555 |\n",
      "+--------------+-----------------+-------+\n",
      "[4 rows x 3 columns]\n",
      "}\n"
     ]
    },
    {
     "data": {
      "image/png": "[encoded data removed]",
      "text/plain": [
       "<matplotlib.figure.Figure at 0x7f30f808aa90>"
      ]
     },
     "metadata": {},
     "output_type": "display_data"
    }
   ],
   "source": [
    "reload(tools)\n",
    "train, validate = train_data.random_split(0.8, seed=8273)\n",
    "params = {'target':'TARGET', 'validation_set':validate,'verbose':False, 'random_seed':8923,\n",
    "          'class_weights':'auto','metric':'auc',\n",
    "          'early_stopping_rounds':20, 'max_iterations':300}\n",
    "d=4; r=1; c=0.6; s=0.1;\n",
    "model = gl.boosted_trees_classifier.create(train, \n",
    "                    max_depth=d, row_subsample=r, column_subsample=c, \n",
    "                                           step_size=s, **params)\n",
    "print model.evaluate(validate, metric='confusion_matrix')\n",
    "tools.plot_roc(model, validate);"
   ]
  },
  {
   "cell_type": "code",
   "execution_count": 32,
   "metadata": {
    "ExecuteTime": {
     "end_time": "2016-03-14T22:31:24.383878",
     "start_time": "2016-03-14T22:30:55.650970"
    },
    "collapsed": false
   },
   "outputs": [
    {
     "name": "stdout",
     "output_type": "stream",
     "text": [
      "Loading raw data and tranforming it\n",
      "Loading raw data from CSV files\n",
      "train: 76020    test: 75818\n",
      "370 raw features\n",
      "366 Columns translated to English\n",
      "64 constant or duplicate columns removed\n",
      "19 features with anomalous values replaced by 'None'\n",
      "73 integer features converted to categorical\n",
      "306 features in total\n",
      "Saving processed data for fast reloading\n",
      "{'confusion_matrix': Columns:\n",
      "\ttarget_label\tstr\n",
      "\tpredicted_label\tstr\n",
      "\tcount\tint\n",
      "\n",
      "Rows: 4\n",
      "\n",
      "Data:\n",
      "+--------------+-----------------+-------+\n",
      "| target_label | predicted_label | count |\n",
      "+--------------+-----------------+-------+\n",
      "|  Satisified  |   Unsatisified  |  142  |\n",
      "|  Satisified  |    Satisified   |  483  |\n",
      "| Unsatisified |    Satisified   |  3286 |\n",
      "| Unsatisified |   Unsatisified  | 11541 |\n",
      "+--------------+-----------------+-------+\n",
      "[4 rows x 3 columns]\n",
      "}\n"
     ]
    },
    {
     "data": {
      "image/png": "[encoded data removed]",
      "text/plain": [
       "<matplotlib.figure.Figure at 0x7f318e32f690>"
      ]
     },
     "metadata": {},
     "output_type": "display_data"
    }
   ],
   "source": [
    "reload(initialise)#after removing low_variance_cols\n",
    "train_data, test_data = initialise.load_data(reload_data=True)\n",
    "train, validate = train_data.random_split(0.8, seed=8273)\n",
    "params = {'target':'TARGET', 'validation_set':validate,'verbose':False, 'random_seed':8923,\n",
    "          'class_weights':'auto','metric':'auc',\n",
    "          'early_stopping_rounds':20, 'max_iterations':300}\n",
    "d=4; r=1; c=0.6; s=0.1;\n",
    "model = gl.boosted_trees_classifier.create(train, \n",
    "                    max_depth=d, row_subsample=r, column_subsample=c, \n",
    "                                           step_size=s, **params)\n",
    "print model.evaluate(validate, metric='confusion_matrix')\n",
    "tools.plot_roc(model, validate);"
   ]
  },
  {
   "cell_type": "code",
   "execution_count": null,
   "metadata": {
    "collapsed": true
   },
   "outputs": [],
   "source": []
  }
 ],
 "metadata": {
  "kernelspec": {
   "display_name": "Python 2",
   "language": "python",
   "name": "python2"
  },
  "language_info": {
   "codemirror_mode": {
    "name": "ipython",
    "version": 2
   },
   "file_extension": ".py",
   "mimetype": "text/x-python",
   "name": "python",
   "nbconvert_exporter": "python",
   "pygments_lexer": "ipython2",
   "version": "2.7.11"
  },
  "notify_time": "5",
  "toc": {
   "toc_cell": false,
   "toc_number_sections": false,
   "toc_threshold": "2",
   "toc_window_display": true
  },
  "toc_position": {
   "height": "103px",
   "left": "631.281px",
   "right": "20px",
   "top": "-69px",
   "width": "246px"
  }
 },
 "nbformat": 4,
 "nbformat_minor": 0
}
