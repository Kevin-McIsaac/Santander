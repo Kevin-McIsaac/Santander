{
 "cells": [
  {
   "cell_type": "markdown",
   "metadata": {
    "heading_collapsed": true
   },
   "source": [
    "## Initialise"
   ]
  },
  {
   "cell_type": "code",
   "execution_count": 1,
   "metadata": {
    "ExecuteTime": {
     "end_time": "2016-03-11T08:13:37.616526",
     "start_time": "2016-03-11T08:13:37.604502"
    },
    "code_folding": [
     3
    ],
    "collapsed": false,
    "init_cell": true
   },
   "outputs": [
    {
     "data": {
      "text/html": [
       "\n",
       "<style>\n",
       ".container {\n",
       "    width: 100%;\n",
       "}\n",
       "</style>\n"
      ],
      "text/plain": [
       "<IPython.core.display.HTML object>"
      ]
     },
     "execution_count": 1,
     "metadata": {},
     "output_type": "execute_result"
    }
   ],
   "source": [
    "from IPython.core.display import HTML\n",
    "HTML(\"\"\"\n",
    "<style>\n",
    ".container {\n",
    "    width: 100%;\n",
    "}\n",
    "</style>\n",
    "\"\"\")"
   ]
  },
  {
   "cell_type": "code",
   "execution_count": 2,
   "metadata": {
    "ExecuteTime": {
     "end_time": "2016-03-11T08:13:38.427053",
     "start_time": "2016-03-11T08:13:37.617829"
    },
    "collapsed": false,
    "init_cell": true
   },
   "outputs": [],
   "source": [
    "import graphlab as gl\n",
    "gl.canvas.set_target('ipynb')\n",
    "import tools \n",
    "import initialise"
   ]
  },
  {
   "cell_type": "code",
   "execution_count": 3,
   "metadata": {
    "ExecuteTime": {
     "end_time": "2016-03-11T08:13:39.943024",
     "start_time": "2016-03-11T08:13:38.428553"
    },
    "collapsed": false,
    "init_cell": true
   },
   "outputs": [
    {
     "name": "stdout",
     "output_type": "stream",
     "text": [
      "Loading saved processed data\n",
      "This non-commercial license of GraphLab Create is assigned to kevin.mcisaac@gmail.com and will expire on November 06, 2016. For commercial licensing options, visit https://dato.com/buy/."
     ]
    },
    {
     "name": "stderr",
     "output_type": "stream",
     "text": [
      "2016-03-11 08:13:39,877 [INFO] graphlab.cython.cy_server, 176: GraphLab Create v1.8.4 started. Logging: /tmp/graphlab_server_1457644418.log\n"
     ]
    },
    {
     "name": "stdout",
     "output_type": "stream",
     "text": [
      "\n",
      "306  features in total\n"
     ]
    }
   ],
   "source": [
    "train_data, test_data = initialise.load_data(reload_data=False)"
   ]
  },
  {
   "cell_type": "markdown",
   "metadata": {
    "heading_collapsed": true
   },
   "source": [
    "# Logistic Classifier\n",
    "- Had to remove rows with \"None\". Got AUC of 0.667\n",
    "- Removed low variance features, which made no difference\n",
    "- Switched to l2_penalty, and increated AUC to 0.80"
   ]
  },
  {
   "cell_type": "code",
   "execution_count": 4,
   "metadata": {
    "ExecuteTime": {
     "end_time": "2016-03-11T08:15:29.746563",
     "start_time": "2016-03-11T08:15:12.370493"
    },
    "collapsed": true
   },
   "outputs": [
    {
     "data": {
      "text/html": [
       "<pre>WARNING: Detected extremely low variance for feature(s) 'var18 indicator 0', 'var34 indicator 0', 'var18 number 0', 'var34 number 0', 'var18 balance', 'var34 balance', 'var18 amortization amount delta 1Y3', 'var34 amortization amount delta 1Y3', 'var13 refund amount delta 1Y3', 'var33 refund amount delta 1Y3', 'var17 delta transfer amount out 1Y3', 'var33 delta transfer amount out 1Y3', 'var18 repayment amount ultima1', 'var34 repayment amount ultima1', 'var13 refund amount ultima1', 'var17 refund amount ultima1', 'var33 refund amount ultima1', 'var17 transfer amount in ultima1', 'var17 transfer amount out ultima1', 'var33 transfer amount in ultima1', 'var33 transfer amount out ultima1', 'var13 reimbursement number ultima1', 'var17 reimbursement number ultima1', 'var33 reimbursement number ultima1', 'var17 transfer number in ultima1', 'var17 number transfer out ultima1', 'var33 transfer number in ultima1', 'var33 number transfer out ultima1' because all entries are nearly the same.\n",
       "Proceeding with model training using all features. If the model does not provide results of adequate quality, exclude the above mentioned feature(s) from the input dataset.</pre>"
      ],
      "text/plain": [
       "WARNING: Detected extremely low variance for feature(s) 'var18 indicator 0', 'var34 indicator 0', 'var18 number 0', 'var34 number 0', 'var18 balance', 'var34 balance', 'var18 amortization amount delta 1Y3', 'var34 amortization amount delta 1Y3', 'var13 refund amount delta 1Y3', 'var33 refund amount delta 1Y3', 'var17 delta transfer amount out 1Y3', 'var33 delta transfer amount out 1Y3', 'var18 repayment amount ultima1', 'var34 repayment amount ultima1', 'var13 refund amount ultima1', 'var17 refund amount ultima1', 'var33 refund amount ultima1', 'var17 transfer amount in ultima1', 'var17 transfer amount out ultima1', 'var33 transfer amount in ultima1', 'var33 transfer amount out ultima1', 'var13 reimbursement number ultima1', 'var17 reimbursement number ultima1', 'var33 reimbursement number ultima1', 'var17 transfer number in ultima1', 'var17 number transfer out ultima1', 'var33 transfer number in ultima1', 'var33 number transfer out ultima1' because all entries are nearly the same.\n",
       "Proceeding with model training using all features. If the model does not provide results of adequate quality, exclude the above mentioned feature(s) from the input dataset."
      ]
     },
     "metadata": {},
     "output_type": "display_data"
    },
    {
     "data": {
      "text/html": [
       "<pre>Logistic regression:</pre>"
      ],
      "text/plain": [
       "Logistic regression:"
      ]
     },
     "metadata": {},
     "output_type": "display_data"
    },
    {
     "data": {
      "text/html": [
       "<pre>--------------------------------------------------------</pre>"
      ],
      "text/plain": [
       "--------------------------------------------------------"
      ]
     },
     "metadata": {},
     "output_type": "display_data"
    },
    {
     "data": {
      "text/html": [
       "<pre>Number of examples          : 71582</pre>"
      ],
      "text/plain": [
       "Number of examples          : 71582"
      ]
     },
     "metadata": {},
     "output_type": "display_data"
    },
    {
     "data": {
      "text/html": [
       "<pre>Number of classes           : 2</pre>"
      ],
      "text/plain": [
       "Number of classes           : 2"
      ]
     },
     "metadata": {},
     "output_type": "display_data"
    },
    {
     "data": {
      "text/html": [
       "<pre>Number of feature columns   : 306</pre>"
      ],
      "text/plain": [
       "Number of feature columns   : 306"
      ]
     },
     "metadata": {},
     "output_type": "display_data"
    },
    {
     "data": {
      "text/html": [
       "<pre>Number of unpacked features : 306</pre>"
      ],
      "text/plain": [
       "Number of unpacked features : 306"
      ]
     },
     "metadata": {},
     "output_type": "display_data"
    },
    {
     "data": {
      "text/html": [
       "<pre>Number of coefficients    : 307</pre>"
      ],
      "text/plain": [
       "Number of coefficients    : 307"
      ]
     },
     "metadata": {},
     "output_type": "display_data"
    },
    {
     "data": {
      "text/html": [
       "<pre>Starting Accelerated Gradient (FISTA)</pre>"
      ],
      "text/plain": [
       "Starting Accelerated Gradient (FISTA)"
      ]
     },
     "metadata": {},
     "output_type": "display_data"
    },
    {
     "data": {
      "text/html": [
       "<pre>--------------------------------------------------------</pre>"
      ],
      "text/plain": [
       "--------------------------------------------------------"
      ]
     },
     "metadata": {},
     "output_type": "display_data"
    },
    {
     "data": {
      "text/html": [
       "<pre>+-----------+----------+-----------+--------------+-------------------+---------------------+</pre>"
      ],
      "text/plain": [
       "+-----------+----------+-----------+--------------+-------------------+---------------------+"
      ]
     },
     "metadata": {},
     "output_type": "display_data"
    },
    {
     "data": {
      "text/html": [
       "<pre>| Iteration | Passes   | Step size | Elapsed Time | Training-accuracy | Validation-accuracy |</pre>"
      ],
      "text/plain": [
       "| Iteration | Passes   | Step size | Elapsed Time | Training-accuracy | Validation-accuracy |"
      ]
     },
     "metadata": {},
     "output_type": "display_data"
    },
    {
     "data": {
      "text/html": [
       "<pre>+-----------+----------+-----------+--------------+-------------------+---------------------+</pre>"
      ],
      "text/plain": [
       "+-----------+----------+-----------+--------------+-------------------+---------------------+"
      ]
     },
     "metadata": {},
     "output_type": "display_data"
    },
    {
     "data": {
      "text/html": [
       "<pre>Tuning step size. First iteration could take longer than subsequent iterations.</pre>"
      ],
      "text/plain": [
       "Tuning step size. First iteration could take longer than subsequent iterations."
      ]
     },
     "metadata": {},
     "output_type": "display_data"
    },
    {
     "data": {
      "text/html": [
       "<pre>| 1         | 2        | 0.000002  | 6.997265     | 0.960186          | 0.961447            |</pre>"
      ],
      "text/plain": [
       "| 1         | 2        | 0.000002  | 6.997265     | 0.960186          | 0.961447            |"
      ]
     },
     "metadata": {},
     "output_type": "display_data"
    },
    {
     "data": {
      "text/html": [
       "<pre>| 2         | 3        | 0.000002  | 7.462840     | 0.960186          | 0.961447            |</pre>"
      ],
      "text/plain": [
       "| 2         | 3        | 0.000002  | 7.462840     | 0.960186          | 0.961447            |"
      ]
     },
     "metadata": {},
     "output_type": "display_data"
    },
    {
     "data": {
      "text/html": [
       "<pre>| 3         | 4        | 0.000002  | 7.928303     | 0.960186          | 0.961447            |</pre>"
      ],
      "text/plain": [
       "| 3         | 4        | 0.000002  | 7.928303     | 0.960186          | 0.961447            |"
      ]
     },
     "metadata": {},
     "output_type": "display_data"
    },
    {
     "data": {
      "text/html": [
       "<pre>| 4         | 5        | 0.000002  | 8.396824     | 0.960186          | 0.961447            |</pre>"
      ],
      "text/plain": [
       "| 4         | 5        | 0.000002  | 8.396824     | 0.960186          | 0.961447            |"
      ]
     },
     "metadata": {},
     "output_type": "display_data"
    },
    {
     "data": {
      "text/html": [
       "<pre>| 5         | 6        | 0.000002  | 8.862841     | 0.960186          | 0.961447            |</pre>"
      ],
      "text/plain": [
       "| 5         | 6        | 0.000002  | 8.862841     | 0.960186          | 0.961447            |"
      ]
     },
     "metadata": {},
     "output_type": "display_data"
    },
    {
     "data": {
      "text/html": [
       "<pre>| 6         | 7        | 0.000002  | 9.323948     | 0.960186          | 0.961447            |</pre>"
      ],
      "text/plain": [
       "| 6         | 7        | 0.000002  | 9.323948     | 0.960186          | 0.961447            |"
      ]
     },
     "metadata": {},
     "output_type": "display_data"
    },
    {
     "data": {
      "text/html": [
       "<pre>| 10        | 11       | 0.000002  | 11.182808    | 0.960186          | 0.961183            |</pre>"
      ],
      "text/plain": [
       "| 10        | 11       | 0.000002  | 11.182808    | 0.960186          | 0.961183            |"
      ]
     },
     "metadata": {},
     "output_type": "display_data"
    },
    {
     "data": {
      "text/html": [
       "<pre>+-----------+----------+-----------+--------------+-------------------+---------------------+</pre>"
      ],
      "text/plain": [
       "+-----------+----------+-----------+--------------+-------------------+---------------------+"
      ]
     },
     "metadata": {},
     "output_type": "display_data"
    },
    {
     "data": {
      "text/html": [
       "<pre>SUCCESS: Optimal solution found.</pre>"
      ],
      "text/plain": [
       "SUCCESS: Optimal solution found."
      ]
     },
     "metadata": {},
     "output_type": "display_data"
    },
    {
     "data": {
      "text/html": [
       "<pre></pre>"
      ],
      "text/plain": []
     },
     "metadata": {},
     "output_type": "display_data"
    },
    {
     "name": "stdout",
     "output_type": "stream",
     "text": [
      "PROGRESS: Creating a validation set from 5 percent of training data. This may take a while.\n",
      "          You can set ``validation_set=None`` to disable validation tracking.\n",
      "\n"
     ]
    }
   ],
   "source": [
    "train_data_1 = train_data.dropna()\n",
    "model_1= gl.logistic_classifier.create(train_data_1, target='TARGET', l1_penalty=.05, l2_penalty=0,\n",
    "                             max_iterations=50)"
   ]
  },
  {
   "cell_type": "code",
   "execution_count": 5,
   "metadata": {
    "ExecuteTime": {
     "end_time": "2016-03-11T08:15:31.025981",
     "start_time": "2016-03-11T08:15:29.749215"
    },
    "collapsed": false
   },
   "outputs": [
    {
     "data": {
      "text/plain": [
       "{'auc': 0.6669024290928265}"
      ]
     },
     "execution_count": 5,
     "metadata": {},
     "output_type": "execute_result"
    }
   ],
   "source": [
    "model_1.evaluate(train_data, metric='auc')"
   ]
  },
  {
   "cell_type": "code",
   "execution_count": 6,
   "metadata": {
    "ExecuteTime": {
     "end_time": "2016-03-11T08:15:32.344433",
     "start_time": "2016-03-11T08:15:31.028607"
    },
    "collapsed": false
   },
   "outputs": [
    {
     "name": "stdout",
     "output_type": "stream",
     "text": [
      "28 low variance features removed\n",
      "75402 vs 76020\n"
     ]
    }
   ],
   "source": [
    "low_variance =['var18 indicator 0', 'var34 indicator 0', 'var18 number 0', 'var34 number 0', 'var18 balance', 'var34 balance', 'var18 amortization amount delta 1Y3', 'var34 amortization amount delta 1Y3', 'var13 refund amount delta 1Y3', 'var33 refund amount delta 1Y3', 'var17 delta transfer amount out 1Y3', 'var33 delta transfer amount out 1Y3', 'var18 repayment amount ultima1', 'var34 repayment amount ultima1', 'var13 refund amount ultima1', 'var17 refund amount ultima1', 'var33 refund amount ultima1', 'var17 transfer amount in ultima1', 'var17 transfer amount out ultima1', 'var33 transfer amount in ultima1', 'var33 transfer amount out ultima1', 'var13 reimbursement number ultima1', 'var17 reimbursement number ultima1', 'var33 reimbursement number ultima1', 'var17 transfer number in ultima1', 'var17 number transfer out ultima1', 'var33 transfer number in ultima1', 'var33 number transfer out ultima1']\n",
    "print len(low_variance), \"low variance features removed\"\n",
    "train_data_2 = train_data.remove_columns(low_variance).dropna()\n",
    "print len(train_data_2), \"vs\", len(train_data)"
   ]
  },
  {
   "cell_type": "code",
   "execution_count": 7,
   "metadata": {
    "ExecuteTime": {
     "end_time": "2016-03-11T08:15:46.164176",
     "start_time": "2016-03-11T08:15:32.345650"
    },
    "collapsed": true
   },
   "outputs": [
    {
     "data": {
      "text/html": [
       "<pre>Logistic regression:</pre>"
      ],
      "text/plain": [
       "Logistic regression:"
      ]
     },
     "metadata": {},
     "output_type": "display_data"
    },
    {
     "data": {
      "text/html": [
       "<pre>--------------------------------------------------------</pre>"
      ],
      "text/plain": [
       "--------------------------------------------------------"
      ]
     },
     "metadata": {},
     "output_type": "display_data"
    },
    {
     "data": {
      "text/html": [
       "<pre>Number of examples          : 71658</pre>"
      ],
      "text/plain": [
       "Number of examples          : 71658"
      ]
     },
     "metadata": {},
     "output_type": "display_data"
    },
    {
     "data": {
      "text/html": [
       "<pre>Number of classes           : 2</pre>"
      ],
      "text/plain": [
       "Number of classes           : 2"
      ]
     },
     "metadata": {},
     "output_type": "display_data"
    },
    {
     "data": {
      "text/html": [
       "<pre>Number of feature columns   : 278</pre>"
      ],
      "text/plain": [
       "Number of feature columns   : 278"
      ]
     },
     "metadata": {},
     "output_type": "display_data"
    },
    {
     "data": {
      "text/html": [
       "<pre>Number of unpacked features : 278</pre>"
      ],
      "text/plain": [
       "Number of unpacked features : 278"
      ]
     },
     "metadata": {},
     "output_type": "display_data"
    },
    {
     "data": {
      "text/html": [
       "<pre>Number of coefficients    : 289</pre>"
      ],
      "text/plain": [
       "Number of coefficients    : 289"
      ]
     },
     "metadata": {},
     "output_type": "display_data"
    },
    {
     "data": {
      "text/html": [
       "<pre>Starting Accelerated Gradient (FISTA)</pre>"
      ],
      "text/plain": [
       "Starting Accelerated Gradient (FISTA)"
      ]
     },
     "metadata": {},
     "output_type": "display_data"
    },
    {
     "data": {
      "text/html": [
       "<pre>--------------------------------------------------------</pre>"
      ],
      "text/plain": [
       "--------------------------------------------------------"
      ]
     },
     "metadata": {},
     "output_type": "display_data"
    },
    {
     "data": {
      "text/html": [
       "<pre>+-----------+----------+-----------+--------------+-------------------+---------------------+</pre>"
      ],
      "text/plain": [
       "+-----------+----------+-----------+--------------+-------------------+---------------------+"
      ]
     },
     "metadata": {},
     "output_type": "display_data"
    },
    {
     "data": {
      "text/html": [
       "<pre>| Iteration | Passes   | Step size | Elapsed Time | Training-accuracy | Validation-accuracy |</pre>"
      ],
      "text/plain": [
       "| Iteration | Passes   | Step size | Elapsed Time | Training-accuracy | Validation-accuracy |"
      ]
     },
     "metadata": {},
     "output_type": "display_data"
    },
    {
     "data": {
      "text/html": [
       "<pre>+-----------+----------+-----------+--------------+-------------------+---------------------+</pre>"
      ],
      "text/plain": [
       "+-----------+----------+-----------+--------------+-------------------+---------------------+"
      ]
     },
     "metadata": {},
     "output_type": "display_data"
    },
    {
     "data": {
      "text/html": [
       "<pre>Tuning step size. First iteration could take longer than subsequent iterations.</pre>"
      ],
      "text/plain": [
       "Tuning step size. First iteration could take longer than subsequent iterations."
      ]
     },
     "metadata": {},
     "output_type": "display_data"
    },
    {
     "data": {
      "text/html": [
       "<pre>| 1         | 2        | 0.000002  | 5.588955     | 0.960144          | 0.962340            |</pre>"
      ],
      "text/plain": [
       "| 1         | 2        | 0.000002  | 5.588955     | 0.960144          | 0.962340            |"
      ]
     },
     "metadata": {},
     "output_type": "display_data"
    },
    {
     "data": {
      "text/html": [
       "<pre>| 2         | 3        | 0.000002  | 6.027737     | 0.960144          | 0.962340            |</pre>"
      ],
      "text/plain": [
       "| 2         | 3        | 0.000002  | 6.027737     | 0.960144          | 0.962340            |"
      ]
     },
     "metadata": {},
     "output_type": "display_data"
    },
    {
     "data": {
      "text/html": [
       "<pre>| 3         | 4        | 0.000002  | 6.464096     | 0.960144          | 0.962340            |</pre>"
      ],
      "text/plain": [
       "| 3         | 4        | 0.000002  | 6.464096     | 0.960144          | 0.962340            |"
      ]
     },
     "metadata": {},
     "output_type": "display_data"
    },
    {
     "data": {
      "text/html": [
       "<pre>| 4         | 5        | 0.000002  | 6.905172     | 0.960144          | 0.962340            |</pre>"
      ],
      "text/plain": [
       "| 4         | 5        | 0.000002  | 6.905172     | 0.960144          | 0.962340            |"
      ]
     },
     "metadata": {},
     "output_type": "display_data"
    },
    {
     "data": {
      "text/html": [
       "<pre>| 5         | 6        | 0.000002  | 7.341538     | 0.960144          | 0.962340            |</pre>"
      ],
      "text/plain": [
       "| 5         | 6        | 0.000002  | 7.341538     | 0.960144          | 0.962340            |"
      ]
     },
     "metadata": {},
     "output_type": "display_data"
    },
    {
     "data": {
      "text/html": [
       "<pre>| 6         | 7        | 0.000002  | 7.776061     | 0.960144          | 0.962340            |</pre>"
      ],
      "text/plain": [
       "| 6         | 7        | 0.000002  | 7.776061     | 0.960144          | 0.962340            |"
      ]
     },
     "metadata": {},
     "output_type": "display_data"
    },
    {
     "data": {
      "text/html": [
       "<pre>| 10        | 11       | 0.000002  | 9.521810     | 0.960102          | 0.962073            |</pre>"
      ],
      "text/plain": [
       "| 10        | 11       | 0.000002  | 9.521810     | 0.960102          | 0.962073            |"
      ]
     },
     "metadata": {},
     "output_type": "display_data"
    },
    {
     "data": {
      "text/html": [
       "<pre>+-----------+----------+-----------+--------------+-------------------+---------------------+</pre>"
      ],
      "text/plain": [
       "+-----------+----------+-----------+--------------+-------------------+---------------------+"
      ]
     },
     "metadata": {},
     "output_type": "display_data"
    },
    {
     "data": {
      "text/html": [
       "<pre>SUCCESS: Optimal solution found.</pre>"
      ],
      "text/plain": [
       "SUCCESS: Optimal solution found."
      ]
     },
     "metadata": {},
     "output_type": "display_data"
    },
    {
     "data": {
      "text/html": [
       "<pre></pre>"
      ],
      "text/plain": []
     },
     "metadata": {},
     "output_type": "display_data"
    },
    {
     "name": "stdout",
     "output_type": "stream",
     "text": [
      "PROGRESS: Creating a validation set from 5 percent of training data. This may take a while.\n",
      "          You can set ``validation_set=None`` to disable validation tracking.\n",
      "\n"
     ]
    }
   ],
   "source": [
    "model_2= gl.logistic_classifier.create(train_data_2, target='TARGET', l1_penalty=.05, l2_penalty=0,\n",
    "                             max_iterations=50)"
   ]
  },
  {
   "cell_type": "code",
   "execution_count": 8,
   "metadata": {
    "ExecuteTime": {
     "end_time": "2016-03-11T08:15:47.540668",
     "start_time": "2016-03-11T08:15:46.167048"
    },
    "collapsed": false
   },
   "outputs": [
    {
     "data": {
      "text/plain": [
       "{'auc': 0.6674052109511878}"
      ]
     },
     "execution_count": 8,
     "metadata": {},
     "output_type": "execute_result"
    }
   ],
   "source": [
    "model_2.evaluate(train_data, metric='auc')"
   ]
  },
  {
   "cell_type": "code",
   "execution_count": 9,
   "metadata": {
    "ExecuteTime": {
     "end_time": "2016-03-11T08:16:02.529433",
     "start_time": "2016-03-11T08:15:47.541992"
    },
    "collapsed": false
   },
   "outputs": [
    {
     "data": {
      "text/plain": [
       "{'auc': 0.6674639851719227}"
      ]
     },
     "execution_count": 9,
     "metadata": {},
     "output_type": "execute_result"
    }
   ],
   "source": [
    "model_3= gl.logistic_classifier.create(train_data_2, target='TARGET', l1_penalty=.1, l2_penalty=0,\n",
    "                             max_iterations=50, verbose=False)\n",
    "model_3.evaluate(train_data, metric='auc')"
   ]
  },
  {
   "cell_type": "code",
   "execution_count": 10,
   "metadata": {
    "ExecuteTime": {
     "end_time": "2016-03-11T08:16:17.659760",
     "start_time": "2016-03-11T08:16:02.531271"
    },
    "collapsed": false
   },
   "outputs": [
    {
     "data": {
      "text/plain": [
       "{'auc': 0.6669915193006765}"
      ]
     },
     "execution_count": 10,
     "metadata": {},
     "output_type": "execute_result"
    }
   ],
   "source": [
    "model_3= gl.logistic_classifier.create(train_data_2, target='TARGET', l1_penalty=.5, l2_penalty=0,\n",
    "                             max_iterations=50, verbose=False)\n",
    "model_3.evaluate(train_data, metric='auc')"
   ]
  },
  {
   "cell_type": "code",
   "execution_count": 11,
   "metadata": {
    "ExecuteTime": {
     "end_time": "2016-03-11T08:18:28.576769",
     "start_time": "2016-03-11T08:16:17.662323"
    },
    "collapsed": false
   },
   "outputs": [
    {
     "data": {
      "text/plain": [
       "{'auc': 0.8009340456713047}"
      ]
     },
     "execution_count": 11,
     "metadata": {},
     "output_type": "execute_result"
    }
   ],
   "source": [
    "model_4= gl.logistic_classifier.create(train_data_2, target='TARGET', \n",
    "                                       l1_penalty=0, l2_penalty=0.1,\n",
    "                             max_iterations=50, verbose=False)\n",
    "model_4.evaluate(train_data, metric='auc')"
   ]
  },
  {
   "cell_type": "markdown",
   "metadata": {},
   "source": [
    "# Boosted Trees Classifier\n",
    "- Standard pre-preocessing gets an AUC of 0.9179"
   ]
  },
  {
   "cell_type": "code",
   "execution_count": 22,
   "metadata": {
    "ExecuteTime": {
     "end_time": "2016-03-11T07:39:03.570252",
     "start_time": "2016-03-11T07:38:46.519026"
    },
    "collapsed": true
   },
   "outputs": [
    {
     "data": {
      "text/html": [
       "<pre>Boosted trees classifier:</pre>"
      ],
      "text/plain": [
       "Boosted trees classifier:"
      ]
     },
     "metadata": {},
     "output_type": "display_data"
    },
    {
     "data": {
      "text/html": [
       "<pre>--------------------------------------------------------</pre>"
      ],
      "text/plain": [
       "--------------------------------------------------------"
      ]
     },
     "metadata": {},
     "output_type": "display_data"
    },
    {
     "data": {
      "text/html": [
       "<pre>Number of examples          : 72191</pre>"
      ],
      "text/plain": [
       "Number of examples          : 72191"
      ]
     },
     "metadata": {},
     "output_type": "display_data"
    },
    {
     "data": {
      "text/html": [
       "<pre>Number of classes           : 2</pre>"
      ],
      "text/plain": [
       "Number of classes           : 2"
      ]
     },
     "metadata": {},
     "output_type": "display_data"
    },
    {
     "data": {
      "text/html": [
       "<pre>Number of feature columns   : 278</pre>"
      ],
      "text/plain": [
       "Number of feature columns   : 278"
      ]
     },
     "metadata": {},
     "output_type": "display_data"
    },
    {
     "data": {
      "text/html": [
       "<pre>Number of unpacked features : 278</pre>"
      ],
      "text/plain": [
       "Number of unpacked features : 278"
      ]
     },
     "metadata": {},
     "output_type": "display_data"
    },
    {
     "data": {
      "text/html": [
       "<pre>+-----------+--------------+-------------------+---------------------+</pre>"
      ],
      "text/plain": [
       "+-----------+--------------+-------------------+---------------------+"
      ]
     },
     "metadata": {},
     "output_type": "display_data"
    },
    {
     "data": {
      "text/html": [
       "<pre>| Iteration | Elapsed Time | Training-accuracy | Validation-accuracy |</pre>"
      ],
      "text/plain": [
       "| Iteration | Elapsed Time | Training-accuracy | Validation-accuracy |"
      ]
     },
     "metadata": {},
     "output_type": "display_data"
    },
    {
     "data": {
      "text/html": [
       "<pre>+-----------+--------------+-------------------+---------------------+</pre>"
      ],
      "text/plain": [
       "+-----------+--------------+-------------------+---------------------+"
      ]
     },
     "metadata": {},
     "output_type": "display_data"
    },
    {
     "data": {
      "text/html": [
       "<pre>| 1         | 1.562091     | 0.96192           | 0.959781            |</pre>"
      ],
      "text/plain": [
       "| 1         | 1.562091     | 0.96192           | 0.959781            |"
      ]
     },
     "metadata": {},
     "output_type": "display_data"
    },
    {
     "data": {
      "text/html": [
       "<pre>| 2         | 2.139434     | 0.961422          | 0.960564            |</pre>"
      ],
      "text/plain": [
       "| 2         | 2.139434     | 0.961422          | 0.960564            |"
      ]
     },
     "metadata": {},
     "output_type": "display_data"
    },
    {
     "data": {
      "text/html": [
       "<pre>| 3         | 2.727227     | 0.961837          | 0.960303            |</pre>"
      ],
      "text/plain": [
       "| 3         | 2.727227     | 0.961837          | 0.960303            |"
      ]
     },
     "metadata": {},
     "output_type": "display_data"
    },
    {
     "data": {
      "text/html": [
       "<pre>| 4         | 3.303444     | 0.961948          | 0.960564            |</pre>"
      ],
      "text/plain": [
       "| 4         | 3.303444     | 0.961948          | 0.960564            |"
      ]
     },
     "metadata": {},
     "output_type": "display_data"
    },
    {
     "data": {
      "text/html": [
       "<pre>| 5         | 3.887504     | 0.961879          | 0.960042            |</pre>"
      ],
      "text/plain": [
       "| 5         | 3.887504     | 0.961879          | 0.960042            |"
      ]
     },
     "metadata": {},
     "output_type": "display_data"
    },
    {
     "data": {
      "text/html": [
       "<pre>| 6         | 4.495453     | 0.961907          | 0.960042            |</pre>"
      ],
      "text/plain": [
       "| 6         | 4.495453     | 0.961907          | 0.960042            |"
      ]
     },
     "metadata": {},
     "output_type": "display_data"
    },
    {
     "data": {
      "text/html": [
       "<pre>| 7         | 5.083582     | 0.96199           | 0.960825            |</pre>"
      ],
      "text/plain": [
       "| 7         | 5.083582     | 0.96199           | 0.960825            |"
      ]
     },
     "metadata": {},
     "output_type": "display_data"
    },
    {
     "data": {
      "text/html": [
       "<pre>| 8         | 5.669684     | 0.962101          | 0.961086            |</pre>"
      ],
      "text/plain": [
       "| 8         | 5.669684     | 0.962101          | 0.961086            |"
      ]
     },
     "metadata": {},
     "output_type": "display_data"
    },
    {
     "data": {
      "text/html": [
       "<pre>| 9         | 6.327496     | 0.96235           | 0.961348            |</pre>"
      ],
      "text/plain": [
       "| 9         | 6.327496     | 0.96235           | 0.961348            |"
      ]
     },
     "metadata": {},
     "output_type": "display_data"
    },
    {
     "data": {
      "text/html": [
       "<pre>| 10        | 6.927472     | 0.962502          | 0.961086            |</pre>"
      ],
      "text/plain": [
       "| 10        | 6.927472     | 0.962502          | 0.961086            |"
      ]
     },
     "metadata": {},
     "output_type": "display_data"
    },
    {
     "data": {
      "text/html": [
       "<pre>| 11        | 7.523455     | 0.96253           | 0.961348            |</pre>"
      ],
      "text/plain": [
       "| 11        | 7.523455     | 0.96253           | 0.961348            |"
      ]
     },
     "metadata": {},
     "output_type": "display_data"
    },
    {
     "data": {
      "text/html": [
       "<pre>| 12        | 8.143460     | 0.962668          | 0.961086            |</pre>"
      ],
      "text/plain": [
       "| 12        | 8.143460     | 0.962668          | 0.961086            |"
      ]
     },
     "metadata": {},
     "output_type": "display_data"
    },
    {
     "data": {
      "text/html": [
       "<pre>| 13        | 8.751548     | 0.962876          | 0.961348            |</pre>"
      ],
      "text/plain": [
       "| 13        | 8.751548     | 0.962876          | 0.961348            |"
      ]
     },
     "metadata": {},
     "output_type": "display_data"
    },
    {
     "data": {
      "text/html": [
       "<pre>| 14        | 9.339455     | 0.96307           | 0.961348            |</pre>"
      ],
      "text/plain": [
       "| 14        | 9.339455     | 0.96307           | 0.961348            |"
      ]
     },
     "metadata": {},
     "output_type": "display_data"
    },
    {
     "data": {
      "text/html": [
       "<pre>| 15        | 9.927572     | 0.963084          | 0.961348            |</pre>"
      ],
      "text/plain": [
       "| 15        | 9.927572     | 0.963084          | 0.961348            |"
      ]
     },
     "metadata": {},
     "output_type": "display_data"
    },
    {
     "data": {
      "text/html": [
       "<pre>| 16        | 10.508315    | 0.963112          | 0.961348            |</pre>"
      ],
      "text/plain": [
       "| 16        | 10.508315    | 0.963112          | 0.961348            |"
      ]
     },
     "metadata": {},
     "output_type": "display_data"
    },
    {
     "data": {
      "text/html": [
       "<pre>| 17        | 11.120758    | 0.963264          | 0.961348            |</pre>"
      ],
      "text/plain": [
       "| 17        | 11.120758    | 0.963264          | 0.961348            |"
      ]
     },
     "metadata": {},
     "output_type": "display_data"
    },
    {
     "data": {
      "text/html": [
       "<pre>| 18        | 11.717429    | 0.963278          | 0.961348            |</pre>"
      ],
      "text/plain": [
       "| 18        | 11.717429    | 0.963278          | 0.961348            |"
      ]
     },
     "metadata": {},
     "output_type": "display_data"
    },
    {
     "data": {
      "text/html": [
       "<pre>| 19        | 12.319039    | 0.963416          | 0.961609            |</pre>"
      ],
      "text/plain": [
       "| 19        | 12.319039    | 0.963416          | 0.961609            |"
      ]
     },
     "metadata": {},
     "output_type": "display_data"
    },
    {
     "data": {
      "text/html": [
       "<pre>| 20        | 12.899234    | 0.9635            | 0.961609            |</pre>"
      ],
      "text/plain": [
       "| 20        | 12.899234    | 0.9635            | 0.961609            |"
      ]
     },
     "metadata": {},
     "output_type": "display_data"
    },
    {
     "data": {
      "text/html": [
       "<pre>+-----------+--------------+-------------------+---------------------+</pre>"
      ],
      "text/plain": [
       "+-----------+--------------+-------------------+---------------------+"
      ]
     },
     "metadata": {},
     "output_type": "display_data"
    },
    {
     "name": "stdout",
     "output_type": "stream",
     "text": [
      "PROGRESS: Creating a validation set from 5 percent of training data. This may take a while.\n",
      "          You can set ``validation_set=None`` to disable validation tracking.\n",
      "\n"
     ]
    }
   ],
   "source": [
    "model_gbt = gl.boosted_trees_classifier.create(train_data, target='TARGET', \n",
    "                                               max_depth=8, max_iterations=20)"
   ]
  },
  {
   "cell_type": "code",
   "execution_count": 23,
   "metadata": {
    "ExecuteTime": {
     "end_time": "2016-03-11T07:39:49.160652",
     "start_time": "2016-03-11T07:39:47.297982"
    },
    "collapsed": false
   },
   "outputs": [
    {
     "data": {
      "text/plain": [
       "{'auc': 0.9179671586155758}"
      ]
     },
     "execution_count": 23,
     "metadata": {},
     "output_type": "execute_result"
    }
   ],
   "source": [
    "model_gbt.evaluate(train_data, metric='auc')"
   ]
  },
  {
   "cell_type": "code",
   "execution_count": 12,
   "metadata": {
    "ExecuteTime": {
     "end_time": "2016-03-11T08:19:01.937867",
     "start_time": "2016-03-11T08:18:28.578061"
    },
    "collapsed": false
   },
   "outputs": [
    {
     "data": {
      "text/html": [
       "<pre>WARNING: Ignore unsupported tracking metric AUC</pre>"
      ],
      "text/plain": [
       "WARNING: Ignore unsupported tracking metric AUC"
      ]
     },
     "metadata": {},
     "output_type": "display_data"
    },
    {
     "data": {
      "text/html": [
       "<pre>Boosted trees classifier:</pre>"
      ],
      "text/plain": [
       "Boosted trees classifier:"
      ]
     },
     "metadata": {},
     "output_type": "display_data"
    },
    {
     "data": {
      "text/html": [
       "<pre>--------------------------------------------------------</pre>"
      ],
      "text/plain": [
       "--------------------------------------------------------"
      ]
     },
     "metadata": {},
     "output_type": "display_data"
    },
    {
     "data": {
      "text/html": [
       "<pre>Number of examples          : 72143</pre>"
      ],
      "text/plain": [
       "Number of examples          : 72143"
      ]
     },
     "metadata": {},
     "output_type": "display_data"
    },
    {
     "data": {
      "text/html": [
       "<pre>Number of classes           : 2</pre>"
      ],
      "text/plain": [
       "Number of classes           : 2"
      ]
     },
     "metadata": {},
     "output_type": "display_data"
    },
    {
     "data": {
      "text/html": [
       "<pre>Number of feature columns   : 278</pre>"
      ],
      "text/plain": [
       "Number of feature columns   : 278"
      ]
     },
     "metadata": {},
     "output_type": "display_data"
    },
    {
     "data": {
      "text/html": [
       "<pre>Number of unpacked features : 278</pre>"
      ],
      "text/plain": [
       "Number of unpacked features : 278"
      ]
     },
     "metadata": {},
     "output_type": "display_data"
    },
    {
     "data": {
      "text/html": [
       "<pre>+-----------+--------------+</pre>"
      ],
      "text/plain": [
       "+-----------+--------------+"
      ]
     },
     "metadata": {},
     "output_type": "display_data"
    },
    {
     "data": {
      "text/html": [
       "<pre>| Iteration | Elapsed Time |</pre>"
      ],
      "text/plain": [
       "| Iteration | Elapsed Time |"
      ]
     },
     "metadata": {},
     "output_type": "display_data"
    },
    {
     "data": {
      "text/html": [
       "<pre>+-----------+--------------+</pre>"
      ],
      "text/plain": [
       "+-----------+--------------+"
      ]
     },
     "metadata": {},
     "output_type": "display_data"
    },
    {
     "data": {
      "text/html": [
       "<pre>| 1         | 0.598750     |</pre>"
      ],
      "text/plain": [
       "| 1         | 0.598750     |"
      ]
     },
     "metadata": {},
     "output_type": "display_data"
    },
    {
     "data": {
      "text/html": [
       "<pre>| 2         | 1.175562     |</pre>"
      ],
      "text/plain": [
       "| 2         | 1.175562     |"
      ]
     },
     "metadata": {},
     "output_type": "display_data"
    },
    {
     "data": {
      "text/html": [
       "<pre>| 3         | 1.756217     |</pre>"
      ],
      "text/plain": [
       "| 3         | 1.756217     |"
      ]
     },
     "metadata": {},
     "output_type": "display_data"
    },
    {
     "data": {
      "text/html": [
       "<pre>| 4         | 2.327705     |</pre>"
      ],
      "text/plain": [
       "| 4         | 2.327705     |"
      ]
     },
     "metadata": {},
     "output_type": "display_data"
    },
    {
     "data": {
      "text/html": [
       "<pre>| 5         | 2.899582     |</pre>"
      ],
      "text/plain": [
       "| 5         | 2.899582     |"
      ]
     },
     "metadata": {},
     "output_type": "display_data"
    },
    {
     "data": {
      "text/html": [
       "<pre>| 6         | 3.471543     |</pre>"
      ],
      "text/plain": [
       "| 6         | 3.471543     |"
      ]
     },
     "metadata": {},
     "output_type": "display_data"
    },
    {
     "data": {
      "text/html": [
       "<pre>| 10        | 5.823697     |</pre>"
      ],
      "text/plain": [
       "| 10        | 5.823697     |"
      ]
     },
     "metadata": {},
     "output_type": "display_data"
    },
    {
     "data": {
      "text/html": [
       "<pre>| 11        | 6.399950     |</pre>"
      ],
      "text/plain": [
       "| 11        | 6.399950     |"
      ]
     },
     "metadata": {},
     "output_type": "display_data"
    },
    {
     "data": {
      "text/html": [
       "<pre>| 15        | 8.735740     |</pre>"
      ],
      "text/plain": [
       "| 15        | 8.735740     |"
      ]
     },
     "metadata": {},
     "output_type": "display_data"
    },
    {
     "data": {
      "text/html": [
       "<pre>| 20        | 11.542548    |</pre>"
      ],
      "text/plain": [
       "| 20        | 11.542548    |"
      ]
     },
     "metadata": {},
     "output_type": "display_data"
    },
    {
     "data": {
      "text/html": [
       "<pre>| 25        | 14.335050    |</pre>"
      ],
      "text/plain": [
       "| 25        | 14.335050    |"
      ]
     },
     "metadata": {},
     "output_type": "display_data"
    },
    {
     "data": {
      "text/html": [
       "<pre>| 30        | 17.071074    |</pre>"
      ],
      "text/plain": [
       "| 30        | 17.071074    |"
      ]
     },
     "metadata": {},
     "output_type": "display_data"
    },
    {
     "data": {
      "text/html": [
       "<pre>| 35        | 19.834550    |</pre>"
      ],
      "text/plain": [
       "| 35        | 19.834550    |"
      ]
     },
     "metadata": {},
     "output_type": "display_data"
    },
    {
     "data": {
      "text/html": [
       "<pre>| 40        | 22.597357    |</pre>"
      ],
      "text/plain": [
       "| 40        | 22.597357    |"
      ]
     },
     "metadata": {},
     "output_type": "display_data"
    },
    {
     "data": {
      "text/html": [
       "<pre>| 45        | 25.327082    |</pre>"
      ],
      "text/plain": [
       "| 45        | 25.327082    |"
      ]
     },
     "metadata": {},
     "output_type": "display_data"
    },
    {
     "data": {
      "text/html": [
       "<pre>| 50        | 28.135490    |</pre>"
      ],
      "text/plain": [
       "| 50        | 28.135490    |"
      ]
     },
     "metadata": {},
     "output_type": "display_data"
    },
    {
     "data": {
      "text/html": [
       "<pre>+-----------+--------------+</pre>"
      ],
      "text/plain": [
       "+-----------+--------------+"
      ]
     },
     "metadata": {},
     "output_type": "display_data"
    },
    {
     "name": "stdout",
     "output_type": "stream",
     "text": [
      "PROGRESS: Creating a validation set from 5 percent of training data. This may take a while.\n",
      "          You can set ``validation_set=None`` to disable validation tracking.\n",
      "\n"
     ]
    }
   ],
   "source": [
    "model_gbt = gl.boosted_trees_classifier.create(train_data, target='TARGET', metric='AUC', \n",
    "                                               max_depth=8, max_iterations=50)"
   ]
  },
  {
   "cell_type": "code",
   "execution_count": null,
   "metadata": {
    "collapsed": true
   },
   "outputs": [],
   "source": []
  }
 ],
 "metadata": {
  "kernelspec": {
   "display_name": "Python 2",
   "language": "python",
   "name": "python2"
  },
  "language_info": {
   "codemirror_mode": {
    "name": "ipython",
    "version": 2
   },
   "file_extension": ".py",
   "mimetype": "text/x-python",
   "name": "python",
   "nbconvert_exporter": "python",
   "pygments_lexer": "ipython2",
   "version": "2.7.11"
  },
  "toc": {
   "toc_cell": false,
   "toc_number_sections": false,
   "toc_threshold": "2",
   "toc_window_display": true
  }
 },
 "nbformat": 4,
 "nbformat_minor": 0
}
