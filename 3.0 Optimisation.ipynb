{
 "cells": [
  {
   "cell_type": "code",
   "execution_count": 3,
   "metadata": {
    "ExecuteTime": {
     "end_time": "2016-03-16T21:31:42.989224",
     "start_time": "2016-03-16T21:31:42.981757"
    },
    "collapsed": false
   },
   "outputs": [
    {
     "data": {
      "text/html": [
       "\n",
       "<style>\n",
       ".container {\n",
       "    width: 100%;\n",
       "}\n",
       "</style>\n"
      ],
      "text/plain": [
       "<IPython.core.display.HTML object>"
      ]
     },
     "execution_count": 3,
     "metadata": {},
     "output_type": "execute_result"
    }
   ],
   "source": [
    "from IPython.core.display import HTML\n",
    "HTML(\"\"\"\n",
    "<style>\n",
    ".container {\n",
    "    width: 100%;\n",
    "}\n",
    "</style>\n",
    "\"\"\")"
   ]
  },
  {
   "cell_type": "code",
   "execution_count": 4,
   "metadata": {
    "ExecuteTime": {
     "end_time": "2016-03-16T21:31:49.049613",
     "start_time": "2016-03-16T21:31:44.164181"
    },
    "collapsed": false,
    "scrolled": true
   },
   "outputs": [
    {
     "name": "stderr",
     "output_type": "stream",
     "text": [
      "2016-03-16 21:31:48,564 [INFO] graphlab.cython.cy_server, 176: GraphLab Create v1.8.4 started. Logging: /tmp/graphlab_server_1458163906.log\n"
     ]
    },
    {
     "name": "stdout",
     "output_type": "stream",
     "text": [
      "This non-commercial license of GraphLab Create is assigned to kevin.mcisaac@gmail.com and will expire on November 06, 2016. For commercial licensing options, visit https://dato.com/buy/.\n"
     ]
    }
   ],
   "source": [
    "import graphlab as gl\n",
    "gl.canvas.set_target('ipynb')\n",
    "import tools \n",
    "import initialise"
   ]
  },
  {
   "cell_type": "markdown",
   "metadata": {
    "ExecuteTime": {
     "end_time": "2016-03-15T01:53:31.194020",
     "start_time": "2016-03-15T01:53:31.191344"
    }
   },
   "source": [
    "## Automatic optimisation"
   ]
  },
  {
   "cell_type": "code",
   "execution_count": 5,
   "metadata": {
    "ExecuteTime": {
     "end_time": "2016-03-16T21:31:51.935549",
     "start_time": "2016-03-16T21:31:49.050615"
    },
    "collapsed": false
   },
   "outputs": [
    {
     "name": "stdout",
     "output_type": "stream",
     "text": [
      "Loading saved processed data\n",
      "306  features in total\n"
     ]
    }
   ],
   "source": [
    "train_data, test_data = initialise.load_data(reload_data=False)\n",
    "folds = gl.cross_validation.KFold(train_data, 5)"
   ]
  },
  {
   "cell_type": "code",
   "execution_count": 6,
   "metadata": {
    "ExecuteTime": {
     "end_time": "2016-03-16T21:31:51.939037",
     "start_time": "2016-03-16T21:31:51.936623"
    },
    "collapsed": true
   },
   "outputs": [],
   "source": [
    "def auc_eval(model, train, test): \n",
    "    return {'train_auc':    model.evaluate(train, metric='auc')['auc'],\n",
    "            'validate_auc': model.evaluate(test,  metric='auc')['auc']}"
   ]
  },
  {
   "cell_type": "code",
   "execution_count": 7,
   "metadata": {
    "ExecuteTime": {
     "end_time": "2016-03-16T21:32:03.629919",
     "start_time": "2016-03-16T21:31:51.940013"
    },
    "code_folding": [],
    "collapsed": false
   },
   "outputs": [
    {
     "name": "stderr",
     "output_type": "stream",
     "text": [
      "2016-03-16 21:31:51,943 [INFO] graphlab.deploy.job, 22: Validating job.\n",
      "2016-03-16 21:31:51,958 [INFO] graphlab.deploy.job, 36: Creating a LocalAsync environment called 'async'.\n",
      "2016-03-16 21:31:51,964 [INFO] graphlab.deploy.map_job, 186: Validation complete. Job: 'Model-Parameter-Search-Mar-16-2016-21-31-5100000' ready for execution\n",
      "2016-03-16 21:31:52,091 [INFO] graphlab.deploy.map_job, 192: Job: 'Model-Parameter-Search-Mar-16-2016-21-31-5100000' scheduled.\n",
      "2016-03-16 21:32:02,256 [INFO] graphlab.deploy.job, 22: Validating job.\n",
      "2016-03-16 21:32:02,259 [INFO] graphlab.deploy.map_job, 220: A job with name 'Model-Parameter-Search-Mar-16-2016-21-31-5100000' already exists. Renaming the job to 'Model-Parameter-Search-Mar-16-2016-21-31-5100000-181c8'.\n",
      "2016-03-16 21:32:02,265 [INFO] graphlab.deploy.map_job, 186: Validation complete. Job: 'Model-Parameter-Search-Mar-16-2016-21-31-5100000-181c8' ready for execution\n",
      "2016-03-16 21:32:02,397 [INFO] graphlab.deploy.map_job, 192: Job: 'Model-Parameter-Search-Mar-16-2016-21-31-5100000-181c8' scheduled.\n",
      "2016-03-16 21:32:02,527 [INFO] graphlab.deploy.job, 22: Validating job.\n",
      "2016-03-16 21:32:02,539 [INFO] graphlab.deploy.map_job, 186: Validation complete. Job: 'Model-Parameter-Search-Mar-16-2016-21-31-5100001' ready for execution\n",
      "2016-03-16 21:32:02,708 [INFO] graphlab.deploy.map_job, 192: Job: 'Model-Parameter-Search-Mar-16-2016-21-31-5100001' scheduled.\n",
      "2016-03-16 21:32:02,906 [INFO] graphlab.deploy.job, 22: Validating job.\n",
      "2016-03-16 21:32:02,917 [INFO] graphlab.deploy.map_job, 186: Validation complete. Job: 'Model-Parameter-Search-Mar-16-2016-21-31-5100002' ready for execution\n",
      "2016-03-16 21:32:03,091 [INFO] graphlab.deploy.map_job, 192: Job: 'Model-Parameter-Search-Mar-16-2016-21-31-5100002' scheduled.\n",
      "2016-03-16 21:32:03,251 [INFO] graphlab.deploy.job, 22: Validating job.\n",
      "2016-03-16 21:32:03,263 [INFO] graphlab.deploy.map_job, 186: Validation complete. Job: 'Model-Parameter-Search-Mar-16-2016-21-31-5100003' ready for execution\n",
      "2016-03-16 21:32:03,479 [INFO] graphlab.deploy.map_job, 192: Job: 'Model-Parameter-Search-Mar-16-2016-21-31-5100003' scheduled.\n"
     ]
    }
   ],
   "source": [
    "params = {'target':'TARGET', 'random_seed':8923,\n",
    "          'class_weights':'auto','metric':'auc', \n",
    "          'max_iterations':3,\n",
    "          'step_size': [0.03, 0.07, 0.1],\n",
    "          'max_depth': [3, 4, 7, 9],\n",
    "          'column_subsample': [1, 0.8, 0.6]}\n",
    "\n",
    "job = gl.random_search.create(folds,gl.boosted_trees_classifier.create,\n",
    "                             params, evaluator=auc_eval, max_models=20)"
   ]
  },
  {
   "cell_type": "code",
   "execution_count": null,
   "metadata": {
    "ExecuteTime": {
     "start_time": "2016-03-16T21:20:10.103Z"
    },
    "collapsed": false
   },
   "outputs": [],
   "source": [
    "job.get_status()\n"
   ]
  },
  {
   "cell_type": "code",
   "execution_count": 36,
   "metadata": {
    "ExecuteTime": {
     "end_time": "2016-03-16T10:10:18.791158",
     "start_time": "2016-03-16T10:05:14.675780"
    },
    "collapsed": false
   },
   "outputs": [
    {
     "ename": "KeyboardInterrupt",
     "evalue": "",
     "output_type": "error",
     "traceback": [
      "\u001b[1;31m---------------------------------------------------------------------------\u001b[0m",
      "\u001b[1;31mKeyboardInterrupt\u001b[0m                         Traceback (most recent call last)",
      "\u001b[1;32m<ipython-input-36-7ca8a9cf8ae2>\u001b[0m in \u001b[0;36m<module>\u001b[1;34m()\u001b[0m\n\u001b[0;32m      9\u001b[0m \u001b[1;32mwhile\u001b[0m \u001b[0mrunning\u001b[0m \u001b[1;33m>\u001b[0m \u001b[1;36m0\u001b[0m\u001b[1;33m:\u001b[0m\u001b[1;33m\u001b[0m\u001b[0m\n\u001b[0;32m     10\u001b[0m     \u001b[0mf\u001b[0m\u001b[1;33m.\u001b[0m\u001b[0mvalue\u001b[0m \u001b[1;33m=\u001b[0m \u001b[0mtotal\u001b[0m\u001b[1;33m-\u001b[0m\u001b[0mjob\u001b[0m\u001b[1;33m.\u001b[0m\u001b[0mget_status\u001b[0m\u001b[1;33m(\u001b[0m\u001b[1;33m)\u001b[0m\u001b[1;33m[\u001b[0m\u001b[1;34m'Running'\u001b[0m\u001b[1;33m]\u001b[0m \u001b[1;33m+\u001b[0m \u001b[0mjob\u001b[0m\u001b[1;33m.\u001b[0m\u001b[0mget_status\u001b[0m\u001b[1;33m(\u001b[0m\u001b[1;33m)\u001b[0m\u001b[1;33m[\u001b[0m\u001b[1;34m'Pending'\u001b[0m\u001b[1;33m]\u001b[0m\u001b[1;33m\u001b[0m\u001b[0m\n\u001b[1;32m---> 11\u001b[1;33m     \u001b[0mtime\u001b[0m\u001b[1;33m.\u001b[0m\u001b[0msleep\u001b[0m\u001b[1;33m(\u001b[0m\u001b[1;36m60\u001b[0m\u001b[1;33m)\u001b[0m\u001b[1;33m\u001b[0m\u001b[0m\n\u001b[0m\u001b[0;32m     12\u001b[0m \u001b[1;33m\u001b[0m\u001b[0m\n\u001b[0;32m     13\u001b[0m \u001b[0mresults\u001b[0m \u001b[1;33m=\u001b[0m \u001b[0mjob\u001b[0m\u001b[1;33m.\u001b[0m\u001b[0mget_results\u001b[0m\u001b[1;33m(\u001b[0m\u001b[1;33m)\u001b[0m\u001b[1;33m\u001b[0m\u001b[0m\n",
      "\u001b[1;31mKeyboardInterrupt\u001b[0m: "
     ]
    }
   ],
   "source": [
    "from IPython.html.widgets import FloatProgress\n",
    "from IPython.display import display\n",
    "from time import sleep\n",
    "\n",
    "total = job.get_status()['Completed'] + job.get_status()['Running'] + job.get_status()['Pending']\n",
    "\n",
    "f = FloatProgress(min=0, max=total)\n",
    "display(f)\n",
    "while running > 0:\n",
    "    f.value = total-job.get_status()['Running'] + job.get_status()['Pending']\n",
    "    time.sleep(60)\n",
    "\n",
    "results = job.get_results()"
   ]
  },
  {
   "cell_type": "code",
   "execution_count": null,
   "metadata": {
    "ExecuteTime": {
     "start_time": "2016-03-16T21:41:31.992Z"
    },
    "collapsed": false
   },
   "outputs": [],
   "source": [
    "job.get_status()\n"
   ]
  },
  {
   "cell_type": "code",
   "execution_count": null,
   "metadata": {
    "ExecuteTime": {
     "end_time": "2016-03-16T09:31:58.229590",
     "start_time": "2016-03-16T08:36:10.082Z"
    },
    "collapsed": false
   },
   "outputs": [],
   "source": [
    "results.get_best_params(metric='validate_auc', ascending=False)"
   ]
  },
  {
   "cell_type": "markdown",
   "metadata": {
    "heading_collapsed": true
   },
   "source": [
    "## Manual approach\n",
    "Looks like depth:4, row: 1.00, col: 0.60, step: 0.10, gives the highest auc: 0.8465 "
   ]
  },
  {
   "cell_type": "code",
   "execution_count": 5,
   "metadata": {
    "ExecuteTime": {
     "end_time": "2016-03-11T12:47:40.541284",
     "start_time": "2016-03-11T12:44:35.971907"
    },
    "collapsed": false
   },
   "outputs": [
    {
     "name": "stdout",
     "output_type": "stream",
     "text": [
      "depth:  2, row: 1.00, col: 1.00, auc: 0.8424\n",
      "depth:  2, row: 1.00, col: 0.80, auc: 0.8402\n",
      "depth:  2, row: 1.00, col: 0.60, auc: 0.8426\n",
      "depth:  2, row: 0.80, col: 1.00, auc: 0.8421\n",
      "depth:  2, row: 0.80, col: 0.80, auc: 0.8417\n",
      "depth:  2, row: 0.80, col: 0.60, auc: 0.8415\n",
      "depth:  2, row: 0.60, col: 1.00, auc: 0.8420\n",
      "depth:  2, row: 0.60, col: 0.80, auc: 0.8415\n",
      "depth:  2, row: 0.60, col: 0.60, auc: 0.8397\n",
      "depth:  4, row: 1.00, col: 1.00, auc: 0.8415\n",
      "depth:  4, row: 1.00, col: 0.80, auc: 0.8437\n",
      "depth:  4, row: 1.00, col: 0.60, auc: 0.8446\n",
      "depth:  4, row: 0.80, col: 1.00, auc: 0.8414\n",
      "depth:  4, row: 0.80, col: 0.80, auc: 0.8401\n",
      "depth:  4, row: 0.80, col: 0.60, auc: 0.8407\n",
      "depth:  4, row: 0.60, col: 1.00, auc: 0.8418\n",
      "depth:  4, row: 0.60, col: 0.80, auc: 0.8435\n",
      "depth:  4, row: 0.60, col: 0.60, auc: 0.8425\n",
      "depth:  6, row: 1.00, col: 1.00, auc: 0.8384\n",
      "depth:  6, row: 1.00, col: 0.80, auc: 0.8445\n",
      "depth:  6, row: 1.00, col: 0.60, auc: 0.8399\n",
      "depth:  6, row: 0.80, col: 1.00, auc: 0.8389\n",
      "depth:  6, row: 0.80, col: 0.80, auc: 0.8416\n",
      "depth:  6, row: 0.80, col: 0.60, auc: 0.8404\n",
      "depth:  6, row: 0.60, col: 1.00, auc: 0.8398\n",
      "depth:  6, row: 0.60, col: 0.80, auc: 0.8372\n",
      "depth:  6, row: 0.60, col: 0.60, auc: 0.8386\n"
     ]
    }
   ],
   "source": [
    "params = {'target':'TARGET', 'validation_set':validate,'verbose':False, 'random_seed':8923,\n",
    "          'class_weights':'auto','metric':'auc',\n",
    "          'early_stopping_rounds':10, 'max_iterations':300}\n",
    "model=dict() \n",
    "\n",
    "for d in [2, 4, 6]:\n",
    "    for r in [1, 0.8, 0.6]:\n",
    "        for c in [1, 0.8, 0.6]:\n",
    "            model[d,r,c] = gl.boosted_trees_classifier.create(train, \n",
    "                            max_depth=d, row_subsample=r, column_subsample=c, **params)\n",
    "            print \"depth: {:2d}, row: {:4.2f}, col: {:4.2f}, auc: {:6.4f}\".format( d, r, c, model[d,r,c]['validation_auc'])\n"
   ]
  },
  {
   "cell_type": "code",
   "execution_count": 8,
   "metadata": {
    "ExecuteTime": {
     "end_time": "2016-03-11T12:54:29.245691",
     "start_time": "2016-03-11T12:54:04.987050"
    },
    "collapsed": true
   },
   "outputs": [
    {
     "name": "stdout",
     "output_type": "stream",
     "text": [
      "depth:  4, row: 1.00, col: 0.60, step: 0.30, auc: 0.8446\n",
      "depth:  4, row: 1.00, col: 0.60, step: 0.10, auc: 0.8459\n",
      "depth:  4, row: 1.00, col: 0.60, step: 0.05, auc: 0.8345\n",
      "depth:  4, row: 1.00, col: 0.60, step: 0.01, auc: 0.8274\n"
     ]
    }
   ],
   "source": [
    "d=4\n",
    "r=1\n",
    "c=0.6\n",
    "for s in [0.3, 0.1, 0.05, 0.01]:\n",
    "    model[d,r,c, s] = gl.boosted_trees_classifier.create(train, \n",
    "                    max_depth=d, row_subsample=r, column_subsample=c, step_size=s, **params)\n",
    "    print \"depth: {:2d}, row: {:4.2f}, col: {:4.2f}, step: {:4.2f}, auc: {:6.4f}\".format( d, r, c, s,model[d,r,c, s]['validation_auc'])\n"
   ]
  },
  {
   "cell_type": "code",
   "execution_count": 9,
   "metadata": {
    "ExecuteTime": {
     "end_time": "2016-03-11T12:55:34.900981",
     "start_time": "2016-03-11T12:55:20.129951"
    },
    "collapsed": false
   },
   "outputs": [
    {
     "name": "stdout",
     "output_type": "stream",
     "text": [
      "depth:  4, row: 1.00, col: 0.60, step: 0.50, auc: 0.8426\n",
      "depth:  4, row: 1.00, col: 0.60, step: 0.80, auc: 0.8335\n",
      "depth:  4, row: 1.00, col: 0.60, step: 1.00, auc: 0.8367\n"
     ]
    }
   ],
   "source": [
    "d=4\n",
    "r=1\n",
    "c=0.6\n",
    "for s in [.5, .8, 1]:\n",
    "    model[d,r,c, s] = gl.boosted_trees_classifier.create(train, \n",
    "                    max_depth=d, row_subsample=r, column_subsample=c, step_size=s, **params)\n",
    "    print \"depth: {:2d}, row: {:4.2f}, col: {:4.2f}, step: {:4.2f}, auc: {:6.4f}\".format( d, r, c, s,model[d,r,c, s]['validation_auc'])\n"
   ]
  },
  {
   "cell_type": "code",
   "execution_count": 9,
   "metadata": {
    "ExecuteTime": {
     "end_time": "2016-03-16T08:08:44.429823",
     "start_time": "2016-03-16T08:08:26.926499"
    },
    "collapsed": true
   },
   "outputs": [
    {
     "data": {
      "text/html": [
       "<pre>WARNING: Detected extremely low variance for feature(s) 'var33 delta transfer amount out 1Y3', 'var33 transfer amount out ultima1', 'var33 number transfer out ultima1' because all entries are nearly the same.\n",
       "Proceeding with model training using all features. If the model does not provide results of adequate quality, exclude the above mentioned feature(s) from the input dataset.</pre>"
      ],
      "text/plain": [
       "WARNING: Detected extremely low variance for feature(s) 'var33 delta transfer amount out 1Y3', 'var33 transfer amount out ultima1', 'var33 number transfer out ultima1' because all entries are nearly the same.\n",
       "Proceeding with model training using all features. If the model does not provide results of adequate quality, exclude the above mentioned feature(s) from the input dataset."
      ]
     },
     "metadata": {},
     "output_type": "display_data"
    },
    {
     "data": {
      "text/html": [
       "<pre>Boosted trees classifier:</pre>"
      ],
      "text/plain": [
       "Boosted trees classifier:"
      ]
     },
     "metadata": {},
     "output_type": "display_data"
    },
    {
     "data": {
      "text/html": [
       "<pre>--------------------------------------------------------</pre>"
      ],
      "text/plain": [
       "--------------------------------------------------------"
      ]
     },
     "metadata": {},
     "output_type": "display_data"
    },
    {
     "data": {
      "text/html": [
       "<pre>Number of examples          : 60568</pre>"
      ],
      "text/plain": [
       "Number of examples          : 60568"
      ]
     },
     "metadata": {},
     "output_type": "display_data"
    },
    {
     "data": {
      "text/html": [
       "<pre>Number of classes           : 2</pre>"
      ],
      "text/plain": [
       "Number of classes           : 2"
      ]
     },
     "metadata": {},
     "output_type": "display_data"
    },
    {
     "data": {
      "text/html": [
       "<pre>Number of feature columns   : 306</pre>"
      ],
      "text/plain": [
       "Number of feature columns   : 306"
      ]
     },
     "metadata": {},
     "output_type": "display_data"
    },
    {
     "data": {
      "text/html": [
       "<pre>Number of unpacked features : 306</pre>"
      ],
      "text/plain": [
       "Number of unpacked features : 306"
      ]
     },
     "metadata": {},
     "output_type": "display_data"
    },
    {
     "data": {
      "text/html": [
       "<pre>+-----------+--------------+--------------+----------------+</pre>"
      ],
      "text/plain": [
       "+-----------+--------------+--------------+----------------+"
      ]
     },
     "metadata": {},
     "output_type": "display_data"
    },
    {
     "data": {
      "text/html": [
       "<pre>| Iteration | Elapsed Time | Training-auc | Validation-auc |</pre>"
      ],
      "text/plain": [
       "| Iteration | Elapsed Time | Training-auc | Validation-auc |"
      ]
     },
     "metadata": {},
     "output_type": "display_data"
    },
    {
     "data": {
      "text/html": [
       "<pre>+-----------+--------------+--------------+----------------+</pre>"
      ],
      "text/plain": [
       "+-----------+--------------+--------------+----------------+"
      ]
     },
     "metadata": {},
     "output_type": "display_data"
    },
    {
     "data": {
      "text/html": [
       "<pre>| 1         | 0.220089     | 0.820057     | 0.820064       |</pre>"
      ],
      "text/plain": [
       "| 1         | 0.220089     | 0.820057     | 0.820064       |"
      ]
     },
     "metadata": {},
     "output_type": "display_data"
    },
    {
     "data": {
      "text/html": [
       "<pre>| 2         | 0.353484     | 0.827293     | 0.827227       |</pre>"
      ],
      "text/plain": [
       "| 2         | 0.353484     | 0.827293     | 0.827227       |"
      ]
     },
     "metadata": {},
     "output_type": "display_data"
    },
    {
     "data": {
      "text/html": [
       "<pre>| 3         | 0.485838     | 0.829357     | 0.827584       |</pre>"
      ],
      "text/plain": [
       "| 3         | 0.485838     | 0.829357     | 0.827584       |"
      ]
     },
     "metadata": {},
     "output_type": "display_data"
    },
    {
     "data": {
      "text/html": [
       "<pre>| 4         | 0.612038     | 0.834063     | 0.830770       |</pre>"
      ],
      "text/plain": [
       "| 4         | 0.612038     | 0.834063     | 0.830770       |"
      ]
     },
     "metadata": {},
     "output_type": "display_data"
    },
    {
     "data": {
      "text/html": [
       "<pre>| 5         | 0.736314     | 0.836802     | 0.832260       |</pre>"
      ],
      "text/plain": [
       "| 5         | 0.736314     | 0.836802     | 0.832260       |"
      ]
     },
     "metadata": {},
     "output_type": "display_data"
    },
    {
     "data": {
      "text/html": [
       "<pre>| 6         | 0.866265     | 0.836398     | 0.830956       |</pre>"
      ],
      "text/plain": [
       "| 6         | 0.866265     | 0.836398     | 0.830956       |"
      ]
     },
     "metadata": {},
     "output_type": "display_data"
    },
    {
     "data": {
      "text/html": [
       "<pre>| 10        | 1.385734     | 0.842514     | 0.836543       |</pre>"
      ],
      "text/plain": [
       "| 10        | 1.385734     | 0.842514     | 0.836543       |"
      ]
     },
     "metadata": {},
     "output_type": "display_data"
    },
    {
     "data": {
      "text/html": [
       "<pre>| 11        | 1.519280     | 0.843680     | 0.837302       |</pre>"
      ],
      "text/plain": [
       "| 11        | 1.519280     | 0.843680     | 0.837302       |"
      ]
     },
     "metadata": {},
     "output_type": "display_data"
    },
    {
     "data": {
      "text/html": [
       "<pre>| 20        | 2.714417     | 0.850309     | 0.840667       |</pre>"
      ],
      "text/plain": [
       "| 20        | 2.714417     | 0.850309     | 0.840667       |"
      ]
     },
     "metadata": {},
     "output_type": "display_data"
    },
    {
     "data": {
      "text/html": [
       "<pre>| 30        | 4.048095     | 0.855640     | 0.843102       |</pre>"
      ],
      "text/plain": [
       "| 30        | 4.048095     | 0.855640     | 0.843102       |"
      ]
     },
     "metadata": {},
     "output_type": "display_data"
    },
    {
     "data": {
      "text/html": [
       "<pre>| 40        | 5.365654     | 0.859954     | 0.844236       |</pre>"
      ],
      "text/plain": [
       "| 40        | 5.365654     | 0.859954     | 0.844236       |"
      ]
     },
     "metadata": {},
     "output_type": "display_data"
    },
    {
     "data": {
      "text/html": [
       "<pre>| 50        | 6.718256     | 0.863559     | 0.844840       |</pre>"
      ],
      "text/plain": [
       "| 50        | 6.718256     | 0.863559     | 0.844840       |"
      ]
     },
     "metadata": {},
     "output_type": "display_data"
    },
    {
     "data": {
      "text/html": [
       "<pre>| 51        | 6.847785     | 0.864025     | 0.844999       |</pre>"
      ],
      "text/plain": [
       "| 51        | 6.847785     | 0.864025     | 0.844999       |"
      ]
     },
     "metadata": {},
     "output_type": "display_data"
    },
    {
     "data": {
      "text/html": [
       "<pre>| 60        | 8.039890     | 0.866464     | 0.845110       |</pre>"
      ],
      "text/plain": [
       "| 60        | 8.039890     | 0.866464     | 0.845110       |"
      ]
     },
     "metadata": {},
     "output_type": "display_data"
    },
    {
     "data": {
      "text/html": [
       "<pre>| 70        | 9.339863     | 0.868462     | 0.845052       |</pre>"
      ],
      "text/plain": [
       "| 70        | 9.339863     | 0.868462     | 0.845052       |"
      ]
     },
     "metadata": {},
     "output_type": "display_data"
    },
    {
     "data": {
      "text/html": [
       "<pre>| 80        | 10.653769    | 0.870623     | 0.844900       |</pre>"
      ],
      "text/plain": [
       "| 80        | 10.653769    | 0.870623     | 0.844900       |"
      ]
     },
     "metadata": {},
     "output_type": "display_data"
    },
    {
     "data": {
      "text/html": [
       "<pre>| 90        | 11.968243    | 0.872021     | 0.845067       |</pre>"
      ],
      "text/plain": [
       "| 90        | 11.968243    | 0.872021     | 0.845067       |"
      ]
     },
     "metadata": {},
     "output_type": "display_data"
    },
    {
     "data": {
      "text/html": [
       "<pre>+-----------+--------------+--------------+----------------+</pre>"
      ],
      "text/plain": [
       "+-----------+--------------+--------------+----------------+"
      ]
     },
     "metadata": {},
     "output_type": "display_data"
    },
    {
     "data": {
      "text/html": [
       "<pre>Early stop triggered. Returning the best model at iteration: 71</pre>"
      ],
      "text/plain": [
       "Early stop triggered. Returning the best model at iteration: 71"
      ]
     },
     "metadata": {},
     "output_type": "display_data"
    }
   ],
   "source": [
    "params = {'target':'TARGET', 'validation_set':validate,'verbose':True, 'random_seed':8923,\n",
    "          'class_weights':'auto','metric':'auc',\n",
    "          'early_stopping_rounds':20, 'max_iterations':300}\n",
    "d=4; r=1; c=0.6; s=0.1;\n",
    "model = gl.boosted_trees_classifier.create(train, \n",
    "                    max_depth=d, row_subsample=r, column_subsample=c, \n",
    "                                           step_size=s, **params)"
   ]
  },
  {
   "cell_type": "code",
   "execution_count": 21,
   "metadata": {
    "ExecuteTime": {
     "end_time": "2016-03-16T16:03:14.386520",
     "start_time": "2016-03-16T16:03:13.917571"
    },
    "collapsed": false
   },
   "outputs": [
    {
     "data": {
      "text/plain": [
       "{'confusion_matrix': Columns:\n",
       " \ttarget_label\tint\n",
       " \tpredicted_label\tint\n",
       " \tcount\tint\n",
       " \n",
       " Rows: 4\n",
       " \n",
       " Data:\n",
       " +--------------+-----------------+-------+\n",
       " | target_label | predicted_label | count |\n",
       " +--------------+-----------------+-------+\n",
       " |      1       |        0        |  142  |\n",
       " |      1       |        1        |  483  |\n",
       " |      0       |        1        |  3286 |\n",
       " |      0       |        0        | 11541 |\n",
       " +--------------+-----------------+-------+\n",
       " [4 rows x 3 columns]}"
      ]
     },
     "execution_count": 21,
     "metadata": {},
     "output_type": "execute_result"
    }
   ],
   "source": [
    "model.evaluate(validate, metric='confusion_matrix')"
   ]
  },
  {
   "cell_type": "code",
   "execution_count": 28,
   "metadata": {
    "ExecuteTime": {
     "end_time": "2016-03-11T03:49:00.080348",
     "start_time": "2016-03-11T03:48:59.444915"
    },
    "collapsed": false,
    "scrolled": true
   },
   "outputs": [
    {
     "data": {
      "image/png": "[encoded data removed]",
      "text/plain": [
       "<matplotlib.figure.Figure at 0x7fb0f1baadd0>"
      ]
     },
     "metadata": {},
     "output_type": "display_data"
    }
   ],
   "source": [
    "reload(tools)\n",
    "tools.plot_roc(model, validate);"
   ]
  },
  {
   "cell_type": "code",
   "execution_count": 41,
   "metadata": {
    "ExecuteTime": {
     "end_time": "2016-03-11T04:03:46.383605",
     "start_time": "2016-03-11T04:03:44.657664"
    },
    "collapsed": false
   },
   "outputs": [],
   "source": [
    "reload(tools)\n",
    "tools.make_submission(model, test_data, \"GBT 1\")\n",
    "# 475 auc: 0.837421"
   ]
  }
 ],
 "metadata": {
  "kernelspec": {
   "display_name": "Python 2",
   "language": "python",
   "name": "python2"
  },
  "language_info": {
   "codemirror_mode": {
    "name": "ipython",
    "version": 2
   },
   "file_extension": ".py",
   "mimetype": "text/x-python",
   "name": "python",
   "nbconvert_exporter": "python",
   "pygments_lexer": "ipython2",
   "version": "2.7.11"
  },
  "toc": {
   "toc_cell": false,
   "toc_number_sections": false,
   "toc_threshold": "2",
   "toc_window_display": true
  }
 },
 "nbformat": 4,
 "nbformat_minor": 0
}
