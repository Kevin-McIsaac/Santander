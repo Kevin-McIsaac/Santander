{
 "cells": [
  {
   "cell_type": "code",
   "execution_count": 1,
   "metadata": {
    "ExecuteTime": {
     "end_time": "2016-03-21T21:50:04.957818",
     "start_time": "2016-03-21T21:50:04.944966"
    },
    "collapsed": false,
    "init_cell": true
   },
   "outputs": [
    {
     "data": {
      "text/html": [
       "\n",
       "<style>\n",
       ".container {\n",
       "    width: 100%;\n",
       "}\n",
       "</style>\n"
      ],
      "text/plain": [
       "<IPython.core.display.HTML object>"
      ]
     },
     "execution_count": 1,
     "metadata": {},
     "output_type": "execute_result"
    }
   ],
   "source": [
    "from IPython.core.display import HTML\n",
    "HTML(\"\"\"\n",
    "<style>\n",
    ".container {\n",
    "    width: 100%;\n",
    "}\n",
    "</style>\n",
    "\"\"\")"
   ]
  },
  {
   "cell_type": "code",
   "execution_count": 2,
   "metadata": {
    "ExecuteTime": {
     "end_time": "2016-03-21T21:50:07.051866",
     "start_time": "2016-03-21T21:50:04.958664"
    },
    "collapsed": false,
    "init_cell": true,
    "scrolled": true
   },
   "outputs": [
    {
     "name": "stderr",
     "output_type": "stream",
     "text": [
      "2016-03-21 21:50:06,900 [INFO] graphlab.cython.cy_server, 176: GraphLab Create v1.8.5 started. Logging: /tmp/graphlab_server_1458597005.log\n"
     ]
    },
    {
     "name": "stdout",
     "output_type": "stream",
     "text": [
      "This non-commercial license of GraphLab Create is assigned to kevin.mcisaac@gmail.com and will expire on November 06, 2016. For commercial licensing options, visit https://dato.com/buy/.\n"
     ]
    }
   ],
   "source": [
    "import graphlab as gl\n",
    "gl.canvas.set_target('ipynb')\n",
    "import tools \n",
    "import initialise"
   ]
  },
  {
   "cell_type": "markdown",
   "metadata": {
    "ExecuteTime": {
     "end_time": "2016-03-15T01:53:31.194020",
     "start_time": "2016-03-15T01:53:31.191344"
    }
   },
   "source": [
    "## Automatic optimisation"
   ]
  },
  {
   "cell_type": "code",
   "execution_count": 3,
   "metadata": {
    "ExecuteTime": {
     "end_time": "2016-03-21T21:50:15.561260",
     "start_time": "2016-03-21T21:50:13.174882"
    },
    "collapsed": false
   },
   "outputs": [
    {
     "name": "stdout",
     "output_type": "stream",
     "text": [
      "Loading saved processed data\n",
      "284  features in total\n"
     ]
    }
   ],
   "source": [
    "train_data, test_data = initialise.load_data(reload_data=False)\n",
    "folds = gl.cross_validation.KFold(train_data, 5)"
   ]
  },
  {
   "cell_type": "code",
   "execution_count": 4,
   "metadata": {
    "ExecuteTime": {
     "end_time": "2016-03-21T21:50:15.565168",
     "start_time": "2016-03-21T21:50:15.562428"
    },
    "collapsed": true
   },
   "outputs": [],
   "source": [
    "def auc_eval(model, train, test): \n",
    "    return {'train_auc':    model.evaluate(train, metric='auc')['auc'],\n",
    "            'validate_auc': model.evaluate(test,  metric='auc')['auc']}"
   ]
  },
  {
   "cell_type": "markdown",
   "metadata": {},
   "source": [
    "Search for an optimal solution using \"sensible defaults\""
   ]
  },
  {
   "cell_type": "code",
   "execution_count": 14,
   "metadata": {
    "ExecuteTime": {
     "end_time": "2016-03-21T21:56:51.599513",
     "start_time": "2016-03-21T21:56:30.591125"
    },
    "collapsed": false
   },
   "outputs": [
    {
     "name": "stderr",
     "output_type": "stream",
     "text": [
      "2016-03-21 21:56:35,941 [INFO] graphlab.deploy.job, 22: Validating job.\n",
      "2016-03-21 21:56:35,947 [INFO] graphlab.deploy.map_job, 186: Validation complete. Job: 'Model-Parameter-Search-Mar-21-2016-21-56-3500000' ready for execution\n",
      "2016-03-21 21:56:36,069 [INFO] graphlab.deploy.map_job, 192: Job: 'Model-Parameter-Search-Mar-21-2016-21-56-3500000' scheduled.\n",
      "2016-03-21 21:56:50,203 [INFO] graphlab.deploy.job, 22: Validating job.\n",
      "2016-03-21 21:56:50,207 [INFO] graphlab.deploy.map_job, 220: A job with name 'Model-Parameter-Search-Mar-21-2016-21-56-3500000' already exists. Renaming the job to 'Model-Parameter-Search-Mar-21-2016-21-56-3500000-487f8'.\n",
      "2016-03-21 21:56:50,213 [INFO] graphlab.deploy.map_job, 186: Validation complete. Job: 'Model-Parameter-Search-Mar-21-2016-21-56-3500000-487f8' ready for execution\n",
      "2016-03-21 21:56:50,336 [INFO] graphlab.deploy.map_job, 192: Job: 'Model-Parameter-Search-Mar-21-2016-21-56-3500000-487f8' scheduled.\n",
      "2016-03-21 21:56:50,448 [INFO] graphlab.deploy.job, 22: Validating job.\n",
      "2016-03-21 21:56:50,460 [INFO] graphlab.deploy.map_job, 186: Validation complete. Job: 'Model-Parameter-Search-Mar-21-2016-21-56-3500001' ready for execution\n",
      "2016-03-21 21:56:50,661 [INFO] graphlab.deploy.map_job, 192: Job: 'Model-Parameter-Search-Mar-21-2016-21-56-3500001' scheduled.\n",
      "2016-03-21 21:56:50,800 [INFO] graphlab.deploy.job, 22: Validating job.\n",
      "2016-03-21 21:56:50,824 [INFO] graphlab.deploy.map_job, 186: Validation complete. Job: 'Model-Parameter-Search-Mar-21-2016-21-56-3500002' ready for execution\n",
      "2016-03-21 21:56:51,011 [INFO] graphlab.deploy.map_job, 192: Job: 'Model-Parameter-Search-Mar-21-2016-21-56-3500002' scheduled.\n",
      "2016-03-21 21:56:51,147 [INFO] graphlab.deploy.job, 22: Validating job.\n",
      "2016-03-21 21:56:51,159 [INFO] graphlab.deploy.map_job, 186: Validation complete. Job: 'Model-Parameter-Search-Mar-21-2016-21-56-3500003' ready for execution\n",
      "2016-03-21 21:56:51,400 [INFO] graphlab.deploy.map_job, 192: Job: 'Model-Parameter-Search-Mar-21-2016-21-56-3500003' scheduled.\n"
     ]
    }
   ],
   "source": [
    "train, validate = tools.stratified_split(train_data, 'TARGET', 0.8, seed=8273)\n",
    "params = {'target':'TARGET', 'random_seed':8923,\n",
    "           'class_weights':'auto','metric':'auc',\n",
    "          'early_stopping_rounds':10, 'max_iterations':500}\n",
    "\n",
    "job = gl.model_parameter_search.create((train, validate),gl.boosted_trees_classifier.create,\n",
    "                             params, evaluator=auc_eval, max_models=50)\n",
    "#reload(tools)\n",
    "tools.progress_bar(job)"
   ]
  },
  {
   "cell_type": "code",
   "execution_count": 20,
   "metadata": {
    "ExecuteTime": {
     "end_time": "2016-03-21T22:05:34.655589",
     "start_time": "2016-03-21T21:57:49.651573"
    },
    "collapsed": false
   },
   "outputs": [],
   "source": []
  },
  {
   "cell_type": "code",
   "execution_count": 27,
   "metadata": {
    "ExecuteTime": {
     "end_time": "2016-03-21T22:17:42.657756",
     "start_time": "2016-03-21T22:17:42.543225"
    },
    "collapsed": false
   },
   "outputs": [
    {
     "name": "stdout",
     "output_type": "stream",
     "text": [
      "+----------------+------------------+-----------+------------------+--------------------+---------------+-----------+\n",
      "|  validate_auc  | column_subsample | max_depth | min_child_weight | min_loss_reduction | row_subsample | step_size |\n",
      "+----------------+------------------+-----------+------------------+--------------------+---------------+-----------+\n",
      "| 0.837478411717 |       1.0        |     6     |        2         |         0          |      1.0      |    0.25   |\n",
      "| 0.836313695707 |       0.9        |     10    |        2         |         0          |      1.0      |    0.1    |\n",
      "| 0.834914819803 |       0.9        |     6     |        16        |         1          |      1.0      |    0.25   |\n",
      "| 0.83444788747  |       0.8        |     8     |        1         |         0          |      0.9      |   0.001   |\n",
      "| 0.834370243294 |       1.0        |     8     |        8         |         0          |      0.9      |    0.25   |\n",
      "| 0.834228882865 |       0.9        |     10    |        16        |         10         |      0.9      |    0.5    |\n",
      "| 0.834114044193 |       0.8        |     6     |        8         |         10         |      1.0      |    0.25   |\n",
      "| 0.833807416401 |       0.8        |     6     |        8         |         1          |      1.0      |    0.01   |\n",
      "| 0.833802667032 |       0.8        |     10    |        2         |         0          |      1.0      |    0.25   |\n",
      "| 0.833649886773 |       0.8        |     8     |        16        |         1          |      1.0      |    0.1    |\n",
      "| 0.833342618616 |       0.8        |     6     |        4         |         10         |      1.0      |    0.5    |\n",
      "| 0.83333082524  |       0.8        |     8     |        2         |         0          |      1.0      |    0.25   |\n",
      "| 0.833195601636 |       1.0        |     6     |        4         |         10         |      1.0      |    0.25   |\n",
      "|  0.8331375953  |       1.0        |     6     |        1         |         0          |      0.9      |    0.01   |\n",
      "| 0.832508223879 |       0.8        |     6     |        2         |         0          |      1.0      |    0.5    |\n",
      "| 0.832008206056 |       0.8        |     8     |        1         |         1          |      0.9      |   0.001   |\n",
      "| 0.831339238773 |       0.8        |     8     |        2         |         0          |      1.0      |   1e-05   |\n",
      "| 0.831270292879 |       0.9        |     6     |        16        |         1          |      1.0      |    0.5    |\n",
      "| 0.830510553951 |       1.0        |     10    |        16        |         10         |      1.0      |    0.01   |\n",
      "| 0.829786568699 |       0.9        |     10    |        8         |         0          |      0.9      |   0.001   |\n",
      "| 0.829361686959 |       0.9        |     6     |        2         |         10         |      1.0      |    0.1    |\n",
      "| 0.828756969565 |       1.0        |     10    |        4         |         0          |      0.9      |    0.01   |\n",
      "| 0.827384081781 |       0.9        |     4     |        16        |         1          |      0.9      |   0.0001  |\n",
      "| 0.827123827039 |       0.8        |     10    |        1         |         1          |      1.0      |    0.5    |\n",
      "| 0.826869975942 |       0.8        |     10    |        1         |         1          |      0.9      |   0.001   |\n",
      "| 0.826858609474 |       0.9        |     4     |        4         |         0          |      0.9      |   1e-05   |\n",
      "| 0.826257360721 |       0.9        |     10    |        1         |         1          |      0.9      |    0.1    |\n",
      "| 0.826257360721 |       0.9        |     6     |        4         |         0          |      1.0      |    0.01   |\n",
      "| 0.826230838965 |       1.0        |     8     |        16        |         0          |      0.9      |   0.001   |\n",
      "| 0.826194018015 |       0.8        |     10    |        4         |         1          |      0.9      |   1e-05   |\n",
      "| 0.825902812331 |       1.0        |     8     |        4         |         1          |      0.9      |   0.001   |\n",
      "| 0.825774899554 |       0.8        |     4     |        16        |         1          |      1.0      |   0.0001  |\n",
      "| 0.823716021468 |       0.9        |     4     |        16        |         1          |      1.0      |   0.001   |\n",
      "| 0.822635406641 |       0.8        |     4     |        8         |         1          |      0.9      |   1e-05   |\n",
      "| 0.821791299711 |       0.9        |     4     |        16        |         10         |      0.9      |    0.01   |\n",
      "| 0.820064984173 |       0.9        |     4     |        16        |         10         |      0.9      |   1e-05   |\n",
      "| 0.817418838622 |       0.8        |     10    |        16        |         10         |      0.9      |   1e-05   |\n",
      "| 0.815661518778 |       1.0        |     10    |        8         |         10         |      1.0      |   0.0001  |\n",
      "|      0.5       |       0.8        |     8     |        1         |         0          |      0.9      |    0.0    |\n",
      "|      0.5       |       1.0        |     6     |        8         |         0          |      0.9      |    0.0    |\n",
      "|      0.5       |       1.0        |     8     |        1         |         10         |      1.0      |    0.0    |\n",
      "|      0.5       |       0.9        |     8     |        8         |         1          |      1.0      |    0.0    |\n",
      "|      0.5       |       0.9        |     8     |        1         |         0          |      1.0      |    0.0    |\n",
      "|      0.5       |       1.0        |     10    |        8         |         0          |      0.9      |    0.0    |\n",
      "|      0.5       |       0.9        |     10    |        2         |         0          |      1.0      |    0.0    |\n",
      "|      0.5       |       0.9        |     4     |        1         |         0          |      0.9      |    0.0    |\n",
      "|      0.5       |       0.9        |     8     |        1         |         1          |      1.0      |    0.0    |\n",
      "|      0.5       |       0.8        |     10    |        1         |         10         |      0.9      |    0.0    |\n",
      "|      0.5       |       1.0        |     6     |        2         |         0          |      0.9      |    0.0    |\n",
      "|      0.5       |       1.0        |     4     |        8         |         1          |      0.9      |    0.0    |\n",
      "+----------------+------------------+-----------+------------------+--------------------+---------------+-----------+\n",
      "[50 rows x 7 columns]\n",
      "\n"
     ]
    }
   ],
   "source": [
    "results=job.get_results().sort('validate_auc', ascending=False)\n",
    "results['validate_auc', 'column_subsample', 'max_depth', 'min_child_weight', 'min_loss_reduction', 'row_subsample', 'step_size' ].print_rows(50, max_row_width=180)"
   ]
  },
  {
   "cell_type": "code",
   "execution_count": 30,
   "metadata": {
    "ExecuteTime": {
     "end_time": "2016-03-21T22:24:36.251778",
     "start_time": "2016-03-21T22:24:36.078562"
    },
    "collapsed": false
   },
   "outputs": [
    {
     "data": {
      "text/plain": [
       "{'class_weights': 'auto',\n",
       " 'column_subsample': 1,\n",
       " 'early_stopping_rounds': 10,\n",
       " 'max_depth': 6,\n",
       " 'max_iterations': 500,\n",
       " 'metric': 'auc',\n",
       " 'min_child_weight': 2,\n",
       " 'min_loss_reduction': 0,\n",
       " 'random_seed': 8923,\n",
       " 'row_subsample': 1,\n",
       " 'step_size': 0.25,\n",
       " 'target': 'TARGET'}"
      ]
     },
     "execution_count": 30,
     "metadata": {},
     "output_type": "execute_result"
    }
   ],
   "source": [
    "best_params = job.get_best_params(metric='validate_auc')\n",
    "best_params"
   ]
  },
  {
   "cell_type": "code",
   "execution_count": 33,
   "metadata": {
    "ExecuteTime": {
     "end_time": "2016-03-21T22:28:26.812986",
     "start_time": "2016-03-21T22:28:07.668739"
    },
    "collapsed": false
   },
   "outputs": [
    {
     "data": {
      "text/html": [
       "<pre>Boosted trees classifier:</pre>"
      ],
      "text/plain": [
       "Boosted trees classifier:"
      ]
     },
     "metadata": {},
     "output_type": "display_data"
    },
    {
     "data": {
      "text/html": [
       "<pre>--------------------------------------------------------</pre>"
      ],
      "text/plain": [
       "--------------------------------------------------------"
      ]
     },
     "metadata": {},
     "output_type": "display_data"
    },
    {
     "data": {
      "text/html": [
       "<pre>Number of examples          : 72108</pre>"
      ],
      "text/plain": [
       "Number of examples          : 72108"
      ]
     },
     "metadata": {},
     "output_type": "display_data"
    },
    {
     "data": {
      "text/html": [
       "<pre>Number of classes           : 2</pre>"
      ],
      "text/plain": [
       "Number of classes           : 2"
      ]
     },
     "metadata": {},
     "output_type": "display_data"
    },
    {
     "data": {
      "text/html": [
       "<pre>Number of feature columns   : 284</pre>"
      ],
      "text/plain": [
       "Number of feature columns   : 284"
      ]
     },
     "metadata": {},
     "output_type": "display_data"
    },
    {
     "data": {
      "text/html": [
       "<pre>Number of unpacked features : 284</pre>"
      ],
      "text/plain": [
       "Number of unpacked features : 284"
      ]
     },
     "metadata": {},
     "output_type": "display_data"
    },
    {
     "data": {
      "text/html": [
       "<pre>+-----------+--------------+--------------+----------------+</pre>"
      ],
      "text/plain": [
       "+-----------+--------------+--------------+----------------+"
      ]
     },
     "metadata": {},
     "output_type": "display_data"
    },
    {
     "data": {
      "text/html": [
       "<pre>| Iteration | Elapsed Time | Training-auc | Validation-auc |</pre>"
      ],
      "text/plain": [
       "| Iteration | Elapsed Time | Training-auc | Validation-auc |"
      ]
     },
     "metadata": {},
     "output_type": "display_data"
    },
    {
     "data": {
      "text/html": [
       "<pre>+-----------+--------------+--------------+----------------+</pre>"
      ],
      "text/plain": [
       "+-----------+--------------+--------------+----------------+"
      ]
     },
     "metadata": {},
     "output_type": "display_data"
    },
    {
     "data": {
      "text/html": [
       "<pre>| 1         | 0.307383     | 0.841027     | 0.817878       |</pre>"
      ],
      "text/plain": [
       "| 1         | 0.307383     | 0.841027     | 0.817878       |"
      ]
     },
     "metadata": {},
     "output_type": "display_data"
    },
    {
     "data": {
      "text/html": [
       "<pre>| 2         | 0.609549     | 0.849146     | 0.822980       |</pre>"
      ],
      "text/plain": [
       "| 2         | 0.609549     | 0.849146     | 0.822980       |"
      ]
     },
     "metadata": {},
     "output_type": "display_data"
    },
    {
     "data": {
      "text/html": [
       "<pre>| 3         | 0.912426     | 0.853341     | 0.822789       |</pre>"
      ],
      "text/plain": [
       "| 3         | 0.912426     | 0.853341     | 0.822789       |"
      ]
     },
     "metadata": {},
     "output_type": "display_data"
    },
    {
     "data": {
      "text/html": [
       "<pre>| 4         | 1.217758     | 0.858737     | 0.825136       |</pre>"
      ],
      "text/plain": [
       "| 4         | 1.217758     | 0.858737     | 0.825136       |"
      ]
     },
     "metadata": {},
     "output_type": "display_data"
    },
    {
     "data": {
      "text/html": [
       "<pre>| 5         | 1.530519     | 0.861811     | 0.829319       |</pre>"
      ],
      "text/plain": [
       "| 5         | 1.530519     | 0.861811     | 0.829319       |"
      ]
     },
     "metadata": {},
     "output_type": "display_data"
    },
    {
     "data": {
      "text/html": [
       "<pre>| 6         | 1.837603     | 0.863710     | 0.830145       |</pre>"
      ],
      "text/plain": [
       "| 6         | 1.837603     | 0.863710     | 0.830145       |"
      ]
     },
     "metadata": {},
     "output_type": "display_data"
    },
    {
     "data": {
      "text/html": [
       "<pre>| 10        | 3.047080     | 0.871458     | 0.832684       |</pre>"
      ],
      "text/plain": [
       "| 10        | 3.047080     | 0.871458     | 0.832684       |"
      ]
     },
     "metadata": {},
     "output_type": "display_data"
    },
    {
     "data": {
      "text/html": [
       "<pre>| 11        | 3.349572     | 0.872773     | 0.833420       |</pre>"
      ],
      "text/plain": [
       "| 11        | 3.349572     | 0.872773     | 0.833420       |"
      ]
     },
     "metadata": {},
     "output_type": "display_data"
    },
    {
     "data": {
      "text/html": [
       "<pre>| 15        | 4.562711     | 0.877207     | 0.833259       |</pre>"
      ],
      "text/plain": [
       "| 15        | 4.562711     | 0.877207     | 0.833259       |"
      ]
     },
     "metadata": {},
     "output_type": "display_data"
    },
    {
     "data": {
      "text/html": [
       "<pre>| 20        | 6.074402     | 0.882134     | 0.833277       |</pre>"
      ],
      "text/plain": [
       "| 20        | 6.074402     | 0.882134     | 0.833277       |"
      ]
     },
     "metadata": {},
     "output_type": "display_data"
    },
    {
     "data": {
      "text/html": [
       "<pre>| 25        | 7.587424     | 0.885263     | 0.831963       |</pre>"
      ],
      "text/plain": [
       "| 25        | 7.587424     | 0.885263     | 0.831963       |"
      ]
     },
     "metadata": {},
     "output_type": "display_data"
    },
    {
     "data": {
      "text/html": [
       "<pre>| 30        | 9.090765     | 0.888223     | 0.833868       |</pre>"
      ],
      "text/plain": [
       "| 30        | 9.090765     | 0.888223     | 0.833868       |"
      ]
     },
     "metadata": {},
     "output_type": "display_data"
    },
    {
     "data": {
      "text/html": [
       "<pre>| 35        | 10.607714    | 0.891585     | 0.831111       |</pre>"
      ],
      "text/plain": [
       "| 35        | 10.607714    | 0.891585     | 0.831111       |"
      ]
     },
     "metadata": {},
     "output_type": "display_data"
    },
    {
     "data": {
      "text/html": [
       "<pre>| 40        | 12.115392    | 0.895270     | 0.829714       |</pre>"
      ],
      "text/plain": [
       "| 40        | 12.115392    | 0.895270     | 0.829714       |"
      ]
     },
     "metadata": {},
     "output_type": "display_data"
    },
    {
     "data": {
      "text/html": [
       "<pre>| 45        | 13.618156    | 0.896552     | 0.829121       |</pre>"
      ],
      "text/plain": [
       "| 45        | 13.618156    | 0.896552     | 0.829121       |"
      ]
     },
     "metadata": {},
     "output_type": "display_data"
    },
    {
     "data": {
      "text/html": [
       "<pre>| 50        | 15.128064    | 0.898992     | 0.828499       |</pre>"
      ],
      "text/plain": [
       "| 50        | 15.128064    | 0.898992     | 0.828499       |"
      ]
     },
     "metadata": {},
     "output_type": "display_data"
    },
    {
     "data": {
      "text/html": [
       "<pre>+-----------+--------------+--------------+----------------+</pre>"
      ],
      "text/plain": [
       "+-----------+--------------+--------------+----------------+"
      ]
     },
     "metadata": {},
     "output_type": "display_data"
    },
    {
     "data": {
      "text/html": [
       "<pre>Early stop triggered. Returning the best model at iteration: 30</pre>"
      ],
      "text/plain": [
       "Early stop triggered. Returning the best model at iteration: 30"
      ]
     },
     "metadata": {},
     "output_type": "display_data"
    },
    {
     "name": "stdout",
     "output_type": "stream",
     "text": [
      "PROGRESS: Creating a validation set from 5 percent of training data. This may take a while.\n",
      "          You can set ``validation_set=None`` to disable validation tracking.\n",
      "\n"
     ]
    }
   ],
   "source": [
    "best_params = {'class_weights': 'auto',\n",
    " 'column_subsample': 1,\n",
    " 'early_stopping_rounds': 20,\n",
    " 'max_depth': 6,\n",
    " 'max_iterations': 500,\n",
    " 'metric': 'auc',\n",
    " 'min_child_weight': 2,\n",
    " 'min_loss_reduction': 0,\n",
    " 'random_seed': 8923,\n",
    " 'row_subsample': 1,\n",
    " 'step_size': 0.25,\n",
    " 'target': 'TARGET'}\n",
    "model =gl.boosted_trees_classifier.create(train_data,  **best_params)"
   ]
  },
  {
   "cell_type": "code",
   "execution_count": 34,
   "metadata": {
    "ExecuteTime": {
     "end_time": "2016-03-21T22:29:00.031504",
     "start_time": "2016-03-21T22:29:00.026966"
    },
    "collapsed": false
   },
   "outputs": [
    {
     "data": {
      "text/plain": [
       "0.8338679075241089"
      ]
     },
     "execution_count": 34,
     "metadata": {},
     "output_type": "execute_result"
    }
   ],
   "source": [
    "model.validation_auc\n",
    "#scored 0.835068, which is not an improvement "
   ]
  },
  {
   "cell_type": "code",
   "execution_count": 37,
   "metadata": {
    "ExecuteTime": {
     "end_time": "2016-03-21T22:30:38.522233",
     "start_time": "2016-03-21T22:30:35.048236"
    },
    "collapsed": false
   },
   "outputs": [],
   "source": [
    "tools.make_submission(model, test_data, 'GBT_best_params')"
   ]
  },
  {
   "cell_type": "markdown",
   "metadata": {
    "heading_collapsed": true
   },
   "source": [
    "## Manual approach\n",
    "Looks like depth:4, row: 1.00, col: 0.60, step: 0.10, gives the highest auc: 0.8465 "
   ]
  },
  {
   "cell_type": "code",
   "execution_count": 5,
   "metadata": {
    "ExecuteTime": {
     "end_time": "2016-03-11T12:47:40.541284",
     "start_time": "2016-03-11T12:44:35.971907"
    },
    "collapsed": false
   },
   "outputs": [
    {
     "name": "stdout",
     "output_type": "stream",
     "text": [
      "depth:  2, row: 1.00, col: 1.00, auc: 0.8424\n",
      "depth:  2, row: 1.00, col: 0.80, auc: 0.8402\n",
      "depth:  2, row: 1.00, col: 0.60, auc: 0.8426\n",
      "depth:  2, row: 0.80, col: 1.00, auc: 0.8421\n",
      "depth:  2, row: 0.80, col: 0.80, auc: 0.8417\n",
      "depth:  2, row: 0.80, col: 0.60, auc: 0.8415\n",
      "depth:  2, row: 0.60, col: 1.00, auc: 0.8420\n",
      "depth:  2, row: 0.60, col: 0.80, auc: 0.8415\n",
      "depth:  2, row: 0.60, col: 0.60, auc: 0.8397\n",
      "depth:  4, row: 1.00, col: 1.00, auc: 0.8415\n",
      "depth:  4, row: 1.00, col: 0.80, auc: 0.8437\n",
      "depth:  4, row: 1.00, col: 0.60, auc: 0.8446\n",
      "depth:  4, row: 0.80, col: 1.00, auc: 0.8414\n",
      "depth:  4, row: 0.80, col: 0.80, auc: 0.8401\n",
      "depth:  4, row: 0.80, col: 0.60, auc: 0.8407\n",
      "depth:  4, row: 0.60, col: 1.00, auc: 0.8418\n",
      "depth:  4, row: 0.60, col: 0.80, auc: 0.8435\n",
      "depth:  4, row: 0.60, col: 0.60, auc: 0.8425\n",
      "depth:  6, row: 1.00, col: 1.00, auc: 0.8384\n",
      "depth:  6, row: 1.00, col: 0.80, auc: 0.8445\n",
      "depth:  6, row: 1.00, col: 0.60, auc: 0.8399\n",
      "depth:  6, row: 0.80, col: 1.00, auc: 0.8389\n",
      "depth:  6, row: 0.80, col: 0.80, auc: 0.8416\n",
      "depth:  6, row: 0.80, col: 0.60, auc: 0.8404\n",
      "depth:  6, row: 0.60, col: 1.00, auc: 0.8398\n",
      "depth:  6, row: 0.60, col: 0.80, auc: 0.8372\n",
      "depth:  6, row: 0.60, col: 0.60, auc: 0.8386\n"
     ]
    }
   ],
   "source": [
    "params = {'target':'TARGET', 'validation_set':validate,'verbose':False, 'random_seed':8923,\n",
    "          'class_weights':'auto','metric':'auc',\n",
    "          'early_stopping_rounds':10, 'max_iterations':300}\n",
    "model=dict() \n",
    "\n",
    "for d in [2, 4, 6]:\n",
    "    for r in [1, 0.8, 0.6]:\n",
    "        for c in [1, 0.8, 0.6]:\n",
    "            model[d,r,c] = gl.boosted_trees_classifier.create(train, \n",
    "                            max_depth=d, row_subsample=r, column_subsample=c, **params)\n",
    "            print \"depth: {:2d}, row: {:4.2f}, col: {:4.2f}, auc: {:6.4f}\".format( d, r, c, model[d,r,c]['validation_auc'])\n"
   ]
  },
  {
   "cell_type": "code",
   "execution_count": 8,
   "metadata": {
    "ExecuteTime": {
     "end_time": "2016-03-11T12:54:29.245691",
     "start_time": "2016-03-11T12:54:04.987050"
    },
    "collapsed": true
   },
   "outputs": [
    {
     "name": "stdout",
     "output_type": "stream",
     "text": [
      "depth:  4, row: 1.00, col: 0.60, step: 0.30, auc: 0.8446\n",
      "depth:  4, row: 1.00, col: 0.60, step: 0.10, auc: 0.8459\n",
      "depth:  4, row: 1.00, col: 0.60, step: 0.05, auc: 0.8345\n",
      "depth:  4, row: 1.00, col: 0.60, step: 0.01, auc: 0.8274\n"
     ]
    }
   ],
   "source": [
    "d=4\n",
    "r=1\n",
    "c=0.6\n",
    "for s in [0.3, 0.1, 0.05, 0.01]:\n",
    "    model[d,r,c, s] = gl.boosted_trees_classifier.create(train, \n",
    "                    max_depth=d, row_subsample=r, column_subsample=c, step_size=s, **params)\n",
    "    print \"depth: {:2d}, row: {:4.2f}, col: {:4.2f}, step: {:4.2f}, auc: {:6.4f}\".format( d, r, c, s,model[d,r,c, s]['validation_auc'])\n"
   ]
  },
  {
   "cell_type": "code",
   "execution_count": 9,
   "metadata": {
    "ExecuteTime": {
     "end_time": "2016-03-11T12:55:34.900981",
     "start_time": "2016-03-11T12:55:20.129951"
    },
    "collapsed": false
   },
   "outputs": [
    {
     "name": "stdout",
     "output_type": "stream",
     "text": [
      "depth:  4, row: 1.00, col: 0.60, step: 0.50, auc: 0.8426\n",
      "depth:  4, row: 1.00, col: 0.60, step: 0.80, auc: 0.8335\n",
      "depth:  4, row: 1.00, col: 0.60, step: 1.00, auc: 0.8367\n"
     ]
    }
   ],
   "source": [
    "d=4\n",
    "r=1\n",
    "c=0.6\n",
    "for s in [.5, .8, 1]:\n",
    "    model[d,r,c, s] = gl.boosted_trees_classifier.create(train, \n",
    "                    max_depth=d, row_subsample=r, column_subsample=c, step_size=s, **params)\n",
    "    print \"depth: {:2d}, row: {:4.2f}, col: {:4.2f}, step: {:4.2f}, auc: {:6.4f}\".format( d, r, c, s,model[d,r,c, s]['validation_auc'])\n"
   ]
  },
  {
   "cell_type": "code",
   "execution_count": 9,
   "metadata": {
    "ExecuteTime": {
     "end_time": "2016-03-16T08:08:44.429823",
     "start_time": "2016-03-16T08:08:26.926499"
    },
    "collapsed": true
   },
   "outputs": [
    {
     "data": {
      "text/html": [
       "<pre>WARNING: Detected extremely low variance for feature(s) 'var33 delta transfer amount out 1Y3', 'var33 transfer amount out ultima1', 'var33 number transfer out ultima1' because all entries are nearly the same.\n",
       "Proceeding with model training using all features. If the model does not provide results of adequate quality, exclude the above mentioned feature(s) from the input dataset.</pre>"
      ],
      "text/plain": [
       "WARNING: Detected extremely low variance for feature(s) 'var33 delta transfer amount out 1Y3', 'var33 transfer amount out ultima1', 'var33 number transfer out ultima1' because all entries are nearly the same.\n",
       "Proceeding with model training using all features. If the model does not provide results of adequate quality, exclude the above mentioned feature(s) from the input dataset."
      ]
     },
     "metadata": {},
     "output_type": "display_data"
    },
    {
     "data": {
      "text/html": [
       "<pre>Boosted trees classifier:</pre>"
      ],
      "text/plain": [
       "Boosted trees classifier:"
      ]
     },
     "metadata": {},
     "output_type": "display_data"
    },
    {
     "data": {
      "text/html": [
       "<pre>--------------------------------------------------------</pre>"
      ],
      "text/plain": [
       "--------------------------------------------------------"
      ]
     },
     "metadata": {},
     "output_type": "display_data"
    },
    {
     "data": {
      "text/html": [
       "<pre>Number of examples          : 60568</pre>"
      ],
      "text/plain": [
       "Number of examples          : 60568"
      ]
     },
     "metadata": {},
     "output_type": "display_data"
    },
    {
     "data": {
      "text/html": [
       "<pre>Number of classes           : 2</pre>"
      ],
      "text/plain": [
       "Number of classes           : 2"
      ]
     },
     "metadata": {},
     "output_type": "display_data"
    },
    {
     "data": {
      "text/html": [
       "<pre>Number of feature columns   : 306</pre>"
      ],
      "text/plain": [
       "Number of feature columns   : 306"
      ]
     },
     "metadata": {},
     "output_type": "display_data"
    },
    {
     "data": {
      "text/html": [
       "<pre>Number of unpacked features : 306</pre>"
      ],
      "text/plain": [
       "Number of unpacked features : 306"
      ]
     },
     "metadata": {},
     "output_type": "display_data"
    },
    {
     "data": {
      "text/html": [
       "<pre>+-----------+--------------+--------------+----------------+</pre>"
      ],
      "text/plain": [
       "+-----------+--------------+--------------+----------------+"
      ]
     },
     "metadata": {},
     "output_type": "display_data"
    },
    {
     "data": {
      "text/html": [
       "<pre>| Iteration | Elapsed Time | Training-auc | Validation-auc |</pre>"
      ],
      "text/plain": [
       "| Iteration | Elapsed Time | Training-auc | Validation-auc |"
      ]
     },
     "metadata": {},
     "output_type": "display_data"
    },
    {
     "data": {
      "text/html": [
       "<pre>+-----------+--------------+--------------+----------------+</pre>"
      ],
      "text/plain": [
       "+-----------+--------------+--------------+----------------+"
      ]
     },
     "metadata": {},
     "output_type": "display_data"
    },
    {
     "data": {
      "text/html": [
       "<pre>| 1         | 0.220089     | 0.820057     | 0.820064       |</pre>"
      ],
      "text/plain": [
       "| 1         | 0.220089     | 0.820057     | 0.820064       |"
      ]
     },
     "metadata": {},
     "output_type": "display_data"
    },
    {
     "data": {
      "text/html": [
       "<pre>| 2         | 0.353484     | 0.827293     | 0.827227       |</pre>"
      ],
      "text/plain": [
       "| 2         | 0.353484     | 0.827293     | 0.827227       |"
      ]
     },
     "metadata": {},
     "output_type": "display_data"
    },
    {
     "data": {
      "text/html": [
       "<pre>| 3         | 0.485838     | 0.829357     | 0.827584       |</pre>"
      ],
      "text/plain": [
       "| 3         | 0.485838     | 0.829357     | 0.827584       |"
      ]
     },
     "metadata": {},
     "output_type": "display_data"
    },
    {
     "data": {
      "text/html": [
       "<pre>| 4         | 0.612038     | 0.834063     | 0.830770       |</pre>"
      ],
      "text/plain": [
       "| 4         | 0.612038     | 0.834063     | 0.830770       |"
      ]
     },
     "metadata": {},
     "output_type": "display_data"
    },
    {
     "data": {
      "text/html": [
       "<pre>| 5         | 0.736314     | 0.836802     | 0.832260       |</pre>"
      ],
      "text/plain": [
       "| 5         | 0.736314     | 0.836802     | 0.832260       |"
      ]
     },
     "metadata": {},
     "output_type": "display_data"
    },
    {
     "data": {
      "text/html": [
       "<pre>| 6         | 0.866265     | 0.836398     | 0.830956       |</pre>"
      ],
      "text/plain": [
       "| 6         | 0.866265     | 0.836398     | 0.830956       |"
      ]
     },
     "metadata": {},
     "output_type": "display_data"
    },
    {
     "data": {
      "text/html": [
       "<pre>| 10        | 1.385734     | 0.842514     | 0.836543       |</pre>"
      ],
      "text/plain": [
       "| 10        | 1.385734     | 0.842514     | 0.836543       |"
      ]
     },
     "metadata": {},
     "output_type": "display_data"
    },
    {
     "data": {
      "text/html": [
       "<pre>| 11        | 1.519280     | 0.843680     | 0.837302       |</pre>"
      ],
      "text/plain": [
       "| 11        | 1.519280     | 0.843680     | 0.837302       |"
      ]
     },
     "metadata": {},
     "output_type": "display_data"
    },
    {
     "data": {
      "text/html": [
       "<pre>| 20        | 2.714417     | 0.850309     | 0.840667       |</pre>"
      ],
      "text/plain": [
       "| 20        | 2.714417     | 0.850309     | 0.840667       |"
      ]
     },
     "metadata": {},
     "output_type": "display_data"
    },
    {
     "data": {
      "text/html": [
       "<pre>| 30        | 4.048095     | 0.855640     | 0.843102       |</pre>"
      ],
      "text/plain": [
       "| 30        | 4.048095     | 0.855640     | 0.843102       |"
      ]
     },
     "metadata": {},
     "output_type": "display_data"
    },
    {
     "data": {
      "text/html": [
       "<pre>| 40        | 5.365654     | 0.859954     | 0.844236       |</pre>"
      ],
      "text/plain": [
       "| 40        | 5.365654     | 0.859954     | 0.844236       |"
      ]
     },
     "metadata": {},
     "output_type": "display_data"
    },
    {
     "data": {
      "text/html": [
       "<pre>| 50        | 6.718256     | 0.863559     | 0.844840       |</pre>"
      ],
      "text/plain": [
       "| 50        | 6.718256     | 0.863559     | 0.844840       |"
      ]
     },
     "metadata": {},
     "output_type": "display_data"
    },
    {
     "data": {
      "text/html": [
       "<pre>| 51        | 6.847785     | 0.864025     | 0.844999       |</pre>"
      ],
      "text/plain": [
       "| 51        | 6.847785     | 0.864025     | 0.844999       |"
      ]
     },
     "metadata": {},
     "output_type": "display_data"
    },
    {
     "data": {
      "text/html": [
       "<pre>| 60        | 8.039890     | 0.866464     | 0.845110       |</pre>"
      ],
      "text/plain": [
       "| 60        | 8.039890     | 0.866464     | 0.845110       |"
      ]
     },
     "metadata": {},
     "output_type": "display_data"
    },
    {
     "data": {
      "text/html": [
       "<pre>| 70        | 9.339863     | 0.868462     | 0.845052       |</pre>"
      ],
      "text/plain": [
       "| 70        | 9.339863     | 0.868462     | 0.845052       |"
      ]
     },
     "metadata": {},
     "output_type": "display_data"
    },
    {
     "data": {
      "text/html": [
       "<pre>| 80        | 10.653769    | 0.870623     | 0.844900       |</pre>"
      ],
      "text/plain": [
       "| 80        | 10.653769    | 0.870623     | 0.844900       |"
      ]
     },
     "metadata": {},
     "output_type": "display_data"
    },
    {
     "data": {
      "text/html": [
       "<pre>| 90        | 11.968243    | 0.872021     | 0.845067       |</pre>"
      ],
      "text/plain": [
       "| 90        | 11.968243    | 0.872021     | 0.845067       |"
      ]
     },
     "metadata": {},
     "output_type": "display_data"
    },
    {
     "data": {
      "text/html": [
       "<pre>+-----------+--------------+--------------+----------------+</pre>"
      ],
      "text/plain": [
       "+-----------+--------------+--------------+----------------+"
      ]
     },
     "metadata": {},
     "output_type": "display_data"
    },
    {
     "data": {
      "text/html": [
       "<pre>Early stop triggered. Returning the best model at iteration: 71</pre>"
      ],
      "text/plain": [
       "Early stop triggered. Returning the best model at iteration: 71"
      ]
     },
     "metadata": {},
     "output_type": "display_data"
    }
   ],
   "source": [
    "params = {'target':'TARGET', 'validation_set':validate,'verbose':True, 'random_seed':8923,\n",
    "          'class_weights':'auto','metric':'auc',\n",
    "          'early_stopping_rounds':20, 'max_iterations':300}\n",
    "d=4; r=1; c=0.6; s=0.1;\n",
    "model = gl.boosted_trees_classifier.create(train, \n",
    "                    max_depth=d, row_subsample=r, column_subsample=c, \n",
    "                                           step_size=s, **params)"
   ]
  },
  {
   "cell_type": "code",
   "execution_count": 21,
   "metadata": {
    "ExecuteTime": {
     "end_time": "2016-03-16T16:03:14.386520",
     "start_time": "2016-03-16T16:03:13.917571"
    },
    "collapsed": false
   },
   "outputs": [
    {
     "data": {
      "text/plain": [
       "{'confusion_matrix': Columns:\n",
       " \ttarget_label\tint\n",
       " \tpredicted_label\tint\n",
       " \tcount\tint\n",
       " \n",
       " Rows: 4\n",
       " \n",
       " Data:\n",
       " +--------------+-----------------+-------+\n",
       " | target_label | predicted_label | count |\n",
       " +--------------+-----------------+-------+\n",
       " |      1       |        0        |  142  |\n",
       " |      1       |        1        |  483  |\n",
       " |      0       |        1        |  3286 |\n",
       " |      0       |        0        | 11541 |\n",
       " +--------------+-----------------+-------+\n",
       " [4 rows x 3 columns]}"
      ]
     },
     "execution_count": 21,
     "metadata": {},
     "output_type": "execute_result"
    }
   ],
   "source": [
    "model.evaluate(validate, metric='confusion_matrix')"
   ]
  },
  {
   "cell_type": "code",
   "execution_count": 28,
   "metadata": {
    "ExecuteTime": {
     "end_time": "2016-03-11T03:49:00.080348",
     "start_time": "2016-03-11T03:48:59.444915"
    },
    "collapsed": false,
    "scrolled": true
   },
   "outputs": [
    {
     "data": {
      "image/png": "[encoded data removed]",
      "text/plain": [
       "<matplotlib.figure.Figure at 0x7fb0f1baadd0>"
      ]
     },
     "metadata": {},
     "output_type": "display_data"
    }
   ],
   "source": [
    "reload(tools)\n",
    "tools.plot_roc(model, validate);"
   ]
  },
  {
   "cell_type": "code",
   "execution_count": 41,
   "metadata": {
    "ExecuteTime": {
     "end_time": "2016-03-11T04:03:46.383605",
     "start_time": "2016-03-11T04:03:44.657664"
    },
    "collapsed": false
   },
   "outputs": [],
   "source": [
    "reload(tools)\n",
    "tools.make_submission(model, test_data, \"GBT 1\")\n",
    "# 475 auc: 0.837421"
   ]
  }
 ],
 "metadata": {
  "kernelspec": {
   "display_name": "Python 2",
   "language": "python",
   "name": "python2"
  },
  "language_info": {
   "codemirror_mode": {
    "name": "ipython",
    "version": 2
   },
   "file_extension": ".py",
   "mimetype": "text/x-python",
   "name": "python",
   "nbconvert_exporter": "python",
   "pygments_lexer": "ipython2",
   "version": "2.7.11"
  },
  "toc": {
   "toc_cell": false,
   "toc_number_sections": false,
   "toc_threshold": "2",
   "toc_window_display": true
  }
 },
 "nbformat": 4,
 "nbformat_minor": 0
}
