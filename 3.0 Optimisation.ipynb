{
 "cells": [
  {
   "cell_type": "code",
   "execution_count": 1,
   "metadata": {
    "ExecuteTime": {
     "end_time": "2016-03-15T04:58:56.969681",
     "start_time": "2016-03-15T04:58:56.961049"
    },
    "collapsed": false
   },
   "outputs": [
    {
     "data": {
      "text/html": [
       "\n",
       "<style>\n",
       ".container {\n",
       "    width: 100%;\n",
       "}\n",
       "</style>\n"
      ],
      "text/plain": [
       "<IPython.core.display.HTML object>"
      ]
     },
     "execution_count": 1,
     "metadata": {},
     "output_type": "execute_result"
    }
   ],
   "source": [
    "from IPython.core.display import HTML\n",
    "HTML(\"\"\"\n",
    "<style>\n",
    ".container {\n",
    "    width: 100%;\n",
    "}\n",
    "</style>\n",
    "\"\"\")"
   ]
  },
  {
   "cell_type": "code",
   "execution_count": 2,
   "metadata": {
    "ExecuteTime": {
     "end_time": "2016-03-15T04:58:59.083142",
     "start_time": "2016-03-15T04:58:56.970602"
    },
    "collapsed": false
   },
   "outputs": [
    {
     "name": "stderr",
     "output_type": "stream",
     "text": [
      "2016-03-15 04:58:58,920 [INFO] graphlab.cython.cy_server, 176: GraphLab Create v1.8.4 started. Logging: /tmp/graphlab_server_1458017937.log\n"
     ]
    },
    {
     "name": "stdout",
     "output_type": "stream",
     "text": [
      "This non-commercial license of GraphLab Create is assigned to kevin.mcisaac@gmail.com and will expire on November 06, 2016. For commercial licensing options, visit https://dato.com/buy/.\n"
     ]
    }
   ],
   "source": [
    "import graphlab as gl\n",
    "gl.canvas.set_target('ipynb')\n",
    "import tools \n",
    "import initialise"
   ]
  },
  {
   "cell_type": "code",
   "execution_count": 3,
   "metadata": {
    "ExecuteTime": {
     "end_time": "2016-03-15T04:59:01.311414",
     "start_time": "2016-03-15T04:58:59.084330"
    },
    "collapsed": false
   },
   "outputs": [
    {
     "name": "stdout",
     "output_type": "stream",
     "text": [
      "Loading saved processed data\n",
      "284  features in total\n"
     ]
    }
   ],
   "source": [
    "train_data, test_data = initialise.load_data(reload_data=False)\n",
    "folds = gl.cross_validation.KFold(train_data, 5)"
   ]
  },
  {
   "cell_type": "code",
   "execution_count": 4,
   "metadata": {
    "ExecuteTime": {
     "end_time": "2016-03-15T04:59:01.315045",
     "start_time": "2016-03-15T04:59:01.312457"
    },
    "code_folding": [],
    "collapsed": false
   },
   "outputs": [],
   "source": [
    "params = {'target':'TARGET', 'random_seed':8923,\n",
    "          'class_weights':'auto','metric':'auc',\n",
    "          'early_stopping_rounds':20, 'max_iterations':500,\n",
    "          'step_size': 0.1,\n",
    "          'max_depth': 5,\n",
    "          'column_subsample': 0.6}"
   ]
  },
  {
   "cell_type": "code",
   "execution_count": 5,
   "metadata": {
    "ExecuteTime": {
     "end_time": "2016-03-15T04:59:54.243578",
     "start_time": "2016-03-15T04:59:01.315887"
    },
    "collapsed": false
   },
   "outputs": [
    {
     "name": "stderr",
     "output_type": "stream",
     "text": [
      "2016-03-15 04:59:01,318 [INFO] graphlab.deploy.job, 22: Validating job.\n",
      "2016-03-15 04:59:01,326 [INFO] graphlab.deploy.job, 36: Creating a LocalAsync environment called 'async'.\n",
      "2016-03-15 04:59:01,332 [INFO] graphlab.deploy.map_job, 186: Validation complete. Job: 'Model-Parameter-Search-Mar-15-2016-04-59-0100000' ready for execution\n",
      "2016-03-15 04:59:01,446 [INFO] graphlab.deploy.map_job, 192: Job: 'Model-Parameter-Search-Mar-15-2016-04-59-0100000' scheduled.\n",
      "2016-03-15 04:59:13,605 [INFO] graphlab.deploy.job, 22: Validating job.\n",
      "2016-03-15 04:59:13,609 [INFO] graphlab.deploy.map_job, 220: A job with name 'Model-Parameter-Search-Mar-15-2016-04-59-0100000' already exists. Renaming the job to 'Model-Parameter-Search-Mar-15-2016-04-59-0100000-17353'.\n",
      "2016-03-15 04:59:13,614 [INFO] graphlab.deploy.map_job, 186: Validation complete. Job: 'Model-Parameter-Search-Mar-15-2016-04-59-0100000-17353' ready for execution\n",
      "2016-03-15 04:59:13,726 [INFO] graphlab.deploy.map_job, 192: Job: 'Model-Parameter-Search-Mar-15-2016-04-59-0100000-17353' scheduled.\n"
     ]
    },
    {
     "data": {
      "text/html": [
       "<div style=\"max-height:1000px;max-width:1500px;overflow:auto;\"><table frame=\"box\" rules=\"cols\">\n",
       "    <tr>\n",
       "        <th style=\"padding-left: 1em; padding-right: 1em; text-align: center\">class_weights</th>\n",
       "        <th style=\"padding-left: 1em; padding-right: 1em; text-align: center\">column_subsample</th>\n",
       "        <th style=\"padding-left: 1em; padding-right: 1em; text-align: center\">early_stopping_rounds</th>\n",
       "        <th style=\"padding-left: 1em; padding-right: 1em; text-align: center\">max_depth</th>\n",
       "        <th style=\"padding-left: 1em; padding-right: 1em; text-align: center\">max_iterations</th>\n",
       "        <th style=\"padding-left: 1em; padding-right: 1em; text-align: center\">metric</th>\n",
       "        <th style=\"padding-left: 1em; padding-right: 1em; text-align: center\">random_seed</th>\n",
       "        <th style=\"padding-left: 1em; padding-right: 1em; text-align: center\">step_size</th>\n",
       "    </tr>\n",
       "    <tr>\n",
       "        <td style=\"padding-left: 1em; padding-right: 1em; text-align: center; vertical-align: top\">auto</td>\n",
       "        <td style=\"padding-left: 1em; padding-right: 1em; text-align: center; vertical-align: top\">0.6</td>\n",
       "        <td style=\"padding-left: 1em; padding-right: 1em; text-align: center; vertical-align: top\">20</td>\n",
       "        <td style=\"padding-left: 1em; padding-right: 1em; text-align: center; vertical-align: top\">5</td>\n",
       "        <td style=\"padding-left: 1em; padding-right: 1em; text-align: center; vertical-align: top\">500</td>\n",
       "        <td style=\"padding-left: 1em; padding-right: 1em; text-align: center; vertical-align: top\">auc</td>\n",
       "        <td style=\"padding-left: 1em; padding-right: 1em; text-align: center; vertical-align: top\">8923</td>\n",
       "        <td style=\"padding-left: 1em; padding-right: 1em; text-align: center; vertical-align: top\">0.1</td>\n",
       "    </tr>\n",
       "</table>\n",
       "<table frame=\"box\" rules=\"cols\">\n",
       "    <tr>\n",
       "        <th style=\"padding-left: 1em; padding-right: 1em; text-align: center\">target</th>\n",
       "        <th style=\"padding-left: 1em; padding-right: 1em; text-align: center\">num_folds</th>\n",
       "        <th style=\"padding-left: 1em; padding-right: 1em; text-align: center\">fold_id</th>\n",
       "        <th style=\"padding-left: 1em; padding-right: 1em; text-align: center\">mean_training_accuracy</th>\n",
       "        <th style=\"padding-left: 1em; padding-right: 1em; text-align: center\">mean_validation_accuracy</th>\n",
       "        <th style=\"padding-left: 1em; padding-right: 1em; text-align: center\">model_id</th>\n",
       "    </tr>\n",
       "    <tr>\n",
       "        <td style=\"padding-left: 1em; padding-right: 1em; text-align: center; vertical-align: top\">TARGET</td>\n",
       "        <td style=\"padding-left: 1em; padding-right: 1em; text-align: center; vertical-align: top\">5</td>\n",
       "        <td style=\"padding-left: 1em; padding-right: 1em; text-align: center; vertical-align: top\">[3, 1, 4, 0, 2]</td>\n",
       "        <td style=\"padding-left: 1em; padding-right: 1em; text-align: center; vertical-align: top\">0.791436464088</td>\n",
       "        <td style=\"padding-left: 1em; padding-right: 1em; text-align: center; vertical-align: top\">0.78608260984</td>\n",
       "        <td style=\"padding-left: 1em; padding-right: 1em; text-align: center; vertical-align: top\">[3, 1, 4, 0, 2]</td>\n",
       "    </tr>\n",
       "</table>\n",
       "[1 rows x 14 columns]<br/>\n",
       "</div>"
      ],
      "text/plain": [
       "Columns:\n",
       "\tclass_weights\tstr\n",
       "\tcolumn_subsample\tfloat\n",
       "\tearly_stopping_rounds\tint\n",
       "\tmax_depth\tint\n",
       "\tmax_iterations\tint\n",
       "\tmetric\tstr\n",
       "\trandom_seed\tint\n",
       "\tstep_size\tfloat\n",
       "\ttarget\tstr\n",
       "\tnum_folds\tint\n",
       "\tfold_id\tlist\n",
       "\tmean_training_accuracy\tfloat\n",
       "\tmean_validation_accuracy\tfloat\n",
       "\tmodel_id\tlist\n",
       "\n",
       "Rows: 1\n",
       "\n",
       "Data:\n",
       "+---------------+------------------+-----------------------+-----------+----------------+\n",
       "| class_weights | column_subsample | early_stopping_rounds | max_depth | max_iterations |\n",
       "+---------------+------------------+-----------------------+-----------+----------------+\n",
       "|      auto     |       0.6        |           20          |     5     |      500       |\n",
       "+---------------+------------------+-----------------------+-----------+----------------+\n",
       "+--------+-------------+-----------+--------+-----------+-----------------+\n",
       "| metric | random_seed | step_size | target | num_folds |     fold_id     |\n",
       "+--------+-------------+-----------+--------+-----------+-----------------+\n",
       "|  auc   |     8923    |    0.1    | TARGET |     5     | [3, 1, 4, 0, 2] |\n",
       "+--------+-------------+-----------+--------+-----------+-----------------+\n",
       "+------------------------+--------------------------+-----------------+\n",
       "| mean_training_accuracy | mean_validation_accuracy |     model_id    |\n",
       "+------------------------+--------------------------+-----------------+\n",
       "|     0.791436464088     |      0.78608260984       | [3, 1, 4, 0, 2] |\n",
       "+------------------------+--------------------------+-----------------+\n",
       "[1 rows x 14 columns]"
      ]
     },
     "execution_count": 5,
     "metadata": {},
     "output_type": "execute_result"
    }
   ],
   "source": [
    "job = gl.grid_search.create(folds,gl.boosted_trees_classifier.create,\n",
    "                             params)\n",
    "results = job.get_results().sort('mean_validation_accuracy', ascending=False)\n",
    "results"
   ]
  },
  {
   "cell_type": "code",
   "execution_count": 6,
   "metadata": {
    "ExecuteTime": {
     "end_time": "2016-03-15T04:59:54.247015",
     "start_time": "2016-03-15T04:59:54.244577"
    },
    "collapsed": true
   },
   "outputs": [],
   "source": [
    "params = {'target':'TARGET', 'random_seed':8923,\n",
    "          'class_weights':'auto','metric':'auc',\n",
    "          'early_stopping_rounds':20, 'max_iterations':500,\n",
    "          'step_size': 0.1,\n",
    "          'max_depth': 5,\n",
    "          'column_subsample': 0.6}"
   ]
  },
  {
   "cell_type": "code",
   "execution_count": 7,
   "metadata": {
    "ExecuteTime": {
     "end_time": "2016-03-15T05:00:42.690778",
     "start_time": "2016-03-15T04:59:54.247857"
    },
    "collapsed": false
   },
   "outputs": [
    {
     "name": "stdout",
     "output_type": "stream",
     "text": [
      "0.832100155689\n",
      "0.825703819715\n",
      "0.839134865427\n",
      "0.850255989308\n",
      "0.835867180468\n",
      "Average: 0.836612402121\n"
     ]
    }
   ],
   "source": [
    "auc = 0\n",
    "for train, validate in folds:\n",
    "    model = gl.boosted_trees_classifier.create(train, validation=validate, verbose=False, **params)\n",
    "    auc += model.evaluate(validate, metric='auc')['auc']\n",
    "    print model.evaluate(validate, metric='auc')['auc']\n",
    "    \n",
    "print \"Average:\", auc/5.0"
   ]
  }
 ],
 "metadata": {
  "kernelspec": {
   "display_name": "Python 2",
   "language": "python",
   "name": "python2"
  },
  "language_info": {
   "codemirror_mode": {
    "name": "ipython",
    "version": 2
   },
   "file_extension": ".py",
   "mimetype": "text/x-python",
   "name": "python",
   "nbconvert_exporter": "python",
   "pygments_lexer": "ipython2",
   "version": "2.7.11"
  },
  "toc": {
   "toc_cell": false,
   "toc_number_sections": false,
   "toc_threshold": "2",
   "toc_window_display": true
  }
 },
 "nbformat": 4,
 "nbformat_minor": 0
}
