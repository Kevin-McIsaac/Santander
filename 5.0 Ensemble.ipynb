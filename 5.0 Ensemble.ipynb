{
 "cells": [
  {
   "cell_type": "markdown",
   "metadata": {},
   "source": [
    "## Initialise"
   ]
  },
  {
   "cell_type": "code",
<<<<<<< HEAD
   "execution_count": 1,
   "metadata": {
    "ExecuteTime": {
     "end_time": "2016-03-20T20:33:35.397885",
     "start_time": "2016-03-20T20:33:35.388849"
=======
   "execution_count": 151,
   "metadata": {
    "ExecuteTime": {
     "end_time": "2016-03-20T03:31:14.126048",
     "start_time": "2016-03-20T03:31:14.121664"
>>>>>>> e83941829d12b0e0062206a0e81a0eac4d9e9c26
    },
    "code_folding": [
     3
    ],
    "collapsed": false,
    "init_cell": true
   },
   "outputs": [
    {
     "data": {
      "text/html": [
       "\n",
       "<style>\n",
       ".container {\n",
       "    width: 100%;\n",
       "}\n",
       "</style>\n"
      ],
      "text/plain": [
       "<IPython.core.display.HTML object>"
      ]
     },
<<<<<<< HEAD
     "execution_count": 1,
=======
     "execution_count": 151,
>>>>>>> e83941829d12b0e0062206a0e81a0eac4d9e9c26
     "metadata": {},
     "output_type": "execute_result"
    }
   ],
   "source": [
    "from IPython.core.display import HTML\n",
    "HTML(\"\"\"\n",
    "<style>\n",
    ".container {\n",
    "    width: 100%;\n",
    "}\n",
    "</style>\n",
    "\"\"\")"
   ]
  },
  {
   "cell_type": "code",
<<<<<<< HEAD
   "execution_count": 87,
   "metadata": {
    "ExecuteTime": {
     "end_time": "2016-03-20T21:37:35.094099",
     "start_time": "2016-03-20T21:37:35.082086"
=======
   "execution_count": 152,
   "metadata": {
    "ExecuteTime": {
     "end_time": "2016-03-20T03:31:14.137536",
     "start_time": "2016-03-20T03:31:14.128061"
>>>>>>> e83941829d12b0e0062206a0e81a0eac4d9e9c26
    },
    "collapsed": false,
    "init_cell": true
   },
   "outputs": [],
   "source": [
    "import graphlab as gl\n",
    "gl.canvas.set_target('ipynb')\n",
    "import tools \n",
<<<<<<< HEAD
    "import initialise\n",
    "import ensemble as en\n",
    "%matplotlib inline"
=======
    "import initialise"
>>>>>>> e83941829d12b0e0062206a0e81a0eac4d9e9c26
   ]
  },
  {
   "cell_type": "code",
<<<<<<< HEAD
   "execution_count": null,
=======
   "execution_count": 29,
>>>>>>> e83941829d12b0e0062206a0e81a0eac4d9e9c26
   "metadata": {
    "ExecuteTime": {
     "end_time": "2016-03-20T01:15:39.736071",
     "start_time": "2016-03-20T01:15:39.732996"
    },
    "collapsed": true
   },
   "outputs": [],
   "source": [
    "def model_cv(data):\n",
    "    \n",
    "    return [gl.boosted_trees_classifier.create(train, validation_set=validate, **params) for \n",
    "                train, validate in gl.cross_validation.KFold(data, 5)]\n"
   ]
  },
  {
   "cell_type": "code",
<<<<<<< HEAD
   "execution_count": 19,
   "metadata": {
    "ExecuteTime": {
     "end_time": "2016-03-20T20:39:41.373473",
     "start_time": "2016-03-20T20:39:40.560391"
=======
   "execution_count": 4,
   "metadata": {
    "ExecuteTime": {
     "end_time": "2016-03-20T00:59:33.889023",
     "start_time": "2016-03-20T00:59:33.869795"
>>>>>>> e83941829d12b0e0062206a0e81a0eac4d9e9c26
    },
    "collapsed": false
   },
   "outputs": [
    {
     "name": "stdout",
     "output_type": "stream",
     "text": [
      "Loading saved processed data\n",
      "284  features in total\n"
     ]
    }
   ],
   "source": [
    "train_data, test_data = initialise.load_data(reload_data=False)"
   ]
  },
  {
   "cell_type": "code",
<<<<<<< HEAD
   "execution_count": null,
=======
   "execution_count": 30,
>>>>>>> e83941829d12b0e0062206a0e81a0eac4d9e9c26
   "metadata": {
    "ExecuteTime": {
     "end_time": "2016-03-20T01:16:27.882488",
     "start_time": "2016-03-20T01:15:41.836549"
    },
    "collapsed": true
   },
<<<<<<< HEAD
   "outputs": [],
=======
   "outputs": [
    {
     "data": {
      "text/plain": [
       "[Class                         : BoostedTreesClassifier\n",
       " \n",
       " Schema\n",
       " ------\n",
       " Number of examples            : 60816\n",
       " Number of feature columns     : 284\n",
       " Number of unpacked features   : 284\n",
       " Number of classes             : 2\n",
       " \n",
       " Settings\n",
       " --------\n",
       " Number of trees               : 32\n",
       " Max tree depth                : 5\n",
       " Training time (sec)           : 6.5229\n",
       " Training auc                  : 0.8713\n",
       " Validation auc                : 0.8332,\n",
       " Class                         : BoostedTreesClassifier\n",
       " \n",
       " Schema\n",
       " ------\n",
       " Number of examples            : 60816\n",
       " Number of feature columns     : 284\n",
       " Number of unpacked features   : 284\n",
       " Number of classes             : 2\n",
       " \n",
       " Settings\n",
       " --------\n",
       " Number of trees               : 31\n",
       " Max tree depth                : 5\n",
       " Training time (sec)           : 6.3239\n",
       " Training auc                  : 0.8715\n",
       " Validation auc                : 0.8272,\n",
       " Class                         : BoostedTreesClassifier\n",
       " \n",
       " Schema\n",
       " ------\n",
       " Number of examples            : 60816\n",
       " Number of feature columns     : 284\n",
       " Number of unpacked features   : 284\n",
       " Number of classes             : 2\n",
       " \n",
       " Settings\n",
       " --------\n",
       " Number of trees               : 35\n",
       " Max tree depth                : 5\n",
       " Training time (sec)           : 6.9709\n",
       " Training auc                  : 0.8702\n",
       " Validation auc                : 0.8429,\n",
       " Class                         : BoostedTreesClassifier\n",
       " \n",
       " Schema\n",
       " ------\n",
       " Number of examples            : 60816\n",
       " Number of feature columns     : 284\n",
       " Number of unpacked features   : 284\n",
       " Number of classes             : 2\n",
       " \n",
       " Settings\n",
       " --------\n",
       " Number of trees               : 29\n",
       " Max tree depth                : 5\n",
       " Training time (sec)           : 6.0712\n",
       " Training auc                  : 0.8648\n",
       " Validation auc                : 0.8514,\n",
       " Class                         : BoostedTreesClassifier\n",
       " \n",
       " Schema\n",
       " ------\n",
       " Number of examples            : 60816\n",
       " Number of feature columns     : 284\n",
       " Number of unpacked features   : 284\n",
       " Number of classes             : 2\n",
       " \n",
       " Settings\n",
       " --------\n",
       " Number of trees               : 31\n",
       " Max tree depth                : 5\n",
       " Training time (sec)           : 6.3348\n",
       " Training auc                  : 0.8689\n",
       " Validation auc                : 0.8371]"
      ]
     },
     "execution_count": 30,
     "metadata": {},
     "output_type": "execute_result"
    }
   ],
>>>>>>> e83941829d12b0e0062206a0e81a0eac4d9e9c26
   "source": [
    "params = {'target':'TARGET', 'random_seed':8923, 'verbose':False,\n",
    "          'class_weights':'auto','metric':'auc',\n",
    "          'early_stopping_rounds':10, 'max_iterations':500,\n",
    "          'step_size': 0.1,\n",
    "          'max_depth': 5,\n",
    "          'column_subsample': 0.6,\n",
    "          'row_subsample': 0.95}\n",
    "\n",
    "m_list = model_cv(train_data)\n",
    "m_list"
   ]
  },
  {
   "cell_type": "code",
<<<<<<< HEAD
   "execution_count": null,
=======
   "execution_count": 507,
>>>>>>> e83941829d12b0e0062206a0e81a0eac4d9e9c26
   "metadata": {
    "ExecuteTime": {
     "end_time": "2016-03-20T07:12:16.752834",
     "start_time": "2016-03-20T07:12:16.748094"
    },
    "collapsed": false
   },
   "outputs": [],
   "source": [
    "import ensemble as en\n",
    "m = en.Ensemble(m_list)"
   ]
  },
  {
   "cell_type": "markdown",
   "metadata": {},
   "source": [
    "## Testing basic ensemble module"
   ]
  },
  {
   "cell_type": "code",
<<<<<<< HEAD
   "execution_count": null,
=======
   "execution_count": 521,
>>>>>>> e83941829d12b0e0062206a0e81a0eac4d9e9c26
   "metadata": {
    "ExecuteTime": {
     "end_time": "2016-03-20T07:22:44.197089",
     "start_time": "2016-03-20T07:22:44.123093"
    },
    "collapsed": false
   },
<<<<<<< HEAD
   "outputs": [],
   "source": [
    "m.predict(test_data[0:10], output_type = 'probability')"
   ]
  },
  {
   "cell_type": "code",
   "execution_count": null,
   "metadata": {
    "ExecuteTime": {
     "end_time": "2016-03-20T07:22:53.936981",
     "start_time": "2016-03-20T07:22:53.861883"
    },
    "collapsed": false,
    "scrolled": false
   },
   "outputs": [],
   "source": [
    "m.predict(test_data[0:10], output_type = 'class')"
   ]
  },
  {
   "cell_type": "code",
   "execution_count": null,
   "metadata": {
    "ExecuteTime": {
     "end_time": "2016-03-20T07:25:10.087136",
     "start_time": "2016-03-20T07:25:09.557433"
    },
    "collapsed": false
   },
   "outputs": [],
   "source": [
    "m.save('Models/ensemble_5fold')\n",
    "mm =  en.load_model('Models/ensemble_5fold')\n",
    "mm.predict(test_data[0:10], output_type = 'class')"
   ]
  },
  {
   "cell_type": "code",
   "execution_count": null,
   "metadata": {
    "ExecuteTime": {
     "end_time": "2016-03-20T07:23:29.529505",
     "start_time": "2016-03-20T07:23:23.003534"
    },
    "collapsed": false
   },
   "outputs": [],
   "source": [
    "m = en.Ensemble(m_list)\n",
    "mm.evaluate(train_data, metric='auc')"
   ]
  },
  {
   "cell_type": "code",
   "execution_count": null,
   "metadata": {
    "collapsed": true
   },
   "outputs": [],
   "source": [
    "import ensemble as en"
   ]
  },
  {
   "cell_type": "code",
   "execution_count": 80,
   "metadata": {
    "ExecuteTime": {
     "end_time": "2016-03-20T21:35:25.679893",
     "start_time": "2016-03-20T21:35:25.549391"
    },
    "collapsed": false
   },
   "outputs": [],
   "source": [
    "reload(en)\n",
    "model =  en.load_model('Models/ensemble_5fold')"
   ]
  },
  {
   "cell_type": "code",
   "execution_count": 81,
   "metadata": {
    "ExecuteTime": {
     "end_time": "2016-03-20T21:35:27.555607",
     "start_time": "2016-03-20T21:35:27.550786"
    },
    "collapsed": false
   },
   "outputs": [
    {
     "data": {
      "text/plain": [
       "<ensemble.Ensemble instance at 0x7f4d202f2a70>"
      ]
     },
     "execution_count": 81,
     "metadata": {},
     "output_type": "execute_result"
    }
   ],
   "source": [
    "model"
   ]
  },
  {
   "cell_type": "code",
   "execution_count": 82,
   "metadata": {
    "ExecuteTime": {
     "end_time": "2016-03-20T21:35:28.553625",
     "start_time": "2016-03-20T21:35:28.549874"
    },
    "collapsed": false
   },
   "outputs": [
    {
     "name": "stdout",
     "output_type": "stream",
     "text": [
      "{'vote_fn': u'vote', 'weights': [0.2, 0.2, 0.2, 0.2, 0.2]}\n",
      "['boosted_trees_classifier', 'boosted_trees_classifier', 'boosted_trees_classifier', 'boosted_trees_classifier', 'boosted_trees_classifier']\n"
     ]
    }
   ],
   "source": [
    "print model"
   ]
  },
  {
   "cell_type": "code",
   "execution_count": 83,
   "metadata": {
    "ExecuteTime": {
     "end_time": "2016-03-20T21:35:37.118457",
     "start_time": "2016-03-20T21:35:29.989348"
    },
    "collapsed": false
   },
=======
>>>>>>> e83941829d12b0e0062206a0e81a0eac4d9e9c26
   "outputs": [
    {
     "data": {
      "text/plain": [
<<<<<<< HEAD
       "{'auc': 0.8655960176795484}"
      ]
     },
     "execution_count": 83,
=======
       "dtype: float\n",
       "Rows: 10\n",
       "[0.4538480281829835, 0.3836626470088959, 0.9368736863136292, 0.7336451053619385, 0.922076463699341, 0.16256090700626372, 0.5547891736030579, 0.1972264736890793, 0.5734805941581727, 0.6654268145561218]"
      ]
     },
     "execution_count": 521,
>>>>>>> e83941829d12b0e0062206a0e81a0eac4d9e9c26
     "metadata": {},
     "output_type": "execute_result"
    }
   ],
   "source": [
<<<<<<< HEAD
    "model.evaluate(train_data, metric='auc')"
=======
    "m.predict(test_data[0:10], output_type = 'probability')"
>>>>>>> e83941829d12b0e0062206a0e81a0eac4d9e9c26
   ]
  },
  {
   "cell_type": "code",
<<<<<<< HEAD
   "execution_count": 84,
   "metadata": {
    "ExecuteTime": {
     "end_time": "2016-03-20T21:35:37.128035",
     "start_time": "2016-03-20T21:35:37.119380"
    },
    "collapsed": false
=======
   "execution_count": 522,
   "metadata": {
    "ExecuteTime": {
     "end_time": "2016-03-20T07:22:53.936981",
     "start_time": "2016-03-20T07:22:53.861883"
    },
    "collapsed": false,
    "scrolled": false
>>>>>>> e83941829d12b0e0062206a0e81a0eac4d9e9c26
   },
   "outputs": [
    {
     "data": {
      "text/plain": [
<<<<<<< HEAD
       "0.8383521556854248"
      ]
     },
     "execution_count": 84,
=======
       "dtype: str\n",
       "Rows: 10\n",
       "['Satisified', 'Satisified', 'Unsatisified', 'Unsatisified', 'Unsatisified', 'Satisified', 'Unsatisified', 'Satisified', 'Unsatisified', 'Unsatisified']"
      ]
     },
     "execution_count": 522,
>>>>>>> e83941829d12b0e0062206a0e81a0eac4d9e9c26
     "metadata": {},
     "output_type": "execute_result"
    }
   ],
   "source": [
<<<<<<< HEAD
    "sum(m.validation_auc for m in model.lst)/len(model.lst)"
=======
    "m.predict(test_data[0:10], output_type = 'class')"
>>>>>>> e83941829d12b0e0062206a0e81a0eac4d9e9c26
   ]
  },
  {
   "cell_type": "code",
<<<<<<< HEAD
   "execution_count": 85,
   "metadata": {
    "ExecuteTime": {
     "end_time": "2016-03-20T21:35:45.570776",
     "start_time": "2016-03-20T21:35:45.559582"
=======
   "execution_count": 526,
   "metadata": {
    "ExecuteTime": {
     "end_time": "2016-03-20T07:25:10.087136",
     "start_time": "2016-03-20T07:25:09.557433"
>>>>>>> e83941829d12b0e0062206a0e81a0eac4d9e9c26
    },
    "collapsed": false
   },
   "outputs": [
    {
     "data": {
      "text/plain": [
<<<<<<< HEAD
       "0.8693435907363891"
      ]
     },
     "execution_count": 85,
=======
       "dtype: str\n",
       "Rows: 10\n",
       "['Satisified', 'Satisified', 'Unsatisified', 'Unsatisified', 'Unsatisified', 'Satisified', 'Unsatisified', 'Satisified', 'Unsatisified', 'Unsatisified']"
      ]
     },
     "execution_count": 526,
>>>>>>> e83941829d12b0e0062206a0e81a0eac4d9e9c26
     "metadata": {},
     "output_type": "execute_result"
    }
   ],
   "source": [
<<<<<<< HEAD
    "sum(m.training_auc for m in model.lst)/len(model.lst)"
   ]
  },
  {
   "cell_type": "code",
   "execution_count": 78,
   "metadata": {
    "ExecuteTime": {
     "end_time": "2016-03-20T21:34:31.375964",
     "start_time": "2016-03-20T21:34:29.158016"
    },
    "collapsed": false
   },
   "outputs": [
    {
     "name": "stdout",
     "output_type": "stream",
     "text": [
      "accuracy 0.76\n",
      "confusion_matrix +--------------+-----------------+-------+\n",
      "| target_label | predicted_label | count |\n",
      "+--------------+-----------------+-------+\n",
      "| Unsatisified |   Unsatisified  |   75  |\n",
      "| Unsatisified |    Satisified   |   23  |\n",
      "|  Satisified  |    Satisified   |   1   |\n",
      "|  Satisified  |   Unsatisified  |   1   |\n",
      "+--------------+-----------------+-------+\n",
      "[4 rows x 3 columns]\n",
      "\n",
      "f1_score 0.862068965517\n",
      "fbeta_score 0.862068965517\n",
      "precision 0.986842105263\n",
      "recall 0.765306122449\n",
      "log_loss 0.505983388201\n",
      "roc_curve +-----------+-----+-----+----+---+\n",
      "| threshold | fpr | tpr | p  | n |\n",
      "+-----------+-----+-----+----+---+\n",
      "|    0.0    | 1.0 | 1.0 | 98 | 2 |\n",
      "|   1e-05   | 1.0 | 1.0 | 98 | 2 |\n",
      "|   2e-05   | 1.0 | 1.0 | 98 | 2 |\n",
      "|   3e-05   | 1.0 | 1.0 | 98 | 2 |\n",
      "|   4e-05   | 1.0 | 1.0 | 98 | 2 |\n",
      "|   5e-05   | 1.0 | 1.0 | 98 | 2 |\n",
      "|   6e-05   | 1.0 | 1.0 | 98 | 2 |\n",
      "|   7e-05   | 1.0 | 1.0 | 98 | 2 |\n",
      "|   8e-05   | 1.0 | 1.0 | 98 | 2 |\n",
      "|   9e-05   | 1.0 | 1.0 | 98 | 2 |\n",
      "+-----------+-----+-----+----+---+\n",
      "[100001 rows x 5 columns]\n",
      "Note: Only the head of the SFrame is printed.\n",
      "You can use print_rows(num_rows=m, num_columns=n) to print more rows and columns.\n",
      "auc 0.862244897959\n"
     ]
    }
   ],
   "source": [
    "model =  en.load_model('Models/ensemble_5fold')\n",
    "for metric in ['accuracy', 'confusion_matrix', 'f1_score', 'fbeta_score', \n",
    "               'precision', 'recall', 'log_loss','roc_curve', 'auc']:\n",
    "    print metric, model.evaluate(train_data[0:100], metric=metric)"
   ]
  },
  {
   "cell_type": "code",
   "execution_count": 91,
   "metadata": {
    "ExecuteTime": {
     "end_time": "2016-03-20T21:45:07.635568",
     "start_time": "2016-03-20T21:45:00.563043"
    },
    "collapsed": false
   },
   "outputs": [
    {
     "data": {
      "image/png": "iVBORw0KGgoAAAANSUhEUgAAAXkAAAESCAYAAAAYMKWkAAAABHNCSVQICAgIfAhkiAAAAAlwSFlz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\n",
      "text/plain": [
       "<matplotlib.figure.Figure at 0x7f4d20316950>"
      ]
     },
     "metadata": {},
     "output_type": "display_data"
    }
   ],
   "source": [
    "reload(tools)\n",
    "tools.plot_roc(model, train_data);"
=======
    "m.save('Models/ensemble_5fold')\n",
    "mm =  en.load_model('Models/ensemble_5fold')\n",
    "mm.predict(test_data[0:10], output_type = 'class')"
>>>>>>> e83941829d12b0e0062206a0e81a0eac4d9e9c26
   ]
  },
  {
   "cell_type": "code",
<<<<<<< HEAD
   "execution_count": 89,
   "metadata": {
    "ExecuteTime": {
     "end_time": "2016-03-20T21:39:41.564102",
     "start_time": "2016-03-20T21:39:41.557232"
=======
   "execution_count": 525,
   "metadata": {
    "ExecuteTime": {
     "end_time": "2016-03-20T07:23:29.529505",
     "start_time": "2016-03-20T07:23:23.003534"
>>>>>>> e83941829d12b0e0062206a0e81a0eac4d9e9c26
    },
    "collapsed": false
   },
   "outputs": [
    {
     "data": {
      "text/plain": [
<<<<<<< HEAD
       "'auc'"
      ]
     },
     "execution_count": 89,
=======
       "0.8655960176795484"
      ]
     },
     "execution_count": 525,
>>>>>>> e83941829d12b0e0062206a0e81a0eac4d9e9c26
     "metadata": {},
     "output_type": "execute_result"
    }
   ],
   "source": [
<<<<<<< HEAD
    "model.lst[0]['metric']"
   ]
  },
  {
   "cell_type": "code",
   "execution_count": 92,
   "metadata": {
    "ExecuteTime": {
     "end_time": "2016-03-20T21:46:38.004741",
     "start_time": "2016-03-20T21:46:28.961978"
    },
    "collapsed": true
   },
   "outputs": [],
   "source": [
    "tools.make_submission(model, test_data, \"ensemble_5fold\")"
=======
    "m = en.Ensemble(m_list)\n",
    "mm.evaluate(train_data, metric='auc')"
>>>>>>> e83941829d12b0e0062206a0e81a0eac4d9e9c26
   ]
  },
  {
   "cell_type": "code",
   "execution_count": null,
   "metadata": {
    "collapsed": true
   },
   "outputs": [],
   "source": []
  }
 ],
 "metadata": {
  "celltoolbar": "Initialisation Cell",
  "kernelspec": {
   "display_name": "Python 2",
   "language": "python",
   "name": "python2"
  },
  "language_info": {
   "codemirror_mode": {
    "name": "ipython",
    "version": 2
   },
   "file_extension": ".py",
   "mimetype": "text/x-python",
   "name": "python",
   "nbconvert_exporter": "python",
   "pygments_lexer": "ipython2",
   "version": "2.7.11"
  },
  "toc": {
   "toc_cell": false,
   "toc_number_sections": false,
   "toc_threshold": "2",
   "toc_window_display": true
  }
 },
 "nbformat": 4,
 "nbformat_minor": 0
}
