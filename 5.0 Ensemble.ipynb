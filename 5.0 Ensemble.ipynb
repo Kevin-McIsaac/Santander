{
 "cells": [
  {
   "cell_type": "markdown",
   "metadata": {},
   "source": [
    "## Initialise"
   ]
  },
  {
   "cell_type": "code",
   "execution_count": 151,
   "metadata": {
    "ExecuteTime": {
     "end_time": "2016-03-20T03:31:14.126048",
     "start_time": "2016-03-20T03:31:14.121664"
    },
    "code_folding": [
     3
    ],
    "collapsed": false,
    "init_cell": true
   },
   "outputs": [
    {
     "data": {
      "text/html": [
       "\n",
       "<style>\n",
       ".container {\n",
       "    width: 100%;\n",
       "}\n",
       "</style>\n"
      ],
      "text/plain": [
       "<IPython.core.display.HTML object>"
      ]
     },
     "execution_count": 151,
     "metadata": {},
     "output_type": "execute_result"
    }
   ],
   "source": [
    "from IPython.core.display import HTML\n",
    "HTML(\"\"\"\n",
    "<style>\n",
    ".container {\n",
    "    width: 100%;\n",
    "}\n",
    "</style>\n",
    "\"\"\")"
   ]
  },
  {
   "cell_type": "code",
   "execution_count": 152,
   "metadata": {
    "ExecuteTime": {
     "end_time": "2016-03-20T03:31:14.137536",
     "start_time": "2016-03-20T03:31:14.128061"
    },
    "collapsed": false,
    "init_cell": true
   },
   "outputs": [],
   "source": [
    "import graphlab as gl\n",
    "gl.canvas.set_target('ipynb')\n",
    "import tools \n",
    "import initialise"
   ]
  },
  {
   "cell_type": "code",
   "execution_count": 29,
   "metadata": {
    "ExecuteTime": {
     "end_time": "2016-03-20T01:15:39.736071",
     "start_time": "2016-03-20T01:15:39.732996"
    },
    "collapsed": true
   },
   "outputs": [],
   "source": [
    "def model_cv(data):\n",
    "    \n",
    "    return [gl.boosted_trees_classifier.create(train, validation_set=validate, **params) for \n",
    "                train, validate in gl.cross_validation.KFold(data, 5)]\n"
   ]
  },
  {
   "cell_type": "code",
   "execution_count": 4,
   "metadata": {
    "ExecuteTime": {
     "end_time": "2016-03-20T00:59:33.889023",
     "start_time": "2016-03-20T00:59:33.869795"
    },
    "collapsed": false
   },
   "outputs": [
    {
     "name": "stdout",
     "output_type": "stream",
     "text": [
      "Loading saved processed data\n",
      "284  features in total\n"
     ]
    }
   ],
   "source": [
    "train_data, test_data = initialise.load_data(reload_data=False)"
   ]
  },
  {
   "cell_type": "code",
   "execution_count": 30,
   "metadata": {
    "ExecuteTime": {
     "end_time": "2016-03-20T01:16:27.882488",
     "start_time": "2016-03-20T01:15:41.836549"
    },
    "collapsed": true
   },
   "outputs": [
    {
     "data": {
      "text/plain": [
       "[Class                         : BoostedTreesClassifier\n",
       " \n",
       " Schema\n",
       " ------\n",
       " Number of examples            : 60816\n",
       " Number of feature columns     : 284\n",
       " Number of unpacked features   : 284\n",
       " Number of classes             : 2\n",
       " \n",
       " Settings\n",
       " --------\n",
       " Number of trees               : 32\n",
       " Max tree depth                : 5\n",
       " Training time (sec)           : 6.5229\n",
       " Training auc                  : 0.8713\n",
       " Validation auc                : 0.8332,\n",
       " Class                         : BoostedTreesClassifier\n",
       " \n",
       " Schema\n",
       " ------\n",
       " Number of examples            : 60816\n",
       " Number of feature columns     : 284\n",
       " Number of unpacked features   : 284\n",
       " Number of classes             : 2\n",
       " \n",
       " Settings\n",
       " --------\n",
       " Number of trees               : 31\n",
       " Max tree depth                : 5\n",
       " Training time (sec)           : 6.3239\n",
       " Training auc                  : 0.8715\n",
       " Validation auc                : 0.8272,\n",
       " Class                         : BoostedTreesClassifier\n",
       " \n",
       " Schema\n",
       " ------\n",
       " Number of examples            : 60816\n",
       " Number of feature columns     : 284\n",
       " Number of unpacked features   : 284\n",
       " Number of classes             : 2\n",
       " \n",
       " Settings\n",
       " --------\n",
       " Number of trees               : 35\n",
       " Max tree depth                : 5\n",
       " Training time (sec)           : 6.9709\n",
       " Training auc                  : 0.8702\n",
       " Validation auc                : 0.8429,\n",
       " Class                         : BoostedTreesClassifier\n",
       " \n",
       " Schema\n",
       " ------\n",
       " Number of examples            : 60816\n",
       " Number of feature columns     : 284\n",
       " Number of unpacked features   : 284\n",
       " Number of classes             : 2\n",
       " \n",
       " Settings\n",
       " --------\n",
       " Number of trees               : 29\n",
       " Max tree depth                : 5\n",
       " Training time (sec)           : 6.0712\n",
       " Training auc                  : 0.8648\n",
       " Validation auc                : 0.8514,\n",
       " Class                         : BoostedTreesClassifier\n",
       " \n",
       " Schema\n",
       " ------\n",
       " Number of examples            : 60816\n",
       " Number of feature columns     : 284\n",
       " Number of unpacked features   : 284\n",
       " Number of classes             : 2\n",
       " \n",
       " Settings\n",
       " --------\n",
       " Number of trees               : 31\n",
       " Max tree depth                : 5\n",
       " Training time (sec)           : 6.3348\n",
       " Training auc                  : 0.8689\n",
       " Validation auc                : 0.8371]"
      ]
     },
     "execution_count": 30,
     "metadata": {},
     "output_type": "execute_result"
    }
   ],
   "source": [
    "params = {'target':'TARGET', 'random_seed':8923, 'verbose':False,\n",
    "          'class_weights':'auto','metric':'auc',\n",
    "          'early_stopping_rounds':10, 'max_iterations':500,\n",
    "          'step_size': 0.1,\n",
    "          'max_depth': 5,\n",
    "          'column_subsample': 0.6,\n",
    "          'row_subsample': 0.95}\n",
    "\n",
    "m_list = model_cv(train_data)\n",
    "m_list"
   ]
  },
  {
   "cell_type": "code",
   "execution_count": 507,
   "metadata": {
    "ExecuteTime": {
     "end_time": "2016-03-20T07:12:16.752834",
     "start_time": "2016-03-20T07:12:16.748094"
    },
    "collapsed": false
   },
   "outputs": [],
   "source": [
    "import ensemble as en\n",
    "m = en.Ensemble(m_list)"
   ]
  },
  {
   "cell_type": "markdown",
   "metadata": {},
   "source": [
    "## Testing basic ensemble module"
   ]
  },
  {
   "cell_type": "code",
   "execution_count": 521,
   "metadata": {
    "ExecuteTime": {
     "end_time": "2016-03-20T07:22:44.197089",
     "start_time": "2016-03-20T07:22:44.123093"
    },
    "collapsed": false
   },
   "outputs": [
    {
     "data": {
      "text/plain": [
       "dtype: float\n",
       "Rows: 10\n",
       "[0.4538480281829835, 0.3836626470088959, 0.9368736863136292, 0.7336451053619385, 0.922076463699341, 0.16256090700626372, 0.5547891736030579, 0.1972264736890793, 0.5734805941581727, 0.6654268145561218]"
      ]
     },
     "execution_count": 521,
     "metadata": {},
     "output_type": "execute_result"
    }
   ],
   "source": [
    "m.predict(test_data[0:10], output_type = 'probability')"
   ]
  },
  {
   "cell_type": "code",
   "execution_count": 522,
   "metadata": {
    "ExecuteTime": {
     "end_time": "2016-03-20T07:22:53.936981",
     "start_time": "2016-03-20T07:22:53.861883"
    },
    "collapsed": false,
    "scrolled": false
   },
   "outputs": [
    {
     "data": {
      "text/plain": [
       "dtype: str\n",
       "Rows: 10\n",
       "['Satisified', 'Satisified', 'Unsatisified', 'Unsatisified', 'Unsatisified', 'Satisified', 'Unsatisified', 'Satisified', 'Unsatisified', 'Unsatisified']"
      ]
     },
     "execution_count": 522,
     "metadata": {},
     "output_type": "execute_result"
    }
   ],
   "source": [
    "m.predict(test_data[0:10], output_type = 'class')"
   ]
  },
  {
   "cell_type": "code",
   "execution_count": 526,
   "metadata": {
    "ExecuteTime": {
     "end_time": "2016-03-20T07:25:10.087136",
     "start_time": "2016-03-20T07:25:09.557433"
    },
    "collapsed": false
   },
   "outputs": [
    {
     "data": {
      "text/plain": [
       "dtype: str\n",
       "Rows: 10\n",
       "['Satisified', 'Satisified', 'Unsatisified', 'Unsatisified', 'Unsatisified', 'Satisified', 'Unsatisified', 'Satisified', 'Unsatisified', 'Unsatisified']"
      ]
     },
     "execution_count": 526,
     "metadata": {},
     "output_type": "execute_result"
    }
   ],
   "source": [
    "m.save('Models/ensemble_5fold')\n",
    "mm =  en.load_model('Models/ensemble_5fold')\n",
    "mm.predict(test_data[0:10], output_type = 'class')"
   ]
  },
  {
   "cell_type": "code",
   "execution_count": 525,
   "metadata": {
    "ExecuteTime": {
     "end_time": "2016-03-20T07:23:29.529505",
     "start_time": "2016-03-20T07:23:23.003534"
    },
    "collapsed": false
   },
   "outputs": [
    {
     "data": {
      "text/plain": [
       "0.8655960176795484"
      ]
     },
     "execution_count": 525,
     "metadata": {},
     "output_type": "execute_result"
    }
   ],
   "source": [
    "m = en.Ensemble(m_list)\n",
    "mm.evaluate(train_data, metric='auc')"
   ]
  },
  {
   "cell_type": "code",
   "execution_count": null,
   "metadata": {
    "collapsed": true
   },
   "outputs": [],
   "source": []
  }
 ],
 "metadata": {
  "celltoolbar": "Initialisation Cell",
  "kernelspec": {
   "display_name": "Python 2",
   "language": "python",
   "name": "python2"
  },
  "language_info": {
   "codemirror_mode": {
    "name": "ipython",
    "version": 2
   },
   "file_extension": ".py",
   "mimetype": "text/x-python",
   "name": "python",
   "nbconvert_exporter": "python",
   "pygments_lexer": "ipython2",
   "version": "2.7.11"
  },
  "toc": {
   "toc_cell": false,
   "toc_number_sections": false,
   "toc_threshold": "2",
   "toc_window_display": true
  }
 },
 "nbformat": 4,
 "nbformat_minor": 0
}
