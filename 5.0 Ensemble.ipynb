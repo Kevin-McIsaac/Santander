{
 "cells": [
  {
   "cell_type": "markdown",
   "metadata": {},
   "source": [
    "## Initialise"
   ]
  },
  {
   "cell_type": "code",
   "execution_count": 1,
   "metadata": {
    "ExecuteTime": {
     "end_time": "2016-03-21T12:43:35.289839",
     "start_time": "2016-03-21T12:43:35.279285"
    },
    "code_folding": [
     3
    ],
    "collapsed": false,
    "init_cell": true
   },
   "outputs": [
    {
     "data": {
      "text/html": [
       "\n",
       "<style>\n",
       ".container {\n",
       "    width: 100%;\n",
       "}\n",
       "</style>\n"
      ],
      "text/plain": [
       "<IPython.core.display.HTML object>"
      ]
     },
     "execution_count": 1,
     "metadata": {},
     "output_type": "execute_result"
    }
   ],
   "source": [
    "from IPython.core.display import HTML\n",
    "HTML(\"\"\"\n",
    "<style>\n",
    ".container {\n",
    "    width: 100%;\n",
    "}\n",
    "</style>\n",
    "\"\"\")"
   ]
  },
  {
   "cell_type": "code",
   "execution_count": 2,
   "metadata": {
    "ExecuteTime": {
     "end_time": "2016-03-21T12:43:38.316571",
     "start_time": "2016-03-21T12:43:35.313582"
    },
    "collapsed": false,
    "init_cell": true
   },
   "outputs": [
    {
     "name": "stderr",
     "output_type": "stream",
     "text": [
      "A newer version of GraphLab Create (v1.8.5) is available! Your current version is v1.8.4.\n",
      "\n",
      "You can use pip to upgrade the graphlab-create package. For more information see https://dato.com/products/create/upgrade.\n",
      "2016-03-21 12:43:38,137 [INFO] graphlab.cython.cy_server, 176: GraphLab Create v1.8.4 started. Logging: /tmp/graphlab_server_1458524616.log\n"
     ]
    },
    {
     "name": "stdout",
     "output_type": "stream",
     "text": [
      "This non-commercial license of GraphLab Create is assigned to kevin.mcisaac@gmail.com and will expire on November 06, 2016. For commercial licensing options, visit https://dato.com/buy/.\n"
     ]
    }
   ],
   "source": [
    "import graphlab as gl\n",
    "gl.canvas.set_target('ipynb')\n",
    "import tools \n",
    "import initialise\n",
    "import ensemble as en"
   ]
  },
  {
   "cell_type": "code",
   "execution_count": 12,
   "metadata": {
    "ExecuteTime": {
     "end_time": "2016-03-21T10:43:18.230323",
     "start_time": "2016-03-21T10:43:18.227553"
    },
    "code_folding": [],
    "collapsed": true
   },
   "outputs": [],
   "source": [
    "def model_cv(data):\n",
    "    \n",
    "    return en.Ensemble([gl.boosted_trees_classifier.create(train, validation_set=validate, **params) for \n",
    "                train, validate in gl.cross_validation.KFold(data, 5)])\n"
   ]
  },
  {
   "cell_type": "code",
   "execution_count": 3,
   "metadata": {
    "ExecuteTime": {
     "end_time": "2016-03-21T12:43:41.065068",
     "start_time": "2016-03-21T12:43:41.045064"
    },
    "collapsed": false
   },
   "outputs": [
    {
     "name": "stdout",
     "output_type": "stream",
     "text": [
      "Loading saved processed data\n",
      "284  features in total\n"
     ]
    }
   ],
   "source": [
    "train_data, test_data = initialise.load_data(reload_data=False)"
   ]
  },
  {
   "cell_type": "code",
   "execution_count": 16,
   "metadata": {
    "ExecuteTime": {
     "end_time": "2016-03-21T10:50:03.457566",
     "start_time": "2016-03-21T10:49:01.823110"
    },
    "collapsed": false
   },
   "outputs": [
    {
     "data": {
      "text/plain": [
       "<ensemble.Ensemble instance at 0x7fb2a40cad40>"
      ]
     },
     "execution_count": 16,
     "metadata": {},
     "output_type": "execute_result"
    }
   ],
   "source": [
    "params = {'target':'TARGET', 'random_seed':8923, 'verbose':False,\n",
    "          'class_weights':'auto','metric':'auc',\n",
    "          'early_stopping_rounds':10, 'max_iterations':500,\n",
    "          'step_size': 0.1,\n",
    "          'max_depth': 5,\n",
    "          'column_subsample': 0.6,\n",
    "          'row_subsample': 0.95}\n",
    "\n",
    "models = model_cv(train_data)\n",
    "models"
   ]
  },
  {
   "cell_type": "markdown",
   "metadata": {},
   "source": [
    "## Testing basic ensemble module"
   ]
  },
  {
   "cell_type": "code",
   "execution_count": 17,
   "metadata": {
    "ExecuteTime": {
     "end_time": "2016-03-21T10:50:03.606687",
     "start_time": "2016-03-21T10:50:03.458609"
    },
    "collapsed": false
   },
   "outputs": [
    {
     "data": {
      "text/plain": [
       "dtype: float\n",
       "Rows: 10\n",
       "[0.4538480281829835, 0.3836626470088959, 0.9368736863136292, 0.7336451053619385, 0.922076463699341, 0.16256090700626372, 0.5547891736030579, 0.1972264736890793, 0.5734805941581727, 0.6654268145561218]"
      ]
     },
     "execution_count": 17,
     "metadata": {},
     "output_type": "execute_result"
    }
   ],
   "source": [
    "models.predict(test_data[0:10], output_type = 'probability')"
   ]
  },
  {
   "cell_type": "code",
   "execution_count": 19,
   "metadata": {
    "ExecuteTime": {
     "end_time": "2016-03-21T10:50:16.850216",
     "start_time": "2016-03-21T10:50:13.767810"
    },
    "collapsed": false,
    "scrolled": false
   },
   "outputs": [
    {
     "data": {
      "text/plain": [
       "dtype: str\n",
       "Rows: 10\n",
       "['Satisified', 'Satisified', 'Unsatisified', 'Unsatisified', 'Unsatisified', 'Satisified', 'Unsatisified', 'Satisified', 'Unsatisified', 'Unsatisified']"
      ]
     },
     "execution_count": 19,
     "metadata": {},
     "output_type": "execute_result"
    }
   ],
   "source": [
    "models.predict(test_data[0:10], output_type = 'class')"
   ]
  },
  {
   "cell_type": "code",
   "execution_count": 103,
   "metadata": {
    "ExecuteTime": {
     "end_time": "2016-03-21T12:37:24.656680",
     "start_time": "2016-03-21T12:37:24.653205"
    },
    "collapsed": false
   },
   "outputs": [
    {
     "name": "stdout",
     "output_type": "stream",
     "text": [
      "{'vote_fn': <function vote at 0x7fb294e8c2a8>, 'weights': [0.2, 0.2, 0.2, 0.2, 0.2]}\n",
      "['boosted_trees_classifier', 'boosted_trees_classifier', 'boosted_trees_classifier', 'boosted_trees_classifier', 'boosted_trees_classifier']\n"
     ]
    }
   ],
   "source": [
    "models2.vote_fn=en.vote\n",
    "print models2"
   ]
  },
  {
   "cell_type": "code",
   "execution_count": 9,
   "metadata": {
    "ExecuteTime": {
     "end_time": "2016-03-21T12:45:51.771356",
     "start_time": "2016-03-21T12:45:51.454781"
    },
    "collapsed": false
   },
   "outputs": [
    {
     "name": "stdout",
     "output_type": "stream",
     "text": [
      "{'vote_fn': u'vote', 'weights': [0.2, 0.2, 0.2, 0.2, 0.2]}\n",
      "['boosted_trees_classifier', 'boosted_trees_classifier', 'boosted_trees_classifier', 'boosted_trees_classifier', 'boosted_trees_classifier']\n"
     ]
    }
   ],
   "source": [
    "reload(en)\n",
    "models2 =  en.load_model('Models/ensemble_5fold')\n",
    "print models2"
   ]
  },
  {
   "cell_type": "code",
   "execution_count": 10,
   "metadata": {
    "ExecuteTime": {
     "end_time": "2016-03-21T12:46:01.529272",
     "start_time": "2016-03-21T12:45:53.630168"
    },
    "collapsed": false
   },
   "outputs": [
    {
     "name": "stdout",
     "output_type": "stream",
     "text": [
      "no weights\n"
     ]
    },
    {
     "data": {
      "text/plain": [
       "{'auc': 0.8655960176795484}"
      ]
     },
     "execution_count": 10,
     "metadata": {},
     "output_type": "execute_result"
    }
   ],
   "source": [
    "\n",
    "models2.evaluate(train_data, metric='auc')"
   ]
  },
  {
   "cell_type": "code",
   "execution_count": 11,
   "metadata": {
    "ExecuteTime": {
     "end_time": "2016-03-21T12:46:23.978277",
     "start_time": "2016-03-21T12:46:16.277406"
    },
    "collapsed": false
   },
   "outputs": [
    {
     "name": "stdout",
     "output_type": "stream",
     "text": [
      "no weights\n"
     ]
    },
    {
     "data": {
      "text/plain": [
       "{'auc': 0.8655960176795484}"
      ]
     },
     "execution_count": 11,
     "metadata": {},
     "output_type": "execute_result"
    }
   ],
   "source": [
    "models2.evaluate(train_data, metric='auc')"
   ]
  },
  {
   "cell_type": "code",
   "execution_count": 12,
   "metadata": {
    "ExecuteTime": {
     "end_time": "2016-03-21T12:46:24.015720",
     "start_time": "2016-03-21T12:46:23.979377"
    },
    "collapsed": false
   },
   "outputs": [
    {
     "data": {
      "text/plain": [
       "dtype: float\n",
       "Rows: 4\n",
       "[0.5619310170412064, 0.7661639094352722, 0.9230569243431092, 0.5932426571846008]"
      ]
     },
     "execution_count": 12,
     "metadata": {},
     "output_type": "execute_result"
    }
   ],
   "source": [
    "models2.predict(train_data[0:4], weights=[0.1, 0.9])"
   ]
  },
  {
   "cell_type": "code",
   "execution_count": 13,
   "metadata": {
    "ExecuteTime": {
     "end_time": "2016-03-21T12:46:24.054957",
     "start_time": "2016-03-21T12:46:24.018312"
    },
    "collapsed": false
   },
   "outputs": [
    {
     "data": {
      "text/plain": [
       "dtype: float\n",
       "Rows: 4\n",
       "[0.4957584410905838, 0.7420456767082215, 0.8939605116844177, 0.6221562504768372]"
      ]
     },
     "execution_count": 13,
     "metadata": {},
     "output_type": "execute_result"
    }
   ],
   "source": [
    "models2.predict(train_data[0:4], weights=[0.9, 0.1])"
   ]
  },
  {
   "cell_type": "code",
   "execution_count": 14,
   "metadata": {
    "ExecuteTime": {
     "end_time": "2016-03-21T12:46:27.024401",
     "start_time": "2016-03-21T12:46:24.056116"
    },
    "collapsed": false
   },
   "outputs": [
    {
     "data": {
      "text/plain": [
       "{'auc': 0.8632903839546622}"
      ]
     },
     "execution_count": 14,
     "metadata": {},
     "output_type": "execute_result"
    }
   ],
   "source": [
    "models2.evaluate(train_data, metric='auc', weights=[.1, .9])"
   ]
  },
  {
   "cell_type": "code",
   "execution_count": 15,
   "metadata": {
    "ExecuteTime": {
     "end_time": "2016-03-21T12:46:29.964651",
     "start_time": "2016-03-21T12:46:27.025430"
    },
    "collapsed": false
   },
   "outputs": [
    {
     "data": {
      "text/plain": [
       "{'auc': 0.8644038863365227}"
      ]
     },
     "execution_count": 15,
     "metadata": {},
     "output_type": "execute_result"
    }
   ],
   "source": [
    "models2.evaluate(train_data, metric='auc', weights=[.9, 0.1])"
   ]
  },
  {
   "cell_type": "markdown",
   "metadata": {},
   "source": [
    "# GBT + RF ensemble"
   ]
  },
  {
   "cell_type": "code",
   "execution_count": 17,
   "metadata": {
    "ExecuteTime": {
     "end_time": "2016-03-21T12:47:43.720078",
     "start_time": "2016-03-21T12:47:21.497211"
    },
    "collapsed": false
   },
   "outputs": [
    {
     "data": {
      "text/plain": [
       "{'auc': 0.8732945299322691}"
      ]
     },
     "execution_count": 17,
     "metadata": {},
     "output_type": "execute_result"
    }
   ],
   "source": [
    "params_GBT = {'target':'TARGET', 'random_seed':8923, 'verbose':False,\n",
    "              'class_weights':'auto','metric':'auc',\n",
    "              'early_stopping_rounds':10, 'max_iterations':500,\n",
    "              'step_size': 0.1, 'max_depth': 5, 'column_subsample': 0.6, 'row_subsample': 0.95}\n",
    "model_GBT = gl.boosted_trees_classifier.create(train_data, **params_GBT)\n",
    "model_GBT.evaluate(train_data, metric='auc')"
   ]
  },
  {
   "cell_type": "code",
   "execution_count": 34,
   "metadata": {
    "ExecuteTime": {
     "end_time": "2016-03-21T12:51:09.757261",
     "start_time": "2016-03-21T12:51:09.754365"
    },
    "collapsed": false
   },
   "outputs": [],
   "source": [
    "params_RF = {'target':'TARGET', 'random_seed':8923, 'verbose':True,\n",
    "          'class_weights':'auto','metric':'auc',\n",
    "            'num_trees':100}\n",
    "\n",
    "#model_RF = gl.random_forest_classifier.create(train_data, validation_set=validate, **params)"
   ]
  },
  {
   "cell_type": "code",
   "execution_count": 35,
   "metadata": {
    "ExecuteTime": {
     "end_time": "2016-03-21T12:51:51.019440",
     "start_time": "2016-03-21T12:51:11.418091"
    },
    "collapsed": false
   },
   "outputs": [
    {
     "data": {
      "text/html": [
       "<pre>WARNING: Detected extremely low variance for feature(s) 'var18 indicator 0', 'var18 number 0', 'var18 amortization amount delta 1Y3', 'var33 delta transfer amount out 1Y3', 'var18 repayment amount ultima1', 'var33 transfer amount out ultima1' because all entries are nearly the same.\n",
       "Proceeding with model training using all features. If the model does not provide results of adequate quality, exclude the above mentioned feature(s) from the input dataset.</pre>"
      ],
      "text/plain": [
       "WARNING: Detected extremely low variance for feature(s) 'var18 indicator 0', 'var18 number 0', 'var18 amortization amount delta 1Y3', 'var33 delta transfer amount out 1Y3', 'var18 repayment amount ultima1', 'var33 transfer amount out ultima1' because all entries are nearly the same.\n",
       "Proceeding with model training using all features. If the model does not provide results of adequate quality, exclude the above mentioned feature(s) from the input dataset."
      ]
     },
     "metadata": {},
     "output_type": "display_data"
    },
    {
     "data": {
      "text/html": [
       "<pre>Random forest classifier:</pre>"
      ],
      "text/plain": [
       "Random forest classifier:"
      ]
     },
     "metadata": {},
     "output_type": "display_data"
    },
    {
     "data": {
      "text/html": [
       "<pre>--------------------------------------------------------</pre>"
      ],
      "text/plain": [
       "--------------------------------------------------------"
      ]
     },
     "metadata": {},
     "output_type": "display_data"
    },
    {
     "data": {
      "text/html": [
       "<pre>Number of examples          : 60827</pre>"
      ],
      "text/plain": [
       "Number of examples          : 60827"
      ]
     },
     "metadata": {},
     "output_type": "display_data"
    },
    {
     "data": {
      "text/html": [
       "<pre>Number of classes           : 2</pre>"
      ],
      "text/plain": [
       "Number of classes           : 2"
      ]
     },
     "metadata": {},
     "output_type": "display_data"
    },
    {
     "data": {
      "text/html": [
       "<pre>Number of feature columns   : 284</pre>"
      ],
      "text/plain": [
       "Number of feature columns   : 284"
      ]
     },
     "metadata": {},
     "output_type": "display_data"
    },
    {
     "data": {
      "text/html": [
       "<pre>Number of unpacked features : 284</pre>"
      ],
      "text/plain": [
       "Number of unpacked features : 284"
      ]
     },
     "metadata": {},
     "output_type": "display_data"
    },
    {
     "data": {
      "text/html": [
       "<pre>+-----------+--------------+--------------+----------------+</pre>"
      ],
      "text/plain": [
       "+-----------+--------------+--------------+----------------+"
      ]
     },
     "metadata": {},
     "output_type": "display_data"
    },
    {
     "data": {
      "text/html": [
       "<pre>| Iteration | Elapsed Time | Training-auc | Validation-auc |</pre>"
      ],
      "text/plain": [
       "| Iteration | Elapsed Time | Training-auc | Validation-auc |"
      ]
     },
     "metadata": {},
     "output_type": "display_data"
    },
    {
     "data": {
      "text/html": [
       "<pre>+-----------+--------------+--------------+----------------+</pre>"
      ],
      "text/plain": [
       "+-----------+--------------+--------------+----------------+"
      ]
     },
     "metadata": {},
     "output_type": "display_data"
    },
    {
     "data": {
      "text/html": [
       "<pre>| 1         | 0.390767     | 0.781878     | 0.741072       |</pre>"
      ],
      "text/plain": [
       "| 1         | 0.390767     | 0.781878     | 0.741072       |"
      ]
     },
     "metadata": {},
     "output_type": "display_data"
    },
    {
     "data": {
      "text/html": [
       "<pre>| 2         | 0.728910     | 0.842850     | 0.810846       |</pre>"
      ],
      "text/plain": [
       "| 2         | 0.728910     | 0.842850     | 0.810846       |"
      ]
     },
     "metadata": {},
     "output_type": "display_data"
    },
    {
     "data": {
      "text/html": [
       "<pre>| 3         | 1.082554     | 0.851990     | 0.823444       |</pre>"
      ],
      "text/plain": [
       "| 3         | 1.082554     | 0.851990     | 0.823444       |"
      ]
     },
     "metadata": {},
     "output_type": "display_data"
    },
    {
     "data": {
      "text/html": [
       "<pre>| 4         | 1.424773     | 0.847829     | 0.815102       |</pre>"
      ],
      "text/plain": [
       "| 4         | 1.424773     | 0.847829     | 0.815102       |"
      ]
     },
     "metadata": {},
     "output_type": "display_data"
    },
    {
     "data": {
      "text/html": [
       "<pre>| 5         | 1.775555     | 0.852050     | 0.821651       |</pre>"
      ],
      "text/plain": [
       "| 5         | 1.775555     | 0.852050     | 0.821651       |"
      ]
     },
     "metadata": {},
     "output_type": "display_data"
    },
    {
     "data": {
      "text/html": [
       "<pre>| 6         | 2.128759     | 0.848537     | 0.815628       |</pre>"
      ],
      "text/plain": [
       "| 6         | 2.128759     | 0.848537     | 0.815628       |"
      ]
     },
     "metadata": {},
     "output_type": "display_data"
    },
    {
     "data": {
      "text/html": [
       "<pre>| 10        | 3.547416     | 0.854090     | 0.822074       |</pre>"
      ],
      "text/plain": [
       "| 10        | 3.547416     | 0.854090     | 0.822074       |"
      ]
     },
     "metadata": {},
     "output_type": "display_data"
    },
    {
     "data": {
      "text/html": [
       "<pre>| 11        | 3.904402     | 0.852746     | 0.819901       |</pre>"
      ],
      "text/plain": [
       "| 11        | 3.904402     | 0.852746     | 0.819901       |"
      ]
     },
     "metadata": {},
     "output_type": "display_data"
    },
    {
     "data": {
      "text/html": [
       "<pre>| 15        | 5.316659     | 0.856674     | 0.826143       |</pre>"
      ],
      "text/plain": [
       "| 15        | 5.316659     | 0.856674     | 0.826143       |"
      ]
     },
     "metadata": {},
     "output_type": "display_data"
    },
    {
     "data": {
      "text/html": [
       "<pre>| 20        | 7.087068     | 0.857378     | 0.827567       |</pre>"
      ],
      "text/plain": [
       "| 20        | 7.087068     | 0.857378     | 0.827567       |"
      ]
     },
     "metadata": {},
     "output_type": "display_data"
    },
    {
     "data": {
      "text/html": [
       "<pre>| 25        | 8.850775     | 0.858426     | 0.828463       |</pre>"
      ],
      "text/plain": [
       "| 25        | 8.850775     | 0.858426     | 0.828463       |"
      ]
     },
     "metadata": {},
     "output_type": "display_data"
    },
    {
     "data": {
      "text/html": [
       "<pre>| 30        | 10.601082    | 0.858988     | 0.830073       |</pre>"
      ],
      "text/plain": [
       "| 30        | 10.601082    | 0.858988     | 0.830073       |"
      ]
     },
     "metadata": {},
     "output_type": "display_data"
    },
    {
     "data": {
      "text/html": [
       "<pre>| 35        | 12.376771    | 0.858996     | 0.830194       |</pre>"
      ],
      "text/plain": [
       "| 35        | 12.376771    | 0.858996     | 0.830194       |"
      ]
     },
     "metadata": {},
     "output_type": "display_data"
    },
    {
     "data": {
      "text/html": [
       "<pre>| 40        | 14.164122    | 0.859249     | 0.830820       |</pre>"
      ],
      "text/plain": [
       "| 40        | 14.164122    | 0.859249     | 0.830820       |"
      ]
     },
     "metadata": {},
     "output_type": "display_data"
    },
    {
     "data": {
      "text/html": [
       "<pre>| 45        | 15.901068    | 0.859242     | 0.830954       |</pre>"
      ],
      "text/plain": [
       "| 45        | 15.901068    | 0.859242     | 0.830954       |"
      ]
     },
     "metadata": {},
     "output_type": "display_data"
    },
    {
     "data": {
      "text/html": [
       "<pre>| 50        | 17.680198    | 0.859037     | 0.829806       |</pre>"
      ],
      "text/plain": [
       "| 50        | 17.680198    | 0.859037     | 0.829806       |"
      ]
     },
     "metadata": {},
     "output_type": "display_data"
    },
    {
     "data": {
      "text/html": [
       "<pre>| 51        | 18.031908    | 0.859122     | 0.830006       |</pre>"
      ],
      "text/plain": [
       "| 51        | 18.031908    | 0.859122     | 0.830006       |"
      ]
     },
     "metadata": {},
     "output_type": "display_data"
    },
    {
     "data": {
      "text/html": [
       "<pre>| 55        | 19.432337    | 0.859109     | 0.829402       |</pre>"
      ],
      "text/plain": [
       "| 55        | 19.432337    | 0.859109     | 0.829402       |"
      ]
     },
     "metadata": {},
     "output_type": "display_data"
    },
    {
     "data": {
      "text/html": [
       "<pre>| 60        | 21.148980    | 0.859166     | 0.830044       |</pre>"
      ],
      "text/plain": [
       "| 60        | 21.148980    | 0.859166     | 0.830044       |"
      ]
     },
     "metadata": {},
     "output_type": "display_data"
    },
    {
     "data": {
      "text/html": [
       "<pre>| 65        | 22.901284    | 0.859442     | 0.830723       |</pre>"
      ],
      "text/plain": [
       "| 65        | 22.901284    | 0.859442     | 0.830723       |"
      ]
     },
     "metadata": {},
     "output_type": "display_data"
    },
    {
     "data": {
      "text/html": [
       "<pre>| 70        | 24.628383    | 0.859494     | 0.830788       |</pre>"
      ],
      "text/plain": [
       "| 70        | 24.628383    | 0.859494     | 0.830788       |"
      ]
     },
     "metadata": {},
     "output_type": "display_data"
    },
    {
     "data": {
      "text/html": [
       "<pre>| 75        | 26.383939    | 0.859713     | 0.831286       |</pre>"
      ],
      "text/plain": [
       "| 75        | 26.383939    | 0.859713     | 0.831286       |"
      ]
     },
     "metadata": {},
     "output_type": "display_data"
    },
    {
     "data": {
      "text/html": [
       "<pre>| 80        | 28.137185    | 0.859694     | 0.831226       |</pre>"
      ],
      "text/plain": [
       "| 80        | 28.137185    | 0.859694     | 0.831226       |"
      ]
     },
     "metadata": {},
     "output_type": "display_data"
    },
    {
     "data": {
      "text/html": [
       "<pre>| 85        | 29.845226    | 0.859642     | 0.830548       |</pre>"
      ],
      "text/plain": [
       "| 85        | 29.845226    | 0.859642     | 0.830548       |"
      ]
     },
     "metadata": {},
     "output_type": "display_data"
    },
    {
     "data": {
      "text/html": [
       "<pre>| 90        | 31.616770    | 0.859559     | 0.830519       |</pre>"
      ],
      "text/plain": [
       "| 90        | 31.616770    | 0.859559     | 0.830519       |"
      ]
     },
     "metadata": {},
     "output_type": "display_data"
    },
    {
     "data": {
      "text/html": [
       "<pre>| 95        | 33.369113    | 0.859515     | 0.830558       |</pre>"
      ],
      "text/plain": [
       "| 95        | 33.369113    | 0.859515     | 0.830558       |"
      ]
     },
     "metadata": {},
     "output_type": "display_data"
    },
    {
     "data": {
      "text/html": [
       "<pre>| 100       | 35.111622    | 0.859409     | 0.830279       |</pre>"
      ],
      "text/plain": [
       "| 100       | 35.111622    | 0.859409     | 0.830279       |"
      ]
     },
     "metadata": {},
     "output_type": "display_data"
    },
    {
     "data": {
      "text/html": [
       "<pre>+-----------+--------------+--------------+----------------+</pre>"
      ],
      "text/plain": [
       "+-----------+--------------+--------------+----------------+"
      ]
     },
     "metadata": {},
     "output_type": "display_data"
    }
   ],
   "source": [
    "train, validate = train_data.random_split(0.8, seed=8923)\n",
    "model_RF = gl.random_forest_classifier.create(train, validation_set=validate, **params_RF)"
   ]
  },
  {
   "cell_type": "code",
   "execution_count": null,
   "metadata": {
    "collapsed": true
   },
   "outputs": [],
   "source": []
  },
  {
   "cell_type": "code",
   "execution_count": 36,
   "metadata": {
    "ExecuteTime": {
     "end_time": "2016-03-21T12:52:30.838195",
     "start_time": "2016-03-21T12:52:27.061417"
    },
    "collapsed": false
   },
   "outputs": [
    {
     "name": "stdout",
     "output_type": "stream",
     "text": [
      "{'auc': 0.8534246406121243} {'auc': 0.8732945299322691}\n"
     ]
    }
   ],
   "source": [
    "print model_RF.evaluate(train_data, metric='auc'), model_GBT.evaluate(train_data, metric='auc')"
   ]
  },
  {
   "cell_type": "code",
   "execution_count": 37,
   "metadata": {
    "ExecuteTime": {
     "end_time": "2016-03-21T12:52:35.912014",
     "start_time": "2016-03-21T12:52:35.890048"
    },
    "collapsed": true
   },
   "outputs": [],
   "source": [
    "models = en.Ensemble([model_GBT,model_RF], weights=[0.9, 0.1])"
   ]
  },
  {
   "cell_type": "code",
   "execution_count": 38,
   "metadata": {
    "ExecuteTime": {
     "end_time": "2016-03-21T12:52:37.242144",
     "start_time": "2016-03-21T12:52:37.239186"
    },
    "collapsed": false
   },
   "outputs": [
    {
     "data": {
      "text/plain": [
       "[0.9, 0.1]"
      ]
     },
     "execution_count": 38,
     "metadata": {},
     "output_type": "execute_result"
    }
   ],
   "source": [
    "models.weights"
   ]
  },
  {
   "cell_type": "code",
   "execution_count": 39,
   "metadata": {
    "ExecuteTime": {
     "end_time": "2016-03-21T12:52:41.995408",
     "start_time": "2016-03-21T12:52:38.562730"
    },
    "collapsed": false
   },
   "outputs": [
    {
     "name": "stdout",
     "output_type": "stream",
     "text": [
      "no weights\n"
     ]
    },
    {
     "data": {
      "text/plain": [
       "{'auc': 0.8723899838382745}"
      ]
     },
     "execution_count": 39,
     "metadata": {},
     "output_type": "execute_result"
    }
   ],
   "source": [
    "models.evaluate(train_data, metric='auc')"
   ]
  },
  {
   "cell_type": "code",
   "execution_count": 42,
   "metadata": {
    "ExecuteTime": {
     "end_time": "2016-03-21T12:54:15.810960",
     "start_time": "2016-03-21T12:54:12.363890"
    },
    "collapsed": false
   },
   "outputs": [
    {
     "name": "stdout",
     "output_type": "stream",
     "text": [
      "no weights\n"
     ]
    }
   ],
   "source": [
    "tools.make_submission(models, test_data, 'en_GBT_RF')"
   ]
  },
  {
   "cell_type": "code",
   "execution_count": null,
   "metadata": {
    "collapsed": true
   },
   "outputs": [],
   "source": []
  }
 ],
 "metadata": {
  "celltoolbar": "Initialisation Cell",
  "kernelspec": {
   "display_name": "Python 2",
   "language": "python",
   "name": "python2"
  },
  "language_info": {
   "codemirror_mode": {
    "name": "ipython",
    "version": 2
   },
   "file_extension": ".py",
   "mimetype": "text/x-python",
   "name": "python",
   "nbconvert_exporter": "python",
   "pygments_lexer": "ipython2",
   "version": "2.7.11"
  },
  "toc": {
   "toc_cell": false,
   "toc_number_sections": false,
   "toc_threshold": "2",
   "toc_window_display": true
  }
 },
 "nbformat": 4,
 "nbformat_minor": 0
}
