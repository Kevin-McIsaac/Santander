{
 "cells": [
  {
   "cell_type": "code",
   "execution_count": null,
   "metadata": {
    "collapsed": true
   },
   "outputs": [],
   "source": []
  },
  {
   "cell_type": "markdown",
   "metadata": {},
   "source": [
    "## Initialise"
   ]
  },
  {
   "cell_type": "code",
   "execution_count": 1,
   "metadata": {
    "ExecuteTime": {
     "end_time": "2016-03-15T01:28:50.214677",
     "start_time": "2016-03-15T01:28:50.205254"
    },
    "collapsed": false,
    "init_cell": true
   },
   "outputs": [
    {
     "data": {
      "text/html": [
       "\n",
       "<style>\n",
       ".container {\n",
       "    width: 100%;\n",
       "}\n",
       "</style>\n"
      ],
      "text/plain": [
       "<IPython.core.display.HTML object>"
      ]
     },
     "execution_count": 1,
     "metadata": {},
     "output_type": "execute_result"
    }
   ],
   "source": [
    "from IPython.core.display import HTML\n",
    "HTML(\"\"\"\n",
    "<style>\n",
    ".container {\n",
    "    width: 100%;\n",
    "}\n",
    "</style>\n",
    "\"\"\")"
   ]
  },
  {
   "cell_type": "code",
   "execution_count": 2,
   "metadata": {
    "ExecuteTime": {
     "end_time": "2016-03-15T01:30:04.357600",
     "start_time": "2016-03-15T01:28:50.215715"
    },
    "collapsed": false,
    "init_cell": true
   },
   "outputs": [
    {
     "name": "stderr",
     "output_type": "stream",
     "text": [
      "2016-03-15 01:29:52,214 [INFO] graphlab.cython.cy_server, 176: GraphLab Create v1.8.4 started. Logging: /tmp/graphlab_server_1458005381.log\n"
     ]
    },
    {
     "name": "stdout",
     "output_type": "stream",
     "text": [
      "This non-commercial license of GraphLab Create is assigned to kevin.mcisaac@gmail.com and will expire on November 06, 2016. For commercial licensing options, visit https://dato.com/buy/.\n"
     ]
    }
   ],
   "source": [
    "import graphlab as gl\n",
    "gl.canvas.set_target('ipynb')\n",
    "import tools \n",
    "import initialise"
   ]
  },
  {
   "cell_type": "markdown",
   "metadata": {},
   "source": [
    "# Constant method"
   ]
  },
  {
   "cell_type": "code",
   "execution_count": 3,
   "metadata": {
    "ExecuteTime": {
     "end_time": "2016-03-14T20:00:52.876028",
     "start_time": "2016-03-14T20:00:16.233232"
    },
    "collapsed": false
   },
   "outputs": [
    {
     "name": "stdout",
     "output_type": "stream",
     "text": [
      "Loading raw data from CSV files\n",
      "train: 76020    test: 75818\n",
      "370 raw features\n",
      "366 Columns translated to English\n",
      "370 features in total\n"
     ]
    }
   ],
   "source": [
    "train_data, test_data = initialise.prepare_data(redundant=False, categorical=False, clean=False)"
   ]
  },
  {
   "cell_type": "code",
   "execution_count": 82,
   "metadata": {
    "ExecuteTime": {
     "end_time": "2016-03-14T21:39:40.449070",
     "start_time": "2016-03-14T21:39:36.120624"
    },
    "collapsed": false
   },
   "outputs": [
    {
     "name": "stdout",
     "output_type": "stream",
     "text": [
      "1 loops, best of 3: 1.03 s per loop\n"
     ]
    }
   ],
   "source": [
    "%timeit drop_col = [ col for col in train_data.column_names() if train_data[col].var() == 0]"
   ]
  },
  {
   "cell_type": "code",
   "execution_count": 5,
   "metadata": {
    "ExecuteTime": {
     "end_time": "2016-03-14T20:01:13.959337",
     "start_time": "2016-03-14T20:00:57.013986"
    },
    "collapsed": false
   },
   "outputs": [
    {
     "name": "stdout",
     "output_type": "stream",
     "text": [
      "1 loops, best of 3: 4.21 s per loop\n"
     ]
    }
   ],
   "source": [
    "%%timeit\n",
    "drop_col = [ col for col in train_data.column_names() if (abs(train_data[col] - train_data[col][0]).sum() == 0)]\n",
    " "
   ]
  },
  {
   "cell_type": "code",
   "execution_count": 6,
   "metadata": {
    "ExecuteTime": {
     "end_time": "2016-03-14T20:01:40.578597",
     "start_time": "2016-03-14T20:01:13.960639"
    },
    "collapsed": false
   },
   "outputs": [
    {
     "name": "stdout",
     "output_type": "stream",
     "text": [
      "1 loops, best of 3: 6.61 s per loop\n"
     ]
    }
   ],
   "source": [
    "%%timeit\n",
    "drop_col = [ col for col in train_data.column_names() if all(train_data[col] - train_data[col][0] == 0)]"
   ]
  },
  {
   "cell_type": "code",
   "execution_count": 81,
   "metadata": {
    "ExecuteTime": {
     "end_time": "2016-03-14T21:39:33.181723",
     "start_time": "2016-03-14T21:39:15.832796"
    },
    "collapsed": false
   },
   "outputs": [
    {
     "name": "stdout",
     "output_type": "stream",
     "text": [
      "1 loops, best of 3: 4.32 s per loop\n"
     ]
    }
   ],
   "source": [
    "%timeit drop_col = [ col for col in train_data.column_names() if not (train_data[col] - train_data[col][0] != 0).any()]"
   ]
  },
  {
   "cell_type": "code",
   "execution_count": 14,
   "metadata": {
    "ExecuteTime": {
     "end_time": "2016-03-15T01:42:41.014001",
     "start_time": "2016-03-15T01:42:11.979756"
    },
    "collapsed": false
   },
   "outputs": [],
   "source": [
    "sa_const = gl.SArray(data = [1 for _ in xrange(100000000)])\n",
    "sa_rand =  gl.SArray(data = [i for i in xrange(100000000)])"
   ]
  },
  {
   "cell_type": "code",
   "execution_count": 95,
   "metadata": {
    "ExecuteTime": {
     "end_time": "2016-03-14T21:49:50.765104",
     "start_time": "2016-03-14T21:49:50.746551"
    },
    "collapsed": true
   },
   "outputs": [
    {
     "name": "stdout",
     "output_type": "stream",
     "text": [
      "True\n",
      "True\n",
      "True\n",
      "False\n",
      "False\n",
      "False\n"
     ]
    }
   ],
   "source": [
    "print sa_const.var() == 0\n",
    "print not ((sa_const - sa_const[0]) != 0).any()\n",
    "\n",
    "print sa_rand.var() == 0\n",
    "print not ((sa_rand - sa_rand[0]) != 0).any()"
   ]
  },
  {
   "cell_type": "code",
   "execution_count": 15,
   "metadata": {
    "ExecuteTime": {
     "end_time": "2016-03-15T01:42:54.873778",
     "start_time": "2016-03-15T01:42:41.014975"
    },
    "collapsed": false
   },
   "outputs": [
    {
     "name": "stdout",
     "output_type": "stream",
     "text": [
      "1 loops, best of 3: 441 ms per loop\n",
      "1 loops, best of 3: 1.23 s per loop\n",
      "\n",
      "1 loops, best of 3: 478 ms per loop\n",
      "1 loops, best of 3: 1.26 s per loop\n"
     ]
    }
   ],
   "source": [
    "#time how long it take to determing this is a constant\n",
    "%timeit sa_const.var() == 0\n",
    "%timeit not ((sa_const - sa_const[0]) != 0).any()\n",
    "print\n",
    "\n",
    "#time how long it take to determing this is NOT constant. If any() does early termination and lazy evaluation this iwll be much quicker\n",
    "%timeit sa_rand.var() == 0\n",
    "%timeit not ((sa_rand - sa_rand[0]) != 0).any()"
   ]
  },
  {
   "cell_type": "markdown",
   "metadata": {},
   "source": [
    "# correlated columns"
   ]
  },
  {
   "cell_type": "code",
   "execution_count": 9,
   "metadata": {
    "ExecuteTime": {
     "end_time": "2016-03-14T20:35:02.405415",
     "start_time": "2016-03-14T20:35:02.244946"
    },
    "collapsed": true
   },
   "outputs": [],
   "source": [
    "from scipy.stats.stats import pearsonr\n",
    "import itertools\n",
    "float_cols = tools.features_type(float(), train_data)\n",
    "pairs = itertools.combinations(float_cols, 2)"
   ]
  },
  {
   "cell_type": "code",
   "execution_count": 18,
   "metadata": {
    "ExecuteTime": {
     "end_time": "2016-03-14T20:37:41.336641",
     "start_time": "2016-03-14T20:37:41.333907"
    },
    "collapsed": false
   },
   "outputs": [],
   "source": [
    "pairs = itertools.combinations(float_cols, 2)\n",
    "pairs = list(pairs)[0:100]"
   ]
  },
  {
   "cell_type": "code",
   "execution_count": 19,
   "metadata": {
    "ExecuteTime": {
     "end_time": "2016-03-14T20:38:06.310434",
     "start_time": "2016-03-14T20:37:43.566596"
    },
    "collapsed": false
   },
   "outputs": [
    {
     "name": "stdout",
     "output_type": "stream",
     "text": [
      "[('var41 option amount ultima1', 'var39 option amount ultima1')]\n",
      "[('var41 option amount ultima1', 'var39 option amount ultima1')]\n",
      "[('var41 option amount ultima1', 'var39 option amount ultima1')]\n",
      "[('var41 option amount ultima1', 'var39 option amount ultima1')]\n",
      "1 loops, best of 3: 5.65 s per loop\n"
     ]
    }
   ],
   "source": [
    "%%timeit \n",
    "correlated_cols = [(col2,col1) for col1, col2, in pairs if abs(pearsonr(train_data[col1], train_data[col2])[0]) > 0.99]\n",
    "print correlated_cols "
   ]
  },
  {
   "cell_type": "code",
   "execution_count": 22,
   "metadata": {
    "ExecuteTime": {
     "end_time": "2016-03-14T20:43:27.639092",
     "start_time": "2016-03-14T20:43:26.356680"
    },
    "collapsed": false
   },
   "outputs": [
    {
     "name": "stdout",
     "output_type": "stream",
     "text": [
      "100 loops, best of 3: 3.04 ms per loop\n"
     ]
    }
   ],
   "source": [
    "%%timeit\n",
    "train_data['var15']*train_data['var15'].sum()"
   ]
  },
  {
   "cell_type": "code",
   "execution_count": 23,
   "metadata": {
    "ExecuteTime": {
     "end_time": "2016-03-14T20:44:03.785838",
     "start_time": "2016-03-14T20:43:59.511106"
    },
    "collapsed": false
   },
   "outputs": [
    {
     "name": "stdout",
     "output_type": "stream",
     "text": [
      "The slowest run took 54.10 times longer than the fastest. This could mean that an intermediate result is being cached \n",
      "1 loops, best of 3: 74.7 ms per loop\n"
     ]
    }
   ],
   "source": [
    "%%timeit\n",
    "train_data['var15'].apply(lambda x: x**2).sum()"
   ]
  },
  {
   "cell_type": "code",
   "execution_count": 43,
   "metadata": {
    "ExecuteTime": {
     "end_time": "2016-03-14T21:08:55.867022",
     "start_time": "2016-03-14T21:08:55.861772"
    },
    "collapsed": true
   },
   "outputs": [],
   "source": [
    "def cov_sa(sa1, sa2):\n",
    "    '''covariance'''\n",
    "    n = float(len(sa1))\n",
    "    \n",
    "    sum1 = sa1.sum()\n",
    "    sum2 = sa2.sum()\n",
    "    sum12 = (sa1*sa2).sum()\n",
    "    \n",
    "    return (sum12 - sum1*sum2 / n) / n  \n",
    "\n",
    "def cov_sa2(sa1, sa2):\n",
    "    '''naive algorithm for covariance'''\n",
    "    \n",
    "    return ((sa1-sa1.mean())*(sa2-sa2.mean())).sum()/float(len(sa1))\n",
    "\n",
    "#runs slightly slower!\n",
    "\n",
    "def pearsonr_sa(sa1, sa2):\n",
    "    # Assume len(x) == len(y)\n",
    "    \n",
    "    std1=sa1.std()\n",
    "    std2=sa2.std()\n",
    "    if std1 == 0 or std2 == 0:\n",
    "        return 0\n",
    "    \n",
    "    return cov_sa(sa1, sa2)/(std1*std2)"
   ]
  },
  {
   "cell_type": "code",
   "execution_count": 67,
   "metadata": {
    "ExecuteTime": {
     "end_time": "2016-03-14T21:16:36.623679",
     "start_time": "2016-03-14T21:16:28.339984"
    },
    "collapsed": false
   },
   "outputs": [
    {
     "name": "stdout",
     "output_type": "stream",
     "text": [
      "10 loops, best of 3: 56.8 ms per loop\n",
      "100 loops, best of 3: 11.9 ms per loop\n",
      "100 loops, best of 3: 2.5 ms per loop\n"
     ]
    }
   ],
   "source": [
    "%timeit   pearsonr(train_data['var15'], train_data['var15'])\n",
    "%timeit   pearsonr_sa(train_data['var15'], train_data['var15'])\n",
    "%timeit   train_data['var15'].std()"
   ]
  },
  {
   "cell_type": "code",
   "execution_count": 70,
   "metadata": {
    "ExecuteTime": {
     "end_time": "2016-03-14T21:18:55.868693",
     "start_time": "2016-03-14T21:18:47.620203"
    },
    "collapsed": false
   },
   "outputs": [
    {
     "name": "stdout",
     "output_type": "stream",
     "text": [
      "10 loops, best of 3: 58.1 ms per loop\n",
      "100 loops, best of 3: 12 ms per loop\n",
      "100 loops, best of 3: 2.18 ms per loop\n"
     ]
    }
   ],
   "source": [
    "%timeit   pearsonr(train_data['var15'], train_data['var38'])\n",
    "%timeit   pearsonr_sa(train_data['var15'], train_data['var38'])\n",
    "%timeit   train_data['var38'].std()"
   ]
  },
  {
   "cell_type": "code",
   "execution_count": 74,
   "metadata": {
    "ExecuteTime": {
     "end_time": "2016-03-14T21:20:49.349901",
     "start_time": "2016-03-14T21:20:49.268451"
    },
    "collapsed": false
   },
   "outputs": [
    {
     "name": "stdout",
     "output_type": "stream",
     "text": [
      "0.006496590103 0.00649659010295\n"
     ]
    }
   ],
   "source": [
    "print pearsonr(train_data['var15'], train_data['var38'])[0], pearsonr_sa(train_data['var15'], train_data['var38'])"
   ]
  },
  {
   "cell_type": "code",
   "execution_count": 73,
   "metadata": {
    "ExecuteTime": {
     "end_time": "2016-03-14T21:20:44.581393",
     "start_time": "2016-03-14T21:20:44.501428"
    },
    "collapsed": false
   },
   "outputs": [
    {
     "name": "stdout",
     "output_type": "stream",
     "text": [
      "5.39464306559e-14\n"
     ]
    }
   ],
   "source": [
    "print pearsonr(train_data['var15'], train_data['var38'])[0] - pearsonr_sa(train_data['var15'], train_data['var38'])"
   ]
  },
  {
   "cell_type": "code",
   "execution_count": 75,
   "metadata": {
    "ExecuteTime": {
     "end_time": "2016-03-14T21:20:57.796142",
     "start_time": "2016-03-14T21:20:57.716874"
    },
    "collapsed": false
   },
   "outputs": [
    {
     "name": "stdout",
     "output_type": "stream",
     "text": [
      "1.22124532709e-15\n"
     ]
    }
   ],
   "source": [
    "print pearsonr(train_data['var15'], train_data['var15'])[0] - pearsonr_sa(train_data['var15'], train_data['var15'])"
   ]
  },
  {
   "cell_type": "code",
   "execution_count": null,
   "metadata": {
    "collapsed": true
   },
   "outputs": [],
   "source": []
  }
 ],
 "metadata": {
  "kernelspec": {
   "display_name": "Python 2",
   "language": "python",
   "name": "python2"
  },
  "language_info": {
   "codemirror_mode": {
    "name": "ipython",
    "version": 2
   },
   "file_extension": ".py",
   "mimetype": "text/x-python",
   "name": "python",
   "nbconvert_exporter": "python",
   "pygments_lexer": "ipython2",
   "version": "2.7.11"
  },
  "toc": {
   "toc_cell": false,
   "toc_number_sections": false,
   "toc_threshold": "2",
   "toc_window_display": true
  }
 },
 "nbformat": 4,
 "nbformat_minor": 0
}
