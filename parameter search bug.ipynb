{
 "cells": [
  {
   "cell_type": "markdown",
   "metadata": {},
   "source": [
    "This notebook exercises a bug in parameter by:\n",
    "- Loading a data test\n",
    "- Create a custom eval funciton (not sure if this is important or not)\n",
    "- Running a a search with 100 permunations\n",
    "- Waiting until the job completes by watching CPU usage\n",
    "- Confirming the kernel is ok\n",
    "- Running get_status and the kernal dies.\n",
    "\n",
    "Viewing the logs its looks like all the tasks complete ok."
   ]
  },
  {
   "cell_type": "code",
   "execution_count": 1,
   "metadata": {
    "ExecuteTime": {
     "end_time": "2016-03-18T14:31:28.361662",
     "start_time": "2016-03-18T14:31:25.920203"
    },
    "collapsed": false,
    "scrolled": true
   },
   "outputs": [
    {
     "name": "stderr",
     "output_type": "stream",
     "text": [
      "A newer version of GraphLab Create (v1.8.5) is available! Your current version is v1.8.4.\n",
      "\n",
      "You can use pip to upgrade the graphlab-create package. For more information see https://dato.com/products/create/upgrade.\n",
      "2016-03-18 14:31:28,171 [INFO] graphlab.cython.cy_server, 176: GraphLab Create v1.8.4 started. Logging: /tmp/graphlab_server_1458271886.log\n"
     ]
    },
    {
     "name": "stdout",
     "output_type": "stream",
     "text": [
      "This non-commercial license of GraphLab Create is assigned to kevin.mcisaac@gmail.com and will expire on November 06, 2016. For commercial licensing options, visit https://dato.com/buy/.\n"
     ]
    }
   ],
   "source": [
    "import graphlab as gl\n",
    "gl.canvas.set_target('ipynb')\n",
    "import tools \n",
    "import initialise"
   ]
  },
  {
   "cell_type": "markdown",
   "metadata": {
    "ExecuteTime": {
     "end_time": "2016-03-15T01:53:31.194020",
     "start_time": "2016-03-15T01:53:31.191344"
    }
   },
   "source": [
    "## Automatic optimisation"
   ]
  },
  {
   "cell_type": "code",
   "execution_count": 2,
   "metadata": {
    "ExecuteTime": {
     "end_time": "2016-03-18T14:31:31.370906",
     "start_time": "2016-03-18T14:31:28.362923"
    },
    "collapsed": false
   },
   "outputs": [
    {
     "name": "stdout",
     "output_type": "stream",
     "text": [
      "Loading saved processed data\n",
      "306  features in total\n"
     ]
    }
   ],
   "source": [
    "train_data, test_data = initialise.load_data(reload_data=False)\n",
    "folds = gl.cross_validation.KFold(train_data, 5)"
   ]
  },
  {
   "cell_type": "code",
   "execution_count": 3,
   "metadata": {
    "ExecuteTime": {
     "end_time": "2016-03-18T14:31:31.375185",
     "start_time": "2016-03-18T14:31:31.372154"
    },
    "collapsed": true
   },
   "outputs": [],
   "source": [
    "def auc_eval(model, train, test): \n",
    "    return {'train_auc':    model.evaluate(train, metric='auc')['auc'],\n",
    "            'validate_auc': model.evaluate(test,  metric='auc')['auc']}\n",
    "\n",
    "#"
   ]
  },
  {
   "cell_type": "code",
   "execution_count": 4,
   "metadata": {
    "ExecuteTime": {
     "end_time": "2016-03-18T14:31:33.303504",
     "start_time": "2016-03-18T14:31:31.376434"
    },
    "code_folding": [],
    "collapsed": false
   },
   "outputs": [
    {
     "name": "stderr",
     "output_type": "stream",
     "text": [
      "2016-03-18 14:31:31,380 [INFO] graphlab.deploy.job, 22: Validating job.\n",
      "2016-03-18 14:31:31,387 [INFO] graphlab.deploy.job, 36: Creating a LocalAsync environment called 'async'.\n",
      "2016-03-18 14:31:31,397 [INFO] graphlab.deploy.map_job, 186: Validation complete. Job: 'Model-Parameter-Search-Mar-18-2016-14-31-3100000' ready for execution\n",
      "2016-03-18 14:31:31,541 [INFO] graphlab.deploy.map_job, 192: Job: 'Model-Parameter-Search-Mar-18-2016-14-31-3100000' scheduled.\n",
      "2016-03-18 14:31:31,720 [INFO] graphlab.deploy.job, 22: Validating job.\n",
      "2016-03-18 14:31:31,759 [INFO] graphlab.deploy.map_job, 186: Validation complete. Job: 'Model-Parameter-Search-Mar-18-2016-14-31-3100001' ready for execution\n",
      "2016-03-18 14:31:32,010 [INFO] graphlab.deploy.map_job, 192: Job: 'Model-Parameter-Search-Mar-18-2016-14-31-3100001' scheduled.\n",
      "2016-03-18 14:31:32,389 [INFO] graphlab.deploy.job, 22: Validating job.\n",
      "2016-03-18 14:31:32,399 [INFO] graphlab.deploy.map_job, 186: Validation complete. Job: 'Model-Parameter-Search-Mar-18-2016-14-31-3100002' ready for execution\n",
      "2016-03-18 14:31:32,941 [INFO] graphlab.deploy.map_job, 192: Job: 'Model-Parameter-Search-Mar-18-2016-14-31-3100002' scheduled.\n"
     ]
    }
   ],
   "source": [
    "params = {'target':'TARGET', 'random_seed':8923,\n",
    "          'class_weights':'auto','metric':'auc',\n",
    "          'early_stopping_rounds':10, 'max_iterations':300,\n",
    "          'step_size': [0.01, 0.3],\n",
    "          'max_depth': [3, 4, 5, 6, 7],\n",
    "          'column_subsample': [0.8, 0.6]}\n",
    "\n",
    "job = gl.random_search.create(folds,gl.boosted_trees_classifier.create,\n",
    "                             params, evaluator=auc_eval, max_models=10, perform_trial_run=False)"
   ]
  },
  {
   "cell_type": "markdown",
   "metadata": {},
   "source": [
    "Wait until all the jobs have finished by wathcing CPU utilisation. Confirm the kernel is still running by executing the line below."
   ]
  },
  {
   "cell_type": "code",
   "execution_count": 5,
   "metadata": {
    "ExecuteTime": {
     "end_time": "2016-03-18T14:31:33.320134",
     "start_time": "2016-03-18T14:31:33.306232"
    },
    "collapsed": false
   },
   "outputs": [
    {
     "name": "stdout",
     "output_type": "stream",
     "text": [
      "still Ok\n"
     ]
    }
   ],
   "source": [
    "print 'still Ok'"
   ]
  },
  {
   "cell_type": "markdown",
   "metadata": {},
   "source": [
    "Now get the job status. There will be a 10s+ pause then the error message \"The kernel appears to have died. It will restart automatically.\""
   ]
  },
  {
   "cell_type": "code",
   "execution_count": 8,
   "metadata": {
    "ExecuteTime": {
     "end_time": "2016-03-18T14:36:07.629545",
     "start_time": "2016-03-18T14:36:07.624934"
    },
    "collapsed": false
   },
   "outputs": [
    {
     "data": {
      "text/plain": [
       "{'Canceled': 0,\n",
       " 'Completed': 11,\n",
       " 'Failed': 0,\n",
       " 'Pending': 36,\n",
       " 'Running': 3,\n",
       " 'Total': 50}"
      ]
     },
     "execution_count": 8,
     "metadata": {},
     "output_type": "execute_result"
    }
   ],
   "source": [
    "job.get_status()"
   ]
  },
  {
   "cell_type": "code",
   "execution_count": null,
   "metadata": {
    "ExecuteTime": {
     "start_time": "2016-03-18T03:36:07.923Z"
    },
    "collapsed": false
   },
   "outputs": [],
   "source": [
    "job.progress_bar()"
   ]
  }
 ],
 "metadata": {
  "kernelspec": {
   "display_name": "Python 2",
   "language": "python",
   "name": "python2"
  },
  "language_info": {
   "codemirror_mode": {
    "name": "ipython",
    "version": 2
   },
   "file_extension": ".py",
   "mimetype": "text/x-python",
   "name": "python",
   "nbconvert_exporter": "python",
   "pygments_lexer": "ipython2",
   "version": "2.7.11"
  },
  "toc": {
   "toc_cell": false,
   "toc_number_sections": false,
   "toc_threshold": "2",
   "toc_window_display": true
  }
 },
 "nbformat": 4,
 "nbformat_minor": 0
}
