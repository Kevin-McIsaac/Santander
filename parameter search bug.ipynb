{
 "cells": [
  {
   "cell_type": "markdown",
   "metadata": {},
   "source": [
    "This notebook exercises a bug in parameter by:\n",
    "- Loading a data test\n",
    "- Create a custom eval funciton (not sure if this is important or not)\n",
    "- Running a a search with 100 permunations\n",
    "- Waiting until the job completes by watching CPU usage\n",
    "- Confirming the kernel is ok\n",
    "- Running get_status and the kernal dies.\n",
    "\n",
    "Viewing the logs its looks like all the tasks complete ok."
   ]
  },
  {
   "cell_type": "code",
   "execution_count": 1,
   "metadata": {
    "ExecuteTime": {
     "end_time": "2016-03-16T21:46:05.097494",
     "start_time": "2016-03-16T21:46:00.605812"
    },
    "collapsed": false,
    "scrolled": true
   },
   "outputs": [
    {
     "name": "stderr",
     "output_type": "stream",
     "text": [
      "2016-03-16 21:46:04,603 [INFO] graphlab.cython.cy_server, 176: GraphLab Create v1.8.4 started. Logging: /tmp/graphlab_server_1458164763.log\n"
     ]
    },
    {
     "name": "stdout",
     "output_type": "stream",
     "text": [
      "This non-commercial license of GraphLab Create is assigned to kevin.mcisaac@gmail.com and will expire on November 06, 2016. For commercial licensing options, visit https://dato.com/buy/.\n"
     ]
    }
   ],
   "source": [
    "import graphlab as gl\n",
    "gl.canvas.set_target('ipynb')\n",
    "import tools \n",
    "import initialise"
   ]
  },
  {
   "cell_type": "markdown",
   "metadata": {
    "ExecuteTime": {
     "end_time": "2016-03-15T01:53:31.194020",
     "start_time": "2016-03-15T01:53:31.191344"
    }
   },
   "source": [
    "## Automatic optimisation"
   ]
  },
  {
   "cell_type": "code",
   "execution_count": 2,
   "metadata": {
    "ExecuteTime": {
     "end_time": "2016-03-16T21:46:07.906531",
     "start_time": "2016-03-16T21:46:05.098703"
    },
    "collapsed": false
   },
   "outputs": [
    {
     "name": "stdout",
     "output_type": "stream",
     "text": [
      "Loading saved processed data\n",
      "306  features in total\n"
     ]
    }
   ],
   "source": [
    "train_data, test_data = initialise.load_data(reload_data=False)\n",
    "folds = gl.cross_validation.KFold(train_data, 5)"
   ]
  },
  {
   "cell_type": "code",
   "execution_count": 3,
   "metadata": {
    "ExecuteTime": {
     "end_time": "2016-03-16T21:46:07.910045",
     "start_time": "2016-03-16T21:46:07.907658"
    },
    "collapsed": true
   },
   "outputs": [],
   "source": [
    "def auc_eval(model, train, test): \n",
    "    return {'train_auc':    model.evaluate(train, metric='auc')['auc'],\n",
    "            'validate_auc': model.evaluate(test,  metric='auc')['auc']}"
   ]
  },
  {
   "cell_type": "code",
   "execution_count": 4,
   "metadata": {
    "ExecuteTime": {
     "end_time": "2016-03-16T21:46:17.655447",
     "start_time": "2016-03-16T21:46:07.911013"
    },
    "code_folding": [],
    "collapsed": false
   },
   "outputs": [
    {
     "name": "stderr",
     "output_type": "stream",
     "text": [
      "2016-03-16 21:46:07,916 [INFO] graphlab.deploy.job, 22: Validating job.\n",
      "2016-03-16 21:46:07,933 [INFO] graphlab.deploy.job, 36: Creating a LocalAsync environment called 'async'.\n",
      "2016-03-16 21:46:07,938 [INFO] graphlab.deploy.map_job, 186: Validation complete. Job: 'Model-Parameter-Search-Mar-16-2016-21-46-0700000' ready for execution\n",
      "2016-03-16 21:46:08,064 [INFO] graphlab.deploy.map_job, 192: Job: 'Model-Parameter-Search-Mar-16-2016-21-46-0700000' scheduled.\n",
      "2016-03-16 21:46:16,223 [INFO] graphlab.deploy.job, 22: Validating job.\n",
      "2016-03-16 21:46:16,227 [INFO] graphlab.deploy.map_job, 220: A job with name 'Model-Parameter-Search-Mar-16-2016-21-46-0700000' already exists. Renaming the job to 'Model-Parameter-Search-Mar-16-2016-21-46-0700000-0f80a'.\n",
      "2016-03-16 21:46:16,232 [INFO] graphlab.deploy.map_job, 186: Validation complete. Job: 'Model-Parameter-Search-Mar-16-2016-21-46-0700000-0f80a' ready for execution\n",
      "2016-03-16 21:46:16,360 [INFO] graphlab.deploy.map_job, 192: Job: 'Model-Parameter-Search-Mar-16-2016-21-46-0700000-0f80a' scheduled.\n",
      "2016-03-16 21:46:16,482 [INFO] graphlab.deploy.job, 22: Validating job.\n",
      "2016-03-16 21:46:16,495 [INFO] graphlab.deploy.map_job, 186: Validation complete. Job: 'Model-Parameter-Search-Mar-16-2016-21-46-0700001' ready for execution\n",
      "2016-03-16 21:46:16,663 [INFO] graphlab.deploy.map_job, 192: Job: 'Model-Parameter-Search-Mar-16-2016-21-46-0700001' scheduled.\n",
      "2016-03-16 21:46:16,818 [INFO] graphlab.deploy.job, 22: Validating job.\n",
      "2016-03-16 21:46:16,831 [INFO] graphlab.deploy.map_job, 186: Validation complete. Job: 'Model-Parameter-Search-Mar-16-2016-21-46-0700002' ready for execution\n",
      "2016-03-16 21:46:17,064 [INFO] graphlab.deploy.map_job, 192: Job: 'Model-Parameter-Search-Mar-16-2016-21-46-0700002' scheduled.\n",
      "2016-03-16 21:46:17,229 [INFO] graphlab.deploy.job, 22: Validating job.\n",
      "2016-03-16 21:46:17,237 [INFO] graphlab.deploy.map_job, 186: Validation complete. Job: 'Model-Parameter-Search-Mar-16-2016-21-46-0700003' ready for execution\n",
      "2016-03-16 21:46:17,453 [INFO] graphlab.deploy.map_job, 192: Job: 'Model-Parameter-Search-Mar-16-2016-21-46-0700003' scheduled.\n"
     ]
    }
   ],
   "source": [
    "params = {'target':'TARGET', 'random_seed':8923,\n",
    "          'class_weights':'auto','metric':'auc', \n",
    "          'max_iterations':3,\n",
    "          'step_size': [0.03],\n",
    "          'max_depth': [3, 4],\n",
    "          'column_subsample': [0.8, 0.6]}\n",
    "\n",
    "job = gl.random_search.create(folds,gl.boosted_trees_classifier.create,\n",
    "                             params, evaluator=auc_eval, max_models=20)"
   ]
  },
  {
   "cell_type": "markdown",
   "metadata": {},
   "source": [
    "Wait until all the jobs have finished by wathcing CPU utilisation. Confirm the kernel is still running by executing the line below."
   ]
  },
  {
   "cell_type": "code",
   "execution_count": 8,
   "metadata": {
    "ExecuteTime": {
     "end_time": "2016-03-16T22:04:13.877911",
     "start_time": "2016-03-16T22:04:13.875638"
    },
    "collapsed": false
   },
   "outputs": [
    {
     "name": "stdout",
     "output_type": "stream",
     "text": [
      "still Ok\n"
     ]
    }
   ],
   "source": [
    "print 'still Ok'"
   ]
  },
  {
   "cell_type": "markdown",
   "metadata": {},
   "source": [
    "Now get the job status. There will be a 10s+ pause then the error message \"The kernel appears to have died. It will restart automatically.\""
   ]
  },
  {
   "cell_type": "code",
   "execution_count": null,
   "metadata": {
    "ExecuteTime": {
     "start_time": "2016-03-16T22:04:18.278Z"
    },
    "collapsed": false
   },
   "outputs": [],
   "source": [
    "job.get_status()\n"
   ]
  }
 ],
 "metadata": {
  "kernelspec": {
   "display_name": "Python 2",
   "language": "python",
   "name": "python2"
  },
  "language_info": {
   "codemirror_mode": {
    "name": "ipython",
    "version": 2
   },
   "file_extension": ".py",
   "mimetype": "text/x-python",
   "name": "python",
   "nbconvert_exporter": "python",
   "pygments_lexer": "ipython2",
   "version": "2.7.11"
  },
  "toc": {
   "toc_cell": false,
   "toc_number_sections": false,
   "toc_threshold": "2",
   "toc_window_display": true
  }
 },
 "nbformat": 4,
 "nbformat_minor": 0
}
